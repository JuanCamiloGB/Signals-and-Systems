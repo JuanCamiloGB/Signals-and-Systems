{
  "nbformat": 4,
  "nbformat_minor": 0,
  "metadata": {
    "colab": {
      "name": "EJE01T01.ipynb",
      "provenance": [],
      "collapsed_sections": [],
      "include_colab_link": true
    },
    "kernelspec": {
      "name": "python3",
      "display_name": "Python 3"
    },
    "language_info": {
      "name": "python"
    }
  },
  "cells": [
    {
      "cell_type": "markdown",
      "metadata": {
        "id": "view-in-github",
        "colab_type": "text"
      },
      "source": [
        "<a href=\"https://colab.research.google.com/github/JuanCamiloGB/Signals-and-Systems/blob/master/EJE01T01.ipynb\" target=\"_parent\"><img src=\"https://colab.research.google.com/assets/colab-badge.svg\" alt=\"Open In Colab\"/></a>"
      ]
    },
    {
      "cell_type": "markdown",
      "metadata": {
        "id": "YoT3gke0vpDH"
      },
      "source": [
        "# Función stem\n",
        "\n",
        "matplotlib.pyplot.stem() crea diagramas de tallo. A Stem plot traza líneas verticales en cada posición x cubierta bajo el gráfico desde la línea de base hasta y, y coloca un marcador allí.\n",
        "\n",
        "Ejemplo utilizando matplotlib.pyplot.stem\n",
        "\n",
        "![sphx_glr_stem_plot_001.jpg](data:image/jpeg;base64,UklGRs4MAABXRUJQVlA4TMEMAAAvf8J3ANfGKJJsJy8pQBlH/N8xkMPuPr4EBZFsJf/jDinoQn66uClqG8mZ9l5UC+8I95t/RW7bNshptmyfYYCOJBFE/gGNo8UktSACg3qSWlLDXhB5MYPOXkO+YkF7yAj2XYCXfCglMZU1n0Fi9BtA7iEOYvg5kiNt7bj/dz+47La1Y63bMa99XMd8ltzmMhjCIaYpFSfkHAVt20gxf9j3H4KImAAfdxMOTGNmGS3thjsqy6KKRbbb1rYtY5tyt5OGc4qRbbcVG8UqNGpFji24EZeQanAhbiIHRcx3OQr3AiDxwPuUyIchGNF/WYxkh22zAQiYKAFWOMvU471nJp8Utm07G2nW2rZt27Zt27ZtG2PPZG3vdvrZ/+ebebNNnj6ZzOLtvpncE9F/R2zbOBIDzPXe2yAzl5c33y+k/6T/pP+k/6T/pP+k/6T/pBU82vMX9jqgOczQgux3gBnPlWazG6jnzAioAOx1BFRA+u/DRH57+mI/dMcCsT///9W+X8PRoGIfaX9NxHA0iNiPa3/rJ67D0cBif/rq3Z+nngYU+wk4PQ0odv9rjit5XDcW+4h4exiKQfoURNVE7OP2VtwRxyA9CqJqKvZ/9v3ZwcJB/gRTNRP7/OvV/hcPB3kTXNXvih3BH4e8Ca7qHHg4yJvgqnbL5riSc3Wn4u75PMKphnFV5zPHzanijlTVuYAYpEftuzBVZ4Ln4FAQVX8UDbKAuQ5YvrXBFjDPgci3LswC5jgw+VaFWsDEY1mLomV7J+ayXSmlIv0HlW9NqAVCPLo5sbe7V3udS/EHjvPQf1D51oRawAR88Vidz6WEf50PVL4LNgKSEhSTS2i1Kr1iGWyoBUw/PD3aIqdLO2+d61lcy+ndi0BAo702le8Cw0LGYeOra8Jj8aH2wpwWByml/GJnscAwZgHTj4lV0iGOvgP8pmHyrQqxgMlH9sRKyRD7WG+a35wPRL4VyJ6Ofkwoce6B47wBhs4FlpxIuzEgKs5fECULj8oR24GOw72YWi2ifPebsPk4OB+k/zyE7BQoJwELdTnyU6B8BCLUxShIgXIRmFCXoiQFSlKodzC9ECUpAJJCvYPVhShJgZIU6h1M+3BzXMlfutO6uueI8Jdhsaphc46bv8Qdz2XjjrkpULLuu9DuYLoClWfmIxD5fvYf6T/O1UiBlxJ6P3YnoUoKvJIQ/LE7BXVS4IWE4o/dCaiUAq8jJLMaM1+lFFAdIZnVk/kqpcDrCMmsxvKzm+NKntGdWuieI8IzhkUDw+YcN8+IO56riTtWSIHXct+FYFZjFNSYpDdAVC39Z5Ppdu427K8X2eioFdDt3G0XQ1fGLwyPsYAVup277dsnAFqNswC6nbvt0fcAFjUR5v3ENd3O3fbwBwAbygnzHssf893jXxkW0Ch27jbywgLW1u3cbd9+AaDNOCuAa4BIde62Xx6sSlisu0dEOvtoD1IDRKlzt82f60Y0PAodVDr7aA5WA0S8fT8ynX20Bq0Boh10OvtoDJoDrx10fuzeGLQGiHbQ6ezD4ZvjSi7QnRruniPCBYZFm8NIDRDxfdfjbDPuiGuAyOf7p9LZR3PgOcgOEepn/5H++84HXIJGM0wcyjwbSAkayTBzKPNcYCVo5IWJjAm0BI1gmDuUeR7QEgyCYe5QvnlAS9AIhrlDmf9y0BxX0rr7X37WniNC62GKnZ3NOW5axx1dVt53hCVoRNt3MXMo84QtOEl9IXqT/pP++4rS+Z4V1cFczqr/44HFyC4BIgTHFhwQSnIcx6PD6Km84Eh+CRApXgg9+4zzwfCpvGBIQQkQUaheoesFr07eWcYneMKPkhIgipC46frFkWE3dPJuM2EqL9hRkgKvBcLoMESnMWEqG9hRUgJEFma21jkfTJjKi/yfpmsfIStoSkqAqMCrW1CrkemdOxRYcyglZkrIaR0mTOUFO0pKgGx+dN7rHg6noxcrakeV7nRG73wwYSov2JFfAkTPfb9xWhV3zC4BItS+s+FTeUEN5ZOhJERk0n/Sf9uEGinw2nE8PffDOKqkwIuDMVN5YRt1UuC1waBRhZhGpRR4aTBqKi8so1IKqDQYNZUNllEpBV4ajJrKi/czzXEl/bqT7d1zROg3LEwfNue46Rd3PA2MO1ZIgZdn38WYqbxoDnJHUjOIUD/7z/euff5Q+jsCuZqK4MNQ+vsBu5qC4MuP7boBvZp64NNQ+nsBv5py4NNQ0nsBv5py4NNQ+nsBv5ofPDTHlTrVHTJ1z5GiU8NCpWFzjlun4o6nKnFHH4bS3w/Y1dQGneteT8Bz+OAd4vHgKO82nG0eUXu7rcU8Hgzl3ZYePT1+XehxO4t6PPjJe2d2QwD9u9lZ3OPBjvZTAGwrLsw7y3bie5zsqLMMwFH1RpR3m+3EPR5ssfAGpwD0seFqhZWv3b8UAO7xsOefNAIwsJuV618KAPV42HPutvToWQkbrH2P+pcCwDweBp27DYFmEbW2w8r1zwJLPB6S7Pt1MAUAX2+7yEs0DgdNAXA4aAqAw8FSADwOkgLgcmBZuB/dMlsLRb/M1m5GSbk+meiZ2VolemY2lIZsC2xvzNbSkG+B9bOmZxbY4wqJurtmgR0RCg0rsYD1xGytDSUW2I6YrcWhVxZYfL3VocQC62WUWGC9jAILrJuRbYG13+ylDhVm1gOzl5tR8h2p4tEHs5d2kDWc2WYH8SAeHKvNXuLBPDge11APjs1mL/Gge9A2m73Eg3pwTDZ7qQf14Fhs9pIPmz04+HrrB/PgmLnZLCXGeXAKDsYkJGQNZ+pms5BAtVgUbCw6GJOk4C1oAzdbJMWiLeiigzFJCtuC9rjGwi3o4wppu03cghkplB1Gt6Ct22x2sgZHAsjBmESlkS1oInOdrCoWbUGzSIC+kJWdESFwGgmQF7yywyFwQ2KN8lIQArdjr0VeSkLgXtZYFAKikQCDWV89suUVcd2xbRwMCYGjZy4WCbCXfRHb4saUfCSsOzaRGvzMhf/WyQbTciLgqbRcWHds2wn6gdtYCIg9c6G/dbLBvA89CGBYL526Y0Pnzto4kA9cFAJq+qsMLea+ugRgVkudumND527bOsAPXBwCatFg2APEdce2pRrwgctCQA0brC1/Ia47tm3T3f4j0Lur2340aDkJ8FReLq47tm1DrRDQip+B0OqWfJWh6eyL3BE/tuRDcd2xbTLYbXDFz0B4dYu/ytB0sK5aRMvLOnXHts0gt8H1PgOx1W3uVxn2YN9vqwFvg+QZaM2LTfBVhl4AuA0yda5iCYqWEZl/6wU3AN0GiTpXsQSFywj8t14QnUpTwOpcbgmK7tdkGQFLSbsGUJ3HtS+2Mz2urGUELCXtGsyRIu+Delw0X6XEyoXu12QZgUpJOwdznFkPKiPt3CQBxc6i2vB+nfmw7RwgdWLNQimj1SgUe/4DTl4pGc+AzQFrNvctgMUOpwM/63EpGX8BaxZKmd1VX2W9M+A2Iiwl4zBgzUIpw7tq9nRgKhMqJeMjZDsTC5YA2bfjvFQmf4FOAUoZ31XJcjRyXA3OwEqSBLhJIuDjePBUJtchu14Nfguw3KksK5fvUOktgMQOp+MYrHCSmWJXBEs8zZ/9R/pP+k/6T/rvq1Jc590mrjs28eA77zZx3bFJB+N5txlbd2w//1fw2685A74fBRfEjqSLvONp/sFN3k/G1h3bb3/bwgA3eY8ZW3dsv9pDLmfKm2zXFkYBZytYHErXH27ybhPXHZvKcJN3m7ju2FSGmbzbdOqOTXw4OB+k/74v5LnSAvY6oJ4zQ1P2O8AMj/Zc52Zp7t2wRv+B55rD3tMSG3wCvm72bvE723YCJDXRaolCMn91Aw3LWhQt2zuRhI2Ni6H1MSqWqykmE/b6U4+Ee4NLRzW6RlSzJQpp/NUNVHTbHnu7e7XXFBw+mpw0PzyWhqs1mhDR8IHjPKHgafURV9JPpBLVbIlCMqVWQSYeq/OgEqW20pjG+DqnOhLRFERiTjvK6zX7K0JyIyUohoiPeyPiSPgxFVREV6w5KJOCBlP7lm22hapmf0VSZnh6tAUJd4uEljgKCtxGb6k4tv/O8TbVXhIQ6c67uTlqRx7W+OoakceUlOtzy1BossrdARUA8Kz4VgLC2wCY3DrvumJilXTQiS5jCShQoYWFKrjwI4hEi7kEVBsNYGMloltp9ld05UT2xErJIKTzcAJexriuWzjE9RLxqtRaAga2AzC1DdE9arZEIZ2/uoGCCSXOPXCcNxTMPZ9xNxB8EiSCzIoZKuNi1zKPKbwNFbY0ZXf0LqI7brVEIaG/uoHEvXeO2E7BqOoFZbucBCv6Vyyo7NJ4u/BIo8j6W7z5fiH9J/0n/Sf9J9cDAA==)"
      ]
    },
    {
      "cell_type": "markdown",
      "metadata": {
        "id": "f17-qreWxpDF"
      },
      "source": [
        "# Método cdist\n",
        "\n",
        "scipy.spatial.distance. cdist ( XA , XB , metric = 'euclidean' , * , out = None , ** kwargs )\n",
        "\n",
        "Calcula la distancia entre cada par de las dos colecciones de entradas.\n",
        "\n",
        "Las siguientes son convenciones llamadas comunes:"
      ]
    },
    {
      "cell_type": "code",
      "metadata": {
        "id": "9eOdedfm3ke2",
        "colab": {
          "base_uri": "https://localhost:8080/",
          "height": 120
        },
        "outputId": "da21dada-42d6-40b8-c554-5f752c03a27c"
      },
      "source": [
        "\"\"\"\n",
        "Y = cdist(XA, XB, 'euclidean') #calcula la distancia euclidiana entre n puntos \n",
        "Y = cdist(XA, XB, 'minkowski', p=2.) #calcula la distancia utilizando distancia de Minkowski\n",
        "Y = cdist(XA, XB, 'cityblock')  #calcula la distancia de manhattan \n",
        "Y = cdist(XA, XB, 'seuclidean', V=None)  #calcula la distancia euclidiana estandarizada \n",
        "Y = cdist(XA, XB, 'sqeuclidean') #calcula la distancia al cuadrado de dos vectores\n",
        "Y = cdist(XA, XB, 'cosine')  #calcula la distancia del coseno entre dos vectores\n",
        "Y = cdist(XA, XB, 'correlation')  #calcula la distancia de correlacion entre dos vectores\n",
        "Y = cdist(XA, XB, 'hamming')  #calcula la distancia normanizada de harming\n",
        "Y = cdist(XA, XB, 'jaccard') #calcula la distancia jaccard entre los puntos, dado los vectores\n",
        "Y = cdist(XA, XB, 'braycurtis') #calcula la distancia de Bray-Curtis entre dos puntos\n",
        "\"\"\""
      ],
      "execution_count": null,
      "outputs": [
        {
          "output_type": "execute_result",
          "data": {
            "application/vnd.google.colaboratory.intrinsic+json": {
              "type": "string"
            },
            "text/plain": [
              "\"\\nY = cdist(XA, XB, 'euclidean') #calcula la distancia euclidiana entre n puntos \\nY = cdist(XA, XB, 'minkowski', p=2.) #calcula la distancia utilizando distancia de Minkowski\\nY = cdist(XA, XB, 'cityblock')  #calcula la distancia de manhattan \\nY = cdist(XA, XB, 'seuclidean', V=None)  #calcula la distancia euclidiana estandarizada \\nY = cdist(XA, XB, 'sqeuclidean') #calcula la distancia al cuadrado de dos vectores\\nY = cdist(XA, XB, 'cosine')  #calcula la distancia del coseno entre dos vectores\\nY = cdist(XA, XB, 'correlation')  #calcula la distancia de correlacion entre dos vectores\\nY = cdist(XA, XB, 'hamming')  #calcula la distancia normanizada de harming\\nY = cdist(XA, XB, 'jaccard') #calcula la distancia jaccard entre los puntos, dado los vectores\\nY = cdist(XA, XB, 'braycurtis') #calcula la distancia de Bray-Curtis entre dos puntos\\n\""
            ]
          },
          "metadata": {},
          "execution_count": 31
        }
      ]
    },
    {
      "cell_type": "markdown",
      "metadata": {
        "id": "qmoqAjd55sD7"
      },
      "source": [
        "#Método argmin\n",
        "\n",
        "numpy. argmin ( a , eje = Ninguno , out = Ninguno )\n",
        "\n",
        "Devuelve los índices de los valores mínimos a lo largo de un eje.\n",
        "\n",
        "Parametros: \n",
        "\n",
        "\n"
      ]
    },
    {
      "cell_type": "code",
      "metadata": {
        "colab": {
          "base_uri": "https://localhost:8080/",
          "height": 52
        },
        "id": "bjXWJ7Db9CPh",
        "outputId": "d1ef6d33-06a4-4a3f-fea7-207cab262194"
      },
      "source": [
        "\"\"\"\n",
        "aarray_like # Matriz de entrada.\n",
        "\n",
        "axisint, optional #  el índice está en la matriz plana, de lo contrario, a lo largo del eje especificado.\n",
        "\n",
        "outarray, optional # el resultado se insertará en esta matriz. Debe tener la forma y el tipo adecuados.\n",
        "\"\"\""
      ],
      "execution_count": null,
      "outputs": [
        {
          "output_type": "execute_result",
          "data": {
            "application/vnd.google.colaboratory.intrinsic+json": {
              "type": "string"
            },
            "text/plain": [
              "'\\naarray_like # Matriz de entrada.\\n\\naxisint, optional #  el índice está en la matriz plana, de lo contrario, a lo largo del eje especificado.\\n\\noutarray, optional # el resultado se insertará en esta matriz. Debe tener la forma y el tipo adecuados.\\n'"
            ]
          },
          "metadata": {},
          "execution_count": 32
        }
      ]
    },
    {
      "cell_type": "code",
      "metadata": {
        "colab": {
          "base_uri": "https://localhost:8080/",
          "height": 52
        },
        "id": "Id2QDlqIiazf",
        "outputId": "d9e7d0be-ff88-4e23-c1c2-3ff508b454b0"
      },
      "source": [
        "  \"\"\"Xv = np.array([[0, 0, 0],\n",
        "              [0, 0, 1],\n",
        "              [0, 1, 0],\n",
        "              [0, 1, 1],\n",
        "              [1, 0, 0],\n",
        "              [1, 0, 1],\n",
        "              [1, 1, 0],\n",
        "              [1, 1, 1]])\n",
        "  Xz=np.array ([[ 0.1,  0.2,  0.4]])\n",
        "  yv = (Xv,Xz,'cityblock')\n",
        "  print(yv.shape)\"\"\""
      ],
      "execution_count": null,
      "outputs": [
        {
          "output_type": "execute_result",
          "data": {
            "application/vnd.google.colaboratory.intrinsic+json": {
              "type": "string"
            },
            "text/plain": [
              "\"Xv = np.array([[0, 0, 0],\\n            [0, 0, 1],\\n            [0, 1, 0],\\n            [0, 1, 1],\\n            [1, 0, 0],\\n            [1, 0, 1],\\n            [1, 1, 0],\\n            [1, 1, 1]])\\nXz=np.array ([[ 0.1,  0.2,  0.4]])\\nyv = (Xv,Xz,'cityblock')\\nprint(yv.shape)\""
            ]
          },
          "metadata": {},
          "execution_count": 33
        }
      ]
    },
    {
      "cell_type": "markdown",
      "metadata": {
        "id": "CkeSPnjEyF1G"
      },
      "source": [
        "## Solución del Ejercicio \n",
        "\n",
        "Después de acondicionar las señales ilustradas en el presente cuaderno, simule un proceso de discretización con  $F_s \\geq 2 F_o.$.  Dibuje el resultado de la señal discretizada utilizando la función stem."
      ]
    },
    {
      "cell_type": "code",
      "metadata": {
        "id": "PMBrG2I7bmhq"
      },
      "source": [
        "import matplotlib.pyplot as plt\n",
        "import numpy as np"
      ],
      "execution_count": null,
      "outputs": []
    },
    {
      "cell_type": "code",
      "metadata": {
        "id": "PkSh1s79SPfY"
      },
      "source": [
        "A = 120 #amplitud\n",
        "To = 1/60 # periodo función sin\n",
        "Fo = 60 #frecuencia = 60\n",
        "Fs = 2*(Fo) #frecuencia de muestreo F_s>2F_o\n",
        "t0 = 0 #tiempo inicial\n",
        "t = T_o #tiempo final\n",
        "Ts = (t - t0)/Fs #periodo de muestreo\n",
        "tn = np.arange(t0,t,Ts) #vector de datos en tiempo\n",
        "xn = A * np.sin(2*np.pi*Fo*tn) #vector de 2F"
      ],
      "execution_count": null,
      "outputs": []
    },
    {
      "cell_type": "code",
      "metadata": {
        "colab": {
          "base_uri": "https://localhost:8080/",
          "height": 296
        },
        "id": "XyeGTdWsgYGJ",
        "outputId": "4708f7ec-305c-4573-ef51-60259c2e487b"
      },
      "source": [
        "plt.plot(tn,xn)\n",
        "plt.xlabel('tiempo [s]')\n",
        "plt.ylabel('$A\\sin[\\omega t_k]$')"
      ],
      "execution_count": null,
      "outputs": [
        {
          "output_type": "execute_result",
          "data": {
            "text/plain": [
              "Text(0, 0.5, '$A\\\\sin[\\\\omega t_k]$')"
            ]
          },
          "metadata": {},
          "execution_count": 36
        },
        {
          "output_type": "display_data",
          "data": {
            "image/png": "[encoded data removed]",
            "text/plain": [
              "<Figure size 432x288 with 1 Axes>"
            ]
          },
          "metadata": {
            "needs_background": "light"
          }
        }
      ]
    },
    {
      "cell_type": "markdown",
      "metadata": {
        "id": "1sUkv0BMy0PP"
      },
      "source": [
        "## UTILIZANDO LA FUNCIÓN STEM"
      ]
    },
    {
      "cell_type": "code",
      "metadata": {
        "colab": {
          "base_uri": "https://localhost:8080/",
          "height": 349
        },
        "id": "USyVvvvEye41",
        "outputId": "cb2ecfc1-c130-451f-eec9-c4d108c17eeb"
      },
      "source": [
        "plt.stem(tn,xn,label=r'$y[n]$')\n",
        "plt.xlabel('tiempo [s]')\n",
        "plt.ylabel('$A\\sin[\\omega t_k]$')\n",
        "plt.title('Funcion Muestreada')\n",
        "plt.show()"
      ],
      "execution_count": null,
      "outputs": [
        {
          "output_type": "stream",
          "name": "stderr",
          "text": [
            "/usr/local/lib/python3.7/dist-packages/ipykernel_launcher.py:1: UserWarning: In Matplotlib 3.3 individual lines on a stem plot will be added as a LineCollection instead of individual lines. This significantly improves the performance of a stem plot. To remove this warning and switch to the new behaviour, set the \"use_line_collection\" keyword argument to True.\n",
            "  \"\"\"Entry point for launching an IPython kernel.\n"
          ]
        },
        {
          "output_type": "display_data",
          "data": {
            "image/png": "[encoded data removed]",
            "text/plain": [
              "<Figure size 432x288 with 1 Axes>"
            ]
          },
          "metadata": {
            "needs_background": "light"
          }
        }
      ]
    },
    {
      "cell_type": "markdown",
      "metadata": {
        "id": "-n-PjhDGp7Sv"
      },
      "source": [
        "# Utilizando la función cdist"
      ]
    },
    {
      "cell_type": "code",
      "metadata": {
        "colab": {
          "base_uri": "https://localhost:8080/"
        },
        "id": "qQ7RRkwlpRGG",
        "outputId": "90bf212b-0019-4b20-f2d7-34b1ab1152ff"
      },
      "source": [
        "from scipy.spatial import distance\n",
        "xn = A * np.sin(2*np.pi*F_o*tn)\n",
        "nbits = 4 #numero de bits\n",
        "rmin = -5 \n",
        "rmax = 5\n",
        "ve = np.linspace(rmin,rmax,2**nbits,endpoint=False)\n",
        "yn = distance.cdist(xn.reshape(-1,1),ve.reshape(-1,1),'euclidean') #se utiliza reshape(-1,1) para generar vectores columna como lo pide cdist\n",
        "yn.shape #yn es una matriz de 120 x 16 "
      ],
      "execution_count": null,
      "outputs": [
        {
          "output_type": "execute_result",
          "data": {
            "text/plain": [
              "(120, 16)"
            ]
          },
          "metadata": {},
          "execution_count": 38
        }
      ]
    },
    {
      "cell_type": "markdown",
      "metadata": {
        "id": "H9XpPd6ECmUK"
      },
      "source": [
        "# Utilizando la función argmin"
      ]
    },
    {
      "cell_type": "code",
      "metadata": {
        "id": "M0BtarrxTyvl",
        "colab": {
          "base_uri": "https://localhost:8080/"
        },
        "outputId": "a18a2662-4ccd-49bb-a801-5fe7c99bf1a2"
      },
      "source": [
        "ynmin = np.argmin(yn,axis=1)  # axis=1 indica que busca la posición a lo largo de las columnas del elemento más pequeño en cada fila\n",
        "ynmin.shape"
      ],
      "execution_count": null,
      "outputs": [
        {
          "output_type": "execute_result",
          "data": {
            "text/plain": [
              "(120,)"
            ]
          },
          "metadata": {},
          "execution_count": 39
        }
      ]
    },
    {
      "cell_type": "code",
      "metadata": {
        "colab": {
          "base_uri": "https://localhost:8080/"
        },
        "id": "QLMIDLYjUHIt",
        "outputId": "a8d11f36-52eb-4364-82e6-ba9700ff4706"
      },
      "source": [
        "print(xn[120-1],ynmin[120-1],ve,sep =\"\\n\")\n",
        "#para xn[120]=-6.280 , el elemento más cercano del vector ve corresponde a ve[7]=10"
      ],
      "execution_count": null,
      "outputs": [
        {
          "output_type": "stream",
          "name": "stdout",
          "text": [
            "-6.280314749153431\n",
            "0\n",
            "[-5.    -4.375 -3.75  -3.125 -2.5   -1.875 -1.25  -0.625  0.     0.625\n",
            "  1.25   1.875  2.5    3.125  3.75   4.375]\n"
          ]
        }
      ]
    },
    {
      "cell_type": "markdown",
      "metadata": {
        "id": "5d1SQiRM9EuY"
      },
      "source": [
        "# FUNCIÓN (def)\n",
        "\n",
        "Función que realice los procesos de discretización y cuantización (usando cdist y argmin) Presente las gráficas de la señal original, señal con cero y pendiente, señal discretizada, y señal digital.\n",
        "\n"
      ]
    },
    {
      "cell_type": "code",
      "metadata": {
        "id": "uyHLTzP7WlXF"
      },
      "source": [
        "import matplotlib.pyplot as plt\n",
        "import numpy as np\n",
        "from scipy.spatial import distance\n",
        "\n",
        "def my_EJE0T01(x,ymin,ymax,ti,tf,Ts,nbits,rmin,rmax): \n",
        " xmax = max(x) #x.max()\n",
        " xmin = min(x) #x.min()\n",
        " m = (ymax - ymin)/(xmax - xmin) #pendiente zero y span \n",
        " c = ymin - m*xmin #ajuste\n",
        " Xcp = m*x + c #funcion  de la recta para Zero y span\n",
        " tvd = np.arange(ti,tf,Ts)\n",
        " ve = np.linspace(rmin,rmax,2**nbits)\n",
        " d = distance.cdist(Xcp.reshape(-1,1),ve.reshape(-1,1)) #distancia entre el minimo \n",
        " ind = np.argmin(d,axis=1) #vector de posiciones del valor minimo \n",
        " Xq = np.zeros(ind.shape[0])\n",
        " for i in range(ind.shape[0]):\n",
        "    Xq[i] = ve[ind[i]]\n",
        "\n",
        " return Xcp,tvd,Xq\n",
        "\n",
        "\n",
        " \n",
        "\n"
      ],
      "execution_count": null,
      "outputs": []
    },
    {
      "cell_type": "markdown",
      "metadata": {
        "id": "cxqMOaNGYCiq"
      },
      "source": [
        "# Solucion ejercicio con la función\n",
        "\n"
      ]
    },
    {
      "cell_type": "code",
      "metadata": {
        "colab": {
          "base_uri": "https://localhost:8080/",
          "height": 353
        },
        "id": "zzQOah4EX8js",
        "outputId": "7f75b2f2-8e24-41ad-92e3-9610f4014e3b"
      },
      "source": [
        "A = 120 #amplitud\n",
        "T_o = 1/60 # periodo función sin\n",
        "F_o = 60 #frecuencia = 60\n",
        "F_s = 2*(F_o) #frecuencia de muestreo F_s>2F_o\n",
        "ti = 0 #tiempo inicial\n",
        "tf = 3*T_o #tiempo final\n",
        "T_s = (tf - ti)/F_s #periodo de muestreo\n",
        "tc = np.arange(ti,tf,T_s)\n",
        "xc = A * np.sin(2*np.pi*F_o*tc) \n",
        "#cuantizar\n",
        "nbits = 10\n",
        "rmin = -5\n",
        "rmax = 5\n",
        " \n",
        "\n",
        "xc_cp,tv_d,x_q = my_EJE0T01(xc,-5,5,ti,tf,T_s,nbits,rmin,rmax) \n",
        "x_c = A * np.sin(2*np.pi*F_o*1/tc) \n",
        "x_d = A * np.sin(2*np.pi*F_o*tv_d)\n",
        "\n",
        "'''Graficas'''\n",
        "plt.plot(tc,xc,'r',label='Señal Original')\n",
        "plt.plot(tc,xc_cp,label='Señal-cero p.')\n",
        "plt.stem(tv_d,x_d,'b',label='Señal discretizada')\n",
        "plt.stem(tv_d,x_q,'k',label='Señal digital')\n",
        "plt.grid()\n",
        "plt.legend()\n",
        "plt.show()\n",
        "\n"
      ],
      "execution_count": null,
      "outputs": [
        {
          "output_type": "stream",
          "name": "stderr",
          "text": [
            "/usr/local/lib/python3.7/dist-packages/ipykernel_launcher.py:17: RuntimeWarning: divide by zero encountered in true_divide\n",
            "/usr/local/lib/python3.7/dist-packages/ipykernel_launcher.py:17: RuntimeWarning: invalid value encountered in sin\n",
            "/usr/local/lib/python3.7/dist-packages/ipykernel_launcher.py:23: UserWarning: In Matplotlib 3.3 individual lines on a stem plot will be added as a LineCollection instead of individual lines. This significantly improves the performance of a stem plot. To remove this warning and switch to the new behaviour, set the \"use_line_collection\" keyword argument to True.\n",
            "/usr/local/lib/python3.7/dist-packages/ipykernel_launcher.py:24: UserWarning: In Matplotlib 3.3 individual lines on a stem plot will be added as a LineCollection instead of individual lines. This significantly improves the performance of a stem plot. To remove this warning and switch to the new behaviour, set the \"use_line_collection\" keyword argument to True.\n"
          ]
        },
        {
          "output_type": "display_data",
          "data": {
            "image/png": "[encoded data removed]",
            "text/plain": [
              "<Figure size 432x288 with 1 Axes>"
            ]
          },
          "metadata": {
            "needs_background": "light"
          }
        }
      ]
    }
  ]
}