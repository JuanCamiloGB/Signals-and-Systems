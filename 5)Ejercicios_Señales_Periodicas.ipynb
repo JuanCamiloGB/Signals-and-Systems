{
  "nbformat": 4,
  "nbformat_minor": 0,
  "metadata": {
    "colab": {
      "name": "5)Ejercicios Señales Periodicas.ipynb",
      "provenance": [],
      "collapsed_sections": [],
      "authorship_tag": "ABX9TyOFbtIJIt74D3SvmREWLGfe",
      "include_colab_link": true
    },
    "kernelspec": {
      "name": "python3",
      "display_name": "Python 3"
    },
    "language_info": {
      "name": "python"
    },
    "widgets": {
      "application/vnd.jupyter.widget-state+json": {
        "b1e3644b5d4b44008d7c811c1e60256e": {
          "model_module": "@jupyter-widgets/controls",
          "model_name": "VBoxModel",
          "model_module_version": "1.5.0",
          "state": {
            "_view_name": "VBoxView",
            "_dom_classes": [
              "widget-interact"
            ],
            "_model_name": "VBoxModel",
            "_view_module": "@jupyter-widgets/controls",
            "_model_module_version": "1.5.0",
            "_view_count": null,
            "_view_module_version": "1.5.0",
            "box_style": "",
            "layout": "IPY_MODEL_def9c8e6d59d434c909f676b27416614",
            "_model_module": "@jupyter-widgets/controls",
            "children": [
              "IPY_MODEL_a7d4832b609b4d7c932f4f28596522c6",
              "IPY_MODEL_abf72f18084d4322be962ae865e0a888"
            ]
          }
        },
        "def9c8e6d59d434c909f676b27416614": {
          "model_module": "@jupyter-widgets/base",
          "model_name": "LayoutModel",
          "model_module_version": "1.2.0",
          "state": {
            "_view_name": "LayoutView",
            "grid_template_rows": null,
            "right": null,
            "justify_content": null,
            "_view_module": "@jupyter-widgets/base",
            "overflow": null,
            "_model_module_version": "1.2.0",
            "_view_count": null,
            "flex_flow": null,
            "width": null,
            "min_width": null,
            "border": null,
            "align_items": null,
            "bottom": null,
            "_model_module": "@jupyter-widgets/base",
            "top": null,
            "grid_column": null,
            "overflow_y": null,
            "overflow_x": null,
            "grid_auto_flow": null,
            "grid_area": null,
            "grid_template_columns": null,
            "flex": null,
            "_model_name": "LayoutModel",
            "justify_items": null,
            "grid_row": null,
            "max_height": null,
            "align_content": null,
            "visibility": null,
            "align_self": null,
            "height": null,
            "min_height": null,
            "padding": null,
            "grid_auto_rows": null,
            "grid_gap": null,
            "max_width": null,
            "order": null,
            "_view_module_version": "1.2.0",
            "grid_template_areas": null,
            "object_position": null,
            "object_fit": null,
            "grid_auto_columns": null,
            "margin": null,
            "display": null,
            "left": null
          }
        },
        "a7d4832b609b4d7c932f4f28596522c6": {
          "model_module": "@jupyter-widgets/controls",
          "model_name": "FloatTextModel",
          "model_module_version": "1.5.0",
          "state": {
            "_view_name": "FloatTextView",
            "style": "IPY_MODEL_5771cd52fbde4c5b86fed84f442c372e",
            "_dom_classes": [],
            "description": "Valor de f:",
            "_model_name": "FloatTextModel",
            "_view_module": "@jupyter-widgets/controls",
            "_model_module_version": "1.5.0",
            "value": 0.3,
            "_view_count": null,
            "disabled": false,
            "_view_module_version": "1.5.0",
            "continuous_update": false,
            "step": 0.1,
            "description_tooltip": null,
            "_model_module": "@jupyter-widgets/controls",
            "layout": "IPY_MODEL_fbe4021587e54039b1b51f6082dec292"
          }
        },
        "abf72f18084d4322be962ae865e0a888": {
          "model_module": "@jupyter-widgets/output",
          "model_name": "OutputModel",
          "model_module_version": "1.0.0",
          "state": {
            "_view_name": "OutputView",
            "msg_id": "",
            "_dom_classes": [],
            "_model_name": "OutputModel",
            "outputs": [
              {
                "output_type": "display_data",
                "data": {
                  "image/png": "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\n",
                  "text/plain": "<Figure size 1800x720 with 1 Axes>"
                },
                "metadata": {
                  "needs_background": "light"
                }
              }
            ],
            "_view_module": "@jupyter-widgets/output",
            "_model_module_version": "1.0.0",
            "_view_count": null,
            "_view_module_version": "1.0.0",
            "layout": "IPY_MODEL_d8bc0100daf74aae95a518ded53ecfc2",
            "_model_module": "@jupyter-widgets/output"
          }
        },
        "5771cd52fbde4c5b86fed84f442c372e": {
          "model_module": "@jupyter-widgets/controls",
          "model_name": "DescriptionStyleModel",
          "model_module_version": "1.5.0",
          "state": {
            "_view_name": "StyleView",
            "_model_name": "DescriptionStyleModel",
            "description_width": "",
            "_view_module": "@jupyter-widgets/base",
            "_model_module_version": "1.5.0",
            "_view_count": null,
            "_view_module_version": "1.2.0",
            "_model_module": "@jupyter-widgets/controls"
          }
        },
        "fbe4021587e54039b1b51f6082dec292": {
          "model_module": "@jupyter-widgets/base",
          "model_name": "LayoutModel",
          "model_module_version": "1.2.0",
          "state": {
            "_view_name": "LayoutView",
            "grid_template_rows": null,
            "right": null,
            "justify_content": null,
            "_view_module": "@jupyter-widgets/base",
            "overflow": null,
            "_model_module_version": "1.2.0",
            "_view_count": null,
            "flex_flow": null,
            "width": null,
            "min_width": null,
            "border": null,
            "align_items": null,
            "bottom": null,
            "_model_module": "@jupyter-widgets/base",
            "top": null,
            "grid_column": null,
            "overflow_y": null,
            "overflow_x": null,
            "grid_auto_flow": null,
            "grid_area": null,
            "grid_template_columns": null,
            "flex": null,
            "_model_name": "LayoutModel",
            "justify_items": null,
            "grid_row": null,
            "max_height": null,
            "align_content": null,
            "visibility": null,
            "align_self": null,
            "height": null,
            "min_height": null,
            "padding": null,
            "grid_auto_rows": null,
            "grid_gap": null,
            "max_width": null,
            "order": null,
            "_view_module_version": "1.2.0",
            "grid_template_areas": null,
            "object_position": null,
            "object_fit": null,
            "grid_auto_columns": null,
            "margin": null,
            "display": null,
            "left": null
          }
        },
        "d8bc0100daf74aae95a518ded53ecfc2": {
          "model_module": "@jupyter-widgets/base",
          "model_name": "LayoutModel",
          "model_module_version": "1.2.0",
          "state": {
            "_view_name": "LayoutView",
            "grid_template_rows": null,
            "right": null,
            "justify_content": null,
            "_view_module": "@jupyter-widgets/base",
            "overflow": null,
            "_model_module_version": "1.2.0",
            "_view_count": null,
            "flex_flow": null,
            "width": null,
            "min_width": null,
            "border": null,
            "align_items": null,
            "bottom": null,
            "_model_module": "@jupyter-widgets/base",
            "top": null,
            "grid_column": null,
            "overflow_y": null,
            "overflow_x": null,
            "grid_auto_flow": null,
            "grid_area": null,
            "grid_template_columns": null,
            "flex": null,
            "_model_name": "LayoutModel",
            "justify_items": null,
            "grid_row": null,
            "max_height": null,
            "align_content": null,
            "visibility": null,
            "align_self": null,
            "height": null,
            "min_height": null,
            "padding": null,
            "grid_auto_rows": null,
            "grid_gap": null,
            "max_width": null,
            "order": null,
            "_view_module_version": "1.2.0",
            "grid_template_areas": null,
            "object_position": null,
            "object_fit": null,
            "grid_auto_columns": null,
            "margin": null,
            "display": null,
            "left": null
          }
        }
      }
    }
  },
  "cells": [
    {
      "cell_type": "markdown",
      "metadata": {
        "id": "view-in-github",
        "colab_type": "text"
      },
      "source": [
        "<a href=\"https://colab.research.google.com/github/JuanCamiloGB/Signals-and-Systems/blob/master/5)Ejercicios_Se%C3%B1ales_Periodicas.ipynb\" target=\"_parent\"><img src=\"https://colab.research.google.com/assets/colab-badge.svg\" alt=\"Open In Colab\"/></a>"
      ]
    },
    {
      "cell_type": "markdown",
      "metadata": {
        "id": "cJ8cDLG8NqKE"
      },
      "source": [
        "# EJERCICIO \n",
        "\n",
        "El siguiente bloque de código permite graficar las primeras 50 muestras de la señal  x[n]=cos[2πfn]  para diferentes valores de  f .\n",
        "\n",
        "Saque sus propias conclusiones de cómo afecta el valor de la frecuencia el periodo de la señal discreta."
      ]
    },
    {
      "cell_type": "code",
      "metadata": {
        "id": "b_6BWK93NZC9"
      },
      "source": [
        "from numpy import exp, pi, arange, real, imag, abs, angle, sqrt\n",
        "from numpy import sin, sqrt, cos\n",
        "import matplotlib.pyplot as plt "
      ],
      "execution_count": 3,
      "outputs": []
    },
    {
      "cell_type": "code",
      "metadata": {
        "colab": {
          "base_uri": "https://localhost:8080/",
          "height": 573,
          "referenced_widgets": [
            "b1e3644b5d4b44008d7c811c1e60256e",
            "def9c8e6d59d434c909f676b27416614",
            "a7d4832b609b4d7c932f4f28596522c6",
            "abf72f18084d4322be962ae865e0a888",
            "5771cd52fbde4c5b86fed84f442c372e",
            "fbe4021587e54039b1b51f6082dec292",
            "d8bc0100daf74aae95a518ded53ecfc2"
          ]
        },
        "id": "bAHe83Y_N0dV",
        "outputId": "4374bd04-3f45-4e35-9e48-ea92686a9651"
      },
      "source": [
        "import ipywidgets\n",
        "def senial(f): \n",
        "  \n",
        "  n = arange(0, 50)\n",
        "  plt.figure(1, (25, 10))\n",
        "  x = cos(2*pi*f*n)\n",
        "  plt.stem(n, x, use_line_collection=True)\n",
        "  plt.grid()\n",
        "  plt.margins(x=.01)\n",
        "  plt.title('Gráfica de la señal $x[n] = cos(2\\pi \\cdot {} \\cdot n)$'.format(f), fontsize=15)\n",
        "  plt.xlabel('Muestras')\n",
        "  plt.show()\n",
        "display(ipywidgets.interactive(senial, f=ipywidgets.FloatText(value=0, step=.1, description='Valor de f:')))"
      ],
      "execution_count": 4,
      "outputs": [
        {
          "output_type": "display_data",
          "data": {
            "application/vnd.jupyter.widget-view+json": {
              "model_id": "b1e3644b5d4b44008d7c811c1e60256e",
              "version_minor": 0,
              "version_major": 2
            },
            "text/plain": [
              "interactive(children=(FloatText(value=0.0, description='Valor de f:', step=0.1), Output()), _dom_classes=('wid…"
            ]
          },
          "metadata": {}
        }
      ]
    },
    {
      "cell_type": "markdown",
      "metadata": {
        "id": "lZ4MrSFTN1AI"
      },
      "source": [
        "#Conclusiones"
      ]
    }
  ]
}