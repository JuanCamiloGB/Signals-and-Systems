{
  "nbformat": 4,
  "nbformat_minor": 0,
  "metadata": {
    "colab": {
      "name": "f)Ejercicios Señales Cuasiperiodicas.ipynb",
      "provenance": [],
      "authorship_tag": "ABX9TyNcJLtx0rI6zXR4irYaObkR",
      "include_colab_link": true
    },
    "kernelspec": {
      "name": "python3",
      "display_name": "Python 3"
    },
    "language_info": {
      "name": "python"
    }
  },
  "cells": [
    {
      "cell_type": "markdown",
      "metadata": {
        "id": "view-in-github",
        "colab_type": "text"
      },
      "source": [
        "<a href=\"https://colab.research.google.com/github/JuanCamiloGB/Signals-and-Systems/blob/master/f)Ejercicios_Se%C3%B1ales_Cuasiperiodicas.ipynb\" target=\"_parent\"><img src=\"https://colab.research.google.com/assets/colab-badge.svg\" alt=\"Open In Colab\"/></a>"
      ]
    },
    {
      "cell_type": "markdown",
      "metadata": {
        "id": "1VaLXezfP4wL"
      },
      "source": [
        "#EJERCICIO \n",
        "demuestre la periodicidad o no de las siguientes\n",
        "señales :"
      ]
    },
    {
      "cell_type": "markdown",
      "metadata": {
        "id": "ddmwpBgTQGUV"
      },
      "source": [
        "1) \n",
        "$$x(t) = 3cos(ωt)\n",
        "$$"
      ]
    },
    {
      "cell_type": "code",
      "metadata": {
        "id": "ZJHfdLnkQGey"
      },
      "source": [
        "import numpy as np\n",
        "import matplotlib.pyplot as plt"
      ],
      "execution_count": 1,
      "outputs": []
    },
    {
      "cell_type": "code",
      "metadata": {
        "id": "a1llH42sQRr8"
      },
      "source": [
        "\"\"\"Solución\"\"\"\n",
        "\n",
        "\n"
      ],
      "execution_count": null,
      "outputs": []
    },
    {
      "cell_type": "markdown",
      "metadata": {
        "id": "W7xBeVTkQGwR"
      },
      "source": [
        "2)\n",
        "$$x(t) = 2sin(ωt+π)\n",
        "$$"
      ]
    },
    {
      "cell_type": "code",
      "metadata": {
        "id": "5fDCTFaQQG2x"
      },
      "source": [
        "\"\"\"Solución\"\"\""
      ],
      "execution_count": null,
      "outputs": []
    },
    {
      "cell_type": "markdown",
      "metadata": {
        "id": "zYjHoGQGQG9b"
      },
      "source": [
        "3) $$x(t) = 3sin(√3t) +3sin(5t) − 2cos(t/√ 3)$$\n"
      ]
    },
    {
      "cell_type": "code",
      "metadata": {
        "id": "bfGaatLlQHDu"
      },
      "source": [
        "\"\"\"Solución\"\"\""
      ],
      "execution_count": null,
      "outputs": []
    },
    {
      "cell_type": "markdown",
      "metadata": {
        "id": "mCllCRzoQ10z"
      },
      "source": [
        "4)$$x(t) = 3sin(4t) −2cos(50t) +2cos(10t)$$"
      ]
    },
    {
      "cell_type": "code",
      "metadata": {
        "id": "Pbmfjap0Q2Ww"
      },
      "source": [
        "\"\"\"Solución\""
      ],
      "execution_count": null,
      "outputs": []
    },
    {
      "cell_type": "markdown",
      "metadata": {
        "id": "LJ2l0A9oQ8qg"
      },
      "source": [
        "5)$$x(t) = e^{jωt}$$"
      ]
    },
    {
      "cell_type": "code",
      "metadata": {
        "id": "plbcR_ZWQ81V"
      },
      "source": [
        "\"\"\"Solución\"\"\""
      ],
      "execution_count": null,
      "outputs": []
    }
  ]
}