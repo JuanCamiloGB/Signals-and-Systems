{
  "nbformat": 4,
  "nbformat_minor": 0,
  "metadata": {
    "colab": {
      "name": "Ejercicio Clasificar la Señal según su tipo.ipynb",
      "provenance": [],
      "collapsed_sections": [],
      "authorship_tag": "ABX9TyPdtjZcN2mjknswO8aMhIRc",
      "include_colab_link": true
    },
    "kernelspec": {
      "name": "python3",
      "display_name": "Python 3"
    },
    "language_info": {
      "name": "python"
    }
  },
  "cells": [
    {
      "cell_type": "markdown",
      "metadata": {
        "id": "view-in-github",
        "colab_type": "text"
      },
      "source": [
        "<a href=\"https://colab.research.google.com/github/JuanCamiloGB/Signals-and-Systems/blob/master/Ejercicio_Clasificar_la_Se%C3%B1al_seg%C3%BAn_su_tipo.ipynb\" target=\"_parent\"><img src=\"https://colab.research.google.com/assets/colab-badge.svg\" alt=\"Open In Colab\"/></a>"
      ]
    },
    {
      "cell_type": "markdown",
      "metadata": {
        "id": "X2e_4e_OE9oK"
      },
      "source": [
        "# Clasificar las señales segun su tipo (Energia o Potencia):"
      ]
    },
    {
      "cell_type": "markdown",
      "metadata": {
        "id": "CDvfeQAZFDXF"
      },
      "source": [
        "$$x(t)=3t + 2; \\ \\forall t\\in [0; 5]$$"
      ]
    },
    {
      "cell_type": "code",
      "metadata": {
        "id": "LPTNCYARE89T"
      },
      "source": [
        ""
      ],
      "execution_count": null,
      "outputs": []
    },
    {
      "cell_type": "markdown",
      "metadata": {
        "id": "vhLHTZaEFuga"
      },
      "source": [
        "$$x(t)=Acos(\\omega t)+Bsin(\\omega t);  A,B,\\omega  \\in  \\mathbb{R}^+$$ \n"
      ]
    },
    {
      "cell_type": "code",
      "metadata": {
        "id": "exXGcxmuFu-b"
      },
      "source": [
        ""
      ],
      "execution_count": null,
      "outputs": []
    },
    {
      "cell_type": "markdown",
      "metadata": {
        "id": "qhBy7WEzFvK3"
      },
      "source": [
        ""
      ]
    },
    {
      "cell_type": "code",
      "metadata": {
        "id": "UpqiOQHhGP4c"
      },
      "source": [
        ""
      ],
      "execution_count": null,
      "outputs": []
    }
  ]
}