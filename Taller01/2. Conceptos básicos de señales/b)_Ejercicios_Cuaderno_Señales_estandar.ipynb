{
  "nbformat": 4,
  "nbformat_minor": 0,
  "metadata": {
    "colab": {
      "name": "EJE02T01.ipynb",
      "private_outputs": true,
      "provenance": [],
      "collapsed_sections": [],
      "include_colab_link": true
    },
    "kernelspec": {
      "name": "python3",
      "display_name": "Python 3"
    },
    "language_info": {
      "name": "python"
    }
  },
  "cells": [
    {
      "cell_type": "markdown",
      "metadata": {
        "id": "view-in-github",
        "colab_type": "text"
      },
      "source": [
        "<a href=\"https://colab.research.google.com/github/JuanCamiloGB/Signals-and-Systems/blob/master/Taller01/2.%20Conceptos%20b%C3%A1sicos%20de%20se%C3%B1ales/b)_Ejercicios_Cuaderno_Se%C3%B1ales_estandar.ipynb\" target=\"_parent\"><img src=\"https://colab.research.google.com/assets/colab-badge.svg\" alt=\"Open In Colab\"/></a>"
      ]
    },
    {
      "cell_type": "markdown",
      "metadata": {
        "id": "CcOtT-i0Xxy5"
      },
      "source": [
        "#EJERCICIO \n",
        "Pruebe otros valores de omega y sigma para crear señales con amplitud creciente/decreciente/constante y diferentes frecuencias angulares.\n"
      ]
    },
    {
      "cell_type": "code",
      "metadata": {
        "id": "JcemjfvzbGCJ"
      },
      "source": [
        "import sympy as sym #importa la librería sympy\n",
        "sym.init_printing() #se inicializa para mostrar en pantalla\n",
        "t, sigma, omega = sym.symbols('t sigma omega', real=True)#definir variables simbólicas\n",
        "s = sigma + 1j*omega  #sobre carga operador para definir parte imaginaria\n",
        "x = sym.exp(s*t)#función exponencial simbólica desde sympy"
      ],
      "execution_count": null,
      "outputs": []
    },
    {
      "cell_type": "code",
      "metadata": {
        "id": "zrAp2V0CXzvt"
      },
      "source": [
        "#Con amplitud Creciente\n",
        "\"\"\"sigma (σ) tiene que ser positivo, \n",
        "omega (ω) da el número de ciclos que muestra la onda\"\"\"\n",
        "\n",
        "y = x.subs({omega: 2, sigma : 0.2}) \n",
        "print(r'x(t)=',x)\n",
        "\n",
        "sym.plot(sym.re(y), (t, 0, 2*sym.pi), ylabel=r'Re{$e^{st}$}', ylim=[-5,5]) \n",
        "sym.plot(sym.im(y), (t, 0, 2*sym.pi), ylabel=r'Im{$e^{st}$}', ylim=[-5,5]);"
      ],
      "execution_count": null,
      "outputs": []
    },
    {
      "cell_type": "code",
      "metadata": {
        "id": "iBW9Z3XjbIuo"
      },
      "source": [
        "#Con amplitud decreciente\n",
        "\"\"\"sigma ( σ ) tiene que ser negativo, \n",
        "omega (ω) dará el número de ciclos que se mostraran en la onda\"\"\"\n",
        "\n",
        "y = x.subs({omega: 3, sigma : -0.5})\n",
        "print(r'x(t)=',x)\n",
        "\n",
        "sym.plot(sym.re(y), (t, 0, 2*sym.pi), ylabel=r'Re{$e^{st}$}', ylim=[-1,1]) \n",
        "sym.plot(sym.im(y), (t, 0, 2*sym.pi), ylabel=r'Im{$e^{st}$}', ylim=[-1,1]);"
      ],
      "execution_count": null,
      "outputs": []
    },
    {
      "cell_type": "code",
      "metadata": {
        "id": "Ta2sLSg-bK9k"
      },
      "source": [
        "#Con amplitud constante \n",
        "\"\"\"sigma ( σ ) tiene que ser cero,\n",
        "omega (ω) será el número de ciclos que se mostraran en la onda\"\"\"\n",
        "\n",
        "y = x.subs({omega: 5, sigma : 0})\n",
        "print(r'x(t)=',x)\n",
        "\n",
        "sym.plot(sym.re(y), (t, 0, 2*sym.pi), ylabel=r'Re{$e^{st}$}', ylim=[-1,1]) \n",
        "sym.plot(sym.im(y), (t, 0, 2*sym.pi), ylabel=r'Im{$e^{st}$}', ylim=[-1,1]);"
      ],
      "execution_count": null,
      "outputs": []
    },
    {
      "cell_type": "markdown",
      "metadata": {
        "id": "icMP5A11X42d"
      },
      "source": [
        "#EJERCICIO \n",
        "Compruebe la propiedad de selectividad, para un impulso de Dirac desplazado $\\delta(t-\\tau)$ y probar los resultados modificando el ejemplo anterior."
      ]
    },
    {
      "cell_type": "code",
      "metadata": {
        "id": "h39ZjbdkX479"
      },
      "source": [
        "#f(t-\\tau)\n",
        "#definir tau\n",
        "tau = sym.symbols('tau', real=True)\n",
        "g = sym.Function('g')(t) # g(t)\n",
        "delta_T = sym.DiracDelta(t-tau) # delta(t-tau)\n",
        "delta_T\n",
        "sym.integrate(delta_T*g, (t, -sym.oo, sym.oo))"
      ],
      "execution_count": null,
      "outputs": []
    },
    {
      "cell_type": "markdown",
      "metadata": {
        "id": "Ody9Jlb3X-_F"
      },
      "source": [
        "# EJERCICIO \n",
        "Use la función $\\text{rect}(t)$ para construir una función $\\cos(\\omega t)$ con $\\omega=2$, la cual se enciende en $t=-\\frac{1}{2}$ y se apaga en $t=+\\frac{1}{2}$"
      ]
    },
    {
      "cell_type": "code",
      "metadata": {
        "id": "59xjxJl7X_D0"
      },
      "source": [
        ""
      ],
      "execution_count": null,
      "outputs": []
    },
    {
      "cell_type": "markdown",
      "metadata": {
        "id": "cpzhIlpperTr"
      },
      "source": [
        "#EJERCICIO\n",
        "Genere un rectificador de onda completa utilizando la función  sgn(t)"
      ]
    },
    {
      "cell_type": "code",
      "metadata": {
        "id": "_9zzwtsNHk9G"
      },
      "source": [
        "\n",
        "t,to,n,m,k =sym.symbols('t to n m k',real=True)\n",
        "t, sigma, omega = sym.symbols('t sigma omega', real=True)\n",
        "x = sym.sin(omega*t)\n",
        "y = sym.sign(x)\n",
        "z = x*y\n",
        "#Rectificador de onda completa para el Seno\n",
        "sym.plot(z.subs(omega,2), (t, -4, 4), ylim=[-1.2, 1.2], ylabel=r'$x(t)$')\n",
        "#Rectificador de onda completa para el coseno\n",
        "X = sym.cos(omega*t)*sym.sign(sym.cos(omega*t))\n",
        "sym.plot(X.subs(omega,2), (t, -4, 4), ylim=[-1.2, 1.2], ylabel=r'$x(t)$')\n",
        "\n"
      ],
      "execution_count": null,
      "outputs": []
    }
  ]
}