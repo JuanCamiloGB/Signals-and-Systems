{
  "nbformat": 4,
  "nbformat_minor": 0,
  "metadata": {
    "colab": {
      "name": "4) Ejercicios Simular con Sympy.ipynb",
      "private_outputs": true,
      "provenance": [],
      "collapsed_sections": [],
      "include_colab_link": true
    },
    "kernelspec": {
      "name": "python3",
      "display_name": "Python 3"
    },
    "language_info": {
      "name": "python"
    }
  },
  "cells": [
    {
      "cell_type": "markdown",
      "metadata": {
        "id": "view-in-github",
        "colab_type": "text"
      },
      "source": [
        "<a href=\"https://colab.research.google.com/github/JuanCamiloGB/Signals-and-Systems/blob/master/Taller01/2.%20Conceptos%20b%C3%A1sicos%20de%20se%C3%B1ales/d)_Ejercicios_Simular_con_Sympy.ipynb\" target=\"_parent\"><img src=\"https://colab.research.google.com/assets/colab-badge.svg\" alt=\"Open In Colab\"/></a>"
      ]
    },
    {
      "cell_type": "markdown",
      "metadata": {
        "id": "6DYtCvs-KrEy"
      },
      "source": [
        "Evaluar la expresión \n",
        "\n",
        "$$\n",
        "\\int_{-oo}^{oo} \\! t^4 e^{-cos(t)} cos(-2t)\\delta(2t-5\\pi)  \\,dt \\\n",
        "$$\n",
        "\n",
        "Comprobar el resultado simulando con la libreria sympy"
      ]
    },
    {
      "cell_type": "code",
      "metadata": {
        "id": "za1OLiUfL3__"
      },
      "source": [
        "import sympy as sym"
      ],
      "execution_count": null,
      "outputs": []
    },
    {
      "cell_type": "code",
      "metadata": {
        "id": "1el70MyFosQp"
      },
      "source": [
        "\"\"\"Solución\"\"\"\n",
        "\n",
        "t = sym.symbols('t', real=True)\n",
        "f = (t**4)*sym.exp(-sym.cos(2*t))*(sym.cos(-2*t))\n",
        "integrate = sym.integrate(sym.DiracDelta(2*t-5*sym.pi)*f,(t,-sym.oo,sym.oo))\n",
        "integrate"
      ],
      "execution_count": null,
      "outputs": []
    },
    {
      "cell_type": "markdown",
      "metadata": {
        "id": "lHJ4ltG4LThC"
      },
      "source": [
        "Sea:  \n",
        "\n",
        "$$x(t) = u(t−to)−u(t−nto)−3kδ(t−mto)$$ \n",
        "\n",
        "determinar el valor para k, para el cual \n",
        "\n",
        "$$\n",
        "\\int_{-oo}^{oo} \\! x(t)  \\,dt \\ = A\n",
        "$$"
      ]
    },
    {
      "cell_type": "code",
      "metadata": {
        "id": "v616YGS2LSHl"
      },
      "source": [
        "\"\"\"Solución\"\"\"\n",
        "\n",
        "t,m, to, A , n , k  = sym.symbols('t m to A n k',real=True)\n",
        "to=-1\n",
        "A = 1\n",
        "n=4\n",
        "k=A-to(n-1))/3  #k=A-to(n-1)/3\n",
        "m=2\n",
        "\n",
        "delta = sym.DiracDelta(t-m*to)\n",
        "step = sym.Heaviside(t-to)\n",
        "step1 = sym.Heaviside(t-n*to)\n",
        "s=step-step1\n",
        "integrate=sym.integrate(s,(t,-sym.oo,sym.oo))+sym.integrate(-k*delta,(t,-sym.oo,sym.oo))\n",
        "integrate"
      ],
      "execution_count": null,
      "outputs": []
    }
  ]
}