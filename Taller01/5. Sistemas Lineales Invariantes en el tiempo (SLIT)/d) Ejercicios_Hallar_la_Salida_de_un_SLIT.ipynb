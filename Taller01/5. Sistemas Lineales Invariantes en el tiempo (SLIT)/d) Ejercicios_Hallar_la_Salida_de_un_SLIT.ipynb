{
  "nbformat": 4,
  "nbformat_minor": 0,
  "metadata": {
    "colab": {
      "name": "Ejercicios Hallar la Salida de un SLIT.ipynb",
      "provenance": [],
      "authorship_tag": "ABX9TyNXrnAbBjdzY7UYlodkJeWu",
      "include_colab_link": true
    },
    "kernelspec": {
      "name": "python3",
      "display_name": "Python 3"
    },
    "language_info": {
      "name": "python"
    }
  },
  "cells": [
    {
      "cell_type": "markdown",
      "metadata": {
        "id": "view-in-github",
        "colab_type": "text"
      },
      "source": [
        "<a href=\"https://colab.research.google.com/github/JuanCamiloGB/Signals-and-Systems/blob/master/Taller01/5.%20Sistemas%20Lineales%20Invariantes%20en%20el%20tiempo%20(SLIT)/d)%20Ejercicios_Hallar_la_Salida_de_un_SLIT.ipynb\" target=\"_parent\"><img src=\"https://colab.research.google.com/assets/colab-badge.svg\" alt=\"Open In Colab\"/></a>"
      ]
    },
    {
      "cell_type": "markdown",
      "metadata": {
        "id": "SKvHWa1cUMJv"
      },
      "source": [
        "###Hallar la salida y[n] de un SLIT ante la entrada\n",
        "###$x[n]=\\{−15,5,-3†,0,5,7,−1\\}$\n",
        "###con respuesta al impulso $h[n]= \\{1,-2,0†,1,-2\\}$, donde $n\\in\\{0\\pm,1\\pm,2,....,\\pm N\\}$ y $n=0$ para $x[n]†$\n",
        "\n",
        "### repita el proceso para el sistema con respuesta al escalon $\\{-1,6,-10,3†,1,-10,2,5\\}$\n"
      ]
    },
    {
      "cell_type": "code",
      "metadata": {
        "id": "vb7djJfRULKH"
      },
      "source": [
        "%matplotlib inline\n",
        "from ipywidgets import interact #crear graficos interactivos\n",
        "import numpy as np\n",
        "import matplotlib.pyplot as plt\n",
        "from scipy import signal #crear señales prototipo en tiempo discreto"
      ],
      "execution_count": null,
      "outputs": []
    }
  ]
}