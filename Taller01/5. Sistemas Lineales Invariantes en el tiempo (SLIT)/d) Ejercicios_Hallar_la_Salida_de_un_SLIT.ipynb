{
  "nbformat": 4,
  "nbformat_minor": 0,
  "metadata": {
    "colab": {
      "name": "Ejercicios Hallar la Salida de un SLIT.ipynb",
      "provenance": [],
      "authorship_tag": "ABX9TyPxkT7ZXYqk919sfwbOucfQ",
      "include_colab_link": true
    },
    "kernelspec": {
      "name": "python3",
      "display_name": "Python 3"
    },
    "language_info": {
      "name": "python"
    },
    "widgets": {
      "application/vnd.jupyter.widget-state+json": {
        "02d1a2a86c8c48d5be6c01e6a393a0d1": {
          "model_module": "@jupyter-widgets/controls",
          "model_name": "VBoxModel",
          "model_module_version": "1.5.0",
          "state": {
            "_view_name": "VBoxView",
            "_dom_classes": [
              "widget-interact"
            ],
            "_model_name": "VBoxModel",
            "_view_module": "@jupyter-widgets/controls",
            "_model_module_version": "1.5.0",
            "_view_count": null,
            "_view_module_version": "1.5.0",
            "box_style": "",
            "layout": "IPY_MODEL_6789a660800d4490a506c4d45dc88c06",
            "_model_module": "@jupyter-widgets/controls",
            "children": [
              "IPY_MODEL_c8c186799a354ba3985a1b720fb65a51",
              "IPY_MODEL_18e73f18969045c1837faaa690bf068d"
            ]
          }
        },
        "6789a660800d4490a506c4d45dc88c06": {
          "model_module": "@jupyter-widgets/base",
          "model_name": "LayoutModel",
          "model_module_version": "1.2.0",
          "state": {
            "_view_name": "LayoutView",
            "grid_template_rows": null,
            "right": null,
            "justify_content": null,
            "_view_module": "@jupyter-widgets/base",
            "overflow": null,
            "_model_module_version": "1.2.0",
            "_view_count": null,
            "flex_flow": null,
            "width": null,
            "min_width": null,
            "border": null,
            "align_items": null,
            "bottom": null,
            "_model_module": "@jupyter-widgets/base",
            "top": null,
            "grid_column": null,
            "overflow_y": null,
            "overflow_x": null,
            "grid_auto_flow": null,
            "grid_area": null,
            "grid_template_columns": null,
            "flex": null,
            "_model_name": "LayoutModel",
            "justify_items": null,
            "grid_row": null,
            "max_height": null,
            "align_content": null,
            "visibility": null,
            "align_self": null,
            "height": null,
            "min_height": null,
            "padding": null,
            "grid_auto_rows": null,
            "grid_gap": null,
            "max_width": null,
            "order": null,
            "_view_module_version": "1.2.0",
            "grid_template_areas": null,
            "object_position": null,
            "object_fit": null,
            "grid_auto_columns": null,
            "margin": null,
            "display": null,
            "left": null
          }
        },
        "c8c186799a354ba3985a1b720fb65a51": {
          "model_module": "@jupyter-widgets/controls",
          "model_name": "IntSliderModel",
          "model_module_version": "1.5.0",
          "state": {
            "_view_name": "IntSliderView",
            "style": "IPY_MODEL_88495bc40cfd42b1abde93072c1d6d50",
            "_dom_classes": [],
            "description": "m",
            "step": 1,
            "_model_name": "IntSliderModel",
            "orientation": "horizontal",
            "max": 12,
            "_view_module": "@jupyter-widgets/controls",
            "_model_module_version": "1.5.0",
            "value": 0,
            "_view_count": null,
            "disabled": false,
            "_view_module_version": "1.5.0",
            "min": 0,
            "continuous_update": true,
            "readout_format": "d",
            "description_tooltip": null,
            "readout": true,
            "_model_module": "@jupyter-widgets/controls",
            "layout": "IPY_MODEL_edf0c47f7dc944e28a71c3a5a71e235c"
          }
        },
        "18e73f18969045c1837faaa690bf068d": {
          "model_module": "@jupyter-widgets/output",
          "model_name": "OutputModel",
          "model_module_version": "1.0.0",
          "state": {
            "_view_name": "OutputView",
            "msg_id": "",
            "_dom_classes": [],
            "_model_name": "OutputModel",
            "outputs": [
              {
                "output_type": "stream",
                "name": "stderr",
                "text": [
                  "/usr/local/lib/python3.7/dist-packages/ipykernel_launcher.py:21: UserWarning: In Matplotlib 3.3 individual lines on a stem plot will be added as a LineCollection instead of individual lines. This significantly improves the performance of a stem plot. To remove this warning and switch to the new behaviour, set the \"use_line_collection\" keyword argument to True.\n",
                  "/usr/local/lib/python3.7/dist-packages/ipykernel_launcher.py:22: UserWarning: In Matplotlib 3.3 individual lines on a stem plot will be added as a LineCollection instead of individual lines. This significantly improves the performance of a stem plot. To remove this warning and switch to the new behaviour, set the \"use_line_collection\" keyword argument to True.\n",
                  "/usr/local/lib/python3.7/dist-packages/numpy/core/_asarray.py:136: VisibleDeprecationWarning: Creating an ndarray from ragged nested sequences (which is a list-or-tuple of lists-or-tuples-or ndarrays with different lengths or shapes) is deprecated. If you meant to do this, you must specify 'dtype=object' when creating the ndarray\n",
                  "  return array(a, dtype, copy=False, order=order, subok=True)\n",
                  "/usr/local/lib/python3.7/dist-packages/ipykernel_launcher.py:23: UserWarning: In Matplotlib 3.3 individual lines on a stem plot will be added as a LineCollection instead of individual lines. This significantly improves the performance of a stem plot. To remove this warning and switch to the new behaviour, set the \"use_line_collection\" keyword argument to True.\n"
                ]
              },
              {
                "output_type": "display_data",
                "data": {
                  "image/png": "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\n",
                  "text/plain": "<Figure size 432x288 with 1 Axes>"
                },
                "metadata": {
                  "needs_background": "light"
                }
              }
            ],
            "_view_module": "@jupyter-widgets/output",
            "_model_module_version": "1.0.0",
            "_view_count": null,
            "_view_module_version": "1.0.0",
            "layout": "IPY_MODEL_b4ae039e02fe437ea29d91a798624209",
            "_model_module": "@jupyter-widgets/output"
          }
        },
        "88495bc40cfd42b1abde93072c1d6d50": {
          "model_module": "@jupyter-widgets/controls",
          "model_name": "SliderStyleModel",
          "model_module_version": "1.5.0",
          "state": {
            "_view_name": "StyleView",
            "handle_color": null,
            "_model_name": "SliderStyleModel",
            "description_width": "",
            "_view_module": "@jupyter-widgets/base",
            "_model_module_version": "1.5.0",
            "_view_count": null,
            "_view_module_version": "1.2.0",
            "_model_module": "@jupyter-widgets/controls"
          }
        },
        "edf0c47f7dc944e28a71c3a5a71e235c": {
          "model_module": "@jupyter-widgets/base",
          "model_name": "LayoutModel",
          "model_module_version": "1.2.0",
          "state": {
            "_view_name": "LayoutView",
            "grid_template_rows": null,
            "right": null,
            "justify_content": null,
            "_view_module": "@jupyter-widgets/base",
            "overflow": null,
            "_model_module_version": "1.2.0",
            "_view_count": null,
            "flex_flow": null,
            "width": null,
            "min_width": null,
            "border": null,
            "align_items": null,
            "bottom": null,
            "_model_module": "@jupyter-widgets/base",
            "top": null,
            "grid_column": null,
            "overflow_y": null,
            "overflow_x": null,
            "grid_auto_flow": null,
            "grid_area": null,
            "grid_template_columns": null,
            "flex": null,
            "_model_name": "LayoutModel",
            "justify_items": null,
            "grid_row": null,
            "max_height": null,
            "align_content": null,
            "visibility": null,
            "align_self": null,
            "height": null,
            "min_height": null,
            "padding": null,
            "grid_auto_rows": null,
            "grid_gap": null,
            "max_width": null,
            "order": null,
            "_view_module_version": "1.2.0",
            "grid_template_areas": null,
            "object_position": null,
            "object_fit": null,
            "grid_auto_columns": null,
            "margin": null,
            "display": null,
            "left": null
          }
        },
        "b4ae039e02fe437ea29d91a798624209": {
          "model_module": "@jupyter-widgets/base",
          "model_name": "LayoutModel",
          "model_module_version": "1.2.0",
          "state": {
            "_view_name": "LayoutView",
            "grid_template_rows": null,
            "right": null,
            "justify_content": null,
            "_view_module": "@jupyter-widgets/base",
            "overflow": null,
            "_model_module_version": "1.2.0",
            "_view_count": null,
            "flex_flow": null,
            "width": null,
            "min_width": null,
            "border": null,
            "align_items": null,
            "bottom": null,
            "_model_module": "@jupyter-widgets/base",
            "top": null,
            "grid_column": null,
            "overflow_y": null,
            "overflow_x": null,
            "grid_auto_flow": null,
            "grid_area": null,
            "grid_template_columns": null,
            "flex": null,
            "_model_name": "LayoutModel",
            "justify_items": null,
            "grid_row": null,
            "max_height": null,
            "align_content": null,
            "visibility": null,
            "align_self": null,
            "height": null,
            "min_height": null,
            "padding": null,
            "grid_auto_rows": null,
            "grid_gap": null,
            "max_width": null,
            "order": null,
            "_view_module_version": "1.2.0",
            "grid_template_areas": null,
            "object_position": null,
            "object_fit": null,
            "grid_auto_columns": null,
            "margin": null,
            "display": null,
            "left": null
          }
        }
      }
    }
  },
  "cells": [
    {
      "cell_type": "markdown",
      "metadata": {
        "id": "view-in-github",
        "colab_type": "text"
      },
      "source": [
        "<a href=\"https://colab.research.google.com/github/JuanCamiloGB/Signals-and-Systems/blob/master/Taller01/5.%20Sistemas%20Lineales%20Invariantes%20en%20el%20tiempo%20(SLIT)/d)%20Ejercicios_Hallar_la_Salida_de_un_SLIT.ipynb\" target=\"_parent\"><img src=\"https://colab.research.google.com/assets/colab-badge.svg\" alt=\"Open In Colab\"/></a>"
      ]
    },
    {
      "cell_type": "markdown",
      "metadata": {
        "id": "SKvHWa1cUMJv"
      },
      "source": [
        "###Hallar la salida $y[n]$ de un SLIT ante la entrada $x[n]=(-15,5,-3^+,0,5,7,-1)$, con respuesta al impulso $h[n]=(1,-2,0^+,1,-2)$, donde $n\\in (0,\\pm 1,\\pm 2,.....,\\pm N)$ y $n=0$ para $x[n]^+$. Nota: utilizar método gráfico para encontrar la salida y comprobar con simulación en Python.Repita el proceso para el sistema con respuesta al escalón $(-1,6,-10,3^+,1,-10,2,5)$.\n"
      ]
    },
    {
      "cell_type": "code",
      "metadata": {
        "id": "vb7djJfRULKH"
      },
      "source": [
        "%matplotlib inline\n",
        "from ipywidgets import interact #crear graficos interactivos\n",
        "import numpy as np\n",
        "import matplotlib.pyplot as plt\n",
        "from scipy import signal #crear señales prototipo en tiempo discreto"
      ],
      "execution_count": 1,
      "outputs": []
    },
    {
      "cell_type": "code",
      "metadata": {
        "id": "CA_cfSUHtMWt",
        "outputId": "83d6ea2a-fa78-4887-8518-7972e5d22942",
        "colab": {
          "base_uri": "https://localhost:8080/",
          "height": 401,
          "referenced_widgets": [
            "02d1a2a86c8c48d5be6c01e6a393a0d1",
            "6789a660800d4490a506c4d45dc88c06",
            "c8c186799a354ba3985a1b720fb65a51",
            "18e73f18969045c1837faaa690bf068d",
            "88495bc40cfd42b1abde93072c1d6d50",
            "edf0c47f7dc944e28a71c3a5a71e235c",
            "b4ae039e02fe437ea29d91a798624209"
          ]
        }
      },
      "source": [
        "#primera parte:\n",
        "\n",
        "x = np.array([[-15],[5],[-3],[0],[5],[7],[-1]])  #x[n] señal discreta\n",
        "h = np.array([[1],[-2],[0],[1],[-2]])            #h[n] respuesta impulso\n",
        "\n",
        "#funcion convolucion\n",
        "def convolution(h,x):\n",
        "   lx = len(x)\n",
        "   lh = len(h)\n",
        "   M = 2*lx+lh\n",
        "   xm = np.zeros((M,M))\n",
        "   hm = np.r_[np.zeros((lx,1)),h,np.zeros((lx,1))]\n",
        "   ym = np.zeros((M,M))\n",
        "   for i in range(M-lx+1):\n",
        "     #print(i)\n",
        "     xm[i:i+lx,i] = np.flip(x).reshape(-1)\n",
        "     ym[i,i] = xm[:,i].T.dot(hm)\n",
        "   return xm, ym, hm  \n",
        "#Grafico \n",
        "def plot_conv(m,xm,ym,hm):\n",
        "     plt.stem(xm[:,m],markerfmt='+',label='$x[k]$')\n",
        "     plt.stem(hm,linefmt='g',markerfmt='.',label='$h[n-k]$')\n",
        "     plt.stem(ym[:m,:].sum(axis=0),markerfmt='s',linefmt='r',label='$y[n]=\\sum^{\\infty}_{k=-\\infty}x[k]h[n-k]$')\n",
        "     plt.legend()\n",
        "     plt.show()\n",
        "     return\n",
        "\n",
        "xm, ym, hm = convolution(h,x) \n",
        "\n",
        "#@interact(m=range(xm.shape[0]-len(x)+1))\n",
        "@interact(m=(0, xm.shape[0]-len(x), 1))\n",
        "def show_frame(m=0):\n",
        "    plot_conv(m,xm,ym,hm)\n",
        "plt.show()"
      ],
      "execution_count": 2,
      "outputs": [
        {
          "output_type": "display_data",
          "data": {
            "application/vnd.jupyter.widget-view+json": {
              "model_id": "02d1a2a86c8c48d5be6c01e6a393a0d1",
              "version_minor": 0,
              "version_major": 2
            },
            "text/plain": [
              "interactive(children=(IntSlider(value=0, description='m', max=12), Output()), _dom_classes=('widget-interact',…"
            ]
          },
          "metadata": {}
        }
      ]
    }
  ]
}