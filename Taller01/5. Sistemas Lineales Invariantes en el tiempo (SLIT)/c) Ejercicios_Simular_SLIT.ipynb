{
  "nbformat": 4,
  "nbformat_minor": 0,
  "metadata": {
    "colab": {
      "name": "Ejercicios Simular SLIT.ipynb",
      "provenance": [],
      "authorship_tag": "ABX9TyNKC3ZOtk+Q89LE7oj/9J7K",
      "include_colab_link": true
    },
    "kernelspec": {
      "name": "python3",
      "display_name": "Python 3"
    },
    "language_info": {
      "name": "python"
    }
  },
  "cells": [
    {
      "cell_type": "markdown",
      "metadata": {
        "id": "view-in-github",
        "colab_type": "text"
      },
      "source": [
        "<a href=\"https://colab.research.google.com/github/JuanCamiloGB/Signals-and-Systems/blob/master/Taller01/5.%20Sistemas%20Lineales%20Invariantes%20en%20el%20tiempo%20(SLIT)/c)%20Ejercicios_Simular_SLIT.ipynb\" target=\"_parent\"><img src=\"https://colab.research.google.com/assets/colab-badge.svg\" alt=\"Open In Colab\"/></a>"
      ]
    },
    {
      "cell_type": "markdown",
      "metadata": {
        "id": "ypSOcenKTyvd"
      },
      "source": [
        "###Demuestre si los siguientes sistemas de la forma $y=\\tau (x)$, son sistemas lineales e invariantes en el tiempo (SLIT). simule los sistemas en python:"
      ]
    },
    {
      "cell_type": "code",
      "metadata": {
        "id": "-uRUOAk4TvsV"
      },
      "source": [
        "#Importando librerias\n",
        "%matplotlib inline\n",
        "from ipywidgets import interact #crear graficos interactivos\n",
        "import numpy as np\n",
        "import matplotlib.pyplot as plt\n",
        "from scipy import signal"
      ],
      "execution_count": 4,
      "outputs": []
    },
    {
      "cell_type": "markdown",
      "metadata": {
        "id": "wI0n9DIDqz8w"
      },
      "source": [
        "**1)** $y[n]=x[n]/3+2x[n-1]-y[n-1]$."
      ]
    },
    {
      "cell_type": "code",
      "metadata": {
        "id": "f-Kz4sWMhoJA",
        "outputId": "ae5dcd70-73e7-49dd-e106-748b3b471dcc",
        "colab": {
          "base_uri": "https://localhost:8080/"
        }
      },
      "source": [
        "#se definen variables\n",
        "a1 = 7\n",
        "a2 = 7\n",
        "#definimos vectores para el sistema\n",
        "\n",
        "x1=np.array([0.4,-0.5,10,3,-6.7,0,0])\n",
        "x2=np.array([0,0,0,1,1,0,0])\n",
        "y1=np.array([0,0,0,1,1,0,0])\n",
        "y2=np.array([0,0,0,1,1,0,0])\n",
        "x=a1*x1+a2*x2\n",
        "n=len(x1)\n",
        "m=len(y1)\n",
        "#construimos funciones para evaluar linealidad\n",
        "YGG1=(a1*np.sum(x1)+a2*np.sum(x2))/3+2*a1*np.sum(x1)+a2*np.sum(x2)-a1*np.sum(y1)+a2*np.sum(y2)\n",
        "YGG2=((a1*np.sum(x1)+a2*np.sum(x2))/3)+2*a1*np.sum(x1)+a2*np.sum(x2)-a1*np.sum(y1)+a2*np.sum(y2)\n",
        "\n",
        "if YGG1==YGG2:\n",
        "    print('El valor de y1 es:',YGG1)\n",
        "    print('El valor de y2 es:',YGG2)\n",
        "    print ('El sistema es lineal')\n",
        "\n",
        "else: \n",
        "        print('El valor de y1 es:',YGG1)\n",
        "        print('El valor de y2 es:',YGG2)  \n",
        "        print ('El sistema NO es lineal')"
      ],
      "execution_count": 2,
      "outputs": [
        {
          "output_type": "stream",
          "name": "stdout",
          "text": [
            "El valor de y1 es: 119.93333333333334\n",
            "El valor de y2 es: 119.93333333333334\n",
            "El sistema es lineal\n"
          ]
        }
      ]
    },
    {
      "cell_type": "markdown",
      "metadata": {
        "id": "Z3vuwzNErCOc"
      },
      "source": [
        "**2)** $y[n]=\\sum_{k=-\\infty}^{n} x^2[k]$."
      ]
    },
    {
      "cell_type": "code",
      "metadata": {
        "id": "Mp8j4nFqrENf",
        "outputId": "e6568a27-46a9-436b-aa31-c87d2d6bbd59",
        "colab": {
          "base_uri": "https://localhost:8080/"
        }
      },
      "source": [
        "t = 7\n",
        "to = 1\n",
        "A = 5\n",
        "B = 5\n",
        "x1=np.array([5,-2,4,7,-3,-9,1])\n",
        "x2=np.array([4,9,0,-2,-6,-1,5])\n",
        "x=A*x1+B*x2\n",
        "n=len(x1)\n",
        "\n",
        "yGG1=np.sum(x)\n",
        "yGG2=A*np.sum(x1)+2*np.sum(x1*x2)+B*np.sum(x2)\n",
        "\n",
        "if yGG1==yGG2:\n",
        "    print('El valor de y1 es:',yGG1)\n",
        "    print('El valor de y2 es:',yGG2)  \n",
        "    print ('El sistema es lineal')\n",
        "else: \n",
        "        print('El valor de y1 es:',yGG1)\n",
        "        print('El valor de y2 es:',yGG2)  \n",
        "        print ('El sistema NO es lineal')"
      ],
      "execution_count": 3,
      "outputs": [
        {
          "output_type": "stream",
          "name": "stdout",
          "text": [
            "El valor de y1 es: 60\n",
            "El valor de y2 es: 100\n",
            "El sistema NO es lineal\n"
          ]
        }
      ]
    },
    {
      "cell_type": "markdown",
      "metadata": {
        "id": "-J2zaN-SrQP8"
      },
      "source": [
        "**3)** $y(t)=Ax(t)+B;   A,B \\in \\mathbb{R}$."
      ]
    },
    {
      "cell_type": "code",
      "metadata": {
        "id": "wUlfbmiorTbx",
        "outputId": "944e13ca-4ade-4fd2-9e6d-c0b0ba811ec9",
        "colab": {
          "base_uri": "https://localhost:8080/",
          "height": 349
        }
      },
      "source": [
        "#Definiendo Variables\n",
        "f = 20\n",
        "t = 1/f\n",
        "to = 1\n",
        "A= 8\n",
        "B= 7\n",
        "a1 = 5\n",
        "a2 = 3\n",
        "#vectores para el sistema\n",
        "x1=np.array([5,-2,4,7,-3,-9,1])\n",
        "x2=np.array([4,9,0,-2,-6,-1,5])\n",
        "x=a1*x1+a2*x2\n",
        "n=len(x1)-1\n",
        "#funciones para evaluar linealidad\n",
        "yGG1=A*(a1*np.sum(x1)+a2*np.sum(x2))+B\n",
        "yGG2=a1*(A*np.sum(x1)+B)+a2*(A*np.sum(x2)+B)\n",
        "\n",
        "if yGG1==yGG2:\n",
        "    print('El valor de y1 es:',yGG1)\n",
        "    print('El valor de y2 es:',yGG2)\n",
        "    print ('El sistema es lineal')\n",
        "\n",
        "else: \n",
        "        print('El valor de y1 es:',yGG1)\n",
        "        print('El valor de y2 es:',yGG2)  \n",
        "        print ('El sistema NO es lineal')\n",
        "\n",
        "#Demostrando la invarianza\n",
        "vt = np.linspace (0,10)\n",
        "x3 = np.cos(vt)\n",
        "y3 = A*x3+B\n",
        "x4 = np.cos(vt-to)\n",
        "y4= A*x4 +B\n",
        "#Grafica\n",
        "plt.plot(y3)\n",
        "plt.plot(y4)\n",
        "plt.plot(y3,label=\"$y_3(t)$\")\n",
        "plt.plot(y4,label=\"$y_4(t)$\")\n",
        "plt.legend()\n",
        "plt.xlabel('t')\n",
        "plt.ylabel('Y(t)')\n",
        "plt.grid()\n",
        "plt.title(\"Señal $y_3(t)$ ; Señal $y_4(t)$\")\n",
        "plt.show()"
      ],
      "execution_count": 6,
      "outputs": [
        {
          "output_type": "stream",
          "name": "stdout",
          "text": [
            "El valor de y1 es: 343\n",
            "El valor de y2 es: 392\n",
            "El sistema NO es lineal\n"
          ]
        },
        {
          "output_type": "display_data",
          "data": {
            "image/png": "[encoded data removed]",
            "text/plain": [
              "<Figure size 432x288 with 1 Axes>"
            ]
          },
          "metadata": {
            "needs_background": "light"
          }
        }
      ]
    }
  ]
}