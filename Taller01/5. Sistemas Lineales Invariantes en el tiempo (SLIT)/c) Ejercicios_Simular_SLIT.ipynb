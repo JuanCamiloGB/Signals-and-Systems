{
  "nbformat": 4,
  "nbformat_minor": 0,
  "metadata": {
    "colab": {
      "name": "Ejercicios Simular SLIT.ipynb",
      "provenance": [],
      "authorship_tag": "ABX9TyOvI7pO14nxElP8MDA1AYPA",
      "include_colab_link": true
    },
    "kernelspec": {
      "name": "python3",
      "display_name": "Python 3"
    },
    "language_info": {
      "name": "python"
    }
  },
  "cells": [
    {
      "cell_type": "markdown",
      "metadata": {
        "id": "view-in-github",
        "colab_type": "text"
      },
      "source": [
        "<a href=\"https://colab.research.google.com/github/JuanCamiloGB/Signals-and-Systems/blob/master/Taller01/5.%20Sistemas%20Lineales%20Invariantes%20en%20el%20tiempo%20(SLIT)/c)%20Ejercicios_Simular_SLIT.ipynb\" target=\"_parent\"><img src=\"https://colab.research.google.com/assets/colab-badge.svg\" alt=\"Open In Colab\"/></a>"
      ]
    },
    {
      "cell_type": "markdown",
      "metadata": {
        "id": "ypSOcenKTyvd"
      },
      "source": [
        "###Demuestre si los siguientes sistemas de la forma $y =H\\{x\\}$; son sistemas lineales e invariantes en el tiempo (SLIT). Simule los sistemas en Python."
      ]
    },
    {
      "cell_type": "code",
      "metadata": {
        "id": "-uRUOAk4TvsV"
      },
      "source": [
        "%matplotlib inline\n",
        "from ipywidgets import interact #crear graficos interactivos\n",
        "import numpy as np\n",
        "import matplotlib.pyplot as plt\n",
        "from scipy import signal"
      ],
      "execution_count": null,
      "outputs": []
    },
    {
      "cell_type": "code",
      "metadata": {
        "id": "f-Kz4sWMhoJA"
      },
      "source": [
        "x = np.array([0.4,-0.5,10,3,-6.7])\n",
        "y = np.zeros(len(x))\n",
        "for n in range(len(x)):\n",
        "     y ="
      ],
      "execution_count": null,
      "outputs": []
    }
  ]
}