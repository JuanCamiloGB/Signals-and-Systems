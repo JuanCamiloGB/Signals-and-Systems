{
  "nbformat": 4,
  "nbformat_minor": 0,
  "metadata": {
    "colab": {
      "name": "Ejercicios Cuaderno Convolucion.ipynb",
      "provenance": [],
      "authorship_tag": "ABX9TyNgZp2ybKQDcTFbPXEC5h8M",
      "include_colab_link": true
    },
    "kernelspec": {
      "name": "python3",
      "display_name": "Python 3"
    },
    "language_info": {
      "name": "python"
    }
  },
  "cells": [
    {
      "cell_type": "markdown",
      "metadata": {
        "id": "view-in-github",
        "colab_type": "text"
      },
      "source": [
        "<a href=\"https://colab.research.google.com/github/JuanCamiloGB/Signals-and-Systems/blob/master/Taller01/5.%20Sistemas%20Lineales%20Invariantes%20en%20el%20tiempo%20(SLIT)/a)%20Ejercicios_Cuaderno_Convolucion.ipynb\" target=\"_parent\"><img src=\"https://colab.research.google.com/assets/colab-badge.svg\" alt=\"Open In Colab\"/></a>"
      ]
    },
    {
      "cell_type": "markdown",
      "metadata": {
        "id": "6orqEOtjSzFP"
      },
      "source": [
        "#Ejercicio\n",
        "la evaluación de las integrales de convolución para los tres casos se deja abierta como un ejercicio. Tenga en cuenta que, en el primer caso, no se superponen, es decir que $y(t)=0$ para $t<0$.\n",
        "\n",
        "1. $t<0$: sin traslape\n",
        "2. $0 \\leq t < 1$: traslape parcial\n",
        "3. $t > 0$: traslape completo\n",
        "\n",
        "\\begin{equation}\n",
        "y(t) = \\int_{-\\infty}^{\\infty} x(\\tau) \\cdot h(t-\\tau) \\; d\\tau\n",
        "\\end{equation}\n",
        "\n",
        "La convolución $y(t) = x(t) * h(t)$ se realizará a partir de las siguientes señales\n",
        "\n",
        "\\begin{align}\n",
        "h(t) &= e^{-t} \\\\\n",
        "x(t) &= \\text{rect} \\left(t - \\frac{1}{2}\\right)\n",
        "\\end{align}"
      ]
    },
    {
      "cell_type": "code",
      "metadata": {
        "id": "jNjYGVVcSqkB",
        "outputId": "4fe0231a-12c1-4748-f6e1-954ed2bd20db",
        "colab": {
          "base_uri": "https://localhost:8080/"
        }
      },
      "source": [
        "%matplotlib inline\n",
        "import sympy as sym\n",
        "\n",
        "sym.init_printing()\n",
        "t,tau = sym.symbols('t tau', real=True)#variables simbólicas\n",
        "class rect(sym.Function): #función pulso rectangular\n",
        "    @classmethod\n",
        "    def eval(cls, arg):\n",
        "        return sym.Heaviside(arg + sym.S.Half) - sym.Heaviside(arg - sym.S.Half)\n",
        "\n",
        "def plot_signals(x_axis, x, h, ylabel, xlabel):#función para graficar convolución\n",
        "    p1 = sym.plot(x, (x_axis, -5, 5), show=False, line_color='b', ylabel=ylabel, xlabel=xlabel)\n",
        "    p2 = sym.plot(h, (x_axis, -5, 5), show=False, line_color='r')\n",
        "    p1.extend(p2)\n",
        "    p1.show()\n",
        "  \n",
        "\n",
        "h = sym.exp(tau) * sym.Heaviside(tau)\n",
        "x_1 = sym.Heaviside(-4 + 0.5) - sym.Heaviside(-4 - 0.5)\n",
        "V=h*x_1\n",
        "GG_1=sym.integrate(V,(tau,-sym.oo,sym.oo))\n",
        "x_2 = sym.Heaviside(0.5 + 0.5) - sym.Heaviside(-0.5- 0.5)\n",
        "V_2=h*x_2\n",
        "GG_2=sym.integrate(V_2,(tau,-sym.oo,sym.oo))\n",
        "x_3 = sym.Heaviside(5 + 0.5) - sym.Heaviside(5- 0.5)\n",
        "V_3=h*x_3\n",
        "GG_3=sym.integrate(V_3,(tau,-sym.oo,sym.oo))\n",
        "print('El valor de t<0 sin traslape:',GG_1)\n",
        "print('El valor de 0<=t < 1 traslape parcial',GG_2)\n",
        "print('El valor de t > 0 traslape completo',GG_3)"
      ],
      "execution_count": 1,
      "outputs": [
        {
          "output_type": "stream",
          "name": "stdout",
          "text": [
            "El valor de t<0 sin traslape: 0\n",
            "El valor de 0<=t < 1 traslape parcial oo\n",
            "El valor de t > 0 traslape completo 0\n"
          ]
        }
      ]
    }
  ]
}