{
  "nbformat": 4,
  "nbformat_minor": 0,
  "metadata": {
    "colab": {
      "name": "Ejercicios Cuaderno Convolucion.ipynb",
      "provenance": [],
      "authorship_tag": "ABX9TyObgDYj1eRuhDW17345YV/h",
      "include_colab_link": true
    },
    "kernelspec": {
      "name": "python3",
      "display_name": "Python 3"
    },
    "language_info": {
      "name": "python"
    }
  },
  "cells": [
    {
      "cell_type": "markdown",
      "metadata": {
        "id": "view-in-github",
        "colab_type": "text"
      },
      "source": [
        "<a href=\"https://colab.research.google.com/github/JuanCamiloGB/Signals-and-Systems/blob/master/Taller01/5.%20Sistemas%20Lineales%20Invariantes%20en%20el%20tiempo%20(SLIT)/a)%20Ejercicios_Cuaderno_Convolucion.ipynb\" target=\"_parent\"><img src=\"https://colab.research.google.com/assets/colab-badge.svg\" alt=\"Open In Colab\"/></a>"
      ]
    },
    {
      "cell_type": "markdown",
      "metadata": {
        "id": "6orqEOtjSzFP"
      },
      "source": [
        "#Ejercicio\n",
        "la evaluación de las integrales de convolución para los tres casos se deja abierta como un ejercicio. Tenga en cuenta que, en el primer caso, no se superponen, es decir que $y(t)=0$ para $t<0$."
      ]
    },
    {
      "cell_type": "code",
      "metadata": {
        "id": "jNjYGVVcSqkB"
      },
      "source": [
        "%matplotlib inline\n",
        "import sympy as sym\n",
        "sym.init_printing()"
      ],
      "execution_count": null,
      "outputs": []
    }
  ]
}