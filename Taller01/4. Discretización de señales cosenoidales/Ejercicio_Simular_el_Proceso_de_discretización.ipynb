{
  "nbformat": 4,
  "nbformat_minor": 0,
  "metadata": {
    "colab": {
      "name": "4. Discretización de señales cosenoidales.ipynb",
      "provenance": [],
      "collapsed_sections": [],
      "authorship_tag": "ABX9TyM8/6eCw07lAOLNWLFHczen",
      "include_colab_link": true
    },
    "kernelspec": {
      "name": "python3",
      "display_name": "Python 3"
    },
    "language_info": {
      "name": "python"
    }
  },
  "cells": [
    {
      "cell_type": "markdown",
      "metadata": {
        "id": "view-in-github",
        "colab_type": "text"
      },
      "source": [
        "<a href=\"https://colab.research.google.com/github/JuanCamiloGB/Signals-and-Systems/blob/master/Taller01/4.%20Discretizaci%C3%B3n%20de%20se%C3%B1ales%20cosenoidales/Ejercicio_Simular_el_Proceso_de_discretizaci%C3%B3n.ipynb\" target=\"_parent\"><img src=\"https://colab.research.google.com/assets/colab-badge.svg\" alt=\"Open In Colab\"/></a>"
      ]
    },
    {
      "cell_type": "markdown",
      "metadata": {
        "id": "bdwr8yQ-90au"
      },
      "source": [
        "#4. Discretización de señales cosenoidales"
      ]
    },
    {
      "cell_type": "code",
      "metadata": {
        "id": "JZ2XeamI9vcB"
      },
      "source": [
        "import numpy as np\n",
        "import matplotlib.pyplot as plt\n",
        "from numpy import matlib as mb"
      ],
      "execution_count": null,
      "outputs": []
    },
    {
      "cell_type": "markdown",
      "metadata": {
        "id": "8mh1x64v-2YT"
      },
      "source": [
        "###a) Se pretende muestrear la señal  \n",
        "#$$x(t)=10cos(\\Omega t);  t\\in[0,T];  \\Omega=2\\pi F;  F=1/T; F=50 Hz $$ \n",
        "###Se emplea un sistema de discretización con frecuencia de muestreo \n",
        "#$$ Fs=80Hz$$\n",
        "###estime la señal capturada. Realice una simulación en Python del proceso de discretización.\n"
      ]
    },
    {
      "cell_type": "code",
      "metadata": {
        "id": "vRm1QBav_WDr"
      },
      "source": [
        ""
      ],
      "execution_count": null,
      "outputs": []
    },
    {
      "cell_type": "markdown",
      "metadata": {
        "id": "XlOiaokV_btd"
      },
      "source": [
        "###Se tiene un microprocesador de 4 bits con entrada análoga entre -3.3 y 3.3 [v]. Describa las condiciones necesarias para que el microprocesador pueda digitalizarla señal \n",
        "#$$x(t)=30cos(100\\pi t)\\ $$ "
      ]
    },
    {
      "cell_type": "code",
      "metadata": {
        "id": "BXJEU_yiAyzk"
      },
      "source": [
        ""
      ],
      "execution_count": null,
      "outputs": []
    },
    {
      "cell_type": "markdown",
      "metadata": {
        "id": "SilKFe9AAzJi"
      },
      "source": [
        "###Se tiene un sistema de discretización con frecuencia de muestreo \n",
        "#$$Fs=40Hz$$ aplicado a las señales\n",
        "#$$x_1(t)=cos(20\\pi t)\\hspace{2mm}y\\hspace{2mm}x_2(t)=cos(100\\pi t)$$\n",
        "###Implemente una simulación en Python del proceso de discretización."
      ]
    },
    {
      "cell_type": "code",
      "metadata": {
        "id": "EBit1wYpBaoF"
      },
      "source": [
        ""
      ],
      "execution_count": null,
      "outputs": []
    },
    {
      "cell_type": "markdown",
      "metadata": {
        "id": "EIlXBmCFBbKf"
      },
      "source": [
        "### Cuál es la frecuencia de muestreo límite apropiada para discretizar la señal\n",
        "#$$x(t) = 3 cos(1000\\pi t) + 5 sin(6000\\pi t) + 10 cos(14000\\pi t)$$\n",
        "###Si se utiliza una frecuencia de muestreo de\n",
        "#$$ 5kHz $$\n",
        "###cuál es la señal discreta obtenida?"
      ]
    },
    {
      "cell_type": "code",
      "metadata": {
        "id": "sChpEsX4B7iN"
      },
      "source": [
        ""
      ],
      "execution_count": null,
      "outputs": []
    },
    {
      "cell_type": "markdown",
      "metadata": {
        "id": "vt-CUJM4CNxo"
      },
      "source": [
        "###Demuestre que funciones cosenoidales con frecuencia de oscilación \n",
        "#$$ Fk = Fo + kFs; t\\in Z$$\n",
        "###No son distinguibles de la funcion \n",
        "#$$Cos(2\\pi Fot)$$\n",
        "###al utilizar un sistema de discretización con frecuencia de muestreo\n",
        "#$$Fs$$\n",
        "###Realice simulaciones para\n",
        "#$$K\\in [0,\\pm 1,\\pm 2,\\pm 3]$$"
      ]
    }
  ]
}