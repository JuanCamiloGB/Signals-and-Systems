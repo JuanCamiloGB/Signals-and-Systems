{
  "nbformat": 4,
  "nbformat_minor": 0,
  "metadata": {
    "colab": {
      "name": "4. Discretización de señales cosenoidales.ipynb",
      "provenance": [],
      "authorship_tag": "ABX9TyMz0JcVytyolNb7ySgqVe96",
      "include_colab_link": true
    },
    "kernelspec": {
      "name": "python3",
      "display_name": "Python 3"
    },
    "language_info": {
      "name": "python"
    }
  },
  "cells": [
    {
      "cell_type": "markdown",
      "metadata": {
        "id": "view-in-github",
        "colab_type": "text"
      },
      "source": [
        "<a href=\"https://colab.research.google.com/github/JuanCamiloGB/Signals-and-Systems/blob/master/Taller01/4_Discretizaci%C3%B3n_de_se%C3%B1ales_cosenoidales.ipynb\" target=\"_parent\"><img src=\"https://colab.research.google.com/assets/colab-badge.svg\" alt=\"Open In Colab\"/></a>"
      ]
    },
    {
      "cell_type": "markdown",
      "metadata": {
        "id": "bdwr8yQ-90au"
      },
      "source": [
        "#4. Discretización de señales cosenoidales"
      ]
    },
    {
      "cell_type": "code",
      "metadata": {
        "id": "JZ2XeamI9vcB"
      },
      "source": [
        ""
      ],
      "execution_count": null,
      "outputs": []
    }
  ]
}
