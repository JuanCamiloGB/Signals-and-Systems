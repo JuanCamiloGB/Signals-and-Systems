{
  "nbformat": 4,
  "nbformat_minor": 0,
  "metadata": {
    "colab": {
      "name": "EJE04T01.ipynb",
      "private_outputs": true,
      "provenance": [],
      "collapsed_sections": [],
      "include_colab_link": true
    },
    "kernelspec": {
      "name": "python3",
      "display_name": "Python 3"
    },
    "language_info": {
      "name": "python"
    }
  },
  "cells": [
    {
      "cell_type": "markdown",
      "metadata": {
        "id": "view-in-github",
        "colab_type": "text"
      },
      "source": [
        "<a href=\"https://colab.research.google.com/github/JuanCamiloGB/Signals-and-Systems/blob/master/EJE04T01.ipynb\" target=\"_parent\"><img src=\"https://colab.research.google.com/assets/colab-badge.svg\" alt=\"Open In Colab\"/></a>"
      ]
    },
    {
      "cell_type": "code",
      "metadata": {
        "id": "1el70MyFosQp"
      },
      "source": [
        "import sympy as sym\n",
        "\n",
        "t = sym.symbols('t', real=True)\n",
        "f = (t**4)*sym.exp(-sym.cos(2*t))*(sym.cos(-2*t))\n",
        "integrate = sym.integrate(sym.DiracDelta(2*t-5*sym.pi)*f,(t,-sym.oo,sym.oo))\n",
        "integrate"
      ],
      "execution_count": null,
      "outputs": []
    }
  ]
}
