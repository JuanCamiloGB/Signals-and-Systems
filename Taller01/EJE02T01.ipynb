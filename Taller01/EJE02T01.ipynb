{
  "nbformat": 4,
  "nbformat_minor": 0,
  "metadata": {
    "colab": {
      "name": "EJE02T01.ipynb",
      "private_outputs": true,
      "provenance": [],
      "collapsed_sections": [],
      "include_colab_link": true
    },
    "kernelspec": {
      "name": "python3",
      "display_name": "Python 3"
    },
    "language_info": {
      "name": "python"
    }
  },
  "cells": [
    {
      "cell_type": "markdown",
      "metadata": {
        "id": "view-in-github",
        "colab_type": "text"
      },
      "source": [
        "<a href=\"https://colab.research.google.com/github/JuanCamiloGB/Signals-and-Systems/blob/master/Taller01/EJE02T01.ipynb\" target=\"_parent\"><img src=\"https://colab.research.google.com/assets/colab-badge.svg\" alt=\"Open In Colab\"/></a>"
      ]
    },
    {
      "cell_type": "markdown",
      "metadata": {
        "id": "cpzhIlpperTr"
      },
      "source": [
        "#EJERCICIO\n",
        "Genere un rectificador de onda completa utilizando la función  sgn(t)"
      ]
    },
    {
      "cell_type": "code",
      "metadata": {
        "id": "_9zzwtsNHk9G"
      },
      "source": [
        "import sympy as sym\n",
        "import matplotlib.pyplot as plt\n",
        "sym.init_printing()\n",
        "t, sigma, omega = sym.symbols('t sigma omega', real=True)\n",
        "sgn = sym.sign(t)\n",
        "x = sym.cos(omega*t)*sym.sign(sym.cos(omega*t))\n",
        "sym.plot(x.subs(omega,1), (t, -8, 8), ylim=[-1.2, 1.2], ylabel=r'$x(t)$')\n",
        "\n"
      ],
      "execution_count": null,
      "outputs": []
    }
  ]
}