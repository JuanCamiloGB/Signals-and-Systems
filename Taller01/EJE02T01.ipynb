{
  "nbformat": 4,
  "nbformat_minor": 0,
  "metadata": {
    "colab": {
      "name": "EJE02T01.ipynb",
      "private_outputs": true,
      "provenance": [],
      "collapsed_sections": [],
      "include_colab_link": true
    },
    "kernelspec": {
      "name": "python3",
      "display_name": "Python 3"
    },
    "language_info": {
      "name": "python"
    }
  },
  "cells": [
    {
      "cell_type": "markdown",
      "metadata": {
        "id": "view-in-github",
        "colab_type": "text"
      },
      "source": [
        "<a href=\"https://colab.research.google.com/github/JuanCamiloGB/Signals-and-Systems/blob/master/Taller01/EJE02T01.ipynb\" target=\"_parent\"><img src=\"https://colab.research.google.com/assets/colab-badge.svg\" alt=\"Open In Colab\"/></a>"
      ]
    },
    {
      "cell_type": "markdown",
      "metadata": {
        "id": "91bYuVTo9nyk"
      },
      "source": [
        "#EJERCICIO \n",
        "Pruebe otros valores de omega y sigma para crear señales con amplitud creciente/decreciente/constante y diferentes frecuencias angulares.\n"
      ]
    },
    {
      "cell_type": "code",
      "metadata": {
        "id": "bCTgcv4F9sko"
      },
      "source": [
        ""
      ],
      "execution_count": null,
      "outputs": []
    },
    {
      "cell_type": "markdown",
      "metadata": {
        "id": "cpzhIlpperTr"
      },
      "source": [
        "#EJERCICIO\n",
        "Genere un rectificador de onda completa utilizando la función  sgn(t)"
      ]
    },
    {
      "cell_type": "code",
      "metadata": {
        "id": "_9zzwtsNHk9G"
      },
      "source": [
        "import sympy as sym\n",
        "import matplotlib.pyplot as plt\n",
        "sym.init_printing()\n",
        "t,to,n,m,k =sym.symbols('t to n m k',real=True)\n",
        "t, sigma, omega = sym.symbols('t sigma omega', real=True)\n",
        "x = sym.sin(omega*t)\n",
        "y = sym.sign(x)\n",
        "z = x*y\n",
        "#Rectificador de onda completa para el Seno\n",
        "sym.plot(z.subs(omega,2), (t, -4, 4), ylim=[-1.2, 1.2], ylabel=r'$x(t)$')\n",
        "#Rectificador de onda completa para el coseno\n",
        "X = sym.cos(omega*t)*sym.sign(sym.cos(omega*t))\n",
        "sym.plot(X.subs(omega,2), (t, -4, 4), ylim=[-1.2, 1.2], ylabel=r'$x(t)$')\n",
        "\n"
      ],
      "execution_count": null,
      "outputs": []
    }
  ]
}