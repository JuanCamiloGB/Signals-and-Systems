{
  "nbformat": 4,
  "nbformat_minor": 0,
  "metadata": {
    "colab": {
      "name": "4.1) Consultas.ipynb",
      "provenance": [],
      "collapsed_sections": [],
      "authorship_tag": "ABX9TyN0QGPVp/gATb7+GK5wLTji",
      "include_colab_link": true
    },
    "kernelspec": {
      "name": "python3",
      "display_name": "Python 3"
    },
    "language_info": {
      "name": "python"
    }
  },
  "cells": [
    {
      "cell_type": "markdown",
      "metadata": {
        "id": "view-in-github",
        "colab_type": "text"
      },
      "source": [
        "<a href=\"https://colab.research.google.com/github/JuanCamiloGB/Signals-and-Systems/blob/master/Taller02/3.%20Transformada%20de%20Fourier/4_1)_Consultas.ipynb\" target=\"_parent\"><img src=\"https://colab.research.google.com/assets/colab-badge.svg\" alt=\"Open In Colab\"/></a>"
      ]
    },
    {
      "cell_type": "markdown",
      "source": [
        "### 4.1 Explique las semejanzas y diferencias entre la serie de Fourier    (exponencial, trigonometrica y compacta) y la transformada de Fourier, transformada de Fourier en tiempo discreto (DTFT) y transformada discreta de Fourier (DFT). Considere las diferentes combinaciones entre: espectro continuo y discreto y señal en tiempo continuo y discreto. Además, consulte en qué consiste el algoritmo Fast Fourier Transform - (FFT) y su utilidad para el cálculo de la transformada discreta de Fourier. Explique en detalle el algoritmo FFT y su costo computacional vs el de la transformada discreta."
      ],
      "metadata": {
        "id": "FTbMbvv99dm3"
      }
    },
    {
      "cell_type": "markdown",
      "source": [
        "###Serie de Fourier\n",
        "- La serie de Fourier se utiliza para representar una función periódica mediante una suma discreta de exponenciales complejos\n",
        "\n",
        "###Transformada de Fourier\n",
        "- La transformada de Fourier se utiliza para representar una función general no periódica mediante una superposición continua o integral de exponenciales complejos. La transformada de Fourier puede considerarse como el límite de la serie de Fourier de una función cuyo período se aproxima al infinito, por lo que los límites de integración cambian de un período para\n",
        "$t\\in(-\\infty,+\\infty)$: \n",
        "\n",
        "\\begin{equation}\n",
        "X(\\omega) = \\int_{-\\infty}^{+\\infty}{x(t)e^{-j\\omega t}dt}.\n",
        "\\end{equation}\n",
        "\n",
        "###Semejanzas \n",
        "- Ambas funciones solamente pueden recibir señales de energia y potencia, lo que significa que no divergen\n",
        "- Transportan funciones del dominio del tiempo al de la frecuencia \n",
        "\n",
        "###Diferencias \n",
        "- Tanto la serie de fourier como la transformada de fourier pueden analizarse en un tiempo definido, pero esta ultima se puede extender en todo el dominio del tiempo. \n",
        "- El espectro de la serie de Fourier en un elemento discreto el cual depende de la cantidad de armonicos que se están evaluando, mientras que la transformada de fourier con su densidad espectral evaluan todos los posibles valores que puede tener el espectro, dando así una variable continua. \n",
        "\n",
        "\n",
        "\n",
        "\n"
      ],
      "metadata": {
        "id": "0hZCp2yu97sH"
      }
    },
    {
      "cell_type": "markdown",
      "source": [
        "###The Discrete-Time Fourier Transform (DTFT)\n",
        "Cuando un sistema en tiempo discreto es lineal e invariante en el tiempo (SLIT), se destaca una representación como la más útil. Se llama Transformada de Fourier de tiempo discreto (DTFT) y se basa en el conjunto de señales exponenciales complejas {${e^{j\\omega_0n}}$}.\n",
        "\n",
        "\n",
        "- la DTFT de $x[n]$ está dada por:\n",
        "\n",
        "\\begin{equation}\n",
        "X[e^{j\\omega}] \\equiv \\mathcal{F}[x_{[n]}] = \\sum_{n=-∞}^{∞} x_{[n]} e^{-j\\omega n}\n",
        "\\end{equation}\n",
        "\n",
        "### Discrete Fourier Transform (DFT)\n",
        "la transformada discreta de Fourier (DFT) es una de las formas específicas de Análisis de Fourier. Como tal, se transforma una función a otra, que se llama representación en el dominio de frecuencia, o simplemente la DFT, de la función original (que es a menudo una función en el dominio del tiempo).\n",
        "\n",
        "la DFT es ideal para procesamiento de la información almacenada en los ordenadores . En particular, la DFT se emplea extensamente en procesamiento de señales y campos relacionados para analizar las frecuencias de una muestreado señal, para resolver ecuaciones diferenciales parciales , y para realizar otras operaciones como circunvoluciones. La DFT se puede calcular de manera eficiente en la práctica el uso de un transformada rápida de Fourier (FFT) algoritmo.\n",
        "\n",
        "\\begin{equation}\n",
        "X_{k} = \\sum_{n=0}^{N-1} f(u) e^{-j\\frac{2\\pi un}{N}}  \n",
        "\\end{equation}\n"
      ],
      "metadata": {
        "id": "HAoD3zUnHHEG"
      }
    },
    {
      "cell_type": "markdown",
      "source": [
        "### Fast Fourier Transform (FFT)\n",
        "\n",
        "Es un algoritmo eficiente que permite calcular la transformada de Fourier discreta (DFT) y su inversa. La FFT es de gran importancia en una amplia variedad de aplicaciones, desde el tratamiento digital de señales y filtrado digital en general a la resolución de ecuaciones en derivadas parciales o los algoritmos de multiplicación rápida de grandes enteros. Cuando se habla del tratamiento digital de señales, el algoritmo FFT impone algunas limitaciones en la señal y en el espectro resultante ya que la señal muestreada y que se va a transformar debe consistir de un número de muestras igual a una potencia de dos. La mayoría de los analizadores de FFT permiten la transformación de 512, 1024, 2048 o 4096 muestras. El rango de frecuencias cubierto por el análisis FFT depende de la cantidad de muestras recogidas y de la proporción de muestreo.\n",
        "En este caso, la transformada discreta se define como:\n",
        " \n",
        "es decir, la DFT es una discretización en frecuencia de la DTFT:\n",
        " y con respecto a la serie de Fourier la DFT se puede relacionar mediante:\n",
        " \n",
        "No obstante, en la práctica el cálculo de las sumatorias es costoso computacionalmente, a medida que K aumenta. Por consiguiente, se cuentan con paquetes computacionales que optimizan el cálculo de la DFT de forma rápida, lo que conlleva a la comúnmente conocida transformada rápida de Fourier (Fast Fourier Transform - FFT).\n"
      ],
      "metadata": {
        "id": "f3Sfoa0RMVUU"
      }
    }
  ]
}