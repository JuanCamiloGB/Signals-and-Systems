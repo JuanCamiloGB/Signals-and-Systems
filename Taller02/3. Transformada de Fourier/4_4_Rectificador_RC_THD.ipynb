{
  "nbformat": 4,
  "nbformat_minor": 0,
  "metadata": {
    "colab": {
      "name": "4.4_Rectificador_RC_THD.ipynb",
      "private_outputs": true,
      "provenance": [],
      "collapsed_sections": [],
      "include_colab_link": true
    },
    "kernelspec": {
      "name": "python3",
      "display_name": "Python 3"
    },
    "language_info": {
      "name": "python"
    }
  },
  "cells": [
    {
      "cell_type": "markdown",
      "metadata": {
        "id": "view-in-github",
        "colab_type": "text"
      },
      "source": [
        "<a href=\"https://colab.research.google.com/github/JuanCamiloGB/Signals-and-Systems/blob/master/Taller02/3.%20Transformada%20de%20Fourier/4_4_Rectificador_RC_THD.ipynb\" target=\"_parent\"><img src=\"https://colab.research.google.com/assets/colab-badge.svg\" alt=\"Open In Colab\"/></a>"
      ]
    },
    {
      "cell_type": "markdown",
      "source": [
        "##Aplicación en circuitos eléctricos\n",
        "#### Consulte en que consiste la distorsión total de armónicos (Total Harmonic Distortion-(THD)) y el factor de potencia en un circuito eléctrico. ¿Como puede calcularse el THD desde la FFT? ¿Como puede calcularse el factor de potencia con base al THD? Genere un ejemplo ilustrativo en su software de preferencia para el cálculo del THD y el factor de potencia para un rectificador de onda completa con carga: i) netamente resistiva y ii) carga RC en serie. Establezca las condiciones necesarias para las simulaciones y pruebe con diferentes valores de R y C. Discuta los resultados obtenidos"
      ],
      "metadata": {
        "id": "ORwGh-PGLp05"
      }
    },
    {
      "cell_type": "markdown",
      "source": [
        "###La Distorsión Armónica Total (THD): \n",
        "Es una medida de cuánto se «distorsiona» o se cambia la forma de onda del voltaje o de la corriente de su forma de onda sinusoidal convencional. La energía proviene de su suministrador eléctrico en forma de onda sinusoidal limpia. A medida que atraviesa diferentes tipos de cargas, el voltaje y la corriente se utilizan a diferentes tasas, lo que provoca que la distorsión se refleje desde la carga hacia el sistema.\n",
        "La distorsión ocurre principalmente en múltiplos de la frecuencia de la portadora (50 o 60 Hz) que se conocen como armónicos. Por ejemplo, el 3er armónico en una línea de 60 Hz sería de 180 Hz, el 7 ° sería 420 Hz. La THD es el porcentaje acumulado de distorsión para todos los tipos de armónicos en relación a la potencia total. La distorsión se mide por separado para la corriente (THDI) y el voltaje (THDV).\n",
        "\n",
        "###Factor de Potencia: \n",
        "\n",
        "Los receptores eléctricos transforman la energía eléctrica en otro tipo de energía, por ejemplo en energía luminosa (una lámpara), calorífica (un radiador o una plancha), motriz o mecánica (un motor) o sonora (un timbre). El problema es que en estos receptores toda la energía eléctrica que consumen, la mayoría de las veces, no se transforma por completo en energía útil (luz, calor, etc..\n",
        " \n",
        "El factor de potencia es una medida de la eficiencia o rendimiento eléctrico de un receptor o sistema eléctrico, En términos simples, este indicador mide el aprovechamiento de la energia, a la hora de convertirlo en potencia útil, como luz, calor o movimiento mecánico.\n",
        "\n",
        "En términos técnicos, es la ratio de potencia activa o útil medida en kilovatios (kW) respecto a la potencia aparente total (potencia activa y reactiva) medida en kilovoltio-amperios.\n",
        "\n",
        "$Factor \\ de \\ Potencia = \\frac{Potencia \\ activa \\ (P'[W]')}{Potencia \\ aparente \\ (S'[VA]')}$\n",
        "\n",
        "NOTA: a mayor potencia activa y menor potencia reactiva tendremos un factor de potencia más cercano a 1 (el ideal)."
      ],
      "metadata": {
        "id": "6VkIkslWLtUO"
      }
    },
    {
      "cell_type": "code",
      "execution_count": null,
      "metadata": {
        "id": "fj9Qlq0VLnw9"
      },
      "outputs": [],
      "source": [
        "#paquetes de para simulación\n",
        "import numpy as np\n",
        "import scipy\n",
        "import matplotlib.pyplot as plt\n",
        "%matplotlib inline\n",
        "import scipy.signal as sig\n",
        "import scipy.optimize as opt\n",
        "from IPython.display import Image\n",
        "import sympy as sym \n",
        "sym.init_session() "
      ]
    },
    {
      "cell_type": "markdown",
      "source": [
        "# i) netamente resistivo "
      ],
      "metadata": {
        "id": "0bDgB2eQQ2X9"
      }
    },
    {
      "cell_type": "code",
      "source": [
        "s = sym.symbols('s', complex=True)\n",
        "t, R, L, C = sym.symbols('t R L C', positive=True)\n",
        "X = sym.Function('X')(s)\n",
        "\n",
        "Y = 1/(R*C*s + 1) * X\n",
        "Y"
      ],
      "metadata": {
        "id": "8KMFtieyMGA0"
      },
      "execution_count": null,
      "outputs": []
    },
    {
      "cell_type": "code",
      "source": [
        "R_v = 1000 #valores de simulacion de R\n",
        "C_v =  0 # valores de simulacion de C\n",
        "Y_RC = Y.subs(R, R_v).subs(C, C_v)\n",
        "Y_RC"
      ],
      "metadata": {
        "id": "JQovRO7KMOvs"
      },
      "execution_count": null,
      "outputs": []
    },
    {
      "cell_type": "code",
      "source": [
        "num = np.array([1]) #coeficientes del numerador de la funcion de transferencia como numpy array\n",
        "den = np.array([R_v*C_v,1])#coeficientes del denominador de la funcion de transferencia como numpy array\n",
        "G_n = sig.TransferFunction(num, den) #funcion de transferencia en\n",
        "print(num)\n",
        "print(den)"
      ],
      "metadata": {
        "id": "LN_c66UrMTWL"
      },
      "execution_count": null,
      "outputs": []
    },
    {
      "cell_type": "code",
      "source": [
        "Fo = 60 #frec alimentación\n",
        "Fs = 30*Fo #frecuencia muestreo\n",
        "To = 1/Fo #periodo fundamental\n",
        "Ts = 1/Fs #periodo muestreo\n",
        "t = np.arange(0, 5*To,Ts) # se simulan 5 peridos de alimentación con un muestreo segun Ts\n",
        "A = 120 #amplitud entrada\n",
        "#función de entrada aproximada como onda senoidal rectificada completa\n",
        "in_o = A*(np.sin(2*np.pi*Fo*t))\n",
        "rec_c = sig.square(2*np.pi*Fo*t)#función tren de pulsos para simular señal rectificada \n",
        "#Para rectificador de media onda: \n",
        "rec_m = 0.5*(sig.square(2*numpy.pi*Fo*t)+1)\n",
        "in_ = in_o * rec_c #si se quiere probar con rec media onda multiplicar por rec_m\n",
        "out = G_n.output(in_, T=t)[1] #evaluar salida ante entrada rectificada mediante aproximacion numérica de scipy"
      ],
      "metadata": {
        "id": "ye0sQqq4MY1b"
      },
      "execution_count": null,
      "outputs": []
    },
    {
      "cell_type": "code",
      "source": [
        "#señales de alimentación y tren de pulsos\n",
        "plt.plot(t,in_o,label='Alimentación')\n",
        "plt.legend()\n",
        "plt.show()"
      ],
      "metadata": {
        "id": "U6XVIi3zMdoB"
      },
      "execution_count": null,
      "outputs": []
    },
    {
      "cell_type": "code",
      "source": [
        "plt.plot(t,rec_c,label='Tren Pulsos')\n",
        "plt.legend()\n",
        "plt.show()"
      ],
      "metadata": {
        "id": "gIG9gM3hMiAc"
      },
      "execution_count": null,
      "outputs": []
    },
    {
      "cell_type": "code",
      "source": [
        "plt.plot(t, in_,label='In(t)')#entrada rectificada\n",
        "plt.plot(t, out,label='Out(t)')#salida del circuito\n",
        "plt.xlabel('t [s]')\n",
        "plt.ylabel('out(t)')\n",
        "plt.show()"
      ],
      "metadata": {
        "id": "dCFAncfJMkjK"
      },
      "execution_count": null,
      "outputs": []
    },
    {
      "cell_type": "code",
      "source": [
        "vfre = np.fft.rfftfreq(len(out),1/Fs) #vector de frecuencia en Hz segun tamaño del vector y tiempo de muestreo\n",
        "Xf = np.fft.rfft(out)\n",
        "\n",
        "plt.plot(vfre,abs(Xf/len(out)))\n",
        "plt.xlabel('Frecuencia [Hz]')\n",
        "plt.ylabel('$|X(f)|$')\n",
        "plt.show()"
      ],
      "metadata": {
        "id": "e7UhBGhsMppx"
      },
      "execution_count": null,
      "outputs": []
    },
    {
      "cell_type": "markdown",
      "source": [
        "  ### Conclusiones: \n",
        "  Como es un circuito puramente resistivo, al no tener elementos reactivos, la corriente y la tension se encuentran en fase $\\theta = 0$, por lo tanto el factor de potencia es 1."
      ],
      "metadata": {
        "id": "50pGS4fMUov1"
      }
    },
    {
      "cell_type": "markdown",
      "source": [
        "# ii) Carga RC en serie"
      ],
      "metadata": {
        "id": "z_e5kZ2GQ6ne"
      }
    },
    {
      "cell_type": "code",
      "source": [
        "s = sym.symbols('s', complex=True)\n",
        "t, R, L, C = sym.symbols('t R L C', positive=True)\n",
        "X = sym.Function('X')(s)\n",
        "\n",
        "Y = 1/(R*C*s + 1) * X\n",
        "Y"
      ],
      "metadata": {
        "id": "ALHjTUcBRI0e"
      },
      "execution_count": null,
      "outputs": []
    },
    {
      "cell_type": "code",
      "source": [
        "R_v = 1000 #valores de simulacion de R\n",
        "C_v =  1e-6 # valores de simulacion de C\n",
        "Y_RC = Y.subs(R, R_v).subs(C, C_v)\n",
        "Y_RC"
      ],
      "metadata": {
        "id": "r62yiLPgRPS3"
      },
      "execution_count": null,
      "outputs": []
    },
    {
      "cell_type": "code",
      "source": [
        "num = np.array([1]) #coeficientes del numerador de la funcion de transferencia como numpy array\n",
        "den = np.array([R_v*C_v,1])#coeficientes del denominador de la funcion de transferencia como numpy array\n",
        "G_n = sig.TransferFunction(num, den) #funcion de transferencia en\n",
        "print(num)\n",
        "print(den)"
      ],
      "metadata": {
        "id": "GLWXo6QqRecf"
      },
      "execution_count": null,
      "outputs": []
    },
    {
      "cell_type": "code",
      "source": [
        "Fo = 60 #frec alimentación\n",
        "Fs = 30*Fo #frecuencia muestreo\n",
        "To = 1/Fo #periodo fundamental\n",
        "Ts = 1/Fs #periodo muestreo\n",
        "t = np.arange(0, 5*To,Ts) # se simulan 5 peridos de alimentación con un muestreo segun Ts\n",
        "A = 120 #amplitud entrada\n",
        "#función de entrada aproximada como onda senoidal rectificada completa\n",
        "in_o = A*(np.sin(2*np.pi*Fo*t))\n",
        "rec_c = sig.square(2*np.pi*Fo*t)#función tren de pulsos para simular señal rectificada \n",
        "#Para rectificador de media onda: \n",
        "rec_m = 0.5*(sig.square(2*numpy.pi*Fo*t)+1)\n",
        "in_ = in_o * rec_c #si se quiere probar con rec media onda multiplicar por rec_m\n",
        "out = G_n.output(in_, T=t)[1] #evaluar salida ante entrada rectificada mediante aproximacion numérica de scipy"
      ],
      "metadata": {
        "id": "ddmadnPbRpPZ"
      },
      "execution_count": null,
      "outputs": []
    },
    {
      "cell_type": "code",
      "source": [
        "#señales de alimentación y tren de pulsos\n",
        "plt.plot(t,in_o,label='Alimentación')\n",
        "plt.legend()\n",
        "plt.show()"
      ],
      "metadata": {
        "id": "szskut2oRwFl"
      },
      "execution_count": null,
      "outputs": []
    },
    {
      "cell_type": "code",
      "source": [
        "plt.plot(t,rec_c,label='Tren Pulsos')\n",
        "plt.legend()\n",
        "plt.show()"
      ],
      "metadata": {
        "id": "gRasyDo1Rzne"
      },
      "execution_count": null,
      "outputs": []
    },
    {
      "cell_type": "code",
      "source": [
        "plt.plot(t, in_,label='In(t)')#entrada rectificada\n",
        "plt.plot(t, out,label='Out(t)')#salida del circuito\n",
        "plt.xlabel('t [s]')\n",
        "plt.ylabel('out(t)')\n",
        "plt.show()"
      ],
      "metadata": {
        "id": "hkc8Vhm7R4I1"
      },
      "execution_count": null,
      "outputs": []
    },
    {
      "cell_type": "code",
      "source": [
        "vfre = np.fft.rfftfreq(len(out),1/Fs) #vector de frecuencia en Hz segun tamaño del vector y tiempo de muestreo\n",
        "Xf = np.fft.rfft(out)\n",
        "\n",
        "plt.plot(vfre,abs(Xf/len(out)))\n",
        "plt.xlabel('Frecuencia [Hz]')\n",
        "plt.ylabel('$|X(f)|$')\n",
        "plt.show()"
      ],
      "metadata": {
        "id": "svRfqF4oR8b0"
      },
      "execution_count": null,
      "outputs": []
    }
  ]
}