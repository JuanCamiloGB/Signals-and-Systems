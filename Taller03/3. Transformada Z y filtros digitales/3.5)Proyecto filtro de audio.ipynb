{
  "nbformat": 4,
  "nbformat_minor": 0,
  "metadata": {
    "colab": {
      "name": "Proyecto.ipynb",
      "private_outputs": true,
      "provenance": [],
      "collapsed_sections": [],
      "include_colab_link": true
    },
    "kernelspec": {
      "name": "python3",
      "display_name": "Python 3"
    },
    "language_info": {
      "name": "python"
    }
  },
  "cells": [
    {
      "cell_type": "markdown",
      "metadata": {
        "id": "view-in-github",
        "colab_type": "text"
      },
      "source": [
        "<a href=\"https://colab.research.google.com/github/JuanCamiloGB/Signals-and-Systems/blob/master/Taller03/3.%20Transformada%20Z%20y%20filtros%20digitales/3.5)Proyecto%20filtro%20de%20audio.ipynb\" target=\"_parent\"><img src=\"https://colab.research.google.com/assets/colab-badge.svg\" alt=\"Open In Colab\"/></a>"
      ]
    },
    {
      "cell_type": "code",
      "execution_count": null,
      "metadata": {
        "id": "ZSKLSm6kLmPI"
      },
      "outputs": [],
      "source": [
        "import sympy as sym\n",
        "import numpy as np\n",
        "import matplotlib.pyplot as plt\n",
        "from scipy import signal\n",
        "from sympy import DiracDelta, S\n",
        "%matplotlib inline\n",
        "import warnings\n",
        "warnings.filterwarnings(\"ignore\")\n",
        "sym.init_printing()"
      ]
    },
    {
      "cell_type": "code",
      "source": [
        "y! pip install youtube-dl\n",
        "link=input(\"ingrese el link de su cancion: \" )\n",
        "! youtube-dl --extract-audio -o \"audio2.%(mp3)s\" --audio-format mp3  {link}\n",
        "\n",
        "!ffmpeg -i audio2.mp3 output2.wav\n",
        "!pip install soundfile\n",
        "import soundfile as sf\n",
        "nombre_out = \"output2.wav\"\n",
        "x, fs = sf.read(nombre_out)\n"
      ],
      "metadata": {
        "id": "KL-LufjcLwX8"
      },
      "execution_count": null,
      "outputs": []
    },
    {
      "cell_type": "code",
      "source": [
        "fs"
      ],
      "metadata": {
        "id": "3m5REmLARHl3"
      },
      "execution_count": null,
      "outputs": []
    },
    {
      "cell_type": "code",
      "source": [
        "print('Frecuencia de muestreo %.2f[Hz]\\naudio %s' % (fs,nombre_out))\n",
        "xpro = x.copy() \n",
        "ti = int(input(\"ingrese el segundo en que desea iniciar el filtrado: \"))\n",
        "tf = int(input(\"ingrese el segundo en que desea finalizarlo: \"))\n",
        "xs = xpro[int(ti*fs):int((tf*fs)),:]\n",
        "from IPython.display import Audio\n",
        "print(\"la parte deseada es\")\n",
        "Audio([xs[:,1], xs[:,0]],rate=fs)"
      ],
      "metadata": {
        "id": "z0Jv1aAGL3Cz"
      },
      "execution_count": null,
      "outputs": []
    },
    {
      "cell_type": "code",
      "source": [
        "from scipy.signal import ellip\n",
        "from scipy.signal import lfilter, filtfilt"
      ],
      "metadata": {
        "id": "LNt1d5ZbSfB1"
      },
      "execution_count": null,
      "outputs": []
    },
    {
      "cell_type": "code",
      "source": [
        "#Filtro para altas \n",
        "filtro = \"highpass\"\n",
        "N = 6\n",
        "frec = 1000\n",
        "\n",
        "ripple_pass = 2\n",
        "ripple_stop = 101\n",
        "num, den = ellip(N, rp=ripple_pass, rs=ripple_stop, Wn=frec, btype=filtro, fs=fs) \n",
        "\n",
        "xf_hp = filtfilt(num, den, xs, axis=0)\n",
        "display(Audio([xf_hp[:,1], xf_hp[:,0]],rate=fs))"
      ],
      "metadata": {
        "id": "pImdzRjzSjmV"
      },
      "execution_count": null,
      "outputs": []
    },
    {
      "cell_type": "code",
      "source": [
        "x4 = xf_hp.copy()\n",
        "Xs2 = np.fft.rfft(xf_hp,axis=0)\n",
        "vf = np.fft.rfftfreq(np.size(x4,0),1/fs)\n",
        "plt.plot(vf,abs(Xs2))\n",
        "plt.legend(('canal 1','canal 2'))\n",
        "plt.title(r'Espectro audio filtrado pasa altos')\n",
        "plt.xlabel(r'f[Hz]',fontsize = 14)\n",
        "plt.ylabel(r'$|X[n]|$',fontsize = 14)\n",
        "plt.show()"
      ],
      "metadata": {
        "id": "ABfpw_XNTIL2"
      },
      "execution_count": null,
      "outputs": []
    },
    {
      "cell_type": "code",
      "source": [
        "#pasa bajas\n",
        "x_n = xs + np.random.normal(loc=0, scale=0.05, size=xs.shape)\n",
        "filtro = \"lowpass\"\n",
        "N = 10\n",
        "frec = 1600\n",
        "\n",
        "ripple_pass = 1\n",
        "ripple_stop = 100\n",
        "num, den = ellip(N, rp=ripple_pass, rs=ripple_stop, Wn=frec, btype=filtro, fs=fs)\n",
        "\n",
        "xf_Lp = lfilter(num, den, x_n, axis=0)\n",
        "display(Audio([xf_Lp[:,1], xf_Lp[:,0]],rate=fs))"
      ],
      "metadata": {
        "id": "IPDsTNL3S8Gv"
      },
      "execution_count": null,
      "outputs": []
    },
    {
      "cell_type": "code",
      "source": [
        "x5 = xf_Lp.copy()\n",
        "Xs2 = np.fft.rfft(xf_Lp,axis=0)\n",
        "vf = np.fft.rfftfreq(np.size(x5,0),1/fs)\n",
        "plt.plot(vf,abs(Xs2))\n",
        "plt.legend(('canal 1','canal 2'))\n",
        "plt.title(r'Espectro audio filtrado')\n",
        "plt.xlabel(r'f[Hz]',fontsize = 14)\n",
        "plt.ylabel(r'$|X[n]|$',fontsize = 14)\n",
        "plt.show()"
      ],
      "metadata": {
        "id": "PcioDruTScHQ"
      },
      "execution_count": null,
      "outputs": []
    },
    {
      "cell_type": "code",
      "metadata": {
        "id": "OZRgAj3E_JR2"
      },
      "source": [
        "xs = xpro[int(ti*fs):int((tf*fs)),:]\n",
        "Xw = np.fft.rfft(xpro,axis=0) # fft por cada columna de xpro\n",
        "vf = np.fft.rfftfreq(np.size(xpro,0),1/fs)\n",
        "plt.plot(vf,abs(Xw))\n",
        "plt.legend(('canal 1','canal 2'))\n",
        "plt.title(r'Espectro audio original')\n",
        "plt.xlabel(r'f[Hz]',fontsize = 14)\n",
        "plt.ylabel(r'$|X[n]|$',fontsize = 14)\n",
        "plt.show()"
      ],
      "execution_count": null,
      "outputs": []
    },
    {
      "cell_type": "code",
      "source": [
        "Xwf = Xw.copy()\n",
        "f1 = 100\n",
        "f2 = 800\n",
        "ind = ((vf > f1) & (vf < f2))\n",
        "Xwf[ind,:] = 0\n",
        "plt.plot(vf,abs(Xwf))\n",
        "plt.legend(('canal 1','canal 2'))\n",
        "plt.show()"
      ],
      "metadata": {
        "id": "uyH-fp2LODbS"
      },
      "execution_count": null,
      "outputs": []
    },
    {
      "cell_type": "code",
      "source": [
        "from scipy.signal import butter as bw\n",
        "from scipy.signal import freqz_zpk\n",
        "import numpy as np\n",
        "from matplotlib import pyplot as plt\n",
        "from matplotlib.patches import Circle\n",
        "from scipy.signal import cheby1\n",
        "from scipy.signal import cheby2\n",
        "from scipy.signal import freqz\n",
        "from scipy.signal import ellip\n",
        "from scipy.signal import bessel"
      ],
      "metadata": {
        "id": "3PnGyLrCOJ40"
      },
      "execution_count": null,
      "outputs": []
    },
    {
      "cell_type": "code",
      "source": [
        "#Butterworth\n",
        "N = 1 #orden el filtro\n",
        "Wn = [2000, 5000] #banda pasante\n",
        "filt = 'bandpass' #tipo del filtro (pasa-baja, pasa-alta, pasabanda, rechazabanda)\n",
        "out = 'zpk' #la funcion retorna los polos y ceros junto con la ganancia. Para usar numerador y denominador usar 'ba' junto con freqz\n",
        "num, den, nel = bw(N, Wn, btype=filt, output=out, fs=fs)\n",
        "ripple_pass = 2\n",
        "ripple_stop = 101\n",
        "xf_B = filtfilt(num, den, xs, axis=0)\n",
        "display(Audio([xf_B[:,1], xf_B[:,0]],rate=fs))"
      ],
      "metadata": {
        "id": "KbeGESbdUJoY"
      },
      "execution_count": null,
      "outputs": []
    },
    {
      "cell_type": "code",
      "source": [
        "x6 = xf_B.copy()\n",
        "Xs2 = np.fft.rfft(xf_B,axis=0)\n",
        "vf = np.fft.rfftfreq(np.size(x6,0),1/fs)\n",
        "plt.plot(vf,abs(Xs2))\n",
        "plt.legend(('canal 1','canal 2'))\n",
        "plt.title(r'Espectro audio filtrado')\n",
        "plt.xlabel(r'f[Hz]',fontsize = 14)\n",
        "plt.ylabel(r'$|X[n]|$',fontsize = 14)\n",
        "plt.show()"
      ],
      "metadata": {
        "id": "qY1Z4UzhUjMz"
      },
      "execution_count": null,
      "outputs": []
    },
    {
      "cell_type": "code",
      "source": [
        "#Cheyshev 1\n",
        "N = 4\n",
        "Wn = [2000, 5000]\n",
        "filt = 'bandpass'\n",
        "ripple = 10\n",
        "out = 'zpk'\n",
        "num, den, nel = cheby1(N, rp=ripple, Wn=Wn, btype=filt, output=out, fs=fs)\n",
        "xf_C1 = filtfilt(num, den, xs, axis=0)\n",
        "display(Audio([xf_C1[:,1], xf_C1[:,0]],rate=fs))"
      ],
      "metadata": {
        "id": "Cq47x2_NU6yT"
      },
      "execution_count": null,
      "outputs": []
    },
    {
      "cell_type": "code",
      "source": [
        "x7 = xf_C1.copy()\n",
        "Xs2 = np.fft.rfft(xf_C1,axis=0)\n",
        "vf = np.fft.rfftfreq(np.size(x7,0),1/fs)\n",
        "plt.plot(vf,abs(Xs2))\n",
        "plt.legend(('canal 1','canal 2'))\n",
        "plt.title(r'Espectro audio filtrado')\n",
        "plt.xlabel(r'f[Hz]',fontsize = 14)\n",
        "plt.ylabel(r'$|X[n]|$',fontsize = 14)\n",
        "plt.show()"
      ],
      "metadata": {
        "id": "Z0--gUN1VGil"
      },
      "execution_count": null,
      "outputs": []
    },
    {
      "cell_type": "code",
      "source": [
        "#Cheyshev 2\n",
        "N = 4\n",
        "ripple = 20\n",
        "Wn = [2000, 5000]\n",
        "filt = 'bandpass'\n",
        "out = 'ba' #no regresa los polos y ceros, sino la funcion de transferencia\n",
        "num, den = cheby2(N, rs=ripple, Wn=Wn, btype=filt, output=out, fs=fs) #regresa numerador y denominador. Si se quiere obtener los polos y ceros usar scipy.signal.tf2zpk\n",
        "xf_C2 = filtfilt(num, den, xs, axis=0)\n",
        "display(Audio([xf_C2[:,1], xf_C2[:,0]],rate=fs))"
      ],
      "metadata": {
        "id": "tNfdQZWZV71A"
      },
      "execution_count": null,
      "outputs": []
    },
    {
      "cell_type": "code",
      "source": [
        "x7 = xf_C2.copy()\n",
        "Xs2 = np.fft.rfft(xf_C2,axis=0)\n",
        "vf = np.fft.rfftfreq(np.size(x7,0),1/fs)\n",
        "plt.plot(vf,abs(Xs2))\n",
        "plt.legend(('canal 1','canal 2'))\n",
        "plt.title(r'Espectro audio filtrado')\n",
        "plt.xlabel(r'f[Hz]',fontsize = 14)\n",
        "plt.ylabel(r'$|X[n]|$',fontsize = 14)\n",
        "plt.show()"
      ],
      "metadata": {
        "id": "Wy5tOjrWWNNO"
      },
      "execution_count": null,
      "outputs": []
    },
    {
      "cell_type": "code",
      "source": [
        "  #Ellip\n",
        "N = 4\n",
        "Wn = [2000, 5000]\n",
        "filt = 'bandpass'\n",
        "out = 'ba'\n",
        "ripple_pass = 2 #para la banda pasante\n",
        "ripple_stop = 30 #para la banda rechazada\n",
        "num, den = ellip(N, rp=ripple_pass, rs=ripple_stop, Wn=Wn, btype=filt, output=out, fs=fs)\n",
        "xf_E = filtfilt(num, den, xs, axis=0)\n",
        "display(Audio([xf_E[:,1], xf_E[:,0]],rate=fs))"
      ],
      "metadata": {
        "id": "ujolYOtrBLWg"
      },
      "execution_count": null,
      "outputs": []
    },
    {
      "cell_type": "code",
      "source": [
        "x8 = xf_E.copy()\n",
        "Xs2 = np.fft.rfft(xf_E,axis=0)\n",
        "vf = np.fft.rfftfreq(np.size(x8,0),1/fs)\n",
        "plt.plot(vf,abs(Xs2))\n",
        "plt.legend(('canal 1','canal 2'))\n",
        "plt.title(r'Espectro audio filtrado')\n",
        "plt.xlabel(r'f[Hz]',fontsize = 14)\n",
        "plt.ylabel(r'$|X[n]|$',fontsize = 14)\n",
        "plt.show()"
      ],
      "metadata": {
        "id": "UtJhaUekCFza"
      },
      "execution_count": null,
      "outputs": []
    },
    {
      "cell_type": "code",
      "source": [
        "#Bessel\n",
        "N = 4\n",
        "Wn = [2000, 5000]\n",
        "filt = 'bandpass'\n",
        "out = 'ba'\n",
        "normalization = 'mag' #Ajusta la frecuencia crítica según la respuesta que se desea\n",
        "num, den = bessel(N, Wn=Wn, btype=filt, norm=normalization, output=out, fs=fs)\n",
        "xf_Bs = filtfilt(num, den, xs, axis=0)\n",
        "display(Audio([xf_Bs[:,1], xf_Bs[:,0]],rate=fs))"
      ],
      "metadata": {
        "id": "HGVzQdFBHipQ"
      },
      "execution_count": null,
      "outputs": []
    },
    {
      "cell_type": "code",
      "source": [
        "x9 = xf_Bs.copy()\n",
        "Xs2 = np.fft.rfft(xf_Bs,axis=0)\n",
        "vf = np.fft.rfftfreq(np.size(x9,0),1/fs)\n",
        "plt.plot(vf,abs(Xs2))\n",
        "plt.legend(('canal 1','canal 2'))\n",
        "plt.title(r'Espectro audio filtrado')\n",
        "plt.xlabel(r'f[Hz]',fontsize = 14)\n",
        "plt.ylabel(r'$|X[n]|$',fontsize = 14)\n",
        "plt.show()"
      ],
      "metadata": {
        "id": "WcHI0EIOeQi6"
      },
      "execution_count": null,
      "outputs": []
    },
    {
      "cell_type": "code",
      "source": [
        "F_2=(0.05/(0.5*fs))\n",
        "N = 4\n",
        "Wn = [2000, 5000]\n",
        "xfir = signal.firwin(N,F_2)"
      ],
      "metadata": {
        "id": "PE7klgGVIpzv"
      },
      "execution_count": null,
      "outputs": []
    },
    {
      "cell_type": "code",
      "source": [
        "x10 = xfir.copy()\n",
        "Xs2 = np.fft.rfft(xfir,axis=0)\n",
        "vf = np.fft.rfftfreq(np.size(x10,0),1/fs)\n",
        "plt.plot(vf,abs(Xs2))\n",
        "plt.legend(('canal 1','canal 2'))\n",
        "plt.title(r'Espectro audio filtrado')\n",
        "plt.xlabel(r'f[Hz]',fontsize = 14)\n",
        "plt.ylabel(r'$|X[n]|$',fontsize = 14)\n",
        "plt.show()"
      ],
      "metadata": {
        "id": "1H4vM1hGXEqi"
      },
      "execution_count": null,
      "outputs": []
    }
  ]
}