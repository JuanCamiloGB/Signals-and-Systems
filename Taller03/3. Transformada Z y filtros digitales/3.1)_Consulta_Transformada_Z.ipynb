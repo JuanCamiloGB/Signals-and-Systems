{
  "nbformat": 4,
  "nbformat_minor": 0,
  "metadata": {
    "colab": {
      "name": "a) Consulta Transformada Z.ipynb",
      "provenance": [],
      "authorship_tag": "ABX9TyNzY0HwbvUV/WJ34qpbPV70",
      "include_colab_link": true
    },
    "kernelspec": {
      "name": "python3",
      "display_name": "Python 3"
    },
    "language_info": {
      "name": "python"
    }
  },
  "cells": [
    {
      "cell_type": "markdown",
      "metadata": {
        "id": "view-in-github",
        "colab_type": "text"
      },
      "source": [
        "<a href=\"https://colab.research.google.com/github/JuanCamiloGB/Signals-and-Systems/blob/master/Taller03/3.%20Transformada%20Z%20y%20filtros%20digitales/3.1)_Consulta_Transformada_Z.ipynb\" target=\"_parent\"><img src=\"https://colab.research.google.com/assets/colab-badge.svg\" alt=\"Open In Colab\"/></a>"
      ]
    },
    {
      "cell_type": "markdown",
      "source": [
        "## 3.1 Consulte en que consiste la transformada Z. Explique las semejanzas y diferencias entre serie de Fourier, transformada de Fourier en tiempo continuo y discreto, transformada de Laplace y la transformada Z.\n"
      ],
      "metadata": {
        "id": "knGvYEGo-l1Y"
      }
    },
    {
      "cell_type": "markdown",
      "source": [
        "La transformada Z esta es una herramienta matemática que permite trabajar de una manera más sencilla los sistemas discretos ya que convierte, una señal real o compleja definida en el dominio del tiempo discreto en una representación en el dominio de la frecuencia compleja.También es conocida como la transformada de Laurent debido a que se basa en la serie de Laurent; La transformada Z, es a las señales de Tiempo discreto lo mismo que Laplace a las señales de tiempo continúo.\n",
        "\n",
        "***Series de Fourier***\n",
        "1.   La principal característica es que trabaja con señales periódicas\n",
        "\n",
        "2.   Combinación de senos y cósenos con frecuencias enteras\n",
        "\n",
        "3.  Funciona para un intervalo de tiempo finito ($-T/2,T/2$)\n",
        "\n",
        "***Transformada de Fourier en tiempo continuo***\n",
        "1. Funciones no periódicas \n",
        "2. $X(t)$ debe ser integrable en todo el dominio del tiempo\n",
        "3. $X(t)$ posee un número finito de discontinuidades en un intervalo\n",
        "4. Irreversible\n",
        "5. Un solo espectro de frecuencias para $X(t)$\n",
        "\n",
        "***Transformada de Fourier tiempo discreto***\n",
        "1. Dominio de la frecuencia \n",
        "2. Entrada secuencia discreta de duración finita y dominio finito\n",
        "3. Se genera a partir del muestreo de una función continua\n",
        "\n",
        "***Transformada de Laplace*** \n",
        "1. Caso particular de Fourier \n",
        "2. Transformada de poner multiplicada por una exponencial \n",
        "3. Convierte una función en $t$ en una función en la variable $s$ \n",
        "4. Función de orden exponencial, continua a trozos\n",
        "5. Función definida y continua a trozos en [0, $\\infty$)\n",
        "6. $s= \\sigma + jω$\n",
        "\n",
        "***Transformada Z*** \n",
        "1. Convierte la señal real o compleja en el tiempo discreto a una representación en el dominio de la frecuencia.\n",
        "\n",
        "***Semejanzas***\n",
        "La semejanzas entre todas estas herramientas son:\n",
        "1. A pesar de sus diferencias en cuánto a función periódica, tiempo, intervalo entre otras cosas, se usan para representar y modelar señales.\n",
        "2. Permite que operaciones tales como integrales o ecuaciones diferenciales sean mucho más sencillas de resolver.\n",
        "3. Presenta propiedades tales como: linealidad, desplazamiento en tiempo, desplazamiento en frecuencia, entre otras.\n",
        "**Ecuaciones**\n",
        "\n",
        "*Fourier:*\n",
        "\n",
        "*   $ x(ω)=\\int_{-∞}^{∞}  \\! x(t) e^{-jωt} \\, dt $\n",
        "*  $ x(t)= \\frac{1}{2π}\\int_{-∞}^{∞}  \\! x(ω) e^{jωt} \\, dω $ \n",
        "\n",
        "*Laplace:*\n",
        "\n",
        "*   $     \\mathcal{L}\\{f(t)\\}=\\int_{t=0}^{\\infty}f(t)e^{-st}dt\n",
        "$\n",
        "*  $ \\mathcal{L}\\{x(t)\\}= \\mathcal{F}\\{x(t)e^{-\\sigma t} \\} $ \n",
        "\n",
        "*Z:*\n",
        "* $x(Z)=\\sum_{i=-∞}^{∞}x[n]z^{-n}$"
      ],
      "metadata": {
        "id": "7mEyl4YC-paN"
      }
    }
  ]
}