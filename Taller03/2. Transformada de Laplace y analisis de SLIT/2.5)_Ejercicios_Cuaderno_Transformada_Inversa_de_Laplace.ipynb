{
  "nbformat": 4,
  "nbformat_minor": 0,
  "metadata": {
    "colab": {
      "name": "c) Ejercicios Cuaderno Transformada Inversa de Laplace.ipynb",
      "provenance": [],
      "authorship_tag": "ABX9TyO8k6qbMmJCYnw7tOF8ar5z",
      "include_colab_link": true
    },
    "kernelspec": {
      "name": "python3",
      "display_name": "Python 3"
    },
    "language_info": {
      "name": "python"
    }
  },
  "cells": [
    {
      "cell_type": "markdown",
      "metadata": {
        "id": "view-in-github",
        "colab_type": "text"
      },
      "source": [
        "<a href=\"https://colab.research.google.com/github/JuanCamiloGB/Signals-and-Systems/blob/master/Taller03/2.%20Transformada%20de%20Laplace%20y%20analisis%20de%20SLIT/2.5)_Ejercicios_Cuaderno_Transformada_Inversa_de_Laplace.ipynb\" target=\"_parent\"><img src=\"https://colab.research.google.com/assets/colab-badge.svg\" alt=\"Open In Colab\"/></a>"
      ]
    },
    {
      "cell_type": "markdown",
      "source": [
        "##**2.5 Consultar y realizar los ejercicios del cuaderno Propiedades basicas transformada de la Laplace.**\n",
        "\n",
        "**Ejercicio**\n",
        "\n",
        "* Obtener la transformada inversa de Laplace de $X(s)$ manualmente.\n",
        "* Obtener la transformada inversa de Laplace de\n",
        "    \\begin{equation}\n",
        "    X(s) = \\frac{1}{(s+1)(s+2)^2} \\qquad \\text{for } \\Re \\{ s \\} \\geq -1\n",
        "    \\end{equation}\n",
        "    manualmente. Comprobar los resultados utilizando `SymPy`."
      ],
      "metadata": {
        "id": "k60Uv5CmyEUQ"
      }
    },
    {
      "cell_type": "code",
      "source": [
        "import sympy as sym\n",
        "import numpy as np\n",
        "import matplotlib.pyplot as plt\n",
        "from scipy import signal\n",
        "from sympy import DiracDelta, S\n",
        "%matplotlib inline\n",
        "import warnings\n",
        "warnings.filterwarnings(\"ignore\")\n",
        "sym.init_printing()"
      ],
      "metadata": {
        "id": "pOci42nCyNpj"
      },
      "execution_count": 1,
      "outputs": []
    },
    {
      "cell_type": "code",
      "execution_count": 2,
      "metadata": {
        "id": "hxJ5hEadx_-9"
      },
      "outputs": [],
      "source": [
        "s = sym.symbols('s', complex=True)\n",
        "t = sym.symbols('t', real=True)\n",
        "\n",
        "X_3 = 1/((s+1)*(s+2)**2)"
      ]
    },
    {
      "cell_type": "code",
      "source": [
        "Yp = X_3.apart(s) # el comando apart factoriza la expresión simbólica\n",
        "Yp"
      ],
      "metadata": {
        "colab": {
          "base_uri": "https://localhost:8080/",
          "height": 58
        },
        "id": "rIbHdMRyyVIB",
        "outputId": "07832350-094b-452a-b1bb-80f4321961fd"
      },
      "execution_count": 4,
      "outputs": [
        {
          "output_type": "execute_result",
          "data": {
            "image/png": "[encoded data removed]",
            "text/latex": "$\\displaystyle - \\frac{1}{s + 2} - \\frac{1}{\\left(s + 2\\right)^{2}} + \\frac{1}{s + 1}$",
            "text/plain": [
              "    1        1         1  \n",
              "- ───── - ──────── + ─────\n",
              "  s + 2          2   s + 1\n",
              "          (s + 2)         "
            ]
          },
          "metadata": {},
          "execution_count": 4
        }
      ]
    },
    {
      "cell_type": "code",
      "source": [
        "#Modelo en el tiempo en función de RLC\n",
        "Ye = Yp\n",
        "#Se recorre cada fracción parcial según factorización para simplificar cálculos\n",
        "for j in range(len(Ye.args)):\n",
        "    if j==0:#primer elemento de la solucion\n",
        "      yt = sym.inverse_laplace_transform(Ye.args[j], s, t)\n",
        "    else: #siguientes elementos concatenados\n",
        "      yt+= sym.inverse_laplace_transform(Ye.args[j], s, t) "
      ],
      "metadata": {
        "id": "hEKWwi8UyKjU"
      },
      "execution_count": 5,
      "outputs": []
    },
    {
      "cell_type": "code",
      "source": [
        "sym.inverse_laplace_transform(X_3, s, t).simplify()"
      ],
      "metadata": {
        "colab": {
          "base_uri": "https://localhost:8080/",
          "height": 38
        },
        "id": "wLMBaJlbyMub",
        "outputId": "78652bb9-c4a7-4234-bed0-21cb0d18f135"
      },
      "execution_count": 6,
      "outputs": [
        {
          "output_type": "execute_result",
          "data": {
            "image/png": "[encoded data removed]",
            "text/latex": "$\\displaystyle \\left(- t + e^{t} - 1\\right) e^{- 2 t} \\theta\\left(t\\right)$",
            "text/plain": [
              "⎛      t    ⎞  -2⋅t     \n",
              "⎝-t + ℯ  - 1⎠⋅ℯ    ⋅θ(t)"
            ]
          },
          "metadata": {},
          "execution_count": 6
        }
      ]
    }
  ]
}