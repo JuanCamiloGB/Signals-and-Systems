{
  "nbformat": 4,
  "nbformat_minor": 0,
  "metadata": {
    "colab": {
      "name": "d) Ejercicio simular Circuito RLC Sympy.ipynb",
      "provenance": [],
      "authorship_tag": "ABX9TyPvZADJB27WsZBGKRN97dM5",
      "include_colab_link": true
    },
    "kernelspec": {
      "name": "python3",
      "display_name": "Python 3"
    },
    "language_info": {
      "name": "python"
    }
  },
  "cells": [
    {
      "cell_type": "markdown",
      "metadata": {
        "id": "view-in-github",
        "colab_type": "text"
      },
      "source": [
        "<a href=\"https://colab.research.google.com/github/JuanCamiloGB/Signals-and-Systems/blob/master/Taller03/2.%20Transformada%20de%20Laplace%20y%20analisis%20de%20SLIT/2.8)_Ejercicio_simular_Circuito_RLC_Sympy.ipynb\" target=\"_parent\"><img src=\"https://colab.research.google.com/assets/colab-badge.svg\" alt=\"Open In Colab\"/></a>"
      ]
    },
    {
      "cell_type": "markdown",
      "source": [
        "##**2.8 Para las funciones de transferencia en lazo abierto encontradas en el punto anterior, encuentre la expresion de la salida en el tiempo para una configuracion en lazo cerrado del sistema, en funcion de R, L y C, para las siguientes entradas:**\n",
        "###**i) impulso $[δ(t)]$, ii) escalon unitario $[u(t)]$, y iv) rampa $[t^2]$.**"
      ],
      "metadata": {
        "id": "FBlGrhc4ywHD"
      }
    },
    {
      "cell_type": "markdown",
      "source": [
        "###Librerias"
      ],
      "metadata": {
        "id": "LMb3MpPWy9g_"
      }
    },
    {
      "cell_type": "code",
      "source": [
        "import sympy as sym\n",
        "import numpy as np\n",
        "import matplotlib.pyplot as plt\n",
        "from scipy import signal\n",
        "from sympy import DiracDelta, S\n",
        "%matplotlib inline\n",
        "import warnings\n",
        "warnings.filterwarnings(\"ignore\")\n",
        "sym.init_printing()"
      ],
      "metadata": {
        "id": "jJpoPf6_zAO6"
      },
      "execution_count": 1,
      "outputs": []
    },
    {
      "cell_type": "markdown",
      "source": [
        "#CIRCUITO RLC SERIE \n"
      ],
      "metadata": {
        "id": "VJHkm-lcy1B1"
      }
    },
    {
      "cell_type": "markdown",
      "source": [
        "###SEÑAL IMPULSO"
      ],
      "metadata": {
        "id": "H3a71DDRy5SX"
      }
    },
    {
      "cell_type": "code",
      "execution_count": 3,
      "metadata": {
        "colab": {
          "base_uri": "https://localhost:8080/",
          "height": 52
        },
        "id": "ZJe4OchTyoqa",
        "outputId": "99a5b583-ea49-4d53-989e-fd0f4837c303"
      },
      "outputs": [
        {
          "output_type": "execute_result",
          "data": {
            "image/png": "[encoded data removed]",
            "text/latex": "$\\displaystyle \\frac{1}{C L s^{2} + C R s + 1}$",
            "text/plain": [
              "        1         \n",
              "──────────────────\n",
              "     2            \n",
              "C⋅L⋅s  + C⋅R⋅s + 1"
            ]
          },
          "metadata": {},
          "execution_count": 3
        }
      ],
      "source": [
        "%matplotlib inline\n",
        "import sympy as sym\n",
        "sym.init_printing()\n",
        "\n",
        "s = sym.symbols('s', complex=True)\n",
        "t, R, L, C = sym.symbols('t R L C', positive=True)\n",
        "#Entrada de interés en Laplace\n",
        "X = 1\n",
        "\n",
        "Y_ext = 1/(L*C*s**2 + R*C*s + 1) * X\n",
        "#Función de salida para y_externa\n",
        "Y_ext"
      ]
    },
    {
      "cell_type": "code",
      "source": [
        "#Función de salida en Laplace factorizada (fracciones parciales)\n",
        "Yp = Y_ext.apart(s)\n",
        "Yp"
      ],
      "metadata": {
        "colab": {
          "base_uri": "https://localhost:8080/",
          "height": 52
        },
        "id": "jBGJ8IfUzEmu",
        "outputId": "8addff00-9e33-4ea4-fac8-5d18637dfcd0"
      },
      "execution_count": 4,
      "outputs": [
        {
          "output_type": "execute_result",
          "data": {
            "image/png": "[encoded data removed]",
            "text/latex": "$\\displaystyle \\frac{1}{C L s^{2} + C R s + 1}$",
            "text/plain": [
              "        1         \n",
              "──────────────────\n",
              "     2            \n",
              "C⋅L⋅s  + C⋅R⋅s + 1"
            ]
          },
          "metadata": {},
          "execution_count": 4
        }
      ]
    },
    {
      "cell_type": "code",
      "source": [
        "#Modelo en el tiempo en función de RLC\n",
        "Ye = Yp\n",
        "#Se recorre cada fracción parcial según factorización para simplificar cálculos\n",
        "for j in range(len(Ye.args)):\n",
        "    if j==0:#primer elemento de la solucion\n",
        "      yt = sym.inverse_laplace_transform(Ye.args[j], s, t)\n",
        "    else: #siguientes elementos concatenados\n",
        "      yt+= sym.inverse_laplace_transform(Ye.args[j], s, t) \n",
        "yt"
      ],
      "metadata": {
        "colab": {
          "base_uri": "https://localhost:8080/",
          "height": 38
        },
        "id": "Tnsk0vIDzHEh",
        "outputId": "499fc6cb-709c-4667-ecea-adf0f907e73b"
      },
      "execution_count": 5,
      "outputs": [
        {
          "output_type": "execute_result",
          "data": {
            "image/png": "[encoded data removed]",
            "text/latex": "$\\displaystyle C L \\mathcal{L}^{-1}_{s}\\left[s^{2}\\right]\\left(t\\right) + C R \\mathcal{L}^{-1}_{s}\\left[s\\right]\\left(t\\right)$",
            "text/plain": [
              "                           ⎛ 2            ⎞                                   \n",
              "C⋅L⋅InverseLaplaceTransform⎝s , s, t, None⎠ + C⋅R⋅InverseLaplaceTransform(s, s\n",
              "\n",
              "          \n",
              ", t, None)"
            ]
          },
          "metadata": {},
          "execution_count": 5
        }
      ]
    },
    {
      "cell_type": "code",
      "source": [
        "#se define y_int(s)\n",
        "i0, y0 = sym.symbols('i0 y0', real=True)\n",
        "\n",
        "Y_int = (R*C + L*C*s) / (L*C*s**2 + R*C*s + 1) * y0 + L / (L*C*s**2 + R*C*s + 1) * i0\n",
        "Y_int"
      ],
      "metadata": {
        "colab": {
          "base_uri": "https://localhost:8080/",
          "height": 54
        },
        "id": "Z_8sugH8zJck",
        "outputId": "61eb117d-0c14-4b0a-82db-e54de5061399"
      },
      "execution_count": 6,
      "outputs": [
        {
          "output_type": "execute_result",
          "data": {
            "image/png": "[encoded data removed]",
            "text/latex": "$\\displaystyle \\frac{L i_{0}}{C L s^{2} + C R s + 1} + \\frac{y_{0} \\left(C L s + C R\\right)}{C L s^{2} + C R s + 1}$",
            "text/plain": [
              "       L⋅i₀           y₀⋅(C⋅L⋅s + C⋅R) \n",
              "────────────────── + ──────────────────\n",
              "     2                    2            \n",
              "C⋅L⋅s  + C⋅R⋅s + 1   C⋅L⋅s  + C⋅R⋅s + 1"
            ]
          },
          "metadata": {},
          "execution_count": 6
        }
      ]
    },
    {
      "cell_type": "code",
      "source": [
        "#Función de salida en Laplace factorizada (fracciones parciales)\n",
        "YR = Y_int.apart(s)\n",
        "YR"
      ],
      "metadata": {
        "colab": {
          "base_uri": "https://localhost:8080/",
          "height": 53
        },
        "id": "eYNq72o9zKsX",
        "outputId": "56547606-af44-421c-89e0-c2142e320a6b"
      },
      "execution_count": 7,
      "outputs": [
        {
          "output_type": "execute_result",
          "data": {
            "image/png": "[encoded data removed]",
            "text/latex": "$\\displaystyle \\frac{C L s y_{0} + C R y_{0} + L i_{0}}{C L s^{2} + C R s + 1}$",
            "text/plain": [
              "C⋅L⋅s⋅y₀ + C⋅R⋅y₀ + L⋅i₀\n",
              "────────────────────────\n",
              "        2               \n",
              "   C⋅L⋅s  + C⋅R⋅s + 1   "
            ]
          },
          "metadata": {},
          "execution_count": 7
        }
      ]
    },
    {
      "cell_type": "code",
      "source": [
        "#Modelo en el tiempo en función de RLC\n",
        "Ye = YR\n",
        "#Se recorre cada fracción parcial según factorización para simplificar cálculos\n",
        "for j in range(len(Ye.args)):\n",
        "    if j==0:#primer elemento de la solucion\n",
        "      yt_int = sym.inverse_laplace_transform(Ye.args[j], s, t)\n",
        "    else: #siguientes elementos concatenados\n",
        "      yt_int+= sym.inverse_laplace_transform(Ye.args[j], s, t) \n",
        "yt_int"
      ],
      "metadata": {
        "colab": {
          "base_uri": "https://localhost:8080/",
          "height": 175
        },
        "id": "msUqBLbYzMLv",
        "outputId": "ef942b7c-2c93-4685-c8d7-f37f170647b4"
      },
      "execution_count": 8,
      "outputs": [
        {
          "output_type": "execute_result",
          "data": {
            "image/png": "[encoded data removed]",
            "text/latex": "$\\displaystyle C L y_{0} \\mathcal{L}^{-1}_{s}\\left[s\\right]\\left(t\\right) + \\frac{\\left(i e^{\\frac{t \\cos{\\left(\\frac{\\operatorname{atan_{2}}{\\left(0,C R^{2} - 4 L \\right)}}{2} \\right)} \\sqrt{\\left|{C R^{2} - 4 L}\\right|}}{\\sqrt{C} L}} \\sin{\\left(\\frac{t \\sin{\\left(\\frac{\\operatorname{atan_{2}}{\\left(0,C R^{2} - 4 L \\right)}}{2} \\right)} \\sqrt{\\left|{C R^{2} - 4 L}\\right|}}{2 \\sqrt{C} L} \\right)} + e^{\\frac{t \\cos{\\left(\\frac{\\operatorname{atan_{2}}{\\left(0,C R^{2} - 4 L \\right)}}{2} \\right)} \\sqrt{\\left|{C R^{2} - 4 L}\\right|}}{\\sqrt{C} L}} \\cos{\\left(\\frac{t \\sin{\\left(\\frac{\\operatorname{atan_{2}}{\\left(0,C R^{2} - 4 L \\right)}}{2} \\right)} \\sqrt{\\left|{C R^{2} - 4 L}\\right|}}{2 \\sqrt{C} L} \\right)} + i \\sin{\\left(\\frac{t \\sin{\\left(\\frac{\\operatorname{atan_{2}}{\\left(0,C R^{2} - 4 L \\right)}}{2} \\right)} \\sqrt{\\left|{C R^{2} - 4 L}\\right|}}{2 \\sqrt{C} L} \\right)} - \\cos{\\left(\\frac{t \\sin{\\left(\\frac{\\operatorname{atan_{2}}{\\left(0,C R^{2} - 4 L \\right)}}{2} \\right)} \\sqrt{\\left|{C R^{2} - 4 L}\\right|}}{2 \\sqrt{C} L} \\right)}\\right) e^{- \\frac{R t}{2 L} - \\frac{t \\cos{\\left(\\frac{\\operatorname{atan_{2}}{\\left(0,C R^{2} - 4 L \\right)}}{2} \\right)} \\sqrt{\\left|{C R^{2} - 4 L}\\right|}}{2 \\sqrt{C} L}}}{\\sqrt{C} \\sqrt{C R^{2} - 4 L}}$",
            "text/plain": [
              "                                                ⎛        ⎛     ⎛      2      ⎞\n",
              "                                                ⎜        ⎜atan2⎝0, C⋅R  - 4⋅L⎠\n",
              "                                                ⎜   t⋅cos⎜────────────────────\n",
              "                                                ⎜        ⎝         2          \n",
              "                                                ⎜   ──────────────────────────\n",
              "                                                ⎜                        √C⋅L \n",
              "                                                ⎜ⅈ⋅ℯ                          \n",
              "                                                ⎝                             \n",
              "C⋅L⋅y₀⋅InverseLaplaceTransform(s, s, t, None) + ──────────────────────────────\n",
              "                                                                              \n",
              "                                                                              \n",
              "                                                                              \n",
              "\n",
              "⎞    ______________                                                           \n",
              "⎟   ╱ │   2      │                                                            \n",
              "⎟⋅╲╱  │C⋅R  - 4⋅L│     ⎛     ⎛     ⎛      2      ⎞⎞    ______________⎞    t⋅co\n",
              "⎠                      ⎜     ⎜atan2⎝0, C⋅R  - 4⋅L⎠⎟   ╱ │   2      │ ⎟        \n",
              "───────────────────    ⎜t⋅sin⎜────────────────────⎟⋅╲╱  │C⋅R  - 4⋅L│ ⎟    ────\n",
              "                       ⎜     ⎝         2          ⎠                  ⎟        \n",
              "                   ⋅sin⎜─────────────────────────────────────────────⎟ + ℯ    \n",
              "                       ⎝                    2⋅√C⋅L                   ⎠        \n",
              "──────────────────────────────────────────────────────────────────────────────\n",
              "                                                                              \n",
              "                                                                              \n",
              "                                                                              \n",
              "\n",
              " ⎛     ⎛      2      ⎞⎞    ______________                                     \n",
              " ⎜atan2⎝0, C⋅R  - 4⋅L⎠⎟   ╱ │   2      │                                      \n",
              "s⎜────────────────────⎟⋅╲╱  │C⋅R  - 4⋅L│     ⎛     ⎛     ⎛      2      ⎞⎞    _\n",
              " ⎝         2          ⎠                      ⎜     ⎜atan2⎝0, C⋅R  - 4⋅L⎠⎟   ╱ \n",
              "─────────────────────────────────────────    ⎜t⋅sin⎜────────────────────⎟⋅╲╱  \n",
              "                 √C⋅L                        ⎜     ⎝         2          ⎠     \n",
              "                                         ⋅cos⎜────────────────────────────────\n",
              "                                             ⎝                    2⋅√C⋅L      \n",
              "──────────────────────────────────────────────────────────────────────────────\n",
              "                                                                       _______\n",
              "                                                                      ╱    2  \n",
              "                                                                 √C⋅╲╱  C⋅R  -\n",
              "\n",
              "                                                                              \n",
              "                                                                              \n",
              "_____________⎞        ⎛     ⎛     ⎛      2      ⎞⎞    ______________⎞      ⎛  \n",
              "│   2      │ ⎟        ⎜     ⎜atan2⎝0, C⋅R  - 4⋅L⎠⎟   ╱ │   2      │ ⎟      ⎜  \n",
              "│C⋅R  - 4⋅L│ ⎟        ⎜t⋅sin⎜────────────────────⎟⋅╲╱  │C⋅R  - 4⋅L│ ⎟      ⎜t⋅\n",
              "             ⎟        ⎜     ⎝         2          ⎠                  ⎟      ⎜  \n",
              "─────────────⎟ + ⅈ⋅sin⎜─────────────────────────────────────────────⎟ - cos⎜──\n",
              "             ⎠        ⎝                    2⋅√C⋅L                   ⎠      ⎝  \n",
              "──────────────────────────────────────────────────────────────────────────────\n",
              "_____                                                                         \n",
              "                                                                              \n",
              " 4⋅L                                                                          \n",
              "\n",
              "                                            ⎞               ⎛     ⎛      2    \n",
              "                                            ⎟               ⎜atan2⎝0, C⋅R  - 4\n",
              "   ⎛     ⎛      2      ⎞⎞    ______________⎞⎟          t⋅cos⎜─────────────────\n",
              "   ⎜atan2⎝0, C⋅R  - 4⋅L⎠⎟   ╱ │   2      │ ⎟⎟    R⋅t        ⎝         2       \n",
              "sin⎜────────────────────⎟⋅╲╱  │C⋅R  - 4⋅L│ ⎟⎟  - ─── - ───────────────────────\n",
              "   ⎝         2          ⎠                  ⎟⎟    2⋅L                       2⋅√\n",
              "───────────────────────────────────────────⎟⎟⋅ℯ                               \n",
              "                  2⋅√C⋅L                   ⎠⎠                                 \n",
              "──────────────────────────────────────────────────────────────────────────────\n",
              "                                                                              \n",
              "                                                                              \n",
              "                                                                              \n",
              "\n",
              "  ⎞⎞    ______________\n",
              "⋅L⎠⎟   ╱ │   2      │ \n",
              "───⎟⋅╲╱  │C⋅R  - 4⋅L│ \n",
              "   ⎠                  \n",
              "──────────────────────\n",
              "C⋅L                   \n",
              "                      \n",
              "                      \n",
              "──────────────────────\n",
              "                      \n",
              "                      \n",
              "                      "
            ]
          },
          "metadata": {},
          "execution_count": 8
        }
      ]
    },
    {
      "cell_type": "code",
      "source": [
        "y_t = yt+ yt_int\n",
        "y_t"
      ],
      "metadata": {
        "colab": {
          "base_uri": "https://localhost:8080/",
          "height": 175
        },
        "id": "nIFJXXX1zNm0",
        "outputId": "ff9185f3-504f-485b-cc57-23a702eba6f3"
      },
      "execution_count": 9,
      "outputs": [
        {
          "output_type": "execute_result",
          "data": {
            "image/png": "[encoded data removed]",
            "text/latex": "$\\displaystyle C L y_{0} \\mathcal{L}^{-1}_{s}\\left[s\\right]\\left(t\\right) + C L \\mathcal{L}^{-1}_{s}\\left[s^{2}\\right]\\left(t\\right) + C R \\mathcal{L}^{-1}_{s}\\left[s\\right]\\left(t\\right) + \\frac{\\left(i e^{\\frac{t \\cos{\\left(\\frac{\\operatorname{atan_{2}}{\\left(0,C R^{2} - 4 L \\right)}}{2} \\right)} \\sqrt{\\left|{C R^{2} - 4 L}\\right|}}{\\sqrt{C} L}} \\sin{\\left(\\frac{t \\sin{\\left(\\frac{\\operatorname{atan_{2}}{\\left(0,C R^{2} - 4 L \\right)}}{2} \\right)} \\sqrt{\\left|{C R^{2} - 4 L}\\right|}}{2 \\sqrt{C} L} \\right)} + e^{\\frac{t \\cos{\\left(\\frac{\\operatorname{atan_{2}}{\\left(0,C R^{2} - 4 L \\right)}}{2} \\right)} \\sqrt{\\left|{C R^{2} - 4 L}\\right|}}{\\sqrt{C} L}} \\cos{\\left(\\frac{t \\sin{\\left(\\frac{\\operatorname{atan_{2}}{\\left(0,C R^{2} - 4 L \\right)}}{2} \\right)} \\sqrt{\\left|{C R^{2} - 4 L}\\right|}}{2 \\sqrt{C} L} \\right)} + i \\sin{\\left(\\frac{t \\sin{\\left(\\frac{\\operatorname{atan_{2}}{\\left(0,C R^{2} - 4 L \\right)}}{2} \\right)} \\sqrt{\\left|{C R^{2} - 4 L}\\right|}}{2 \\sqrt{C} L} \\right)} - \\cos{\\left(\\frac{t \\sin{\\left(\\frac{\\operatorname{atan_{2}}{\\left(0,C R^{2} - 4 L \\right)}}{2} \\right)} \\sqrt{\\left|{C R^{2} - 4 L}\\right|}}{2 \\sqrt{C} L} \\right)}\\right) e^{- \\frac{R t}{2 L} - \\frac{t \\cos{\\left(\\frac{\\operatorname{atan_{2}}{\\left(0,C R^{2} - 4 L \\right)}}{2} \\right)} \\sqrt{\\left|{C R^{2} - 4 L}\\right|}}{2 \\sqrt{C} L}}}{\\sqrt{C} \\sqrt{C R^{2} - 4 L}}$",
            "text/plain": [
              "                                                                              \n",
              "                                                                              \n",
              "                                                                              \n",
              "                                                                              \n",
              "                                                                              \n",
              "                                                                              \n",
              "                                                                              \n",
              "                                                                           ⎛ 2\n",
              "C⋅L⋅y₀⋅InverseLaplaceTransform(s, s, t, None) + C⋅L⋅InverseLaplaceTransform⎝s \n",
              "                                                                              \n",
              "                                                                              \n",
              "                                                                              \n",
              "\n",
              "                                                             ⎛        ⎛     ⎛ \n",
              "                                                             ⎜        ⎜atan2⎝0\n",
              "                                                             ⎜   t⋅cos⎜───────\n",
              "                                                             ⎜        ⎝       \n",
              "                                                             ⎜   ─────────────\n",
              "                                                             ⎜                \n",
              "                                                             ⎜ⅈ⋅ℯ             \n",
              "            ⎞                                                ⎝                \n",
              ", s, t, None⎠ + C⋅R⋅InverseLaplaceTransform(s, s, t, None) + ─────────────────\n",
              "                                                                              \n",
              "                                                                              \n",
              "                                                                              \n",
              "\n",
              "     2      ⎞⎞    ______________                                              \n",
              ", C⋅R  - 4⋅L⎠⎟   ╱ │   2      │                                               \n",
              "─────────────⎟⋅╲╱  │C⋅R  - 4⋅L│     ⎛     ⎛     ⎛      2      ⎞⎞    __________\n",
              "  2          ⎠                      ⎜     ⎜atan2⎝0, C⋅R  - 4⋅L⎠⎟   ╱ │   2    \n",
              "────────────────────────────────    ⎜t⋅sin⎜────────────────────⎟⋅╲╱  │C⋅R  - 4\n",
              "        √C⋅L                        ⎜     ⎝         2          ⎠              \n",
              "                                ⋅sin⎜─────────────────────────────────────────\n",
              "                                    ⎝                    2⋅√C⋅L               \n",
              "──────────────────────────────────────────────────────────────────────────────\n",
              "                                                                              \n",
              "                                                                              \n",
              "                                                                              \n",
              "\n",
              "              ⎛     ⎛      2      ⎞⎞    ______________                        \n",
              "              ⎜atan2⎝0, C⋅R  - 4⋅L⎠⎟   ╱ │   2      │                         \n",
              "____⎞    t⋅cos⎜────────────────────⎟⋅╲╱  │C⋅R  - 4⋅L│     ⎛     ⎛     ⎛      2\n",
              "  │ ⎟         ⎝         2          ⎠                      ⎜     ⎜atan2⎝0, C⋅R \n",
              "⋅L│ ⎟    ─────────────────────────────────────────────    ⎜t⋅sin⎜─────────────\n",
              "    ⎟                         √C⋅L                        ⎜     ⎝         2   \n",
              "────⎟ + ℯ                                             ⋅cos⎜───────────────────\n",
              "    ⎠                                                     ⎝                   \n",
              "──────────────────────────────────────────────────────────────────────────────\n",
              "                                                                              \n",
              "                                                                              \n",
              "                                                                              \n",
              "\n",
              "                                                                              \n",
              "                                                                              \n",
              "      ⎞⎞    ______________⎞        ⎛     ⎛     ⎛      2      ⎞⎞    ___________\n",
              " - 4⋅L⎠⎟   ╱ │   2      │ ⎟        ⎜     ⎜atan2⎝0, C⋅R  - 4⋅L⎠⎟   ╱ │   2     \n",
              "───────⎟⋅╲╱  │C⋅R  - 4⋅L│ ⎟        ⎜t⋅sin⎜────────────────────⎟⋅╲╱  │C⋅R  - 4⋅\n",
              "       ⎠                  ⎟        ⎜     ⎝         2          ⎠               \n",
              "──────────────────────────⎟ + ⅈ⋅sin⎜──────────────────────────────────────────\n",
              " 2⋅√C⋅L                   ⎠        ⎝                    2⋅√C⋅L                \n",
              "──────────────────────────────────────────────────────────────────────────────\n",
              "      ____________                                                            \n",
              "     ╱    2                                                                   \n",
              "√C⋅╲╱  C⋅R  - 4⋅L                                                             \n",
              "\n",
              "                                                         ⎞               ⎛    \n",
              "                                                         ⎟               ⎜atan\n",
              "___⎞      ⎛     ⎛     ⎛      2      ⎞⎞    ______________⎞⎟          t⋅cos⎜────\n",
              " │ ⎟      ⎜     ⎜atan2⎝0, C⋅R  - 4⋅L⎠⎟   ╱ │   2      │ ⎟⎟    R⋅t        ⎝    \n",
              "L│ ⎟      ⎜t⋅sin⎜────────────────────⎟⋅╲╱  │C⋅R  - 4⋅L│ ⎟⎟  - ─── - ──────────\n",
              "   ⎟      ⎜     ⎝         2          ⎠                  ⎟⎟    2⋅L             \n",
              "───⎟ - cos⎜─────────────────────────────────────────────⎟⎟⋅ℯ                  \n",
              "   ⎠      ⎝                    2⋅√C⋅L                   ⎠⎠                    \n",
              "──────────────────────────────────────────────────────────────────────────────\n",
              "                                                                              \n",
              "                                                                              \n",
              "                                                                              \n",
              "\n",
              " ⎛      2      ⎞⎞    ______________\n",
              "2⎝0, C⋅R  - 4⋅L⎠⎟   ╱ │   2      │ \n",
              "────────────────⎟⋅╲╱  │C⋅R  - 4⋅L│ \n",
              "     2          ⎠                  \n",
              "───────────────────────────────────\n",
              "          2⋅√C⋅L                   \n",
              "                                   \n",
              "                                   \n",
              "───────────────────────────────────\n",
              "                                   \n",
              "                                   \n",
              "                                   "
            ]
          },
          "metadata": {},
          "execution_count": 9
        }
      ]
    },
    {
      "cell_type": "code",
      "source": [
        "#Modelo en el tiempo con RLC evaluados\n",
        "s = sym.symbols('s', complex=True)\n",
        "t, R, L, C = sym.symbols('t R L C', positive=True)\n",
        "X = sym.Function('X')(s)\n",
        "\n",
        "Y_ext = 1/(L*C*s**2 + R*C*s + 1) * X\n",
        "Y_ext"
      ],
      "metadata": {
        "colab": {
          "base_uri": "https://localhost:8080/",
          "height": 54
        },
        "id": "vcTL4t9AzPCO",
        "outputId": "e555f0e3-94be-4d21-e6ea-eb79ab5b7bf4"
      },
      "execution_count": 10,
      "outputs": [
        {
          "output_type": "execute_result",
          "data": {
            "image/png": "[encoded data removed]",
            "text/latex": "$\\displaystyle \\frac{X{\\left(s \\right)}}{C L s^{2} + C R s + 1}$",
            "text/plain": [
              "       X(s)       \n",
              "──────────────────\n",
              "     2            \n",
              "C⋅L⋅s  + C⋅R⋅s + 1"
            ]
          },
          "metadata": {},
          "execution_count": 10
        }
      ]
    },
    {
      "cell_type": "code",
      "source": [
        "RLC = {R: 1, L: sym.Rational('.5'), C: sym.Rational('.4')}\n",
        "\n",
        "y_ext = sym.inverse_laplace_transform(Y_ext.subs(RLC).subs(X,1), s, t)\n",
        "y_ext"
      ],
      "metadata": {
        "colab": {
          "base_uri": "https://localhost:8080/",
          "height": 54
        },
        "id": "Ub5TOWQizQIb",
        "outputId": "89df0432-212b-427e-d28d-3e8ed231a1fc"
      },
      "execution_count": 11,
      "outputs": [
        {
          "output_type": "execute_result",
          "data": {
            "image/png": "[encoded data removed]",
            "text/latex": "$\\displaystyle \\frac{5 e^{- t} \\sin{\\left(2 t \\right)}}{2}$",
            "text/plain": [
              "   -t         \n",
              "5⋅ℯ  ⋅sin(2⋅t)\n",
              "──────────────\n",
              "      2       "
            ]
          },
          "metadata": {},
          "execution_count": 11
        }
      ]
    },
    {
      "cell_type": "code",
      "source": [
        "i0, y0 = sym.symbols('i0 y0', real=True)\n",
        "\n",
        "Yint = (R*C + L*C*s) / (L*C*s**2 + R*C*s + 1) * y0 + L / (L*C*s**2 + R*C*s + 1) * i0\n",
        "Yint"
      ],
      "metadata": {
        "colab": {
          "base_uri": "https://localhost:8080/",
          "height": 54
        },
        "id": "8uYodvTWzRHk",
        "outputId": "4a93b3b5-5490-4ae3-bf05-c9be1d121e81"
      },
      "execution_count": 12,
      "outputs": [
        {
          "output_type": "execute_result",
          "data": {
            "image/png": "[encoded data removed]",
            "text/latex": "$\\displaystyle \\frac{L i_{0}}{C L s^{2} + C R s + 1} + \\frac{y_{0} \\left(C L s + C R\\right)}{C L s^{2} + C R s + 1}$",
            "text/plain": [
              "       L⋅i₀           y₀⋅(C⋅L⋅s + C⋅R) \n",
              "────────────────── + ──────────────────\n",
              "     2                    2            \n",
              "C⋅L⋅s  + C⋅R⋅s + 1   C⋅L⋅s  + C⋅R⋅s + 1"
            ]
          },
          "metadata": {},
          "execution_count": 12
        }
      ]
    },
    {
      "cell_type": "code",
      "source": [
        "#se inicializa y_interna con valores iniciales \n",
        "yint = sym.inverse_laplace_transform(Yint.subs(RLC).subs(i0, 1).subs(y0, -1), s, t)\n",
        "yint"
      ],
      "metadata": {
        "colab": {
          "base_uri": "https://localhost:8080/",
          "height": 58
        },
        "id": "URm_kOCYzSOk",
        "outputId": "df5daeb7-d39c-48e4-d64c-b66b928a1344"
      },
      "execution_count": 13,
      "outputs": [
        {
          "output_type": "execute_result",
          "data": {
            "image/png": "[encoded data removed]",
            "text/latex": "$\\displaystyle \\left(\\frac{3 \\sin{\\left(2 t \\right)}}{4} - \\cos{\\left(2 t \\right)}\\right) e^{- t}$",
            "text/plain": [
              "⎛3⋅sin(2⋅t)           ⎞  -t\n",
              "⎜────────── - cos(2⋅t)⎟⋅ℯ  \n",
              "⎝    4                ⎠    "
            ]
          },
          "metadata": {},
          "execution_count": 13
        }
      ]
    },
    {
      "cell_type": "code",
      "source": [
        "yt = y_ext + yint\n",
        "yt.simplify()"
      ],
      "metadata": {
        "colab": {
          "base_uri": "https://localhost:8080/",
          "height": 58
        },
        "id": "-S_xiQzwzTT9",
        "outputId": "61a8b9b2-7d67-44c7-e4ca-fce2b7f8b43e"
      },
      "execution_count": 14,
      "outputs": [
        {
          "output_type": "execute_result",
          "data": {
            "image/png": "[encoded data removed]",
            "text/latex": "$\\displaystyle \\left(\\frac{13 \\sin{\\left(2 t \\right)}}{4} - \\cos{\\left(2 t \\right)}\\right) e^{- t}$",
            "text/plain": [
              "⎛13⋅sin(2⋅t)           ⎞  -t\n",
              "⎜─────────── - cos(2⋅t)⎟⋅ℯ  \n",
              "⎝     4                ⎠    "
            ]
          },
          "metadata": {},
          "execution_count": 14
        }
      ]
    },
    {
      "cell_type": "markdown",
      "source": [
        "En la siguiente gráfica se presentan: \n",
        "* la parte interna $y_\\text{int}(t)$ (Línea verde), \n",
        "* la parte externa $y_\\text{ext}(t)$ (Línea azul), \n",
        "* la señal de salida $y(t)$ (Línea roja) "
      ],
      "metadata": {
        "id": "YB0JoYH6zVoD"
      }
    },
    {
      "cell_type": "code",
      "source": [
        "p1 = sym.plot(y_ext, (t, 0, 7), line_color='b', xlabel='$t$', ylabel='$y(t)$', show=False)\n",
        "p2 = sym.plot(yint, (t, 0, 7), line_color='g', show=False)\n",
        "p3 = sym.plot(yt, (t, 0, 7\n",
        "                   \n",
        "                   ), line_color='r', show=False)\n",
        "p1.extend(p2)\n",
        "p1.extend(p3)\n",
        "p1.show()"
      ],
      "metadata": {
        "colab": {
          "base_uri": "https://localhost:8080/",
          "height": 297
        },
        "id": "5thlbGSKzWK-",
        "outputId": "860da46b-4970-489d-9ed7-5e91d30624f6"
      },
      "execution_count": 15,
      "outputs": [
        {
          "output_type": "display_data",
          "data": {
            "image/png": "[encoded data removed]",
            "text/plain": [
              "<Figure size 432x288 with 1 Axes>"
            ]
          },
          "metadata": {
            "needs_background": "light"
          }
        }
      ]
    },
    {
      "cell_type": "markdown",
      "source": [
        "### ESCALÓN UNITARIO"
      ],
      "metadata": {
        "id": "CnxagFtuz8dA"
      }
    },
    {
      "cell_type": "code",
      "source": [
        "%matplotlib inline\n",
        "import sympy as sym\n",
        "sym.init_printing()\n",
        "\n",
        "s = sym.symbols('s', complex=True)\n",
        "t, R, L, C = sym.symbols('t R L C', positive=True)\n",
        "#Entrada de interés en Laplace\n",
        "X = 1/s\n",
        "\n",
        "Y_ext = 1/(L*C*s**2 + R*C*s + 1) * X\n",
        "#Función de salida para y_externa\n",
        "Y_ext"
      ],
      "metadata": {
        "colab": {
          "base_uri": "https://localhost:8080/",
          "height": 55
        },
        "id": "0uzSRmETz-Bo",
        "outputId": "4e64f5a8-bef1-42ab-9601-3a7052dc02e1"
      },
      "execution_count": 16,
      "outputs": [
        {
          "output_type": "execute_result",
          "data": {
            "image/png": "[encoded data removed]",
            "text/latex": "$\\displaystyle \\frac{1}{s \\left(C L s^{2} + C R s + 1\\right)}$",
            "text/plain": [
              "          1           \n",
              "──────────────────────\n",
              "  ⎛     2            ⎞\n",
              "s⋅⎝C⋅L⋅s  + C⋅R⋅s + 1⎠"
            ]
          },
          "metadata": {},
          "execution_count": 16
        }
      ]
    },
    {
      "cell_type": "code",
      "source": [
        "Yp = Y_ext.apart(s)\n",
        "Yp"
      ],
      "metadata": {
        "colab": {
          "base_uri": "https://localhost:8080/",
          "height": 54
        },
        "id": "YuWBCaynz_6P",
        "outputId": "42e85bbb-b9d6-4c51-d604-da6abed35723"
      },
      "execution_count": 17,
      "outputs": [
        {
          "output_type": "execute_result",
          "data": {
            "image/png": "[encoded data removed]",
            "text/latex": "$\\displaystyle - \\frac{C \\left(L s + R\\right)}{C L s^{2} + C R s + 1} + \\frac{1}{s}$",
            "text/plain": [
              "     C⋅(L⋅s + R)       1\n",
              "- ────────────────── + ─\n",
              "       2               s\n",
              "  C⋅L⋅s  + C⋅R⋅s + 1    "
            ]
          },
          "metadata": {},
          "execution_count": 17
        }
      ]
    },
    {
      "cell_type": "code",
      "source": [
        "#Modelo en el tiempo en función de RLC\n",
        "Ye = Yp\n",
        "#Se recorre cada fracción parcial según factorización para simplificar cálculos\n",
        "for j in range(len(Ye.args)):\n",
        "    if j==0:#primer elemento de la solucion\n",
        "      yt = sym.inverse_laplace_transform(Ye.args[j], s, t)\n",
        "    else: #siguientes elementos concatenados\n",
        "      yt+= sym.inverse_laplace_transform(Ye.args[j], s, t) \n",
        "yt"
      ],
      "metadata": {
        "colab": {
          "base_uri": "https://localhost:8080/",
          "height": 174
        },
        "id": "yBCKG87E0A45",
        "outputId": "52c551af-3a68-4735-d4f5-cfbfc341f1a7"
      },
      "execution_count": 18,
      "outputs": [
        {
          "output_type": "execute_result",
          "data": {
            "image/png": "[encoded data removed]",
            "text/latex": "$\\displaystyle 1 + \\frac{\\left(- i \\sqrt{C} R e^{\\frac{t \\cos{\\left(\\frac{\\operatorname{atan_{2}}{\\left(0,C R^{2} - 4 L \\right)}}{2} \\right)} \\sqrt{\\left|{C R^{2} - 4 L}\\right|}}{\\sqrt{C} L}} \\sin{\\left(\\frac{t \\sin{\\left(\\frac{\\operatorname{atan_{2}}{\\left(0,C R^{2} - 4 L \\right)}}{2} \\right)} \\sqrt{\\left|{C R^{2} - 4 L}\\right|}}{2 \\sqrt{C} L} \\right)} - \\sqrt{C} R e^{\\frac{t \\cos{\\left(\\frac{\\operatorname{atan_{2}}{\\left(0,C R^{2} - 4 L \\right)}}{2} \\right)} \\sqrt{\\left|{C R^{2} - 4 L}\\right|}}{\\sqrt{C} L}} \\cos{\\left(\\frac{t \\sin{\\left(\\frac{\\operatorname{atan_{2}}{\\left(0,C R^{2} - 4 L \\right)}}{2} \\right)} \\sqrt{\\left|{C R^{2} - 4 L}\\right|}}{2 \\sqrt{C} L} \\right)} - i \\sqrt{C} R \\sin{\\left(\\frac{t \\sin{\\left(\\frac{\\operatorname{atan_{2}}{\\left(0,C R^{2} - 4 L \\right)}}{2} \\right)} \\sqrt{\\left|{C R^{2} - 4 L}\\right|}}{2 \\sqrt{C} L} \\right)} + \\sqrt{C} R \\cos{\\left(\\frac{t \\sin{\\left(\\frac{\\operatorname{atan_{2}}{\\left(0,C R^{2} - 4 L \\right)}}{2} \\right)} \\sqrt{\\left|{C R^{2} - 4 L}\\right|}}{2 \\sqrt{C} L} \\right)} - i \\sqrt{C R^{2} - 4 L} e^{\\frac{t \\cos{\\left(\\frac{\\operatorname{atan_{2}}{\\left(0,C R^{2} - 4 L \\right)}}{2} \\right)} \\sqrt{\\left|{C R^{2} - 4 L}\\right|}}{\\sqrt{C} L}} \\sin{\\left(\\frac{t \\sin{\\left(\\frac{\\operatorname{atan_{2}}{\\left(0,C R^{2} - 4 L \\right)}}{2} \\right)} \\sqrt{\\left|{C R^{2} - 4 L}\\right|}}{2 \\sqrt{C} L} \\right)} - \\sqrt{C R^{2} - 4 L} e^{\\frac{t \\cos{\\left(\\frac{\\operatorname{atan_{2}}{\\left(0,C R^{2} - 4 L \\right)}}{2} \\right)} \\sqrt{\\left|{C R^{2} - 4 L}\\right|}}{\\sqrt{C} L}} \\cos{\\left(\\frac{t \\sin{\\left(\\frac{\\operatorname{atan_{2}}{\\left(0,C R^{2} - 4 L \\right)}}{2} \\right)} \\sqrt{\\left|{C R^{2} - 4 L}\\right|}}{2 \\sqrt{C} L} \\right)} + i \\sqrt{C R^{2} - 4 L} \\sin{\\left(\\frac{t \\sin{\\left(\\frac{\\operatorname{atan_{2}}{\\left(0,C R^{2} - 4 L \\right)}}{2} \\right)} \\sqrt{\\left|{C R^{2} - 4 L}\\right|}}{2 \\sqrt{C} L} \\right)} - \\sqrt{C R^{2} - 4 L} \\cos{\\left(\\frac{t \\sin{\\left(\\frac{\\operatorname{atan_{2}}{\\left(0,C R^{2} - 4 L \\right)}}{2} \\right)} \\sqrt{\\left|{C R^{2} - 4 L}\\right|}}{2 \\sqrt{C} L} \\right)}\\right) e^{- \\frac{R t}{2 L} - \\frac{t \\cos{\\left(\\frac{\\operatorname{atan_{2}}{\\left(0,C R^{2} - 4 L \\right)}}{2} \\right)} \\sqrt{\\left|{C R^{2} - 4 L}\\right|}}{2 \\sqrt{C} L}}}{2 \\sqrt{C R^{2} - 4 L}}$",
            "text/plain": [
              "    ⎛               ⎛     ⎛      2      ⎞⎞    ______________                  \n",
              "    ⎜               ⎜atan2⎝0, C⋅R  - 4⋅L⎠⎟   ╱ │   2      │                   \n",
              "    ⎜          t⋅cos⎜────────────────────⎟⋅╲╱  │C⋅R  - 4⋅L│     ⎛     ⎛     ⎛ \n",
              "    ⎜               ⎝         2          ⎠                      ⎜     ⎜atan2⎝0\n",
              "    ⎜          ─────────────────────────────────────────────    ⎜t⋅sin⎜───────\n",
              "    ⎜                               √C⋅L                        ⎜     ⎝       \n",
              "    ⎜- ⅈ⋅√C⋅R⋅ℯ                                             ⋅sin⎜─────────────\n",
              "    ⎝                                                           ⎝             \n",
              "1 + ──────────────────────────────────────────────────────────────────────────\n",
              "                                                                              \n",
              "                                                                              \n",
              "                                                                              \n",
              "\n",
              "                                               ⎛     ⎛      2      ⎞⎞    _____\n",
              "                                               ⎜atan2⎝0, C⋅R  - 4⋅L⎠⎟   ╱ │   \n",
              "     2      ⎞⎞    ______________⎞         t⋅cos⎜────────────────────⎟⋅╲╱  │C⋅R\n",
              ", C⋅R  - 4⋅L⎠⎟   ╱ │   2      │ ⎟              ⎝         2          ⎠         \n",
              "─────────────⎟⋅╲╱  │C⋅R  - 4⋅L│ ⎟         ────────────────────────────────────\n",
              "  2          ⎠                  ⎟                              √C⋅L           \n",
              "────────────────────────────────⎟ - √C⋅R⋅ℯ                                    \n",
              "       2⋅√C⋅L                   ⎠                                             \n",
              "──────────────────────────────────────────────────────────────────────────────\n",
              "                                                                              \n",
              "                                                                              \n",
              "                                                                              \n",
              "\n",
              "_________                                                                     \n",
              "2      │                                                                      \n",
              "  - 4⋅L│     ⎛     ⎛     ⎛      2      ⎞⎞    ______________⎞             ⎛    \n",
              "             ⎜     ⎜atan2⎝0, C⋅R  - 4⋅L⎠⎟   ╱ │   2      │ ⎟             ⎜    \n",
              "─────────    ⎜t⋅sin⎜────────────────────⎟⋅╲╱  │C⋅R  - 4⋅L│ ⎟             ⎜t⋅si\n",
              "             ⎜     ⎝         2          ⎠                  ⎟             ⎜    \n",
              "         ⋅cos⎜─────────────────────────────────────────────⎟ - ⅈ⋅√C⋅R⋅sin⎜────\n",
              "             ⎝                    2⋅√C⋅L                   ⎠             ⎝    \n",
              "──────────────────────────────────────────────────────────────────────────────\n",
              "                                                                              \n",
              "                                                                              \n",
              "                                                                              \n",
              "\n",
              "                                                                              \n",
              "                                                                              \n",
              " ⎛     ⎛      2      ⎞⎞    ______________⎞           ⎛     ⎛     ⎛      2     \n",
              " ⎜atan2⎝0, C⋅R  - 4⋅L⎠⎟   ╱ │   2      │ ⎟           ⎜     ⎜atan2⎝0, C⋅R  - 4⋅\n",
              "n⎜────────────────────⎟⋅╲╱  │C⋅R  - 4⋅L│ ⎟           ⎜t⋅sin⎜──────────────────\n",
              " ⎝         2          ⎠                  ⎟           ⎜     ⎝         2        \n",
              "─────────────────────────────────────────⎟ + √C⋅R⋅cos⎜────────────────────────\n",
              "                2⋅√C⋅L                   ⎠           ⎝                    2⋅√C\n",
              "──────────────────────────────────────────────────────────────────────────────\n",
              "                                                                              \n",
              "                                                                              \n",
              "                                                                              \n",
              "\n",
              "                                                 ⎛     ⎛      2      ⎞⎞    ___\n",
              "                                                 ⎜atan2⎝0, C⋅R  - 4⋅L⎠⎟   ╱ │ \n",
              " ⎞⎞    ______________⎞                      t⋅cos⎜────────────────────⎟⋅╲╱  │C\n",
              "L⎠⎟   ╱ │   2      │ ⎟                           ⎝         2          ⎠       \n",
              "──⎟⋅╲╱  │C⋅R  - 4⋅L│ ⎟        ____________  ──────────────────────────────────\n",
              "  ⎠                  ⎟       ╱    2                              √C⋅L         \n",
              "─────────────────────⎟ - ⅈ⋅╲╱  C⋅R  - 4⋅L ⋅ℯ                                  \n",
              "⋅L                   ⎠                                                        \n",
              "──────────────────────────────────────────────────────────────────────────────\n",
              "                                                                    __________\n",
              "                                                                   ╱    2     \n",
              "                                                               2⋅╲╱  C⋅R  - 4⋅\n",
              "\n",
              "___________                                                                   \n",
              "  2      │                                                                    \n",
              "⋅R  - 4⋅L│     ⎛     ⎛     ⎛      2      ⎞⎞    ______________⎞                \n",
              "               ⎜     ⎜atan2⎝0, C⋅R  - 4⋅L⎠⎟   ╱ │   2      │ ⎟                \n",
              "───────────    ⎜t⋅sin⎜────────────────────⎟⋅╲╱  │C⋅R  - 4⋅L│ ⎟      __________\n",
              "               ⎜     ⎝         2          ⎠                  ⎟     ╱    2     \n",
              "           ⋅sin⎜─────────────────────────────────────────────⎟ - ╲╱  C⋅R  - 4⋅\n",
              "               ⎝                    2⋅√C⋅L                   ⎠                \n",
              "──────────────────────────────────────────────────────────────────────────────\n",
              "__                                                                            \n",
              "                                                                              \n",
              "L                                                                             \n",
              "\n",
              "         ⎛     ⎛      2      ⎞⎞    ______________                             \n",
              "         ⎜atan2⎝0, C⋅R  - 4⋅L⎠⎟   ╱ │   2      │                              \n",
              "    t⋅cos⎜────────────────────⎟⋅╲╱  │C⋅R  - 4⋅L│     ⎛     ⎛     ⎛      2     \n",
              "         ⎝         2          ⎠                      ⎜     ⎜atan2⎝0, C⋅R  - 4⋅\n",
              "__  ─────────────────────────────────────────────    ⎜t⋅sin⎜──────────────────\n",
              "                         √C⋅L                        ⎜     ⎝         2        \n",
              "L ⋅ℯ                                             ⋅cos⎜────────────────────────\n",
              "                                                     ⎝                    2⋅√C\n",
              "──────────────────────────────────────────────────────────────────────────────\n",
              "                                                                              \n",
              "                                                                              \n",
              "                                                                              \n",
              "\n",
              "                                                                              \n",
              "                                                                              \n",
              " ⎞⎞    ______________⎞                        ⎛     ⎛     ⎛      2      ⎞⎞    \n",
              "L⎠⎟   ╱ │   2      │ ⎟                        ⎜     ⎜atan2⎝0, C⋅R  - 4⋅L⎠⎟   ╱\n",
              "──⎟⋅╲╱  │C⋅R  - 4⋅L│ ⎟        ____________    ⎜t⋅sin⎜────────────────────⎟⋅╲╱ \n",
              "  ⎠                  ⎟       ╱    2           ⎜     ⎝         2          ⎠    \n",
              "─────────────────────⎟ + ⅈ⋅╲╱  C⋅R  - 4⋅L ⋅sin⎜───────────────────────────────\n",
              "⋅L                   ⎠                        ⎝                    2⋅√C⋅L     \n",
              "──────────────────────────────────────────────────────────────────────────────\n",
              "                                                                              \n",
              "                                                                              \n",
              "                                                                              \n",
              "\n",
              "                                                                              \n",
              "                                                                              \n",
              "______________⎞                      ⎛     ⎛     ⎛      2      ⎞⎞    _________\n",
              " │   2      │ ⎟                      ⎜     ⎜atan2⎝0, C⋅R  - 4⋅L⎠⎟   ╱ │   2   \n",
              " │C⋅R  - 4⋅L│ ⎟      ____________    ⎜t⋅sin⎜────────────────────⎟⋅╲╱  │C⋅R  - \n",
              "              ⎟     ╱    2           ⎜     ⎝         2          ⎠             \n",
              "──────────────⎟ - ╲╱  C⋅R  - 4⋅L ⋅cos⎜────────────────────────────────────────\n",
              "              ⎠                      ⎝                    2⋅√C⋅L              \n",
              "──────────────────────────────────────────────────────────────────────────────\n",
              "                                                                              \n",
              "                                                                              \n",
              "                                                                              \n",
              "\n",
              "      ⎞               ⎛     ⎛      2      ⎞⎞    ______________\n",
              "      ⎟               ⎜atan2⎝0, C⋅R  - 4⋅L⎠⎟   ╱ │   2      │ \n",
              "_____⎞⎟          t⋅cos⎜────────────────────⎟⋅╲╱  │C⋅R  - 4⋅L│ \n",
              "   │ ⎟⎟    R⋅t        ⎝         2          ⎠                  \n",
              "4⋅L│ ⎟⎟  - ─── - ─────────────────────────────────────────────\n",
              "     ⎟⎟    2⋅L                       2⋅√C⋅L                   \n",
              "─────⎟⎟⋅ℯ                                                     \n",
              "     ⎠⎠                                                       \n",
              "──────────────────────────────────────────────────────────────\n",
              "                                                              \n",
              "                                                              \n",
              "                                                              "
            ]
          },
          "metadata": {},
          "execution_count": 18
        }
      ]
    },
    {
      "cell_type": "code",
      "source": [
        "#se define y_int(s)\n",
        "i0, y0 = sym.symbols('i0 y0', real=True)\n",
        "\n",
        "Y_int = (R*C + L*C*s) / (L*C*s**2 + R*C*s + 1) * y0 + L / (L*C*s**2 + R*C*s + 1) * i0\n",
        "Y_int"
      ],
      "metadata": {
        "colab": {
          "base_uri": "https://localhost:8080/",
          "height": 54
        },
        "id": "OO_dX1nc0CYd",
        "outputId": "f39ad407-c0e3-4e6a-dadd-dd935c09f069"
      },
      "execution_count": 19,
      "outputs": [
        {
          "output_type": "execute_result",
          "data": {
            "image/png": "[encoded data removed]",
            "text/latex": "$\\displaystyle \\frac{L i_{0}}{C L s^{2} + C R s + 1} + \\frac{y_{0} \\left(C L s + C R\\right)}{C L s^{2} + C R s + 1}$",
            "text/plain": [
              "       L⋅i₀           y₀⋅(C⋅L⋅s + C⋅R) \n",
              "────────────────── + ──────────────────\n",
              "     2                    2            \n",
              "C⋅L⋅s  + C⋅R⋅s + 1   C⋅L⋅s  + C⋅R⋅s + 1"
            ]
          },
          "metadata": {},
          "execution_count": 19
        }
      ]
    },
    {
      "cell_type": "code",
      "source": [
        "#Función de salida en Laplace factorizada (fracciones parciales)\n",
        "YR = Y_int.apart(s)\n",
        "YR"
      ],
      "metadata": {
        "colab": {
          "base_uri": "https://localhost:8080/",
          "height": 53
        },
        "id": "5nV8SmXj0DrX",
        "outputId": "311ac45e-e89e-4def-f2f2-c2d79847a684"
      },
      "execution_count": 20,
      "outputs": [
        {
          "output_type": "execute_result",
          "data": {
            "image/png": "[encoded data removed]",
            "text/latex": "$\\displaystyle \\frac{C L s y_{0} + C R y_{0} + L i_{0}}{C L s^{2} + C R s + 1}$",
            "text/plain": [
              "C⋅L⋅s⋅y₀ + C⋅R⋅y₀ + L⋅i₀\n",
              "────────────────────────\n",
              "        2               \n",
              "   C⋅L⋅s  + C⋅R⋅s + 1   "
            ]
          },
          "metadata": {},
          "execution_count": 20
        }
      ]
    },
    {
      "cell_type": "code",
      "source": [
        "#Modelo en el tiempo en función de RLC\n",
        "Ye = YR\n",
        "#Se recorre cada fracción parcial según factorización para simplificar cálculos\n",
        "for j in range(len(Ye.args)):\n",
        "    if j==0:#primer elemento de la solucion\n",
        "      yt_int = sym.inverse_laplace_transform(Ye.args[j], s, t)\n",
        "    else: #siguientes elementos concatenados\n",
        "      yt_int+= sym.inverse_laplace_transform(Ye.args[j], s, t) \n",
        "yt_int"
      ],
      "metadata": {
        "colab": {
          "base_uri": "https://localhost:8080/",
          "height": 175
        },
        "id": "Eat9ANrR0Euv",
        "outputId": "9a9df9ec-f05f-4de4-e691-f68ff322d040"
      },
      "execution_count": 21,
      "outputs": [
        {
          "output_type": "execute_result",
          "data": {
            "image/png": "[encoded data removed]",
            "text/latex": "$\\displaystyle C L y_{0} \\mathcal{L}^{-1}_{s}\\left[s\\right]\\left(t\\right) + \\frac{\\left(i e^{\\frac{t \\cos{\\left(\\frac{\\operatorname{atan_{2}}{\\left(0,C R^{2} - 4 L \\right)}}{2} \\right)} \\sqrt{\\left|{C R^{2} - 4 L}\\right|}}{\\sqrt{C} L}} \\sin{\\left(\\frac{t \\sin{\\left(\\frac{\\operatorname{atan_{2}}{\\left(0,C R^{2} - 4 L \\right)}}{2} \\right)} \\sqrt{\\left|{C R^{2} - 4 L}\\right|}}{2 \\sqrt{C} L} \\right)} + e^{\\frac{t \\cos{\\left(\\frac{\\operatorname{atan_{2}}{\\left(0,C R^{2} - 4 L \\right)}}{2} \\right)} \\sqrt{\\left|{C R^{2} - 4 L}\\right|}}{\\sqrt{C} L}} \\cos{\\left(\\frac{t \\sin{\\left(\\frac{\\operatorname{atan_{2}}{\\left(0,C R^{2} - 4 L \\right)}}{2} \\right)} \\sqrt{\\left|{C R^{2} - 4 L}\\right|}}{2 \\sqrt{C} L} \\right)} + i \\sin{\\left(\\frac{t \\sin{\\left(\\frac{\\operatorname{atan_{2}}{\\left(0,C R^{2} - 4 L \\right)}}{2} \\right)} \\sqrt{\\left|{C R^{2} - 4 L}\\right|}}{2 \\sqrt{C} L} \\right)} - \\cos{\\left(\\frac{t \\sin{\\left(\\frac{\\operatorname{atan_{2}}{\\left(0,C R^{2} - 4 L \\right)}}{2} \\right)} \\sqrt{\\left|{C R^{2} - 4 L}\\right|}}{2 \\sqrt{C} L} \\right)}\\right) e^{- \\frac{R t}{2 L} - \\frac{t \\cos{\\left(\\frac{\\operatorname{atan_{2}}{\\left(0,C R^{2} - 4 L \\right)}}{2} \\right)} \\sqrt{\\left|{C R^{2} - 4 L}\\right|}}{2 \\sqrt{C} L}}}{\\sqrt{C} \\sqrt{C R^{2} - 4 L}}$",
            "text/plain": [
              "                                                ⎛        ⎛     ⎛      2      ⎞\n",
              "                                                ⎜        ⎜atan2⎝0, C⋅R  - 4⋅L⎠\n",
              "                                                ⎜   t⋅cos⎜────────────────────\n",
              "                                                ⎜        ⎝         2          \n",
              "                                                ⎜   ──────────────────────────\n",
              "                                                ⎜                        √C⋅L \n",
              "                                                ⎜ⅈ⋅ℯ                          \n",
              "                                                ⎝                             \n",
              "C⋅L⋅y₀⋅InverseLaplaceTransform(s, s, t, None) + ──────────────────────────────\n",
              "                                                                              \n",
              "                                                                              \n",
              "                                                                              \n",
              "\n",
              "⎞    ______________                                                           \n",
              "⎟   ╱ │   2      │                                                            \n",
              "⎟⋅╲╱  │C⋅R  - 4⋅L│     ⎛     ⎛     ⎛      2      ⎞⎞    ______________⎞    t⋅co\n",
              "⎠                      ⎜     ⎜atan2⎝0, C⋅R  - 4⋅L⎠⎟   ╱ │   2      │ ⎟        \n",
              "───────────────────    ⎜t⋅sin⎜────────────────────⎟⋅╲╱  │C⋅R  - 4⋅L│ ⎟    ────\n",
              "                       ⎜     ⎝         2          ⎠                  ⎟        \n",
              "                   ⋅sin⎜─────────────────────────────────────────────⎟ + ℯ    \n",
              "                       ⎝                    2⋅√C⋅L                   ⎠        \n",
              "──────────────────────────────────────────────────────────────────────────────\n",
              "                                                                              \n",
              "                                                                              \n",
              "                                                                              \n",
              "\n",
              " ⎛     ⎛      2      ⎞⎞    ______________                                     \n",
              " ⎜atan2⎝0, C⋅R  - 4⋅L⎠⎟   ╱ │   2      │                                      \n",
              "s⎜────────────────────⎟⋅╲╱  │C⋅R  - 4⋅L│     ⎛     ⎛     ⎛      2      ⎞⎞    _\n",
              " ⎝         2          ⎠                      ⎜     ⎜atan2⎝0, C⋅R  - 4⋅L⎠⎟   ╱ \n",
              "─────────────────────────────────────────    ⎜t⋅sin⎜────────────────────⎟⋅╲╱  \n",
              "                 √C⋅L                        ⎜     ⎝         2          ⎠     \n",
              "                                         ⋅cos⎜────────────────────────────────\n",
              "                                             ⎝                    2⋅√C⋅L      \n",
              "──────────────────────────────────────────────────────────────────────────────\n",
              "                                                                       _______\n",
              "                                                                      ╱    2  \n",
              "                                                                 √C⋅╲╱  C⋅R  -\n",
              "\n",
              "                                                                              \n",
              "                                                                              \n",
              "_____________⎞        ⎛     ⎛     ⎛      2      ⎞⎞    ______________⎞      ⎛  \n",
              "│   2      │ ⎟        ⎜     ⎜atan2⎝0, C⋅R  - 4⋅L⎠⎟   ╱ │   2      │ ⎟      ⎜  \n",
              "│C⋅R  - 4⋅L│ ⎟        ⎜t⋅sin⎜────────────────────⎟⋅╲╱  │C⋅R  - 4⋅L│ ⎟      ⎜t⋅\n",
              "             ⎟        ⎜     ⎝         2          ⎠                  ⎟      ⎜  \n",
              "─────────────⎟ + ⅈ⋅sin⎜─────────────────────────────────────────────⎟ - cos⎜──\n",
              "             ⎠        ⎝                    2⋅√C⋅L                   ⎠      ⎝  \n",
              "──────────────────────────────────────────────────────────────────────────────\n",
              "_____                                                                         \n",
              "                                                                              \n",
              " 4⋅L                                                                          \n",
              "\n",
              "                                            ⎞               ⎛     ⎛      2    \n",
              "                                            ⎟               ⎜atan2⎝0, C⋅R  - 4\n",
              "   ⎛     ⎛      2      ⎞⎞    ______________⎞⎟          t⋅cos⎜─────────────────\n",
              "   ⎜atan2⎝0, C⋅R  - 4⋅L⎠⎟   ╱ │   2      │ ⎟⎟    R⋅t        ⎝         2       \n",
              "sin⎜────────────────────⎟⋅╲╱  │C⋅R  - 4⋅L│ ⎟⎟  - ─── - ───────────────────────\n",
              "   ⎝         2          ⎠                  ⎟⎟    2⋅L                       2⋅√\n",
              "───────────────────────────────────────────⎟⎟⋅ℯ                               \n",
              "                  2⋅√C⋅L                   ⎠⎠                                 \n",
              "──────────────────────────────────────────────────────────────────────────────\n",
              "                                                                              \n",
              "                                                                              \n",
              "                                                                              \n",
              "\n",
              "  ⎞⎞    ______________\n",
              "⋅L⎠⎟   ╱ │   2      │ \n",
              "───⎟⋅╲╱  │C⋅R  - 4⋅L│ \n",
              "   ⎠                  \n",
              "──────────────────────\n",
              "C⋅L                   \n",
              "                      \n",
              "                      \n",
              "──────────────────────\n",
              "                      \n",
              "                      \n",
              "                      "
            ]
          },
          "metadata": {},
          "execution_count": 21
        }
      ]
    },
    {
      "cell_type": "code",
      "source": [
        "y_t = yt+ yt_int\n",
        "y_t"
      ],
      "metadata": {
        "colab": {
          "base_uri": "https://localhost:8080/",
          "height": 292
        },
        "id": "_IiTlx2a0Fs8",
        "outputId": "bb64ac78-1672-42ac-adf0-01565d87e583"
      },
      "execution_count": 22,
      "outputs": [
        {
          "output_type": "execute_result",
          "data": {
            "image/png": "[encoded data removed]",
            "text/latex": "$\\displaystyle C L y_{0} \\mathcal{L}^{-1}_{s}\\left[s\\right]\\left(t\\right) + 1 + \\frac{\\left(- i \\sqrt{C} R e^{\\frac{t \\cos{\\left(\\frac{\\operatorname{atan_{2}}{\\left(0,C R^{2} - 4 L \\right)}}{2} \\right)} \\sqrt{\\left|{C R^{2} - 4 L}\\right|}}{\\sqrt{C} L}} \\sin{\\left(\\frac{t \\sin{\\left(\\frac{\\operatorname{atan_{2}}{\\left(0,C R^{2} - 4 L \\right)}}{2} \\right)} \\sqrt{\\left|{C R^{2} - 4 L}\\right|}}{2 \\sqrt{C} L} \\right)} - \\sqrt{C} R e^{\\frac{t \\cos{\\left(\\frac{\\operatorname{atan_{2}}{\\left(0,C R^{2} - 4 L \\right)}}{2} \\right)} \\sqrt{\\left|{C R^{2} - 4 L}\\right|}}{\\sqrt{C} L}} \\cos{\\left(\\frac{t \\sin{\\left(\\frac{\\operatorname{atan_{2}}{\\left(0,C R^{2} - 4 L \\right)}}{2} \\right)} \\sqrt{\\left|{C R^{2} - 4 L}\\right|}}{2 \\sqrt{C} L} \\right)} - i \\sqrt{C} R \\sin{\\left(\\frac{t \\sin{\\left(\\frac{\\operatorname{atan_{2}}{\\left(0,C R^{2} - 4 L \\right)}}{2} \\right)} \\sqrt{\\left|{C R^{2} - 4 L}\\right|}}{2 \\sqrt{C} L} \\right)} + \\sqrt{C} R \\cos{\\left(\\frac{t \\sin{\\left(\\frac{\\operatorname{atan_{2}}{\\left(0,C R^{2} - 4 L \\right)}}{2} \\right)} \\sqrt{\\left|{C R^{2} - 4 L}\\right|}}{2 \\sqrt{C} L} \\right)} - i \\sqrt{C R^{2} - 4 L} e^{\\frac{t \\cos{\\left(\\frac{\\operatorname{atan_{2}}{\\left(0,C R^{2} - 4 L \\right)}}{2} \\right)} \\sqrt{\\left|{C R^{2} - 4 L}\\right|}}{\\sqrt{C} L}} \\sin{\\left(\\frac{t \\sin{\\left(\\frac{\\operatorname{atan_{2}}{\\left(0,C R^{2} - 4 L \\right)}}{2} \\right)} \\sqrt{\\left|{C R^{2} - 4 L}\\right|}}{2 \\sqrt{C} L} \\right)} - \\sqrt{C R^{2} - 4 L} e^{\\frac{t \\cos{\\left(\\frac{\\operatorname{atan_{2}}{\\left(0,C R^{2} - 4 L \\right)}}{2} \\right)} \\sqrt{\\left|{C R^{2} - 4 L}\\right|}}{\\sqrt{C} L}} \\cos{\\left(\\frac{t \\sin{\\left(\\frac{\\operatorname{atan_{2}}{\\left(0,C R^{2} - 4 L \\right)}}{2} \\right)} \\sqrt{\\left|{C R^{2} - 4 L}\\right|}}{2 \\sqrt{C} L} \\right)} + i \\sqrt{C R^{2} - 4 L} \\sin{\\left(\\frac{t \\sin{\\left(\\frac{\\operatorname{atan_{2}}{\\left(0,C R^{2} - 4 L \\right)}}{2} \\right)} \\sqrt{\\left|{C R^{2} - 4 L}\\right|}}{2 \\sqrt{C} L} \\right)} - \\sqrt{C R^{2} - 4 L} \\cos{\\left(\\frac{t \\sin{\\left(\\frac{\\operatorname{atan_{2}}{\\left(0,C R^{2} - 4 L \\right)}}{2} \\right)} \\sqrt{\\left|{C R^{2} - 4 L}\\right|}}{2 \\sqrt{C} L} \\right)}\\right) e^{- \\frac{R t}{2 L} - \\frac{t \\cos{\\left(\\frac{\\operatorname{atan_{2}}{\\left(0,C R^{2} - 4 L \\right)}}{2} \\right)} \\sqrt{\\left|{C R^{2} - 4 L}\\right|}}{2 \\sqrt{C} L}}}{2 \\sqrt{C R^{2} - 4 L}} + \\frac{\\left(i e^{\\frac{t \\cos{\\left(\\frac{\\operatorname{atan_{2}}{\\left(0,C R^{2} - 4 L \\right)}}{2} \\right)} \\sqrt{\\left|{C R^{2} - 4 L}\\right|}}{\\sqrt{C} L}} \\sin{\\left(\\frac{t \\sin{\\left(\\frac{\\operatorname{atan_{2}}{\\left(0,C R^{2} - 4 L \\right)}}{2} \\right)} \\sqrt{\\left|{C R^{2} - 4 L}\\right|}}{2 \\sqrt{C} L} \\right)} + e^{\\frac{t \\cos{\\left(\\frac{\\operatorname{atan_{2}}{\\left(0,C R^{2} - 4 L \\right)}}{2} \\right)} \\sqrt{\\left|{C R^{2} - 4 L}\\right|}}{\\sqrt{C} L}} \\cos{\\left(\\frac{t \\sin{\\left(\\frac{\\operatorname{atan_{2}}{\\left(0,C R^{2} - 4 L \\right)}}{2} \\right)} \\sqrt{\\left|{C R^{2} - 4 L}\\right|}}{2 \\sqrt{C} L} \\right)} + i \\sin{\\left(\\frac{t \\sin{\\left(\\frac{\\operatorname{atan_{2}}{\\left(0,C R^{2} - 4 L \\right)}}{2} \\right)} \\sqrt{\\left|{C R^{2} - 4 L}\\right|}}{2 \\sqrt{C} L} \\right)} - \\cos{\\left(\\frac{t \\sin{\\left(\\frac{\\operatorname{atan_{2}}{\\left(0,C R^{2} - 4 L \\right)}}{2} \\right)} \\sqrt{\\left|{C R^{2} - 4 L}\\right|}}{2 \\sqrt{C} L} \\right)}\\right) e^{- \\frac{R t}{2 L} - \\frac{t \\cos{\\left(\\frac{\\operatorname{atan_{2}}{\\left(0,C R^{2} - 4 L \\right)}}{2} \\right)} \\sqrt{\\left|{C R^{2} - 4 L}\\right|}}{2 \\sqrt{C} L}}}{\\sqrt{C} \\sqrt{C R^{2} - 4 L}}$",
            "text/plain": [
              "                                                    ⎛               ⎛     ⎛   \n",
              "                                                    ⎜               ⎜atan2⎝0, \n",
              "                                                    ⎜          t⋅cos⎜─────────\n",
              "                                                    ⎜               ⎝         \n",
              "                                                    ⎜          ───────────────\n",
              "                                                    ⎜                         \n",
              "                                                    ⎜- ⅈ⋅√C⋅R⋅ℯ               \n",
              "                                                    ⎝                         \n",
              "C⋅L⋅y₀⋅InverseLaplaceTransform(s, s, t, None) + 1 + ──────────────────────────\n",
              "                                                                              \n",
              "                                                                              \n",
              "                                                                              \n",
              "\n",
              "   2      ⎞⎞    ______________                                                \n",
              "C⋅R  - 4⋅L⎠⎟   ╱ │   2      │                                                 \n",
              "───────────⎟⋅╲╱  │C⋅R  - 4⋅L│     ⎛     ⎛     ⎛      2      ⎞⎞    ____________\n",
              "2          ⎠                      ⎜     ⎜atan2⎝0, C⋅R  - 4⋅L⎠⎟   ╱ │   2      \n",
              "──────────────────────────────    ⎜t⋅sin⎜────────────────────⎟⋅╲╱  │C⋅R  - 4⋅L\n",
              "      √C⋅L                        ⎜     ⎝         2          ⎠                \n",
              "                              ⋅sin⎜───────────────────────────────────────────\n",
              "                                  ⎝                    2⋅√C⋅L                 \n",
              "──────────────────────────────────────────────────────────────────────────────\n",
              "                                                                              \n",
              "                                                                              \n",
              "                                                                              \n",
              "\n",
              "                 ⎛     ⎛      2      ⎞⎞    ______________                     \n",
              "                 ⎜atan2⎝0, C⋅R  - 4⋅L⎠⎟   ╱ │   2      │                      \n",
              "__⎞         t⋅cos⎜────────────────────⎟⋅╲╱  │C⋅R  - 4⋅L│     ⎛     ⎛     ⎛    \n",
              "│ ⎟              ⎝         2          ⎠                      ⎜     ⎜atan2⎝0, C\n",
              "│ ⎟         ─────────────────────────────────────────────    ⎜t⋅sin⎜──────────\n",
              "  ⎟                              √C⋅L                        ⎜     ⎝         2\n",
              "──⎟ - √C⋅R⋅ℯ                                             ⋅cos⎜────────────────\n",
              "  ⎠                                                          ⎝                \n",
              "──────────────────────────────────────────────────────────────────────────────\n",
              "                                                                              \n",
              "                                                                              \n",
              "                                                                              \n",
              "\n",
              "                                                                              \n",
              "                                                                              \n",
              "  2      ⎞⎞    ______________⎞             ⎛     ⎛     ⎛      2      ⎞⎞    ___\n",
              "⋅R  - 4⋅L⎠⎟   ╱ │   2      │ ⎟             ⎜     ⎜atan2⎝0, C⋅R  - 4⋅L⎠⎟   ╱ │ \n",
              "──────────⎟⋅╲╱  │C⋅R  - 4⋅L│ ⎟             ⎜t⋅sin⎜────────────────────⎟⋅╲╱  │C\n",
              "          ⎠                  ⎟             ⎜     ⎝         2          ⎠       \n",
              "─────────────────────────────⎟ - ⅈ⋅√C⋅R⋅sin⎜──────────────────────────────────\n",
              "    2⋅√C⋅L                   ⎠             ⎝                    2⋅√C⋅L        \n",
              "──────────────────────────────────────────────────────────────────────────────\n",
              "                                                                              \n",
              "                                                                              \n",
              "                                                                              \n",
              "\n",
              "                                                                              \n",
              "                                                                              \n",
              "___________⎞           ⎛     ⎛     ⎛      2      ⎞⎞    ______________⎞        \n",
              "  2      │ ⎟           ⎜     ⎜atan2⎝0, C⋅R  - 4⋅L⎠⎟   ╱ │   2      │ ⎟        \n",
              "⋅R  - 4⋅L│ ⎟           ⎜t⋅sin⎜────────────────────⎟⋅╲╱  │C⋅R  - 4⋅L│ ⎟        \n",
              "           ⎟           ⎜     ⎝         2          ⎠                  ⎟       ╱\n",
              "───────────⎟ + √C⋅R⋅cos⎜─────────────────────────────────────────────⎟ - ⅈ⋅╲╱ \n",
              "           ⎠           ⎝                    2⋅√C⋅L                   ⎠        \n",
              "──────────────────────────────────────────────────────────────────────────────\n",
              "                                                                              \n",
              "                                                                              \n",
              "                                                                              \n",
              "\n",
              "                   ⎛     ⎛      2      ⎞⎞    ______________                   \n",
              "                   ⎜atan2⎝0, C⋅R  - 4⋅L⎠⎟   ╱ │   2      │                    \n",
              "              t⋅cos⎜────────────────────⎟⋅╲╱  │C⋅R  - 4⋅L│     ⎛     ⎛     ⎛  \n",
              "                   ⎝         2          ⎠                      ⎜     ⎜atan2⎝0,\n",
              "____________  ─────────────────────────────────────────────    ⎜t⋅sin⎜────────\n",
              "    2                              √C⋅L                        ⎜     ⎝        \n",
              " C⋅R  - 4⋅L ⋅ℯ                                             ⋅sin⎜──────────────\n",
              "                                                               ⎝              \n",
              "──────────────────────────────────────────────────────────────────────────────\n",
              "                                      ____________                            \n",
              "                                     ╱    2                                   \n",
              "                                 2⋅╲╱  C⋅R  - 4⋅L                             \n",
              "\n",
              "                                                         ⎛     ⎛      2      ⎞\n",
              "                                                         ⎜atan2⎝0, C⋅R  - 4⋅L⎠\n",
              "    2      ⎞⎞    ______________⎞                    t⋅cos⎜────────────────────\n",
              " C⋅R  - 4⋅L⎠⎟   ╱ │   2      │ ⎟                         ⎝         2          \n",
              "────────────⎟⋅╲╱  │C⋅R  - 4⋅L│ ⎟      ____________  ──────────────────────────\n",
              " 2          ⎠                  ⎟     ╱    2                              √C⋅L \n",
              "───────────────────────────────⎟ - ╲╱  C⋅R  - 4⋅L ⋅ℯ                          \n",
              "      2⋅√C⋅L                   ⎠                                              \n",
              "──────────────────────────────────────────────────────────────────────────────\n",
              "                                                                              \n",
              "                                                                              \n",
              "                                                                              \n",
              "\n",
              "⎞    ______________                                                           \n",
              "⎟   ╱ │   2      │                                                            \n",
              "⎟⋅╲╱  │C⋅R  - 4⋅L│     ⎛     ⎛     ⎛      2      ⎞⎞    ______________⎞        \n",
              "⎠                      ⎜     ⎜atan2⎝0, C⋅R  - 4⋅L⎠⎟   ╱ │   2      │ ⎟        \n",
              "───────────────────    ⎜t⋅sin⎜────────────────────⎟⋅╲╱  │C⋅R  - 4⋅L│ ⎟        \n",
              "                       ⎜     ⎝         2          ⎠                  ⎟       ╱\n",
              "                   ⋅cos⎜─────────────────────────────────────────────⎟ + ⅈ⋅╲╱ \n",
              "                       ⎝                    2⋅√C⋅L                   ⎠        \n",
              "──────────────────────────────────────────────────────────────────────────────\n",
              "                                                                              \n",
              "                                                                              \n",
              "                                                                              \n",
              "\n",
              "                                                                              \n",
              "                                                                              \n",
              "                ⎛     ⎛     ⎛      2      ⎞⎞    ______________⎞               \n",
              "                ⎜     ⎜atan2⎝0, C⋅R  - 4⋅L⎠⎟   ╱ │   2      │ ⎟               \n",
              "____________    ⎜t⋅sin⎜────────────────────⎟⋅╲╱  │C⋅R  - 4⋅L│ ⎟      _________\n",
              "    2           ⎜     ⎝         2          ⎠                  ⎟     ╱    2    \n",
              " C⋅R  - 4⋅L ⋅sin⎜─────────────────────────────────────────────⎟ - ╲╱  C⋅R  - 4\n",
              "                ⎝                    2⋅√C⋅L                   ⎠               \n",
              "──────────────────────────────────────────────────────────────────────────────\n",
              "                                                                              \n",
              "                                                                              \n",
              "                                                                              \n",
              "\n",
              "                                                      ⎞               ⎛     ⎛ \n",
              "                                                      ⎟               ⎜atan2⎝0\n",
              "       ⎛     ⎛     ⎛      2      ⎞⎞    ______________⎞⎟          t⋅cos⎜───────\n",
              "       ⎜     ⎜atan2⎝0, C⋅R  - 4⋅L⎠⎟   ╱ │   2      │ ⎟⎟    R⋅t        ⎝       \n",
              "___    ⎜t⋅sin⎜────────────────────⎟⋅╲╱  │C⋅R  - 4⋅L│ ⎟⎟  - ─── - ─────────────\n",
              "       ⎜     ⎝         2          ⎠                  ⎟⎟    2⋅L                \n",
              "⋅L ⋅cos⎜─────────────────────────────────────────────⎟⎟⋅ℯ                     \n",
              "       ⎝                    2⋅√C⋅L                   ⎠⎠                       \n",
              "──────────────────────────────────────────────────────────────────────────────\n",
              "                                                                              \n",
              "                                                                              \n",
              "                                                                              \n",
              "\n",
              "     2      ⎞⎞    ______________   ⎛        ⎛     ⎛      2      ⎞⎞    ________\n",
              ", C⋅R  - 4⋅L⎠⎟   ╱ │   2      │    ⎜        ⎜atan2⎝0, C⋅R  - 4⋅L⎠⎟   ╱ │   2  \n",
              "─────────────⎟⋅╲╱  │C⋅R  - 4⋅L│    ⎜   t⋅cos⎜────────────────────⎟⋅╲╱  │C⋅R  -\n",
              "  2          ⎠                     ⎜        ⎝         2          ⎠            \n",
              "────────────────────────────────   ⎜   ───────────────────────────────────────\n",
              "       2⋅√C⋅L                      ⎜                        √C⋅L              \n",
              "                                   ⎜ⅈ⋅ℯ                                       \n",
              "                                   ⎝                                          \n",
              "──────────────────────────────── + ───────────────────────────────────────────\n",
              "                                                                              \n",
              "                                                                              \n",
              "                                                                              \n",
              "\n",
              "______                                                            ⎛     ⎛     \n",
              "    │                                                             ⎜atan2⎝0, C⋅\n",
              " 4⋅L│     ⎛     ⎛     ⎛      2      ⎞⎞    ______________⎞    t⋅cos⎜───────────\n",
              "          ⎜     ⎜atan2⎝0, C⋅R  - 4⋅L⎠⎟   ╱ │   2      │ ⎟         ⎝         2 \n",
              "──────    ⎜t⋅sin⎜────────────────────⎟⋅╲╱  │C⋅R  - 4⋅L│ ⎟    ─────────────────\n",
              "          ⎜     ⎝         2          ⎠                  ⎟                     \n",
              "      ⋅sin⎜─────────────────────────────────────────────⎟ + ℯ                 \n",
              "          ⎝                    2⋅√C⋅L                   ⎠                     \n",
              "──────────────────────────────────────────────────────────────────────────────\n",
              "                                                                              \n",
              "                                                                              \n",
              "                                                                              \n",
              "\n",
              " 2      ⎞⎞    ______________                                                  \n",
              "R  - 4⋅L⎠⎟   ╱ │   2      │                                                   \n",
              "─────────⎟⋅╲╱  │C⋅R  - 4⋅L│     ⎛     ⎛     ⎛      2      ⎞⎞    ______________\n",
              "         ⎠                      ⎜     ⎜atan2⎝0, C⋅R  - 4⋅L⎠⎟   ╱ │   2      │ \n",
              "────────────────────────────    ⎜t⋅sin⎜────────────────────⎟⋅╲╱  │C⋅R  - 4⋅L│ \n",
              "    √C⋅L                        ⎜     ⎝         2          ⎠                  \n",
              "                            ⋅cos⎜─────────────────────────────────────────────\n",
              "                                ⎝                    2⋅√C⋅L                   \n",
              "──────────────────────────────────────────────────────────────────────────────\n",
              "                                                          ____________        \n",
              "                                                         ╱    2               \n",
              "                                                    √C⋅╲╱  C⋅R  - 4⋅L         \n",
              "\n",
              "                                                                              \n",
              "                                                                              \n",
              "⎞        ⎛     ⎛     ⎛      2      ⎞⎞    ______________⎞      ⎛     ⎛     ⎛   \n",
              "⎟        ⎜     ⎜atan2⎝0, C⋅R  - 4⋅L⎠⎟   ╱ │   2      │ ⎟      ⎜     ⎜atan2⎝0, \n",
              "⎟        ⎜t⋅sin⎜────────────────────⎟⋅╲╱  │C⋅R  - 4⋅L│ ⎟      ⎜t⋅sin⎜─────────\n",
              "⎟        ⎜     ⎝         2          ⎠                  ⎟      ⎜     ⎝         \n",
              "⎟ + ⅈ⋅sin⎜─────────────────────────────────────────────⎟ - cos⎜───────────────\n",
              "⎠        ⎝                    2⋅√C⋅L                   ⎠      ⎝               \n",
              "──────────────────────────────────────────────────────────────────────────────\n",
              "                                                                              \n",
              "                                                                              \n",
              "                                                                              \n",
              "\n",
              "                               ⎞               ⎛     ⎛      2      ⎞⎞    _____\n",
              "                               ⎟               ⎜atan2⎝0, C⋅R  - 4⋅L⎠⎟   ╱ │   \n",
              "   2      ⎞⎞    ______________⎞⎟          t⋅cos⎜────────────────────⎟⋅╲╱  │C⋅R\n",
              "C⋅R  - 4⋅L⎠⎟   ╱ │   2      │ ⎟⎟    R⋅t        ⎝         2          ⎠         \n",
              "───────────⎟⋅╲╱  │C⋅R  - 4⋅L│ ⎟⎟  - ─── - ────────────────────────────────────\n",
              "2          ⎠                  ⎟⎟    2⋅L                       2⋅√C⋅L          \n",
              "──────────────────────────────⎟⎟⋅ℯ                                            \n",
              "     2⋅√C⋅L                   ⎠⎠                                              \n",
              "──────────────────────────────────────────────────────────────────────────────\n",
              "                                                                              \n",
              "                                                                              \n",
              "                                                                              \n",
              "\n",
              "_________\n",
              "2      │ \n",
              "  - 4⋅L│ \n",
              "         \n",
              "─────────\n",
              "         \n",
              "         \n",
              "         \n",
              "─────────\n",
              "         \n",
              "         \n",
              "         "
            ]
          },
          "metadata": {},
          "execution_count": 22
        }
      ]
    },
    {
      "cell_type": "code",
      "source": [
        "#Modelo en el tiempo con RLC evaluados\n",
        "RLC = {R: 1, L: sym.Rational('.5'), C: sym.Rational('.4')}\n",
        "Ye = Yp.subs(RLC)\n",
        "for j in range(len(Ye.args)):\n",
        "    if j==0:\n",
        "      y_ext = sym.inverse_laplace_transform(Ye.args[j], s, t)\n",
        "    else:\n",
        "      y_ext+= sym.inverse_laplace_transform(Ye.args[j], s, t)\n",
        " \n",
        "y_ext"
      ],
      "metadata": {
        "colab": {
          "base_uri": "https://localhost:8080/",
          "height": 58
        },
        "id": "E2vyzhni0GtM",
        "outputId": "070a63ec-b848-44b8-8ff5-bdbd9969382b"
      },
      "execution_count": 23,
      "outputs": [
        {
          "output_type": "execute_result",
          "data": {
            "image/png": "[encoded data removed]",
            "text/latex": "$\\displaystyle - \\left(\\frac{\\sin{\\left(2 t \\right)}}{2} + \\cos{\\left(2 t \\right)}\\right) e^{- t} + 1$",
            "text/plain": [
              "  ⎛sin(2⋅t)           ⎞  -t    \n",
              "- ⎜──────── + cos(2⋅t)⎟⋅ℯ   + 1\n",
              "  ⎝   2               ⎠        "
            ]
          },
          "metadata": {},
          "execution_count": 23
        }
      ]
    },
    {
      "cell_type": "code",
      "source": [
        "#Función de salida Y(s) -- Laplace\n",
        "Ye"
      ],
      "metadata": {
        "colab": {
          "base_uri": "https://localhost:8080/",
          "height": 73
        },
        "id": "QUUbj-Tp0I6S",
        "outputId": "e5c394c6-4df2-49b9-d671-d36e1635c666"
      },
      "execution_count": 24,
      "outputs": [
        {
          "output_type": "execute_result",
          "data": {
            "image/png": "[encoded data removed]",
            "text/latex": "$\\displaystyle - \\frac{2 \\left(\\frac{s}{2} + 1\\right)}{5 \\left(\\frac{s^{2}}{5} + \\frac{2 s}{5} + 1\\right)} + \\frac{1}{s}$",
            "text/plain": [
              "       ⎛s    ⎞        \n",
              "     2⋅⎜─ + 1⎟        \n",
              "       ⎝2    ⎠       1\n",
              "- ──────────────── + ─\n",
              "    ⎛ 2          ⎞   s\n",
              "    ⎜s    2⋅s    ⎟    \n",
              "  5⋅⎜── + ─── + 1⎟    \n",
              "    ⎝5     5     ⎠    "
            ]
          },
          "metadata": {},
          "execution_count": 24
        }
      ]
    },
    {
      "cell_type": "code",
      "source": [
        "i0, y0 = sym.symbols('i0 y0', real=True)\n",
        "\n",
        "Yint = (R*C + L*C*s) / (L*C*s**2 + R*C*s + 1) * y0 + L / (L*C*s**2 + R*C*s + 1) * i0\n",
        "Yint"
      ],
      "metadata": {
        "colab": {
          "base_uri": "https://localhost:8080/",
          "height": 54
        },
        "id": "Mo-aQRZJ0LK9",
        "outputId": "434e5b7f-2c7b-4b72-d471-a34ddccccb09"
      },
      "execution_count": 25,
      "outputs": [
        {
          "output_type": "execute_result",
          "data": {
            "image/png": "[encoded data removed]",
            "text/latex": "$\\displaystyle \\frac{L i_{0}}{C L s^{2} + C R s + 1} + \\frac{y_{0} \\left(C L s + C R\\right)}{C L s^{2} + C R s + 1}$",
            "text/plain": [
              "       L⋅i₀           y₀⋅(C⋅L⋅s + C⋅R) \n",
              "────────────────── + ──────────────────\n",
              "     2                    2            \n",
              "C⋅L⋅s  + C⋅R⋅s + 1   C⋅L⋅s  + C⋅R⋅s + 1"
            ]
          },
          "metadata": {},
          "execution_count": 25
        }
      ]
    },
    {
      "cell_type": "code",
      "source": [
        "#se inicializa y_interna con valores iniciales \n",
        "yint = sym.inverse_laplace_transform(Yint.subs(RLC).subs(i0, 0).subs(y0, -1), s, t)\n",
        "yint"
      ],
      "metadata": {
        "colab": {
          "base_uri": "https://localhost:8080/",
          "height": 58
        },
        "id": "MJj48VEC0M-D",
        "outputId": "14a3049c-5238-46c4-a47d-23d374ee1c06"
      },
      "execution_count": 26,
      "outputs": [
        {
          "output_type": "execute_result",
          "data": {
            "image/png": "[encoded data removed]",
            "text/latex": "$\\displaystyle - \\left(\\frac{\\sin{\\left(2 t \\right)}}{2} + \\cos{\\left(2 t \\right)}\\right) e^{- t}$",
            "text/plain": [
              " ⎛sin(2⋅t)           ⎞  -t\n",
              "-⎜──────── + cos(2⋅t)⎟⋅ℯ  \n",
              " ⎝   2               ⎠    "
            ]
          },
          "metadata": {},
          "execution_count": 26
        }
      ]
    },
    {
      "cell_type": "code",
      "source": [
        "yt = y_ext + yint\n",
        "yt.simplify()"
      ],
      "metadata": {
        "colab": {
          "base_uri": "https://localhost:8080/",
          "height": 38
        },
        "id": "mu0e694W0QoN",
        "outputId": "07f21ff2-f1a7-44e8-8427-eb6c4aa59163"
      },
      "execution_count": 27,
      "outputs": [
        {
          "output_type": "execute_result",
          "data": {
            "image/png": "[encoded data removed]",
            "text/latex": "$\\displaystyle \\left(e^{t} - \\sin{\\left(2 t \\right)} - 2 \\cos{\\left(2 t \\right)}\\right) e^{- t}$",
            "text/plain": [
              "⎛ t                        ⎞  -t\n",
              "⎝ℯ  - sin(2⋅t) - 2⋅cos(2⋅t)⎠⋅ℯ  "
            ]
          },
          "metadata": {},
          "execution_count": 27
        }
      ]
    },
    {
      "cell_type": "markdown",
      "source": [
        "En la siguiente gráfica se presentan: \n",
        "* la parte interna $y_\\text{int}(t)$ (Línea verde), \n",
        "* la parte externa $y_\\text{ext}(t)$ (Línea azul), \n",
        "* la señal de salida $y(t)$ (Línea roja) "
      ],
      "metadata": {
        "id": "C3s6Nt470XFX"
      }
    },
    {
      "cell_type": "code",
      "source": [
        "p1 = sym.plot(y_ext, (t, 0, 5), line_color='b', xlabel='$t$', ylabel='$y(t)$', show=False)\n",
        "p2 = sym.plot(yint, (t, 0, 5), line_color='g', show=False)\n",
        "p3 = sym.plot(yt, (t, 0, 5), line_color='r', show=False)\n",
        "p1.extend(p2)\n",
        "p1.extend(p3)\n",
        "p1.show()"
      ],
      "metadata": {
        "colab": {
          "base_uri": "https://localhost:8080/",
          "height": 297
        },
        "id": "1ZRcL2vE0XkA",
        "outputId": "be65b27b-58e0-41f3-e21d-1b57a48c3cc7"
      },
      "execution_count": 28,
      "outputs": [
        {
          "output_type": "display_data",
          "data": {
            "image/png": "[encoded data removed]",
            "text/plain": [
              "<Figure size 432x288 with 1 Axes>"
            ]
          },
          "metadata": {
            "needs_background": "light"
          }
        }
      ]
    },
    {
      "cell_type": "markdown",
      "source": [
        "###RAMPA"
      ],
      "metadata": {
        "id": "WNjcTu8s1390"
      }
    },
    {
      "cell_type": "code",
      "source": [
        "%matplotlib inline\n",
        "import sympy as sym\n",
        "sym.init_printing()\n",
        "\n",
        "s = sym.symbols('s', complex=True)\n",
        "t, R, L, C = sym.symbols('t R L C', positive=True)\n",
        "#Entrada de interés en Laplace\n",
        "X = 1/s**2\n",
        "\n",
        "Y_ext = 1/(L*C*s**2 + R*C*s + 1) * X\n",
        "#Función de salida para y_externa\n",
        "Y_ext"
      ],
      "metadata": {
        "colab": {
          "base_uri": "https://localhost:8080/",
          "height": 55
        },
        "id": "sb9olnPn17zG",
        "outputId": "387d32a0-6628-4a6f-ec6a-bff30aa5c7b8"
      },
      "execution_count": 29,
      "outputs": [
        {
          "output_type": "execute_result",
          "data": {
            "image/png": "[encoded data removed]",
            "text/latex": "$\\displaystyle \\frac{1}{s^{2} \\left(C L s^{2} + C R s + 1\\right)}$",
            "text/plain": [
              "           1           \n",
              "───────────────────────\n",
              " 2 ⎛     2            ⎞\n",
              "s ⋅⎝C⋅L⋅s  + C⋅R⋅s + 1⎠"
            ]
          },
          "metadata": {},
          "execution_count": 29
        }
      ]
    },
    {
      "cell_type": "code",
      "source": [
        "#Modelo en el tiempo en función de RLC\n",
        "Ye = Yp\n",
        "#Se recorre cada fracción parcial según factorización para simplificar cálculos\n",
        "for j in range(len(Ye.args)):\n",
        "    if j==0:#primer elemento de la solucion\n",
        "      yt = sym.inverse_laplace_transform(Ye.args[j], s, t)\n",
        "    else: #siguientes elementos concatenados\n",
        "      yt+= sym.inverse_laplace_transform(Ye.args[j], s, t) \n",
        "yt"
      ],
      "metadata": {
        "colab": {
          "base_uri": "https://localhost:8080/",
          "height": 174
        },
        "id": "a38BfS8q19P0",
        "outputId": "71803ee7-a754-4deb-86df-e0269ff3d3eb"
      },
      "execution_count": 30,
      "outputs": [
        {
          "output_type": "execute_result",
          "data": {
            "image/png": "[encoded data removed]",
            "text/latex": "$\\displaystyle 1 + \\frac{\\left(- i \\sqrt{C} R e^{\\frac{t \\cos{\\left(\\frac{\\operatorname{atan_{2}}{\\left(0,C R^{2} - 4 L \\right)}}{2} \\right)} \\sqrt{\\left|{C R^{2} - 4 L}\\right|}}{\\sqrt{C} L}} \\sin{\\left(\\frac{t \\sin{\\left(\\frac{\\operatorname{atan_{2}}{\\left(0,C R^{2} - 4 L \\right)}}{2} \\right)} \\sqrt{\\left|{C R^{2} - 4 L}\\right|}}{2 \\sqrt{C} L} \\right)} - \\sqrt{C} R e^{\\frac{t \\cos{\\left(\\frac{\\operatorname{atan_{2}}{\\left(0,C R^{2} - 4 L \\right)}}{2} \\right)} \\sqrt{\\left|{C R^{2} - 4 L}\\right|}}{\\sqrt{C} L}} \\cos{\\left(\\frac{t \\sin{\\left(\\frac{\\operatorname{atan_{2}}{\\left(0,C R^{2} - 4 L \\right)}}{2} \\right)} \\sqrt{\\left|{C R^{2} - 4 L}\\right|}}{2 \\sqrt{C} L} \\right)} - i \\sqrt{C} R \\sin{\\left(\\frac{t \\sin{\\left(\\frac{\\operatorname{atan_{2}}{\\left(0,C R^{2} - 4 L \\right)}}{2} \\right)} \\sqrt{\\left|{C R^{2} - 4 L}\\right|}}{2 \\sqrt{C} L} \\right)} + \\sqrt{C} R \\cos{\\left(\\frac{t \\sin{\\left(\\frac{\\operatorname{atan_{2}}{\\left(0,C R^{2} - 4 L \\right)}}{2} \\right)} \\sqrt{\\left|{C R^{2} - 4 L}\\right|}}{2 \\sqrt{C} L} \\right)} - i \\sqrt{C R^{2} - 4 L} e^{\\frac{t \\cos{\\left(\\frac{\\operatorname{atan_{2}}{\\left(0,C R^{2} - 4 L \\right)}}{2} \\right)} \\sqrt{\\left|{C R^{2} - 4 L}\\right|}}{\\sqrt{C} L}} \\sin{\\left(\\frac{t \\sin{\\left(\\frac{\\operatorname{atan_{2}}{\\left(0,C R^{2} - 4 L \\right)}}{2} \\right)} \\sqrt{\\left|{C R^{2} - 4 L}\\right|}}{2 \\sqrt{C} L} \\right)} - \\sqrt{C R^{2} - 4 L} e^{\\frac{t \\cos{\\left(\\frac{\\operatorname{atan_{2}}{\\left(0,C R^{2} - 4 L \\right)}}{2} \\right)} \\sqrt{\\left|{C R^{2} - 4 L}\\right|}}{\\sqrt{C} L}} \\cos{\\left(\\frac{t \\sin{\\left(\\frac{\\operatorname{atan_{2}}{\\left(0,C R^{2} - 4 L \\right)}}{2} \\right)} \\sqrt{\\left|{C R^{2} - 4 L}\\right|}}{2 \\sqrt{C} L} \\right)} + i \\sqrt{C R^{2} - 4 L} \\sin{\\left(\\frac{t \\sin{\\left(\\frac{\\operatorname{atan_{2}}{\\left(0,C R^{2} - 4 L \\right)}}{2} \\right)} \\sqrt{\\left|{C R^{2} - 4 L}\\right|}}{2 \\sqrt{C} L} \\right)} - \\sqrt{C R^{2} - 4 L} \\cos{\\left(\\frac{t \\sin{\\left(\\frac{\\operatorname{atan_{2}}{\\left(0,C R^{2} - 4 L \\right)}}{2} \\right)} \\sqrt{\\left|{C R^{2} - 4 L}\\right|}}{2 \\sqrt{C} L} \\right)}\\right) e^{- \\frac{R t}{2 L} - \\frac{t \\cos{\\left(\\frac{\\operatorname{atan_{2}}{\\left(0,C R^{2} - 4 L \\right)}}{2} \\right)} \\sqrt{\\left|{C R^{2} - 4 L}\\right|}}{2 \\sqrt{C} L}}}{2 \\sqrt{C R^{2} - 4 L}}$",
            "text/plain": [
              "    ⎛               ⎛     ⎛      2      ⎞⎞    ______________                  \n",
              "    ⎜               ⎜atan2⎝0, C⋅R  - 4⋅L⎠⎟   ╱ │   2      │                   \n",
              "    ⎜          t⋅cos⎜────────────────────⎟⋅╲╱  │C⋅R  - 4⋅L│     ⎛     ⎛     ⎛ \n",
              "    ⎜               ⎝         2          ⎠                      ⎜     ⎜atan2⎝0\n",
              "    ⎜          ─────────────────────────────────────────────    ⎜t⋅sin⎜───────\n",
              "    ⎜                               √C⋅L                        ⎜     ⎝       \n",
              "    ⎜- ⅈ⋅√C⋅R⋅ℯ                                             ⋅sin⎜─────────────\n",
              "    ⎝                                                           ⎝             \n",
              "1 + ──────────────────────────────────────────────────────────────────────────\n",
              "                                                                              \n",
              "                                                                              \n",
              "                                                                              \n",
              "\n",
              "                                               ⎛     ⎛      2      ⎞⎞    _____\n",
              "                                               ⎜atan2⎝0, C⋅R  - 4⋅L⎠⎟   ╱ │   \n",
              "     2      ⎞⎞    ______________⎞         t⋅cos⎜────────────────────⎟⋅╲╱  │C⋅R\n",
              ", C⋅R  - 4⋅L⎠⎟   ╱ │   2      │ ⎟              ⎝         2          ⎠         \n",
              "─────────────⎟⋅╲╱  │C⋅R  - 4⋅L│ ⎟         ────────────────────────────────────\n",
              "  2          ⎠                  ⎟                              √C⋅L           \n",
              "────────────────────────────────⎟ - √C⋅R⋅ℯ                                    \n",
              "       2⋅√C⋅L                   ⎠                                             \n",
              "──────────────────────────────────────────────────────────────────────────────\n",
              "                                                                              \n",
              "                                                                              \n",
              "                                                                              \n",
              "\n",
              "_________                                                                     \n",
              "2      │                                                                      \n",
              "  - 4⋅L│     ⎛     ⎛     ⎛      2      ⎞⎞    ______________⎞             ⎛    \n",
              "             ⎜     ⎜atan2⎝0, C⋅R  - 4⋅L⎠⎟   ╱ │   2      │ ⎟             ⎜    \n",
              "─────────    ⎜t⋅sin⎜────────────────────⎟⋅╲╱  │C⋅R  - 4⋅L│ ⎟             ⎜t⋅si\n",
              "             ⎜     ⎝         2          ⎠                  ⎟             ⎜    \n",
              "         ⋅cos⎜─────────────────────────────────────────────⎟ - ⅈ⋅√C⋅R⋅sin⎜────\n",
              "             ⎝                    2⋅√C⋅L                   ⎠             ⎝    \n",
              "──────────────────────────────────────────────────────────────────────────────\n",
              "                                                                              \n",
              "                                                                              \n",
              "                                                                              \n",
              "\n",
              "                                                                              \n",
              "                                                                              \n",
              " ⎛     ⎛      2      ⎞⎞    ______________⎞           ⎛     ⎛     ⎛      2     \n",
              " ⎜atan2⎝0, C⋅R  - 4⋅L⎠⎟   ╱ │   2      │ ⎟           ⎜     ⎜atan2⎝0, C⋅R  - 4⋅\n",
              "n⎜────────────────────⎟⋅╲╱  │C⋅R  - 4⋅L│ ⎟           ⎜t⋅sin⎜──────────────────\n",
              " ⎝         2          ⎠                  ⎟           ⎜     ⎝         2        \n",
              "─────────────────────────────────────────⎟ + √C⋅R⋅cos⎜────────────────────────\n",
              "                2⋅√C⋅L                   ⎠           ⎝                    2⋅√C\n",
              "──────────────────────────────────────────────────────────────────────────────\n",
              "                                                                              \n",
              "                                                                              \n",
              "                                                                              \n",
              "\n",
              "                                                 ⎛     ⎛      2      ⎞⎞    ___\n",
              "                                                 ⎜atan2⎝0, C⋅R  - 4⋅L⎠⎟   ╱ │ \n",
              " ⎞⎞    ______________⎞                      t⋅cos⎜────────────────────⎟⋅╲╱  │C\n",
              "L⎠⎟   ╱ │   2      │ ⎟                           ⎝         2          ⎠       \n",
              "──⎟⋅╲╱  │C⋅R  - 4⋅L│ ⎟        ____________  ──────────────────────────────────\n",
              "  ⎠                  ⎟       ╱    2                              √C⋅L         \n",
              "─────────────────────⎟ - ⅈ⋅╲╱  C⋅R  - 4⋅L ⋅ℯ                                  \n",
              "⋅L                   ⎠                                                        \n",
              "──────────────────────────────────────────────────────────────────────────────\n",
              "                                                                    __________\n",
              "                                                                   ╱    2     \n",
              "                                                               2⋅╲╱  C⋅R  - 4⋅\n",
              "\n",
              "___________                                                                   \n",
              "  2      │                                                                    \n",
              "⋅R  - 4⋅L│     ⎛     ⎛     ⎛      2      ⎞⎞    ______________⎞                \n",
              "               ⎜     ⎜atan2⎝0, C⋅R  - 4⋅L⎠⎟   ╱ │   2      │ ⎟                \n",
              "───────────    ⎜t⋅sin⎜────────────────────⎟⋅╲╱  │C⋅R  - 4⋅L│ ⎟      __________\n",
              "               ⎜     ⎝         2          ⎠                  ⎟     ╱    2     \n",
              "           ⋅sin⎜─────────────────────────────────────────────⎟ - ╲╱  C⋅R  - 4⋅\n",
              "               ⎝                    2⋅√C⋅L                   ⎠                \n",
              "──────────────────────────────────────────────────────────────────────────────\n",
              "__                                                                            \n",
              "                                                                              \n",
              "L                                                                             \n",
              "\n",
              "         ⎛     ⎛      2      ⎞⎞    ______________                             \n",
              "         ⎜atan2⎝0, C⋅R  - 4⋅L⎠⎟   ╱ │   2      │                              \n",
              "    t⋅cos⎜────────────────────⎟⋅╲╱  │C⋅R  - 4⋅L│     ⎛     ⎛     ⎛      2     \n",
              "         ⎝         2          ⎠                      ⎜     ⎜atan2⎝0, C⋅R  - 4⋅\n",
              "__  ─────────────────────────────────────────────    ⎜t⋅sin⎜──────────────────\n",
              "                         √C⋅L                        ⎜     ⎝         2        \n",
              "L ⋅ℯ                                             ⋅cos⎜────────────────────────\n",
              "                                                     ⎝                    2⋅√C\n",
              "──────────────────────────────────────────────────────────────────────────────\n",
              "                                                                              \n",
              "                                                                              \n",
              "                                                                              \n",
              "\n",
              "                                                                              \n",
              "                                                                              \n",
              " ⎞⎞    ______________⎞                        ⎛     ⎛     ⎛      2      ⎞⎞    \n",
              "L⎠⎟   ╱ │   2      │ ⎟                        ⎜     ⎜atan2⎝0, C⋅R  - 4⋅L⎠⎟   ╱\n",
              "──⎟⋅╲╱  │C⋅R  - 4⋅L│ ⎟        ____________    ⎜t⋅sin⎜────────────────────⎟⋅╲╱ \n",
              "  ⎠                  ⎟       ╱    2           ⎜     ⎝         2          ⎠    \n",
              "─────────────────────⎟ + ⅈ⋅╲╱  C⋅R  - 4⋅L ⋅sin⎜───────────────────────────────\n",
              "⋅L                   ⎠                        ⎝                    2⋅√C⋅L     \n",
              "──────────────────────────────────────────────────────────────────────────────\n",
              "                                                                              \n",
              "                                                                              \n",
              "                                                                              \n",
              "\n",
              "                                                                              \n",
              "                                                                              \n",
              "______________⎞                      ⎛     ⎛     ⎛      2      ⎞⎞    _________\n",
              " │   2      │ ⎟                      ⎜     ⎜atan2⎝0, C⋅R  - 4⋅L⎠⎟   ╱ │   2   \n",
              " │C⋅R  - 4⋅L│ ⎟      ____________    ⎜t⋅sin⎜────────────────────⎟⋅╲╱  │C⋅R  - \n",
              "              ⎟     ╱    2           ⎜     ⎝         2          ⎠             \n",
              "──────────────⎟ - ╲╱  C⋅R  - 4⋅L ⋅cos⎜────────────────────────────────────────\n",
              "              ⎠                      ⎝                    2⋅√C⋅L              \n",
              "──────────────────────────────────────────────────────────────────────────────\n",
              "                                                                              \n",
              "                                                                              \n",
              "                                                                              \n",
              "\n",
              "      ⎞               ⎛     ⎛      2      ⎞⎞    ______________\n",
              "      ⎟               ⎜atan2⎝0, C⋅R  - 4⋅L⎠⎟   ╱ │   2      │ \n",
              "_____⎞⎟          t⋅cos⎜────────────────────⎟⋅╲╱  │C⋅R  - 4⋅L│ \n",
              "   │ ⎟⎟    R⋅t        ⎝         2          ⎠                  \n",
              "4⋅L│ ⎟⎟  - ─── - ─────────────────────────────────────────────\n",
              "     ⎟⎟    2⋅L                       2⋅√C⋅L                   \n",
              "─────⎟⎟⋅ℯ                                                     \n",
              "     ⎠⎠                                                       \n",
              "──────────────────────────────────────────────────────────────\n",
              "                                                              \n",
              "                                                              \n",
              "                                                              "
            ]
          },
          "metadata": {},
          "execution_count": 30
        }
      ]
    },
    {
      "cell_type": "code",
      "source": [
        "#se define y_int(s)\n",
        "i0, y0 = sym.symbols('i0 y0', real=True)\n",
        "\n",
        "Y_int = (R*C + L*C*s) / (L*C*s**2 + R*C*s + 1) * y0 + L / (L*C*s**2 + R*C*s + 1) * i0\n",
        "Y_int"
      ],
      "metadata": {
        "colab": {
          "base_uri": "https://localhost:8080/",
          "height": 54
        },
        "id": "Cp3Y7P2r1_cv",
        "outputId": "3fde8301-fb96-449f-e00c-0ff9547ce42c"
      },
      "execution_count": 31,
      "outputs": [
        {
          "output_type": "execute_result",
          "data": {
            "image/png": "[encoded data removed]",
            "text/latex": "$\\displaystyle \\frac{L i_{0}}{C L s^{2} + C R s + 1} + \\frac{y_{0} \\left(C L s + C R\\right)}{C L s^{2} + C R s + 1}$",
            "text/plain": [
              "       L⋅i₀           y₀⋅(C⋅L⋅s + C⋅R) \n",
              "────────────────── + ──────────────────\n",
              "     2                    2            \n",
              "C⋅L⋅s  + C⋅R⋅s + 1   C⋅L⋅s  + C⋅R⋅s + 1"
            ]
          },
          "metadata": {},
          "execution_count": 31
        }
      ]
    },
    {
      "cell_type": "code",
      "source": [
        "y_t = yt+ yt_int\n",
        "y_t"
      ],
      "metadata": {
        "colab": {
          "base_uri": "https://localhost:8080/",
          "height": 292
        },
        "id": "S-XAMaSz2AdD",
        "outputId": "43d62d6b-af48-44ac-b82d-baf95265fd80"
      },
      "execution_count": 32,
      "outputs": [
        {
          "output_type": "execute_result",
          "data": {
            "image/png": "[encoded data removed]",
            "text/latex": "$\\displaystyle C L y_{0} \\mathcal{L}^{-1}_{s}\\left[s\\right]\\left(t\\right) + 1 + \\frac{\\left(- i \\sqrt{C} R e^{\\frac{t \\cos{\\left(\\frac{\\operatorname{atan_{2}}{\\left(0,C R^{2} - 4 L \\right)}}{2} \\right)} \\sqrt{\\left|{C R^{2} - 4 L}\\right|}}{\\sqrt{C} L}} \\sin{\\left(\\frac{t \\sin{\\left(\\frac{\\operatorname{atan_{2}}{\\left(0,C R^{2} - 4 L \\right)}}{2} \\right)} \\sqrt{\\left|{C R^{2} - 4 L}\\right|}}{2 \\sqrt{C} L} \\right)} - \\sqrt{C} R e^{\\frac{t \\cos{\\left(\\frac{\\operatorname{atan_{2}}{\\left(0,C R^{2} - 4 L \\right)}}{2} \\right)} \\sqrt{\\left|{C R^{2} - 4 L}\\right|}}{\\sqrt{C} L}} \\cos{\\left(\\frac{t \\sin{\\left(\\frac{\\operatorname{atan_{2}}{\\left(0,C R^{2} - 4 L \\right)}}{2} \\right)} \\sqrt{\\left|{C R^{2} - 4 L}\\right|}}{2 \\sqrt{C} L} \\right)} - i \\sqrt{C} R \\sin{\\left(\\frac{t \\sin{\\left(\\frac{\\operatorname{atan_{2}}{\\left(0,C R^{2} - 4 L \\right)}}{2} \\right)} \\sqrt{\\left|{C R^{2} - 4 L}\\right|}}{2 \\sqrt{C} L} \\right)} + \\sqrt{C} R \\cos{\\left(\\frac{t \\sin{\\left(\\frac{\\operatorname{atan_{2}}{\\left(0,C R^{2} - 4 L \\right)}}{2} \\right)} \\sqrt{\\left|{C R^{2} - 4 L}\\right|}}{2 \\sqrt{C} L} \\right)} - i \\sqrt{C R^{2} - 4 L} e^{\\frac{t \\cos{\\left(\\frac{\\operatorname{atan_{2}}{\\left(0,C R^{2} - 4 L \\right)}}{2} \\right)} \\sqrt{\\left|{C R^{2} - 4 L}\\right|}}{\\sqrt{C} L}} \\sin{\\left(\\frac{t \\sin{\\left(\\frac{\\operatorname{atan_{2}}{\\left(0,C R^{2} - 4 L \\right)}}{2} \\right)} \\sqrt{\\left|{C R^{2} - 4 L}\\right|}}{2 \\sqrt{C} L} \\right)} - \\sqrt{C R^{2} - 4 L} e^{\\frac{t \\cos{\\left(\\frac{\\operatorname{atan_{2}}{\\left(0,C R^{2} - 4 L \\right)}}{2} \\right)} \\sqrt{\\left|{C R^{2} - 4 L}\\right|}}{\\sqrt{C} L}} \\cos{\\left(\\frac{t \\sin{\\left(\\frac{\\operatorname{atan_{2}}{\\left(0,C R^{2} - 4 L \\right)}}{2} \\right)} \\sqrt{\\left|{C R^{2} - 4 L}\\right|}}{2 \\sqrt{C} L} \\right)} + i \\sqrt{C R^{2} - 4 L} \\sin{\\left(\\frac{t \\sin{\\left(\\frac{\\operatorname{atan_{2}}{\\left(0,C R^{2} - 4 L \\right)}}{2} \\right)} \\sqrt{\\left|{C R^{2} - 4 L}\\right|}}{2 \\sqrt{C} L} \\right)} - \\sqrt{C R^{2} - 4 L} \\cos{\\left(\\frac{t \\sin{\\left(\\frac{\\operatorname{atan_{2}}{\\left(0,C R^{2} - 4 L \\right)}}{2} \\right)} \\sqrt{\\left|{C R^{2} - 4 L}\\right|}}{2 \\sqrt{C} L} \\right)}\\right) e^{- \\frac{R t}{2 L} - \\frac{t \\cos{\\left(\\frac{\\operatorname{atan_{2}}{\\left(0,C R^{2} - 4 L \\right)}}{2} \\right)} \\sqrt{\\left|{C R^{2} - 4 L}\\right|}}{2 \\sqrt{C} L}}}{2 \\sqrt{C R^{2} - 4 L}} + \\frac{\\left(i e^{\\frac{t \\cos{\\left(\\frac{\\operatorname{atan_{2}}{\\left(0,C R^{2} - 4 L \\right)}}{2} \\right)} \\sqrt{\\left|{C R^{2} - 4 L}\\right|}}{\\sqrt{C} L}} \\sin{\\left(\\frac{t \\sin{\\left(\\frac{\\operatorname{atan_{2}}{\\left(0,C R^{2} - 4 L \\right)}}{2} \\right)} \\sqrt{\\left|{C R^{2} - 4 L}\\right|}}{2 \\sqrt{C} L} \\right)} + e^{\\frac{t \\cos{\\left(\\frac{\\operatorname{atan_{2}}{\\left(0,C R^{2} - 4 L \\right)}}{2} \\right)} \\sqrt{\\left|{C R^{2} - 4 L}\\right|}}{\\sqrt{C} L}} \\cos{\\left(\\frac{t \\sin{\\left(\\frac{\\operatorname{atan_{2}}{\\left(0,C R^{2} - 4 L \\right)}}{2} \\right)} \\sqrt{\\left|{C R^{2} - 4 L}\\right|}}{2 \\sqrt{C} L} \\right)} + i \\sin{\\left(\\frac{t \\sin{\\left(\\frac{\\operatorname{atan_{2}}{\\left(0,C R^{2} - 4 L \\right)}}{2} \\right)} \\sqrt{\\left|{C R^{2} - 4 L}\\right|}}{2 \\sqrt{C} L} \\right)} - \\cos{\\left(\\frac{t \\sin{\\left(\\frac{\\operatorname{atan_{2}}{\\left(0,C R^{2} - 4 L \\right)}}{2} \\right)} \\sqrt{\\left|{C R^{2} - 4 L}\\right|}}{2 \\sqrt{C} L} \\right)}\\right) e^{- \\frac{R t}{2 L} - \\frac{t \\cos{\\left(\\frac{\\operatorname{atan_{2}}{\\left(0,C R^{2} - 4 L \\right)}}{2} \\right)} \\sqrt{\\left|{C R^{2} - 4 L}\\right|}}{2 \\sqrt{C} L}}}{\\sqrt{C} \\sqrt{C R^{2} - 4 L}}$",
            "text/plain": [
              "                                                    ⎛               ⎛     ⎛   \n",
              "                                                    ⎜               ⎜atan2⎝0, \n",
              "                                                    ⎜          t⋅cos⎜─────────\n",
              "                                                    ⎜               ⎝         \n",
              "                                                    ⎜          ───────────────\n",
              "                                                    ⎜                         \n",
              "                                                    ⎜- ⅈ⋅√C⋅R⋅ℯ               \n",
              "                                                    ⎝                         \n",
              "C⋅L⋅y₀⋅InverseLaplaceTransform(s, s, t, None) + 1 + ──────────────────────────\n",
              "                                                                              \n",
              "                                                                              \n",
              "                                                                              \n",
              "\n",
              "   2      ⎞⎞    ______________                                                \n",
              "C⋅R  - 4⋅L⎠⎟   ╱ │   2      │                                                 \n",
              "───────────⎟⋅╲╱  │C⋅R  - 4⋅L│     ⎛     ⎛     ⎛      2      ⎞⎞    ____________\n",
              "2          ⎠                      ⎜     ⎜atan2⎝0, C⋅R  - 4⋅L⎠⎟   ╱ │   2      \n",
              "──────────────────────────────    ⎜t⋅sin⎜────────────────────⎟⋅╲╱  │C⋅R  - 4⋅L\n",
              "      √C⋅L                        ⎜     ⎝         2          ⎠                \n",
              "                              ⋅sin⎜───────────────────────────────────────────\n",
              "                                  ⎝                    2⋅√C⋅L                 \n",
              "──────────────────────────────────────────────────────────────────────────────\n",
              "                                                                              \n",
              "                                                                              \n",
              "                                                                              \n",
              "\n",
              "                 ⎛     ⎛      2      ⎞⎞    ______________                     \n",
              "                 ⎜atan2⎝0, C⋅R  - 4⋅L⎠⎟   ╱ │   2      │                      \n",
              "__⎞         t⋅cos⎜────────────────────⎟⋅╲╱  │C⋅R  - 4⋅L│     ⎛     ⎛     ⎛    \n",
              "│ ⎟              ⎝         2          ⎠                      ⎜     ⎜atan2⎝0, C\n",
              "│ ⎟         ─────────────────────────────────────────────    ⎜t⋅sin⎜──────────\n",
              "  ⎟                              √C⋅L                        ⎜     ⎝         2\n",
              "──⎟ - √C⋅R⋅ℯ                                             ⋅cos⎜────────────────\n",
              "  ⎠                                                          ⎝                \n",
              "──────────────────────────────────────────────────────────────────────────────\n",
              "                                                                              \n",
              "                                                                              \n",
              "                                                                              \n",
              "\n",
              "                                                                              \n",
              "                                                                              \n",
              "  2      ⎞⎞    ______________⎞             ⎛     ⎛     ⎛      2      ⎞⎞    ___\n",
              "⋅R  - 4⋅L⎠⎟   ╱ │   2      │ ⎟             ⎜     ⎜atan2⎝0, C⋅R  - 4⋅L⎠⎟   ╱ │ \n",
              "──────────⎟⋅╲╱  │C⋅R  - 4⋅L│ ⎟             ⎜t⋅sin⎜────────────────────⎟⋅╲╱  │C\n",
              "          ⎠                  ⎟             ⎜     ⎝         2          ⎠       \n",
              "─────────────────────────────⎟ - ⅈ⋅√C⋅R⋅sin⎜──────────────────────────────────\n",
              "    2⋅√C⋅L                   ⎠             ⎝                    2⋅√C⋅L        \n",
              "──────────────────────────────────────────────────────────────────────────────\n",
              "                                                                              \n",
              "                                                                              \n",
              "                                                                              \n",
              "\n",
              "                                                                              \n",
              "                                                                              \n",
              "___________⎞           ⎛     ⎛     ⎛      2      ⎞⎞    ______________⎞        \n",
              "  2      │ ⎟           ⎜     ⎜atan2⎝0, C⋅R  - 4⋅L⎠⎟   ╱ │   2      │ ⎟        \n",
              "⋅R  - 4⋅L│ ⎟           ⎜t⋅sin⎜────────────────────⎟⋅╲╱  │C⋅R  - 4⋅L│ ⎟        \n",
              "           ⎟           ⎜     ⎝         2          ⎠                  ⎟       ╱\n",
              "───────────⎟ + √C⋅R⋅cos⎜─────────────────────────────────────────────⎟ - ⅈ⋅╲╱ \n",
              "           ⎠           ⎝                    2⋅√C⋅L                   ⎠        \n",
              "──────────────────────────────────────────────────────────────────────────────\n",
              "                                                                              \n",
              "                                                                              \n",
              "                                                                              \n",
              "\n",
              "                   ⎛     ⎛      2      ⎞⎞    ______________                   \n",
              "                   ⎜atan2⎝0, C⋅R  - 4⋅L⎠⎟   ╱ │   2      │                    \n",
              "              t⋅cos⎜────────────────────⎟⋅╲╱  │C⋅R  - 4⋅L│     ⎛     ⎛     ⎛  \n",
              "                   ⎝         2          ⎠                      ⎜     ⎜atan2⎝0,\n",
              "____________  ─────────────────────────────────────────────    ⎜t⋅sin⎜────────\n",
              "    2                              √C⋅L                        ⎜     ⎝        \n",
              " C⋅R  - 4⋅L ⋅ℯ                                             ⋅sin⎜──────────────\n",
              "                                                               ⎝              \n",
              "──────────────────────────────────────────────────────────────────────────────\n",
              "                                      ____________                            \n",
              "                                     ╱    2                                   \n",
              "                                 2⋅╲╱  C⋅R  - 4⋅L                             \n",
              "\n",
              "                                                         ⎛     ⎛      2      ⎞\n",
              "                                                         ⎜atan2⎝0, C⋅R  - 4⋅L⎠\n",
              "    2      ⎞⎞    ______________⎞                    t⋅cos⎜────────────────────\n",
              " C⋅R  - 4⋅L⎠⎟   ╱ │   2      │ ⎟                         ⎝         2          \n",
              "────────────⎟⋅╲╱  │C⋅R  - 4⋅L│ ⎟      ____________  ──────────────────────────\n",
              " 2          ⎠                  ⎟     ╱    2                              √C⋅L \n",
              "───────────────────────────────⎟ - ╲╱  C⋅R  - 4⋅L ⋅ℯ                          \n",
              "      2⋅√C⋅L                   ⎠                                              \n",
              "──────────────────────────────────────────────────────────────────────────────\n",
              "                                                                              \n",
              "                                                                              \n",
              "                                                                              \n",
              "\n",
              "⎞    ______________                                                           \n",
              "⎟   ╱ │   2      │                                                            \n",
              "⎟⋅╲╱  │C⋅R  - 4⋅L│     ⎛     ⎛     ⎛      2      ⎞⎞    ______________⎞        \n",
              "⎠                      ⎜     ⎜atan2⎝0, C⋅R  - 4⋅L⎠⎟   ╱ │   2      │ ⎟        \n",
              "───────────────────    ⎜t⋅sin⎜────────────────────⎟⋅╲╱  │C⋅R  - 4⋅L│ ⎟        \n",
              "                       ⎜     ⎝         2          ⎠                  ⎟       ╱\n",
              "                   ⋅cos⎜─────────────────────────────────────────────⎟ + ⅈ⋅╲╱ \n",
              "                       ⎝                    2⋅√C⋅L                   ⎠        \n",
              "──────────────────────────────────────────────────────────────────────────────\n",
              "                                                                              \n",
              "                                                                              \n",
              "                                                                              \n",
              "\n",
              "                                                                              \n",
              "                                                                              \n",
              "                ⎛     ⎛     ⎛      2      ⎞⎞    ______________⎞               \n",
              "                ⎜     ⎜atan2⎝0, C⋅R  - 4⋅L⎠⎟   ╱ │   2      │ ⎟               \n",
              "____________    ⎜t⋅sin⎜────────────────────⎟⋅╲╱  │C⋅R  - 4⋅L│ ⎟      _________\n",
              "    2           ⎜     ⎝         2          ⎠                  ⎟     ╱    2    \n",
              " C⋅R  - 4⋅L ⋅sin⎜─────────────────────────────────────────────⎟ - ╲╱  C⋅R  - 4\n",
              "                ⎝                    2⋅√C⋅L                   ⎠               \n",
              "──────────────────────────────────────────────────────────────────────────────\n",
              "                                                                              \n",
              "                                                                              \n",
              "                                                                              \n",
              "\n",
              "                                                      ⎞               ⎛     ⎛ \n",
              "                                                      ⎟               ⎜atan2⎝0\n",
              "       ⎛     ⎛     ⎛      2      ⎞⎞    ______________⎞⎟          t⋅cos⎜───────\n",
              "       ⎜     ⎜atan2⎝0, C⋅R  - 4⋅L⎠⎟   ╱ │   2      │ ⎟⎟    R⋅t        ⎝       \n",
              "___    ⎜t⋅sin⎜────────────────────⎟⋅╲╱  │C⋅R  - 4⋅L│ ⎟⎟  - ─── - ─────────────\n",
              "       ⎜     ⎝         2          ⎠                  ⎟⎟    2⋅L                \n",
              "⋅L ⋅cos⎜─────────────────────────────────────────────⎟⎟⋅ℯ                     \n",
              "       ⎝                    2⋅√C⋅L                   ⎠⎠                       \n",
              "──────────────────────────────────────────────────────────────────────────────\n",
              "                                                                              \n",
              "                                                                              \n",
              "                                                                              \n",
              "\n",
              "     2      ⎞⎞    ______________   ⎛        ⎛     ⎛      2      ⎞⎞    ________\n",
              ", C⋅R  - 4⋅L⎠⎟   ╱ │   2      │    ⎜        ⎜atan2⎝0, C⋅R  - 4⋅L⎠⎟   ╱ │   2  \n",
              "─────────────⎟⋅╲╱  │C⋅R  - 4⋅L│    ⎜   t⋅cos⎜────────────────────⎟⋅╲╱  │C⋅R  -\n",
              "  2          ⎠                     ⎜        ⎝         2          ⎠            \n",
              "────────────────────────────────   ⎜   ───────────────────────────────────────\n",
              "       2⋅√C⋅L                      ⎜                        √C⋅L              \n",
              "                                   ⎜ⅈ⋅ℯ                                       \n",
              "                                   ⎝                                          \n",
              "──────────────────────────────── + ───────────────────────────────────────────\n",
              "                                                                              \n",
              "                                                                              \n",
              "                                                                              \n",
              "\n",
              "______                                                            ⎛     ⎛     \n",
              "    │                                                             ⎜atan2⎝0, C⋅\n",
              " 4⋅L│     ⎛     ⎛     ⎛      2      ⎞⎞    ______________⎞    t⋅cos⎜───────────\n",
              "          ⎜     ⎜atan2⎝0, C⋅R  - 4⋅L⎠⎟   ╱ │   2      │ ⎟         ⎝         2 \n",
              "──────    ⎜t⋅sin⎜────────────────────⎟⋅╲╱  │C⋅R  - 4⋅L│ ⎟    ─────────────────\n",
              "          ⎜     ⎝         2          ⎠                  ⎟                     \n",
              "      ⋅sin⎜─────────────────────────────────────────────⎟ + ℯ                 \n",
              "          ⎝                    2⋅√C⋅L                   ⎠                     \n",
              "──────────────────────────────────────────────────────────────────────────────\n",
              "                                                                              \n",
              "                                                                              \n",
              "                                                                              \n",
              "\n",
              " 2      ⎞⎞    ______________                                                  \n",
              "R  - 4⋅L⎠⎟   ╱ │   2      │                                                   \n",
              "─────────⎟⋅╲╱  │C⋅R  - 4⋅L│     ⎛     ⎛     ⎛      2      ⎞⎞    ______________\n",
              "         ⎠                      ⎜     ⎜atan2⎝0, C⋅R  - 4⋅L⎠⎟   ╱ │   2      │ \n",
              "────────────────────────────    ⎜t⋅sin⎜────────────────────⎟⋅╲╱  │C⋅R  - 4⋅L│ \n",
              "    √C⋅L                        ⎜     ⎝         2          ⎠                  \n",
              "                            ⋅cos⎜─────────────────────────────────────────────\n",
              "                                ⎝                    2⋅√C⋅L                   \n",
              "──────────────────────────────────────────────────────────────────────────────\n",
              "                                                          ____________        \n",
              "                                                         ╱    2               \n",
              "                                                    √C⋅╲╱  C⋅R  - 4⋅L         \n",
              "\n",
              "                                                                              \n",
              "                                                                              \n",
              "⎞        ⎛     ⎛     ⎛      2      ⎞⎞    ______________⎞      ⎛     ⎛     ⎛   \n",
              "⎟        ⎜     ⎜atan2⎝0, C⋅R  - 4⋅L⎠⎟   ╱ │   2      │ ⎟      ⎜     ⎜atan2⎝0, \n",
              "⎟        ⎜t⋅sin⎜────────────────────⎟⋅╲╱  │C⋅R  - 4⋅L│ ⎟      ⎜t⋅sin⎜─────────\n",
              "⎟        ⎜     ⎝         2          ⎠                  ⎟      ⎜     ⎝         \n",
              "⎟ + ⅈ⋅sin⎜─────────────────────────────────────────────⎟ - cos⎜───────────────\n",
              "⎠        ⎝                    2⋅√C⋅L                   ⎠      ⎝               \n",
              "──────────────────────────────────────────────────────────────────────────────\n",
              "                                                                              \n",
              "                                                                              \n",
              "                                                                              \n",
              "\n",
              "                               ⎞               ⎛     ⎛      2      ⎞⎞    _____\n",
              "                               ⎟               ⎜atan2⎝0, C⋅R  - 4⋅L⎠⎟   ╱ │   \n",
              "   2      ⎞⎞    ______________⎞⎟          t⋅cos⎜────────────────────⎟⋅╲╱  │C⋅R\n",
              "C⋅R  - 4⋅L⎠⎟   ╱ │   2      │ ⎟⎟    R⋅t        ⎝         2          ⎠         \n",
              "───────────⎟⋅╲╱  │C⋅R  - 4⋅L│ ⎟⎟  - ─── - ────────────────────────────────────\n",
              "2          ⎠                  ⎟⎟    2⋅L                       2⋅√C⋅L          \n",
              "──────────────────────────────⎟⎟⋅ℯ                                            \n",
              "     2⋅√C⋅L                   ⎠⎠                                              \n",
              "──────────────────────────────────────────────────────────────────────────────\n",
              "                                                                              \n",
              "                                                                              \n",
              "                                                                              \n",
              "\n",
              "_________\n",
              "2      │ \n",
              "  - 4⋅L│ \n",
              "         \n",
              "─────────\n",
              "         \n",
              "         \n",
              "         \n",
              "─────────\n",
              "         \n",
              "         \n",
              "         "
            ]
          },
          "metadata": {},
          "execution_count": 32
        }
      ]
    },
    {
      "cell_type": "code",
      "source": [
        "#Modelo en el tiempo con RLC evaluados\n",
        "RLC = {R: 1, L: sym.Rational('.5'), C: sym.Rational('.4')}\n",
        "Ye = Yp.subs(RLC)\n",
        "for j in range(len(Ye.args)):\n",
        "    if j==0:\n",
        "      y_ext = sym.inverse_laplace_transform(Ye.args[j], s, t)\n",
        "    else:\n",
        "      y_ext+= sym.inverse_laplace_transform(Ye.args[j], s, t)\n",
        " \n",
        "y_ext"
      ],
      "metadata": {
        "colab": {
          "base_uri": "https://localhost:8080/",
          "height": 58
        },
        "id": "NcszqRKR2BSd",
        "outputId": "6eb6623d-13f4-4b5e-bf28-0612c91011f8"
      },
      "execution_count": 33,
      "outputs": [
        {
          "output_type": "execute_result",
          "data": {
            "image/png": "[encoded data removed]",
            "text/latex": "$\\displaystyle - \\left(\\frac{\\sin{\\left(2 t \\right)}}{2} + \\cos{\\left(2 t \\right)}\\right) e^{- t} + 1$",
            "text/plain": [
              "  ⎛sin(2⋅t)           ⎞  -t    \n",
              "- ⎜──────── + cos(2⋅t)⎟⋅ℯ   + 1\n",
              "  ⎝   2               ⎠        "
            ]
          },
          "metadata": {},
          "execution_count": 33
        }
      ]
    },
    {
      "cell_type": "code",
      "source": [
        "i0, y0 = sym.symbols('i0 y0', real=True)\n",
        "\n",
        "Yint = (R*C + L*C*s) / (L*C*s**2 + R*C*s + 1) * y0 + L / (L*C*s**2 + R*C*s + 1) * i0\n",
        "Yint"
      ],
      "metadata": {
        "colab": {
          "base_uri": "https://localhost:8080/",
          "height": 54
        },
        "id": "jyDnGhh92CQp",
        "outputId": "5f0e3341-0a1a-4fa3-d705-8242bdfbfb92"
      },
      "execution_count": 34,
      "outputs": [
        {
          "output_type": "execute_result",
          "data": {
            "image/png": "[encoded data removed]",
            "text/latex": "$\\displaystyle \\frac{L i_{0}}{C L s^{2} + C R s + 1} + \\frac{y_{0} \\left(C L s + C R\\right)}{C L s^{2} + C R s + 1}$",
            "text/plain": [
              "       L⋅i₀           y₀⋅(C⋅L⋅s + C⋅R) \n",
              "────────────────── + ──────────────────\n",
              "     2                    2            \n",
              "C⋅L⋅s  + C⋅R⋅s + 1   C⋅L⋅s  + C⋅R⋅s + 1"
            ]
          },
          "metadata": {},
          "execution_count": 34
        }
      ]
    },
    {
      "cell_type": "code",
      "source": [
        "#se inicializa y_interna con valores iniciales \n",
        "yint = sym.inverse_laplace_transform(Yint.subs(RLC).subs(i0, 0).subs(y0, -1), s, t)\n",
        "yint"
      ],
      "metadata": {
        "colab": {
          "base_uri": "https://localhost:8080/",
          "height": 58
        },
        "id": "AIxflQ7A2DC0",
        "outputId": "77cc38bf-89c2-4feb-ad83-d5d3072ba97a"
      },
      "execution_count": 35,
      "outputs": [
        {
          "output_type": "execute_result",
          "data": {
            "image/png": "[encoded data removed]",
            "text/latex": "$\\displaystyle - \\left(\\frac{\\sin{\\left(2 t \\right)}}{2} + \\cos{\\left(2 t \\right)}\\right) e^{- t}$",
            "text/plain": [
              " ⎛sin(2⋅t)           ⎞  -t\n",
              "-⎜──────── + cos(2⋅t)⎟⋅ℯ  \n",
              " ⎝   2               ⎠    "
            ]
          },
          "metadata": {},
          "execution_count": 35
        }
      ]
    },
    {
      "cell_type": "code",
      "source": [
        "yt = y_ext + yint\n",
        "yt.simplify()"
      ],
      "metadata": {
        "colab": {
          "base_uri": "https://localhost:8080/",
          "height": 38
        },
        "id": "adWCBpvn2Dy-",
        "outputId": "04d4878e-6983-4213-b1ad-68edc02d44f7"
      },
      "execution_count": 36,
      "outputs": [
        {
          "output_type": "execute_result",
          "data": {
            "image/png": "[encoded data removed]",
            "text/latex": "$\\displaystyle \\left(e^{t} - \\sin{\\left(2 t \\right)} - 2 \\cos{\\left(2 t \\right)}\\right) e^{- t}$",
            "text/plain": [
              "⎛ t                        ⎞  -t\n",
              "⎝ℯ  - sin(2⋅t) - 2⋅cos(2⋅t)⎠⋅ℯ  "
            ]
          },
          "metadata": {},
          "execution_count": 36
        }
      ]
    },
    {
      "cell_type": "markdown",
      "source": [
        "En la siguiente gráfica se presentan: \n",
        "* la parte interna $y_\\text{int}(t)$ (Línea verde), \n",
        "* la parte externa $y_\\text{ext}(t)$ (Línea azul), \n",
        "* la señal de salida $y(t)$ (Línea roja) "
      ],
      "metadata": {
        "id": "VXGnANiH2Hbg"
      }
    },
    {
      "cell_type": "code",
      "source": [
        "p1 = sym.plot(y_ext, (t, 0, 5), line_color='b', xlabel='$t$', ylabel='$y(t)$', show=False)\n",
        "p2 = sym.plot(yint, (t, 0, 5), line_color='g', show=False)\n",
        "p3 = sym.plot(yt, (t, 0, 5), line_color='r', show=False)\n",
        "p1.extend(p2)\n",
        "p1.extend(p3)\n",
        "p1.show()"
      ],
      "metadata": {
        "colab": {
          "base_uri": "https://localhost:8080/",
          "height": 297
        },
        "id": "Du_Wx7vl2Hye",
        "outputId": "d927b8b5-a821-4ff5-b825-c4dd186959f7"
      },
      "execution_count": 37,
      "outputs": [
        {
          "output_type": "display_data",
          "data": {
            "image/png": "[encoded data removed]",
            "text/plain": [
              "<Figure size 432x288 with 1 Axes>"
            ]
          },
          "metadata": {
            "needs_background": "light"
          }
        }
      ]
    },
    {
      "cell_type": "markdown",
      "source": [
        "#CIRCUITO RLC PARALELO"
      ],
      "metadata": {
        "id": "FCJIdGMD2sJ0"
      }
    },
    {
      "cell_type": "markdown",
      "source": [
        "###SEÑAL IMPULSO"
      ],
      "metadata": {
        "id": "RqT8fkL52yZ2"
      }
    },
    {
      "cell_type": "code",
      "source": [
        "%matplotlib inline\n",
        "import sympy as sym\n",
        "sym.init_printing()\n",
        "\n",
        "s = sym.symbols('s', complex=True)\n",
        "t, R, L, C = sym.symbols('t R L C', positive=True)\n",
        "#Entrada de interés en Laplace\n",
        "X = 1\n",
        "\n",
        "Y_ext = 1/(L*C*s**2 + (L/R)*s + 1) * X\n",
        "#Función de salida para y_externa\n",
        "Y_ext"
      ],
      "metadata": {
        "colab": {
          "base_uri": "https://localhost:8080/",
          "height": 58
        },
        "id": "CXYrR2S42uu3",
        "outputId": "35934970-d4c4-46d8-a4ac-ea03fc1c0ef5"
      },
      "execution_count": 38,
      "outputs": [
        {
          "output_type": "execute_result",
          "data": {
            "image/png": "[encoded data removed]",
            "text/latex": "$\\displaystyle \\frac{1}{C L s^{2} + \\frac{L s}{R} + 1}$",
            "text/plain": [
              "       1        \n",
              "────────────────\n",
              "     2   L⋅s    \n",
              "C⋅L⋅s  + ─── + 1\n",
              "          R     "
            ]
          },
          "metadata": {},
          "execution_count": 38
        }
      ]
    },
    {
      "cell_type": "code",
      "source": [
        "#Función de salida en Laplace factorizada (fracciones parciales)\n",
        "Yp = Y_ext.apart(s)\n",
        "Yp"
      ],
      "metadata": {
        "colab": {
          "base_uri": "https://localhost:8080/",
          "height": 53
        },
        "id": "VsSlD9ca21x8",
        "outputId": "eaf4b025-0bee-4474-db7f-dbb7611360d0"
      },
      "execution_count": 39,
      "outputs": [
        {
          "output_type": "execute_result",
          "data": {
            "image/png": "[encoded data removed]",
            "text/latex": "$\\displaystyle \\frac{R}{C L R s^{2} + L s + R}$",
            "text/plain": [
              "        R         \n",
              "──────────────────\n",
              "       2          \n",
              "C⋅L⋅R⋅s  + L⋅s + R"
            ]
          },
          "metadata": {},
          "execution_count": 39
        }
      ]
    },
    {
      "cell_type": "code",
      "source": [
        "#Modelo en el tiempo en función de RLC\n",
        "Ye = Yp\n",
        "#Se recorre cada fracción parcial según factorización para simplificar cálculos\n",
        "for j in range(len(Ye.args)):\n",
        "    if j==0:#primer elemento de la solucion\n",
        "      yt = sym.inverse_laplace_transform(Ye.args[j], s, t)\n",
        "    else: #siguientes elementos concatenados\n",
        "      yt+= sym.inverse_laplace_transform(Ye.args[j], s, t) \n",
        "yt"
      ],
      "metadata": {
        "colab": {
          "base_uri": "https://localhost:8080/",
          "height": 154
        },
        "id": "IfYl_F4H22z5",
        "outputId": "00bb07bd-99de-4f57-8476-e833d8306285"
      },
      "execution_count": 40,
      "outputs": [
        {
          "output_type": "execute_result",
          "data": {
            "image/png": "[encoded data removed]",
            "text/latex": "$\\displaystyle \\frac{\\left(i e^{\\frac{t \\cos{\\left(\\frac{\\operatorname{atan_{2}}{\\left(0,- 4 C R^{2} + L \\right)}}{2} \\right)} \\sqrt{\\left|{4 C R^{2} - L}\\right|}}{C \\sqrt{L} R}} \\sin{\\left(\\frac{t \\sin{\\left(\\frac{\\operatorname{atan_{2}}{\\left(0,- 4 C R^{2} + L \\right)}}{2} \\right)} \\sqrt{\\left|{4 C R^{2} - L}\\right|}}{2 C \\sqrt{L} R} \\right)} + e^{\\frac{t \\cos{\\left(\\frac{\\operatorname{atan_{2}}{\\left(0,- 4 C R^{2} + L \\right)}}{2} \\right)} \\sqrt{\\left|{4 C R^{2} - L}\\right|}}{C \\sqrt{L} R}} \\cos{\\left(\\frac{t \\sin{\\left(\\frac{\\operatorname{atan_{2}}{\\left(0,- 4 C R^{2} + L \\right)}}{2} \\right)} \\sqrt{\\left|{4 C R^{2} - L}\\right|}}{2 C \\sqrt{L} R} \\right)} + i \\sin{\\left(\\frac{t \\sin{\\left(\\frac{\\operatorname{atan_{2}}{\\left(0,- 4 C R^{2} + L \\right)}}{2} \\right)} \\sqrt{\\left|{4 C R^{2} - L}\\right|}}{2 C \\sqrt{L} R} \\right)} - \\cos{\\left(\\frac{t \\sin{\\left(\\frac{\\operatorname{atan_{2}}{\\left(0,- 4 C R^{2} + L \\right)}}{2} \\right)} \\sqrt{\\left|{4 C R^{2} - L}\\right|}}{2 C \\sqrt{L} R} \\right)}\\right) e^{- \\frac{t}{2 C R} - \\frac{t \\cos{\\left(\\frac{\\operatorname{atan_{2}}{\\left(0,- 4 C R^{2} + L \\right)}}{2} \\right)} \\sqrt{\\left|{4 C R^{2} - L}\\right|}}{2 C \\sqrt{L} R}}}{\\sqrt{L} \\sqrt{- 4 C R^{2} + L}}$",
            "text/plain": [
              "⎛        ⎛     ⎛          2    ⎞⎞    ______________                           \n",
              "⎜        ⎜atan2⎝0, - 4⋅C⋅R  + L⎠⎟   ╱ │     2    │                            \n",
              "⎜   t⋅cos⎜──────────────────────⎟⋅╲╱  │4⋅C⋅R  - L│     ⎛     ⎛     ⎛          \n",
              "⎜        ⎝          2           ⎠                      ⎜     ⎜atan2⎝0, - 4⋅C⋅R\n",
              "⎜   ───────────────────────────────────────────────    ⎜t⋅sin⎜────────────────\n",
              "⎜                        C⋅√L⋅R                        ⎜     ⎝          2     \n",
              "⎜ⅈ⋅ℯ                                               ⋅sin⎜──────────────────────\n",
              "⎝                                                      ⎝                    2⋅\n",
              "──────────────────────────────────────────────────────────────────────────────\n",
              "                                                                              \n",
              "                                                                              \n",
              "                                                                              \n",
              "\n",
              "                                   ⎛     ⎛          2    ⎞⎞    ______________ \n",
              "                                   ⎜atan2⎝0, - 4⋅C⋅R  + L⎠⎟   ╱ │     2    │  \n",
              "2    ⎞⎞    ______________⎞    t⋅cos⎜──────────────────────⎟⋅╲╱  │4⋅C⋅R  - L│  \n",
              "  + L⎠⎟   ╱ │     2    │ ⎟         ⎝          2           ⎠                   \n",
              "──────⎟⋅╲╱  │4⋅C⋅R  - L│ ⎟    ─────────────────────────────────────────────── \n",
              "      ⎠                  ⎟                         C⋅√L⋅R                     \n",
              "─────────────────────────⎟ + ℯ                                               ⋅\n",
              "C⋅√L⋅R                   ⎠                                                    \n",
              "──────────────────────────────────────────────────────────────────────────────\n",
              "                                                                              \n",
              "                                                                              \n",
              "                                                                              \n",
              "\n",
              "                                                                              \n",
              "                                                                              \n",
              "   ⎛     ⎛     ⎛          2    ⎞⎞    ______________⎞        ⎛     ⎛     ⎛     \n",
              "   ⎜     ⎜atan2⎝0, - 4⋅C⋅R  + L⎠⎟   ╱ │     2    │ ⎟        ⎜     ⎜atan2⎝0, - \n",
              "   ⎜t⋅sin⎜──────────────────────⎟⋅╲╱  │4⋅C⋅R  - L│ ⎟        ⎜t⋅sin⎜───────────\n",
              "   ⎜     ⎝          2           ⎠                  ⎟        ⎜     ⎝          2\n",
              "cos⎜───────────────────────────────────────────────⎟ + ⅈ⋅sin⎜─────────────────\n",
              "   ⎝                    2⋅C⋅√L⋅R                   ⎠        ⎝                 \n",
              "──────────────────────────────────────────────────────────────────────────────\n",
              "                              ______________                                  \n",
              "                             ╱        2                                       \n",
              "                        √L⋅╲╱  - 4⋅C⋅R  + L                                   \n",
              "\n",
              "                                                                              \n",
              "                                                                              \n",
              "     2    ⎞⎞    ______________⎞      ⎛     ⎛     ⎛          2    ⎞⎞    _______\n",
              "4⋅C⋅R  + L⎠⎟   ╱ │     2    │ ⎟      ⎜     ⎜atan2⎝0, - 4⋅C⋅R  + L⎠⎟   ╱ │     \n",
              "───────────⎟⋅╲╱  │4⋅C⋅R  - L│ ⎟      ⎜t⋅sin⎜──────────────────────⎟⋅╲╱  │4⋅C⋅R\n",
              "           ⎠                  ⎟      ⎜     ⎝          2           ⎠           \n",
              "──────────────────────────────⎟ - cos⎜────────────────────────────────────────\n",
              "   2⋅C⋅√L⋅R                   ⎠      ⎝                    2⋅C⋅√L⋅R            \n",
              "──────────────────────────────────────────────────────────────────────────────\n",
              "                                                                              \n",
              "                                                                              \n",
              "                                                                              \n",
              "\n",
              "        ⎞                 ⎛     ⎛          2    ⎞⎞    ______________\n",
              "        ⎟                 ⎜atan2⎝0, - 4⋅C⋅R  + L⎠⎟   ╱ │     2    │ \n",
              "_______⎞⎟            t⋅cos⎜──────────────────────⎟⋅╲╱  │4⋅C⋅R  - L│ \n",
              "2    │ ⎟⎟      t          ⎝          2           ⎠                  \n",
              "  - L│ ⎟⎟  - ───── - ───────────────────────────────────────────────\n",
              "       ⎟⎟    2⋅C⋅R                       2⋅C⋅√L⋅R                   \n",
              "───────⎟⎟⋅ℯ                                                         \n",
              "       ⎠⎠                                                           \n",
              "────────────────────────────────────────────────────────────────────\n",
              "                                                                    \n",
              "                                                                    \n",
              "                                                                    "
            ]
          },
          "metadata": {},
          "execution_count": 40
        }
      ]
    },
    {
      "cell_type": "code",
      "source": [
        "#se define y_int(s)\n",
        "i0, y0 = sym.symbols('i0 y0', real=True)\n",
        "\n",
        "Y_int = (R*C + L*C*s) / (L*C*s**2 + R*C*s + 1) * y0 + L / (L*C*s**2 + R*C*s + 1) * i0\n",
        "Y_int"
      ],
      "metadata": {
        "colab": {
          "base_uri": "https://localhost:8080/",
          "height": 54
        },
        "id": "8UMRKsE9235V",
        "outputId": "e86e6f97-a584-4a79-8d32-0dca6c8054e4"
      },
      "execution_count": 41,
      "outputs": [
        {
          "output_type": "execute_result",
          "data": {
            "image/png": "[encoded data removed]",
            "text/latex": "$\\displaystyle \\frac{L i_{0}}{C L s^{2} + C R s + 1} + \\frac{y_{0} \\left(C L s + C R\\right)}{C L s^{2} + C R s + 1}$",
            "text/plain": [
              "       L⋅i₀           y₀⋅(C⋅L⋅s + C⋅R) \n",
              "────────────────── + ──────────────────\n",
              "     2                    2            \n",
              "C⋅L⋅s  + C⋅R⋅s + 1   C⋅L⋅s  + C⋅R⋅s + 1"
            ]
          },
          "metadata": {},
          "execution_count": 41
        }
      ]
    },
    {
      "cell_type": "code",
      "source": [
        "#Función de salida en Laplace factorizada (fracciones parciales)\n",
        "YR = Y_int.apart(s)\n",
        "YR"
      ],
      "metadata": {
        "colab": {
          "base_uri": "https://localhost:8080/",
          "height": 53
        },
        "id": "WjvWBi2424q6",
        "outputId": "9a84c468-b35c-4ffc-fd7d-8748b185583e"
      },
      "execution_count": 42,
      "outputs": [
        {
          "output_type": "execute_result",
          "data": {
            "image/png": "[encoded data removed]",
            "text/latex": "$\\displaystyle \\frac{C L s y_{0} + C R y_{0} + L i_{0}}{C L s^{2} + C R s + 1}$",
            "text/plain": [
              "C⋅L⋅s⋅y₀ + C⋅R⋅y₀ + L⋅i₀\n",
              "────────────────────────\n",
              "        2               \n",
              "   C⋅L⋅s  + C⋅R⋅s + 1   "
            ]
          },
          "metadata": {},
          "execution_count": 42
        }
      ]
    },
    {
      "cell_type": "code",
      "source": [
        "#Modelo en el tiempo en función de RLC\n",
        "Ye = YR\n",
        "#Se recorre cada fracción parcial según factorización para simplificar cálculos\n",
        "for j in range(len(Ye.args)):\n",
        "    if j==0:#primer elemento de la solucion\n",
        "      yt_int = sym.inverse_laplace_transform(Ye.args[j], s, t)\n",
        "    else: #siguientes elementos concatenados\n",
        "      yt_int+= sym.inverse_laplace_transform(Ye.args[j], s, t) \n",
        "yt_int"
      ],
      "metadata": {
        "colab": {
          "base_uri": "https://localhost:8080/",
          "height": 175
        },
        "id": "m45c9Nvv25sD",
        "outputId": "b5d1506a-a67b-42d7-fe70-a5397c5851fb"
      },
      "execution_count": 43,
      "outputs": [
        {
          "output_type": "execute_result",
          "data": {
            "image/png": "[encoded data removed]",
            "text/latex": "$\\displaystyle C L y_{0} \\mathcal{L}^{-1}_{s}\\left[s\\right]\\left(t\\right) + \\frac{\\left(i e^{\\frac{t \\cos{\\left(\\frac{\\operatorname{atan_{2}}{\\left(0,C R^{2} - 4 L \\right)}}{2} \\right)} \\sqrt{\\left|{C R^{2} - 4 L}\\right|}}{\\sqrt{C} L}} \\sin{\\left(\\frac{t \\sin{\\left(\\frac{\\operatorname{atan_{2}}{\\left(0,C R^{2} - 4 L \\right)}}{2} \\right)} \\sqrt{\\left|{C R^{2} - 4 L}\\right|}}{2 \\sqrt{C} L} \\right)} + e^{\\frac{t \\cos{\\left(\\frac{\\operatorname{atan_{2}}{\\left(0,C R^{2} - 4 L \\right)}}{2} \\right)} \\sqrt{\\left|{C R^{2} - 4 L}\\right|}}{\\sqrt{C} L}} \\cos{\\left(\\frac{t \\sin{\\left(\\frac{\\operatorname{atan_{2}}{\\left(0,C R^{2} - 4 L \\right)}}{2} \\right)} \\sqrt{\\left|{C R^{2} - 4 L}\\right|}}{2 \\sqrt{C} L} \\right)} + i \\sin{\\left(\\frac{t \\sin{\\left(\\frac{\\operatorname{atan_{2}}{\\left(0,C R^{2} - 4 L \\right)}}{2} \\right)} \\sqrt{\\left|{C R^{2} - 4 L}\\right|}}{2 \\sqrt{C} L} \\right)} - \\cos{\\left(\\frac{t \\sin{\\left(\\frac{\\operatorname{atan_{2}}{\\left(0,C R^{2} - 4 L \\right)}}{2} \\right)} \\sqrt{\\left|{C R^{2} - 4 L}\\right|}}{2 \\sqrt{C} L} \\right)}\\right) e^{- \\frac{R t}{2 L} - \\frac{t \\cos{\\left(\\frac{\\operatorname{atan_{2}}{\\left(0,C R^{2} - 4 L \\right)}}{2} \\right)} \\sqrt{\\left|{C R^{2} - 4 L}\\right|}}{2 \\sqrt{C} L}}}{\\sqrt{C} \\sqrt{C R^{2} - 4 L}}$",
            "text/plain": [
              "                                                ⎛        ⎛     ⎛      2      ⎞\n",
              "                                                ⎜        ⎜atan2⎝0, C⋅R  - 4⋅L⎠\n",
              "                                                ⎜   t⋅cos⎜────────────────────\n",
              "                                                ⎜        ⎝         2          \n",
              "                                                ⎜   ──────────────────────────\n",
              "                                                ⎜                        √C⋅L \n",
              "                                                ⎜ⅈ⋅ℯ                          \n",
              "                                                ⎝                             \n",
              "C⋅L⋅y₀⋅InverseLaplaceTransform(s, s, t, None) + ──────────────────────────────\n",
              "                                                                              \n",
              "                                                                              \n",
              "                                                                              \n",
              "\n",
              "⎞    ______________                                                           \n",
              "⎟   ╱ │   2      │                                                            \n",
              "⎟⋅╲╱  │C⋅R  - 4⋅L│     ⎛     ⎛     ⎛      2      ⎞⎞    ______________⎞    t⋅co\n",
              "⎠                      ⎜     ⎜atan2⎝0, C⋅R  - 4⋅L⎠⎟   ╱ │   2      │ ⎟        \n",
              "───────────────────    ⎜t⋅sin⎜────────────────────⎟⋅╲╱  │C⋅R  - 4⋅L│ ⎟    ────\n",
              "                       ⎜     ⎝         2          ⎠                  ⎟        \n",
              "                   ⋅sin⎜─────────────────────────────────────────────⎟ + ℯ    \n",
              "                       ⎝                    2⋅√C⋅L                   ⎠        \n",
              "──────────────────────────────────────────────────────────────────────────────\n",
              "                                                                              \n",
              "                                                                              \n",
              "                                                                              \n",
              "\n",
              " ⎛     ⎛      2      ⎞⎞    ______________                                     \n",
              " ⎜atan2⎝0, C⋅R  - 4⋅L⎠⎟   ╱ │   2      │                                      \n",
              "s⎜────────────────────⎟⋅╲╱  │C⋅R  - 4⋅L│     ⎛     ⎛     ⎛      2      ⎞⎞    _\n",
              " ⎝         2          ⎠                      ⎜     ⎜atan2⎝0, C⋅R  - 4⋅L⎠⎟   ╱ \n",
              "─────────────────────────────────────────    ⎜t⋅sin⎜────────────────────⎟⋅╲╱  \n",
              "                 √C⋅L                        ⎜     ⎝         2          ⎠     \n",
              "                                         ⋅cos⎜────────────────────────────────\n",
              "                                             ⎝                    2⋅√C⋅L      \n",
              "──────────────────────────────────────────────────────────────────────────────\n",
              "                                                                       _______\n",
              "                                                                      ╱    2  \n",
              "                                                                 √C⋅╲╱  C⋅R  -\n",
              "\n",
              "                                                                              \n",
              "                                                                              \n",
              "_____________⎞        ⎛     ⎛     ⎛      2      ⎞⎞    ______________⎞      ⎛  \n",
              "│   2      │ ⎟        ⎜     ⎜atan2⎝0, C⋅R  - 4⋅L⎠⎟   ╱ │   2      │ ⎟      ⎜  \n",
              "│C⋅R  - 4⋅L│ ⎟        ⎜t⋅sin⎜────────────────────⎟⋅╲╱  │C⋅R  - 4⋅L│ ⎟      ⎜t⋅\n",
              "             ⎟        ⎜     ⎝         2          ⎠                  ⎟      ⎜  \n",
              "─────────────⎟ + ⅈ⋅sin⎜─────────────────────────────────────────────⎟ - cos⎜──\n",
              "             ⎠        ⎝                    2⋅√C⋅L                   ⎠      ⎝  \n",
              "──────────────────────────────────────────────────────────────────────────────\n",
              "_____                                                                         \n",
              "                                                                              \n",
              " 4⋅L                                                                          \n",
              "\n",
              "                                            ⎞               ⎛     ⎛      2    \n",
              "                                            ⎟               ⎜atan2⎝0, C⋅R  - 4\n",
              "   ⎛     ⎛      2      ⎞⎞    ______________⎞⎟          t⋅cos⎜─────────────────\n",
              "   ⎜atan2⎝0, C⋅R  - 4⋅L⎠⎟   ╱ │   2      │ ⎟⎟    R⋅t        ⎝         2       \n",
              "sin⎜────────────────────⎟⋅╲╱  │C⋅R  - 4⋅L│ ⎟⎟  - ─── - ───────────────────────\n",
              "   ⎝         2          ⎠                  ⎟⎟    2⋅L                       2⋅√\n",
              "───────────────────────────────────────────⎟⎟⋅ℯ                               \n",
              "                  2⋅√C⋅L                   ⎠⎠                                 \n",
              "──────────────────────────────────────────────────────────────────────────────\n",
              "                                                                              \n",
              "                                                                              \n",
              "                                                                              \n",
              "\n",
              "  ⎞⎞    ______________\n",
              "⋅L⎠⎟   ╱ │   2      │ \n",
              "───⎟⋅╲╱  │C⋅R  - 4⋅L│ \n",
              "   ⎠                  \n",
              "──────────────────────\n",
              "C⋅L                   \n",
              "                      \n",
              "                      \n",
              "──────────────────────\n",
              "                      \n",
              "                      \n",
              "                      "
            ]
          },
          "metadata": {},
          "execution_count": 43
        }
      ]
    },
    {
      "cell_type": "code",
      "source": [
        "y_t = yt+ yt_int\n",
        "y_t"
      ],
      "metadata": {
        "colab": {
          "base_uri": "https://localhost:8080/",
          "height": 293
        },
        "id": "G2W6waPF26gb",
        "outputId": "1438028a-314f-4c7f-e917-0618d663fa3c"
      },
      "execution_count": 44,
      "outputs": [
        {
          "output_type": "execute_result",
          "data": {
            "image/png": "[encoded data removed]",
            "text/latex": "$\\displaystyle C L y_{0} \\mathcal{L}^{-1}_{s}\\left[s\\right]\\left(t\\right) + \\frac{\\left(i e^{\\frac{t \\cos{\\left(\\frac{\\operatorname{atan_{2}}{\\left(0,- 4 C R^{2} + L \\right)}}{2} \\right)} \\sqrt{\\left|{4 C R^{2} - L}\\right|}}{C \\sqrt{L} R}} \\sin{\\left(\\frac{t \\sin{\\left(\\frac{\\operatorname{atan_{2}}{\\left(0,- 4 C R^{2} + L \\right)}}{2} \\right)} \\sqrt{\\left|{4 C R^{2} - L}\\right|}}{2 C \\sqrt{L} R} \\right)} + e^{\\frac{t \\cos{\\left(\\frac{\\operatorname{atan_{2}}{\\left(0,- 4 C R^{2} + L \\right)}}{2} \\right)} \\sqrt{\\left|{4 C R^{2} - L}\\right|}}{C \\sqrt{L} R}} \\cos{\\left(\\frac{t \\sin{\\left(\\frac{\\operatorname{atan_{2}}{\\left(0,- 4 C R^{2} + L \\right)}}{2} \\right)} \\sqrt{\\left|{4 C R^{2} - L}\\right|}}{2 C \\sqrt{L} R} \\right)} + i \\sin{\\left(\\frac{t \\sin{\\left(\\frac{\\operatorname{atan_{2}}{\\left(0,- 4 C R^{2} + L \\right)}}{2} \\right)} \\sqrt{\\left|{4 C R^{2} - L}\\right|}}{2 C \\sqrt{L} R} \\right)} - \\cos{\\left(\\frac{t \\sin{\\left(\\frac{\\operatorname{atan_{2}}{\\left(0,- 4 C R^{2} + L \\right)}}{2} \\right)} \\sqrt{\\left|{4 C R^{2} - L}\\right|}}{2 C \\sqrt{L} R} \\right)}\\right) e^{- \\frac{t}{2 C R} - \\frac{t \\cos{\\left(\\frac{\\operatorname{atan_{2}}{\\left(0,- 4 C R^{2} + L \\right)}}{2} \\right)} \\sqrt{\\left|{4 C R^{2} - L}\\right|}}{2 C \\sqrt{L} R}}}{\\sqrt{L} \\sqrt{- 4 C R^{2} + L}} + \\frac{\\left(i e^{\\frac{t \\cos{\\left(\\frac{\\operatorname{atan_{2}}{\\left(0,C R^{2} - 4 L \\right)}}{2} \\right)} \\sqrt{\\left|{C R^{2} - 4 L}\\right|}}{\\sqrt{C} L}} \\sin{\\left(\\frac{t \\sin{\\left(\\frac{\\operatorname{atan_{2}}{\\left(0,C R^{2} - 4 L \\right)}}{2} \\right)} \\sqrt{\\left|{C R^{2} - 4 L}\\right|}}{2 \\sqrt{C} L} \\right)} + e^{\\frac{t \\cos{\\left(\\frac{\\operatorname{atan_{2}}{\\left(0,C R^{2} - 4 L \\right)}}{2} \\right)} \\sqrt{\\left|{C R^{2} - 4 L}\\right|}}{\\sqrt{C} L}} \\cos{\\left(\\frac{t \\sin{\\left(\\frac{\\operatorname{atan_{2}}{\\left(0,C R^{2} - 4 L \\right)}}{2} \\right)} \\sqrt{\\left|{C R^{2} - 4 L}\\right|}}{2 \\sqrt{C} L} \\right)} + i \\sin{\\left(\\frac{t \\sin{\\left(\\frac{\\operatorname{atan_{2}}{\\left(0,C R^{2} - 4 L \\right)}}{2} \\right)} \\sqrt{\\left|{C R^{2} - 4 L}\\right|}}{2 \\sqrt{C} L} \\right)} - \\cos{\\left(\\frac{t \\sin{\\left(\\frac{\\operatorname{atan_{2}}{\\left(0,C R^{2} - 4 L \\right)}}{2} \\right)} \\sqrt{\\left|{C R^{2} - 4 L}\\right|}}{2 \\sqrt{C} L} \\right)}\\right) e^{- \\frac{R t}{2 L} - \\frac{t \\cos{\\left(\\frac{\\operatorname{atan_{2}}{\\left(0,C R^{2} - 4 L \\right)}}{2} \\right)} \\sqrt{\\left|{C R^{2} - 4 L}\\right|}}{2 \\sqrt{C} L}}}{\\sqrt{C} \\sqrt{C R^{2} - 4 L}}$",
            "text/plain": [
              "                                                ⎛        ⎛     ⎛          2   \n",
              "                                                ⎜        ⎜atan2⎝0, - 4⋅C⋅R  + \n",
              "                                                ⎜   t⋅cos⎜────────────────────\n",
              "                                                ⎜        ⎝          2         \n",
              "                                                ⎜   ──────────────────────────\n",
              "                                                ⎜                        C⋅√L⋅\n",
              "                                                ⎜ⅈ⋅ℯ                          \n",
              "                                                ⎝                             \n",
              "C⋅L⋅y₀⋅InverseLaplaceTransform(s, s, t, None) + ──────────────────────────────\n",
              "                                                                              \n",
              "                                                                              \n",
              "                                                                              \n",
              "\n",
              " ⎞⎞    ______________                                                         \n",
              "L⎠⎟   ╱ │     2    │                                                          \n",
              "──⎟⋅╲╱  │4⋅C⋅R  - L│     ⎛     ⎛     ⎛          2    ⎞⎞    ______________⎞    \n",
              "  ⎠                      ⎜     ⎜atan2⎝0, - 4⋅C⋅R  + L⎠⎟   ╱ │     2    │ ⎟    \n",
              "─────────────────────    ⎜t⋅sin⎜──────────────────────⎟⋅╲╱  │4⋅C⋅R  - L│ ⎟    \n",
              "R                        ⎜     ⎝          2           ⎠                  ⎟    \n",
              "                     ⋅sin⎜───────────────────────────────────────────────⎟ + ℯ\n",
              "                         ⎝                    2⋅C⋅√L⋅R                   ⎠    \n",
              "──────────────────────────────────────────────────────────────────────────────\n",
              "                                                                              \n",
              "                                                                              \n",
              "                                                                              \n",
              "\n",
              "     ⎛     ⎛          2    ⎞⎞    ______________                               \n",
              "     ⎜atan2⎝0, - 4⋅C⋅R  + L⎠⎟   ╱ │     2    │                                \n",
              "t⋅cos⎜──────────────────────⎟⋅╲╱  │4⋅C⋅R  - L│     ⎛     ⎛     ⎛          2   \n",
              "     ⎝          2           ⎠                      ⎜     ⎜atan2⎝0, - 4⋅C⋅R  + \n",
              "───────────────────────────────────────────────    ⎜t⋅sin⎜────────────────────\n",
              "                     C⋅√L⋅R                        ⎜     ⎝          2         \n",
              "                                               ⋅cos⎜──────────────────────────\n",
              "                                                   ⎝                    2⋅C⋅√L\n",
              "──────────────────────────────────────────────────────────────────────────────\n",
              "                                                                              \n",
              "                                                                             ╱\n",
              "                                                                        √L⋅╲╱ \n",
              "\n",
              "                                                                              \n",
              "                                                                              \n",
              " ⎞⎞    ______________⎞        ⎛     ⎛     ⎛          2    ⎞⎞    ______________\n",
              "L⎠⎟   ╱ │     2    │ ⎟        ⎜     ⎜atan2⎝0, - 4⋅C⋅R  + L⎠⎟   ╱ │     2    │ \n",
              "──⎟⋅╲╱  │4⋅C⋅R  - L│ ⎟        ⎜t⋅sin⎜──────────────────────⎟⋅╲╱  │4⋅C⋅R  - L│ \n",
              "  ⎠                  ⎟        ⎜     ⎝          2           ⎠                  \n",
              "─────────────────────⎟ + ⅈ⋅sin⎜───────────────────────────────────────────────\n",
              "⋅R                   ⎠        ⎝                    2⋅C⋅√L⋅R                   \n",
              "──────────────────────────────────────────────────────────────────────────────\n",
              "______________                                                                \n",
              "        2                                                                     \n",
              " - 4⋅C⋅R  + L                                                                 \n",
              "\n",
              "                                                        ⎞                 ⎛   \n",
              "                                                        ⎟                 ⎜ata\n",
              "⎞      ⎛     ⎛     ⎛          2    ⎞⎞    ______________⎞⎟            t⋅cos⎜───\n",
              "⎟      ⎜     ⎜atan2⎝0, - 4⋅C⋅R  + L⎠⎟   ╱ │     2    │ ⎟⎟      t          ⎝   \n",
              "⎟      ⎜t⋅sin⎜──────────────────────⎟⋅╲╱  │4⋅C⋅R  - L│ ⎟⎟  - ───── - ─────────\n",
              "⎟      ⎜     ⎝          2           ⎠                  ⎟⎟    2⋅C⋅R            \n",
              "⎟ - cos⎜───────────────────────────────────────────────⎟⎟⋅ℯ                   \n",
              "⎠      ⎝                    2⋅C⋅√L⋅R                   ⎠⎠                     \n",
              "──────────────────────────────────────────────────────────────────────────────\n",
              "                                                                              \n",
              "                                                                              \n",
              "                                                                              \n",
              "\n",
              "  ⎛          2    ⎞⎞    ______________   ⎛        ⎛     ⎛      2      ⎞⎞    __\n",
              "n2⎝0, - 4⋅C⋅R  + L⎠⎟   ╱ │     2    │    ⎜        ⎜atan2⎝0, C⋅R  - 4⋅L⎠⎟   ╱ │\n",
              "───────────────────⎟⋅╲╱  │4⋅C⋅R  - L│    ⎜   t⋅cos⎜────────────────────⎟⋅╲╱  │\n",
              "       2           ⎠                     ⎜        ⎝         2          ⎠      \n",
              "──────────────────────────────────────   ⎜   ─────────────────────────────────\n",
              "           2⋅C⋅√L⋅R                      ⎜                        √C⋅L        \n",
              "                                         ⎜ⅈ⋅ℯ                                 \n",
              "                                         ⎝                                    \n",
              "────────────────────────────────────── + ─────────────────────────────────────\n",
              "                                                                              \n",
              "                                                                              \n",
              "                                                                              \n",
              "\n",
              "____________                                                            ⎛     \n",
              "   2      │                                                             ⎜atan2\n",
              "C⋅R  - 4⋅L│     ⎛     ⎛     ⎛      2      ⎞⎞    ______________⎞    t⋅cos⎜─────\n",
              "                ⎜     ⎜atan2⎝0, C⋅R  - 4⋅L⎠⎟   ╱ │   2      │ ⎟         ⎝     \n",
              "────────────    ⎜t⋅sin⎜────────────────────⎟⋅╲╱  │C⋅R  - 4⋅L│ ⎟    ───────────\n",
              "                ⎜     ⎝         2          ⎠                  ⎟               \n",
              "            ⋅sin⎜─────────────────────────────────────────────⎟ + ℯ           \n",
              "                ⎝                    2⋅√C⋅L                   ⎠               \n",
              "──────────────────────────────────────────────────────────────────────────────\n",
              "                                                                              \n",
              "                                                                              \n",
              "                                                                              \n",
              "\n",
              "⎛      2      ⎞⎞    ______________                                            \n",
              "⎝0, C⋅R  - 4⋅L⎠⎟   ╱ │   2      │                                             \n",
              "───────────────⎟⋅╲╱  │C⋅R  - 4⋅L│     ⎛     ⎛     ⎛      2      ⎞⎞    ________\n",
              "    2          ⎠                      ⎜     ⎜atan2⎝0, C⋅R  - 4⋅L⎠⎟   ╱ │   2  \n",
              "──────────────────────────────────    ⎜t⋅sin⎜────────────────────⎟⋅╲╱  │C⋅R  -\n",
              "          √C⋅L                        ⎜     ⎝         2          ⎠            \n",
              "                                  ⋅cos⎜───────────────────────────────────────\n",
              "                                      ⎝                    2⋅√C⋅L             \n",
              "──────────────────────────────────────────────────────────────────────────────\n",
              "                                                                ____________  \n",
              "                                                               ╱    2         \n",
              "                                                          √C⋅╲╱  C⋅R  - 4⋅L   \n",
              "\n",
              "                                                                              \n",
              "                                                                              \n",
              "______⎞        ⎛     ⎛     ⎛      2      ⎞⎞    ______________⎞      ⎛     ⎛   \n",
              "    │ ⎟        ⎜     ⎜atan2⎝0, C⋅R  - 4⋅L⎠⎟   ╱ │   2      │ ⎟      ⎜     ⎜ata\n",
              " 4⋅L│ ⎟        ⎜t⋅sin⎜────────────────────⎟⋅╲╱  │C⋅R  - 4⋅L│ ⎟      ⎜t⋅sin⎜───\n",
              "      ⎟        ⎜     ⎝         2          ⎠                  ⎟      ⎜     ⎝   \n",
              "──────⎟ + ⅈ⋅sin⎜─────────────────────────────────────────────⎟ - cos⎜─────────\n",
              "      ⎠        ⎝                    2⋅√C⋅L                   ⎠      ⎝         \n",
              "──────────────────────────────────────────────────────────────────────────────\n",
              "                                                                              \n",
              "                                                                              \n",
              "                                                                              \n",
              "\n",
              "                                     ⎞               ⎛     ⎛      2      ⎞⎞   \n",
              "                                     ⎟               ⎜atan2⎝0, C⋅R  - 4⋅L⎠⎟   \n",
              "  ⎛      2      ⎞⎞    ______________⎞⎟          t⋅cos⎜────────────────────⎟⋅╲╱\n",
              "n2⎝0, C⋅R  - 4⋅L⎠⎟   ╱ │   2      │ ⎟⎟    R⋅t        ⎝         2          ⎠   \n",
              "─────────────────⎟⋅╲╱  │C⋅R  - 4⋅L│ ⎟⎟  - ─── - ──────────────────────────────\n",
              "      2          ⎠                  ⎟⎟    2⋅L                       2⋅√C⋅L    \n",
              "────────────────────────────────────⎟⎟⋅ℯ                                      \n",
              "           2⋅√C⋅L                   ⎠⎠                                        \n",
              "──────────────────────────────────────────────────────────────────────────────\n",
              "                                                                              \n",
              "                                                                              \n",
              "                                                                              \n",
              "\n",
              " ______________\n",
              "╱ │   2      │ \n",
              "  │C⋅R  - 4⋅L│ \n",
              "               \n",
              "───────────────\n",
              "               \n",
              "               \n",
              "               \n",
              "───────────────\n",
              "               \n",
              "               \n",
              "               "
            ]
          },
          "metadata": {},
          "execution_count": 44
        }
      ]
    },
    {
      "cell_type": "code",
      "source": [
        "#Modelo en el tiempo con RLC evaluados\n",
        "s = sym.symbols('s', complex=True)\n",
        "t, R, L, C = sym.symbols('t R L C', positive=True)\n",
        "X = sym.Function('X')(s)\n",
        "\n",
        "Y_ext = 1/(L*C*s**2 + R*C*s + 1) * X\n",
        "Y_ext"
      ],
      "metadata": {
        "colab": {
          "base_uri": "https://localhost:8080/",
          "height": 54
        },
        "id": "9LtaPQ3927aN",
        "outputId": "8a0e9a89-05fe-49fc-be31-0a390f2ce492"
      },
      "execution_count": 45,
      "outputs": [
        {
          "output_type": "execute_result",
          "data": {
            "image/png": "[encoded data removed]",
            "text/latex": "$\\displaystyle \\frac{X{\\left(s \\right)}}{C L s^{2} + C R s + 1}$",
            "text/plain": [
              "       X(s)       \n",
              "──────────────────\n",
              "     2            \n",
              "C⋅L⋅s  + C⋅R⋅s + 1"
            ]
          },
          "metadata": {},
          "execution_count": 45
        }
      ]
    },
    {
      "cell_type": "code",
      "source": [
        "RLC = {R: 1, L: sym.Rational('.5'), C: sym.Rational('.4')}\n",
        "\n",
        "y_ext = sym.inverse_laplace_transform(Y_ext.subs(RLC).subs(X,1), s, t)\n",
        "y_ext"
      ],
      "metadata": {
        "colab": {
          "base_uri": "https://localhost:8080/",
          "height": 54
        },
        "id": "bY17gJNr28LH",
        "outputId": "9030aa55-09e8-4738-f0fd-76d109ba2a10"
      },
      "execution_count": 46,
      "outputs": [
        {
          "output_type": "execute_result",
          "data": {
            "image/png": "[encoded data removed]",
            "text/latex": "$\\displaystyle \\frac{5 e^{- t} \\sin{\\left(2 t \\right)}}{2}$",
            "text/plain": [
              "   -t         \n",
              "5⋅ℯ  ⋅sin(2⋅t)\n",
              "──────────────\n",
              "      2       "
            ]
          },
          "metadata": {},
          "execution_count": 46
        }
      ]
    },
    {
      "cell_type": "code",
      "source": [
        "i0, y0 = sym.symbols('i0 y0', real=True)\n",
        "\n",
        "Yint = (R*C + L*C*s) / (L*C*s**2 + R*C*s + 1) * y0 + L / (L*C*s**2 + R*C*s + 1) * i0\n",
        "Yint"
      ],
      "metadata": {
        "colab": {
          "base_uri": "https://localhost:8080/",
          "height": 54
        },
        "id": "FH8oXyZm29Tb",
        "outputId": "da413413-b4ea-48f8-af64-d1cee4561c08"
      },
      "execution_count": 47,
      "outputs": [
        {
          "output_type": "execute_result",
          "data": {
            "image/png": "[encoded data removed]",
            "text/latex": "$\\displaystyle \\frac{L i_{0}}{C L s^{2} + C R s + 1} + \\frac{y_{0} \\left(C L s + C R\\right)}{C L s^{2} + C R s + 1}$",
            "text/plain": [
              "       L⋅i₀           y₀⋅(C⋅L⋅s + C⋅R) \n",
              "────────────────── + ──────────────────\n",
              "     2                    2            \n",
              "C⋅L⋅s  + C⋅R⋅s + 1   C⋅L⋅s  + C⋅R⋅s + 1"
            ]
          },
          "metadata": {},
          "execution_count": 47
        }
      ]
    },
    {
      "cell_type": "code",
      "source": [
        "#se inicializa y_interna con valores iniciales \n",
        "yint = sym.inverse_laplace_transform(Yint.subs(RLC).subs(i0, 1).subs(y0, -1), s, t)\n",
        "yint"
      ],
      "metadata": {
        "colab": {
          "base_uri": "https://localhost:8080/",
          "height": 58
        },
        "id": "SCn8tck1299F",
        "outputId": "e140dcb5-b8e7-4d79-c596-d8f4c8d114cd"
      },
      "execution_count": 48,
      "outputs": [
        {
          "output_type": "execute_result",
          "data": {
            "image/png": "[encoded data removed]",
            "text/latex": "$\\displaystyle \\left(\\frac{3 \\sin{\\left(2 t \\right)}}{4} - \\cos{\\left(2 t \\right)}\\right) e^{- t}$",
            "text/plain": [
              "⎛3⋅sin(2⋅t)           ⎞  -t\n",
              "⎜────────── - cos(2⋅t)⎟⋅ℯ  \n",
              "⎝    4                ⎠    "
            ]
          },
          "metadata": {},
          "execution_count": 48
        }
      ]
    },
    {
      "cell_type": "code",
      "source": [
        "yt = y_ext + yint\n",
        "yt.simplify()"
      ],
      "metadata": {
        "colab": {
          "base_uri": "https://localhost:8080/",
          "height": 58
        },
        "id": "c0qcWxRp2-qM",
        "outputId": "403a5085-a13d-4d42-a5b9-03dc89ba9443"
      },
      "execution_count": 49,
      "outputs": [
        {
          "output_type": "execute_result",
          "data": {
            "image/png": "[encoded data removed]",
            "text/latex": "$\\displaystyle \\left(\\frac{13 \\sin{\\left(2 t \\right)}}{4} - \\cos{\\left(2 t \\right)}\\right) e^{- t}$",
            "text/plain": [
              "⎛13⋅sin(2⋅t)           ⎞  -t\n",
              "⎜─────────── - cos(2⋅t)⎟⋅ℯ  \n",
              "⎝     4                ⎠    "
            ]
          },
          "metadata": {},
          "execution_count": 49
        }
      ]
    },
    {
      "cell_type": "markdown",
      "source": [
        "En la siguiente gráfica se presentan: \n",
        "* la parte interna $y_\\text{int}(t)$ (Línea verde), \n",
        "* la parte externa $y_\\text{ext}(t)$ (Línea azul), \n",
        "* la señal de salida $y(t)$ (Línea roja) "
      ],
      "metadata": {
        "id": "zVXNTCUf3EP4"
      }
    },
    {
      "cell_type": "code",
      "source": [
        "p1 = sym.plot(y_ext, (t, 0, 7), line_color='b', xlabel='$t$', ylabel='$y(t)$', show=False)\n",
        "p2 = sym.plot(yint, (t, 0, 7), line_color='g', show=False)\n",
        "p3 = sym.plot(yt, (t, 0, 7\n",
        "                   \n",
        "                   ), line_color='r', show=False)\n",
        "p1.extend(p2)\n",
        "p1.extend(p3)\n",
        "p1.show()"
      ],
      "metadata": {
        "colab": {
          "base_uri": "https://localhost:8080/",
          "height": 297
        },
        "id": "ZDbV1SSw3Er3",
        "outputId": "8f3d7133-2759-451c-9ab9-d9acdd6df58f"
      },
      "execution_count": 50,
      "outputs": [
        {
          "output_type": "display_data",
          "data": {
            "image/png": "[encoded data removed]",
            "text/plain": [
              "<Figure size 432x288 with 1 Axes>"
            ]
          },
          "metadata": {
            "needs_background": "light"
          }
        }
      ]
    },
    {
      "cell_type": "markdown",
      "source": [
        "###SEÑAL ESCALÓN"
      ],
      "metadata": {
        "id": "5pLBdVzC3S-L"
      }
    },
    {
      "cell_type": "code",
      "source": [
        "%matplotlib inline\n",
        "import sympy as sym\n",
        "sym.init_printing()\n",
        "\n",
        "s = sym.symbols('s', complex=True)\n",
        "t, R, L, C = sym.symbols('t R L C', positive=True)\n",
        "#Entrada de interés en Laplace\n",
        "X = 1/s\n",
        "\n",
        "Y_ext = 1/(L*C*s**2 + (L/R)*s + 1) * X\n",
        "#Función de salida para y_externa\n",
        "Y_ext"
      ],
      "metadata": {
        "colab": {
          "base_uri": "https://localhost:8080/",
          "height": 58
        },
        "id": "nVduy2xX3Tuq",
        "outputId": "f7757c7e-30d1-400a-e639-fa46c4c24e94"
      },
      "execution_count": 51,
      "outputs": [
        {
          "output_type": "execute_result",
          "data": {
            "image/png": "[encoded data removed]",
            "text/latex": "$\\displaystyle \\frac{1}{s \\left(C L s^{2} + \\frac{L s}{R} + 1\\right)}$",
            "text/plain": [
              "         1          \n",
              "────────────────────\n",
              "  ⎛     2   L⋅s    ⎞\n",
              "s⋅⎜C⋅L⋅s  + ─── + 1⎟\n",
              "  ⎝          R     ⎠"
            ]
          },
          "metadata": {},
          "execution_count": 51
        }
      ]
    },
    {
      "cell_type": "code",
      "source": [
        "Yp = Y_ext.apart(s)\n",
        "Yp"
      ],
      "metadata": {
        "colab": {
          "base_uri": "https://localhost:8080/",
          "height": 54
        },
        "id": "62yPsmaH3Vth",
        "outputId": "d9fcd235-1652-4ee4-a55b-b9864c8356da"
      },
      "execution_count": 52,
      "outputs": [
        {
          "output_type": "execute_result",
          "data": {
            "image/png": "[encoded data removed]",
            "text/latex": "$\\displaystyle - \\frac{L \\left(C R s + 1\\right)}{C L R s^{2} + L s + R} + \\frac{1}{s}$",
            "text/plain": [
              "    L⋅(C⋅R⋅s + 1)      1\n",
              "- ────────────────── + ─\n",
              "         2             s\n",
              "  C⋅L⋅R⋅s  + L⋅s + R    "
            ]
          },
          "metadata": {},
          "execution_count": 52
        }
      ]
    },
    {
      "cell_type": "code",
      "source": [
        "#Modelo en el tiempo en función de RLC\n",
        "Ye = Yp\n",
        "#Se recorre cada fracción parcial según factorización para simplificar cálculos\n",
        "for j in range(len(Ye.args)):\n",
        "    if j==0:#primer elemento de la solucion\n",
        "      yt = sym.inverse_laplace_transform(Ye.args[j], s, t)\n",
        "    else: #siguientes elementos concatenados\n",
        "      yt+= sym.inverse_laplace_transform(Ye.args[j], s, t) \n",
        "yt"
      ],
      "metadata": {
        "colab": {
          "base_uri": "https://localhost:8080/",
          "height": 174
        },
        "id": "QACm0dWd3W2X",
        "outputId": "76e3c7e3-7277-4986-e5e2-d087955113cb"
      },
      "execution_count": 53,
      "outputs": [
        {
          "output_type": "execute_result",
          "data": {
            "image/png": "[encoded data removed]",
            "text/latex": "$\\displaystyle 1 + \\frac{\\left(- i \\sqrt{L} e^{\\frac{t \\cos{\\left(\\frac{\\operatorname{atan_{2}}{\\left(0,- 4 C R^{2} + L \\right)}}{2} \\right)} \\sqrt{\\left|{4 C R^{2} - L}\\right|}}{C \\sqrt{L} R}} \\sin{\\left(\\frac{t \\sin{\\left(\\frac{\\operatorname{atan_{2}}{\\left(0,- 4 C R^{2} + L \\right)}}{2} \\right)} \\sqrt{\\left|{4 C R^{2} - L}\\right|}}{2 C \\sqrt{L} R} \\right)} - \\sqrt{L} e^{\\frac{t \\cos{\\left(\\frac{\\operatorname{atan_{2}}{\\left(0,- 4 C R^{2} + L \\right)}}{2} \\right)} \\sqrt{\\left|{4 C R^{2} - L}\\right|}}{C \\sqrt{L} R}} \\cos{\\left(\\frac{t \\sin{\\left(\\frac{\\operatorname{atan_{2}}{\\left(0,- 4 C R^{2} + L \\right)}}{2} \\right)} \\sqrt{\\left|{4 C R^{2} - L}\\right|}}{2 C \\sqrt{L} R} \\right)} - i \\sqrt{L} \\sin{\\left(\\frac{t \\sin{\\left(\\frac{\\operatorname{atan_{2}}{\\left(0,- 4 C R^{2} + L \\right)}}{2} \\right)} \\sqrt{\\left|{4 C R^{2} - L}\\right|}}{2 C \\sqrt{L} R} \\right)} + \\sqrt{L} \\cos{\\left(\\frac{t \\sin{\\left(\\frac{\\operatorname{atan_{2}}{\\left(0,- 4 C R^{2} + L \\right)}}{2} \\right)} \\sqrt{\\left|{4 C R^{2} - L}\\right|}}{2 C \\sqrt{L} R} \\right)} - i \\sqrt{- 4 C R^{2} + L} e^{\\frac{t \\cos{\\left(\\frac{\\operatorname{atan_{2}}{\\left(0,- 4 C R^{2} + L \\right)}}{2} \\right)} \\sqrt{\\left|{4 C R^{2} - L}\\right|}}{C \\sqrt{L} R}} \\sin{\\left(\\frac{t \\sin{\\left(\\frac{\\operatorname{atan_{2}}{\\left(0,- 4 C R^{2} + L \\right)}}{2} \\right)} \\sqrt{\\left|{4 C R^{2} - L}\\right|}}{2 C \\sqrt{L} R} \\right)} - \\sqrt{- 4 C R^{2} + L} e^{\\frac{t \\cos{\\left(\\frac{\\operatorname{atan_{2}}{\\left(0,- 4 C R^{2} + L \\right)}}{2} \\right)} \\sqrt{\\left|{4 C R^{2} - L}\\right|}}{C \\sqrt{L} R}} \\cos{\\left(\\frac{t \\sin{\\left(\\frac{\\operatorname{atan_{2}}{\\left(0,- 4 C R^{2} + L \\right)}}{2} \\right)} \\sqrt{\\left|{4 C R^{2} - L}\\right|}}{2 C \\sqrt{L} R} \\right)} + i \\sqrt{- 4 C R^{2} + L} \\sin{\\left(\\frac{t \\sin{\\left(\\frac{\\operatorname{atan_{2}}{\\left(0,- 4 C R^{2} + L \\right)}}{2} \\right)} \\sqrt{\\left|{4 C R^{2} - L}\\right|}}{2 C \\sqrt{L} R} \\right)} - \\sqrt{- 4 C R^{2} + L} \\cos{\\left(\\frac{t \\sin{\\left(\\frac{\\operatorname{atan_{2}}{\\left(0,- 4 C R^{2} + L \\right)}}{2} \\right)} \\sqrt{\\left|{4 C R^{2} - L}\\right|}}{2 C \\sqrt{L} R} \\right)}\\right) e^{- \\frac{t}{2 C R} - \\frac{t \\cos{\\left(\\frac{\\operatorname{atan_{2}}{\\left(0,- 4 C R^{2} + L \\right)}}{2} \\right)} \\sqrt{\\left|{4 C R^{2} - L}\\right|}}{2 C \\sqrt{L} R}}}{2 \\sqrt{- 4 C R^{2} + L}}$",
            "text/plain": [
              "    ⎛             ⎛     ⎛          2    ⎞⎞    ______________                  \n",
              "    ⎜             ⎜atan2⎝0, - 4⋅C⋅R  + L⎠⎟   ╱ │     2    │                   \n",
              "    ⎜        t⋅cos⎜──────────────────────⎟⋅╲╱  │4⋅C⋅R  - L│     ⎛     ⎛     ⎛ \n",
              "    ⎜             ⎝          2           ⎠                      ⎜     ⎜atan2⎝0\n",
              "    ⎜        ───────────────────────────────────────────────    ⎜t⋅sin⎜───────\n",
              "    ⎜                             C⋅√L⋅R                        ⎜     ⎝       \n",
              "    ⎜- ⅈ⋅√L⋅ℯ                                               ⋅sin⎜─────────────\n",
              "    ⎝                                                           ⎝             \n",
              "1 + ──────────────────────────────────────────────────────────────────────────\n",
              "                                                                              \n",
              "                                                                              \n",
              "                                                                              \n",
              "\n",
              "                                               ⎛     ⎛          2    ⎞⎞    ___\n",
              "                                               ⎜atan2⎝0, - 4⋅C⋅R  + L⎠⎟   ╱ │ \n",
              "         2    ⎞⎞    ______________⎞       t⋅cos⎜──────────────────────⎟⋅╲╱  │4\n",
              ", - 4⋅C⋅R  + L⎠⎟   ╱ │     2    │ ⎟            ⎝          2           ⎠       \n",
              "───────────────⎟⋅╲╱  │4⋅C⋅R  - L│ ⎟       ────────────────────────────────────\n",
              "   2           ⎠                  ⎟                            C⋅√L⋅R         \n",
              "──────────────────────────────────⎟ - √L⋅ℯ                                    \n",
              "       2⋅C⋅√L⋅R                   ⎠                                           \n",
              "──────────────────────────────────────────────────────────────────────────────\n",
              "                                                                              \n",
              "                                                                              \n",
              "                                                                              \n",
              "\n",
              "___________                                                                   \n",
              "    2    │                                                                    \n",
              "⋅C⋅R  - L│     ⎛     ⎛     ⎛          2    ⎞⎞    ______________⎞           ⎛  \n",
              "               ⎜     ⎜atan2⎝0, - 4⋅C⋅R  + L⎠⎟   ╱ │     2    │ ⎟           ⎜  \n",
              "───────────    ⎜t⋅sin⎜──────────────────────⎟⋅╲╱  │4⋅C⋅R  - L│ ⎟           ⎜t⋅\n",
              "               ⎜     ⎝          2           ⎠                  ⎟           ⎜  \n",
              "           ⋅cos⎜───────────────────────────────────────────────⎟ - ⅈ⋅√L⋅sin⎜──\n",
              "               ⎝                    2⋅C⋅√L⋅R                   ⎠           ⎝  \n",
              "──────────────────────────────────────────────────────────────────────────────\n",
              "                                                                              \n",
              "                                                                              \n",
              "                                                                              \n",
              "\n",
              "                                                                              \n",
              "                                                                              \n",
              "   ⎛     ⎛          2    ⎞⎞    ______________⎞         ⎛     ⎛     ⎛          \n",
              "   ⎜atan2⎝0, - 4⋅C⋅R  + L⎠⎟   ╱ │     2    │ ⎟         ⎜     ⎜atan2⎝0, - 4⋅C⋅R\n",
              "sin⎜──────────────────────⎟⋅╲╱  │4⋅C⋅R  - L│ ⎟         ⎜t⋅sin⎜────────────────\n",
              "   ⎝          2           ⎠                  ⎟         ⎜     ⎝          2     \n",
              "─────────────────────────────────────────────⎟ + √L⋅cos⎜──────────────────────\n",
              "                  2⋅C⋅√L⋅R                   ⎠         ⎝                    2⋅\n",
              "──────────────────────────────────────────────────────────────────────────────\n",
              "                                                                              \n",
              "                                                                              \n",
              "                                                                              \n",
              "\n",
              "                                                       ⎛     ⎛          2    ⎞\n",
              "                                                       ⎜atan2⎝0, - 4⋅C⋅R  + L⎠\n",
              "2    ⎞⎞    ______________⎞                        t⋅cos⎜──────────────────────\n",
              "  + L⎠⎟   ╱ │     2    │ ⎟                             ⎝          2           \n",
              "──────⎟⋅╲╱  │4⋅C⋅R  - L│ ⎟        ______________  ────────────────────────────\n",
              "      ⎠                  ⎟       ╱        2                            C⋅√L⋅R \n",
              "─────────────────────────⎟ - ⅈ⋅╲╱  - 4⋅C⋅R  + L ⋅ℯ                            \n",
              "C⋅√L⋅R                   ⎠                                                    \n",
              "──────────────────────────────────────────────────────────────────────────────\n",
              "                                                                              \n",
              "                                                                              \n",
              "                                                                            2⋅\n",
              "\n",
              "⎞    ______________                                                           \n",
              "⎟   ╱ │     2    │                                                            \n",
              "⎟⋅╲╱  │4⋅C⋅R  - L│     ⎛     ⎛     ⎛          2    ⎞⎞    ______________⎞      \n",
              "⎠                      ⎜     ⎜atan2⎝0, - 4⋅C⋅R  + L⎠⎟   ╱ │     2    │ ⎟      \n",
              "───────────────────    ⎜t⋅sin⎜──────────────────────⎟⋅╲╱  │4⋅C⋅R  - L│ ⎟      \n",
              "                       ⎜     ⎝          2           ⎠                  ⎟     ╱\n",
              "                   ⋅sin⎜───────────────────────────────────────────────⎟ - ╲╱ \n",
              "                       ⎝                    2⋅C⋅√L⋅R                   ⎠      \n",
              "──────────────────────────────────────────────────────────────────────────────\n",
              "   ______________                                                             \n",
              "  ╱        2                                                                  \n",
              "╲╱  - 4⋅C⋅R  + L                                                              \n",
              "\n",
              "                     ⎛     ⎛          2    ⎞⎞    ______________               \n",
              "                     ⎜atan2⎝0, - 4⋅C⋅R  + L⎠⎟   ╱ │     2    │                \n",
              "                t⋅cos⎜──────────────────────⎟⋅╲╱  │4⋅C⋅R  - L│     ⎛     ⎛    \n",
              "                     ⎝          2           ⎠                      ⎜     ⎜atan\n",
              "______________  ───────────────────────────────────────────────    ⎜t⋅sin⎜────\n",
              "        2                            C⋅√L⋅R                        ⎜     ⎝    \n",
              " - 4⋅C⋅R  + L ⋅ℯ                                               ⋅cos⎜──────────\n",
              "                                                                   ⎝          \n",
              "──────────────────────────────────────────────────────────────────────────────\n",
              "                                                                              \n",
              "                                                                              \n",
              "                                                                              \n",
              "\n",
              "                                                                              \n",
              "                                                                              \n",
              " ⎛          2    ⎞⎞    ______________⎞                          ⎛     ⎛     ⎛ \n",
              "2⎝0, - 4⋅C⋅R  + L⎠⎟   ╱ │     2    │ ⎟                          ⎜     ⎜atan2⎝0\n",
              "──────────────────⎟⋅╲╱  │4⋅C⋅R  - L│ ⎟        ______________    ⎜t⋅sin⎜───────\n",
              "      2           ⎠                  ⎟       ╱        2         ⎜     ⎝       \n",
              "─────────────────────────────────────⎟ + ⅈ⋅╲╱  - 4⋅C⋅R  + L ⋅sin⎜─────────────\n",
              "          2⋅C⋅√L⋅R                   ⎠                          ⎝             \n",
              "──────────────────────────────────────────────────────────────────────────────\n",
              "                                                                              \n",
              "                                                                              \n",
              "                                                                              \n",
              "\n",
              "                                                                              \n",
              "                                                                              \n",
              "         2    ⎞⎞    ______________⎞                        ⎛     ⎛     ⎛      \n",
              ", - 4⋅C⋅R  + L⎠⎟   ╱ │     2    │ ⎟                        ⎜     ⎜atan2⎝0, - 4\n",
              "───────────────⎟⋅╲╱  │4⋅C⋅R  - L│ ⎟      ______________    ⎜t⋅sin⎜────────────\n",
              "   2           ⎠                  ⎟     ╱        2         ⎜     ⎝          2 \n",
              "──────────────────────────────────⎟ - ╲╱  - 4⋅C⋅R  + L ⋅cos⎜──────────────────\n",
              "       2⋅C⋅√L⋅R                   ⎠                        ⎝                  \n",
              "──────────────────────────────────────────────────────────────────────────────\n",
              "                                                                              \n",
              "                                                                              \n",
              "                                                                              \n",
              "\n",
              "                              ⎞                 ⎛     ⎛          2    ⎞⎞    __\n",
              "                              ⎟                 ⎜atan2⎝0, - 4⋅C⋅R  + L⎠⎟   ╱ │\n",
              "    2    ⎞⎞    ______________⎞⎟            t⋅cos⎜──────────────────────⎟⋅╲╱  │\n",
              "⋅C⋅R  + L⎠⎟   ╱ │     2    │ ⎟⎟      t          ⎝          2           ⎠      \n",
              "──────────⎟⋅╲╱  │4⋅C⋅R  - L│ ⎟⎟  - ───── - ───────────────────────────────────\n",
              "          ⎠                  ⎟⎟    2⋅C⋅R                       2⋅C⋅√L⋅R       \n",
              "─────────────────────────────⎟⎟⋅ℯ                                             \n",
              "  2⋅C⋅√L⋅R                   ⎠⎠                                               \n",
              "──────────────────────────────────────────────────────────────────────────────\n",
              "                                                                              \n",
              "                                                                              \n",
              "                                                                              \n",
              "\n",
              "____________\n",
              "     2    │ \n",
              "4⋅C⋅R  - L│ \n",
              "            \n",
              "────────────\n",
              "            \n",
              "            \n",
              "            \n",
              "────────────\n",
              "            \n",
              "            \n",
              "            "
            ]
          },
          "metadata": {},
          "execution_count": 53
        }
      ]
    },
    {
      "cell_type": "code",
      "source": [
        "#se define y_int(s)\n",
        "i0, y0 = sym.symbols('i0 y0', real=True)\n",
        "\n",
        "Y_int = (R*C + L*C*s) / (L*C*s**2 + R*C*s + 1) * y0 + L / (L*C*s**2 + R*C*s + 1) * i0\n",
        "Y_int"
      ],
      "metadata": {
        "colab": {
          "base_uri": "https://localhost:8080/",
          "height": 54
        },
        "id": "no0MPmG43Xse",
        "outputId": "a0fd3a97-6050-4a75-d8e8-68659ecbf068"
      },
      "execution_count": 54,
      "outputs": [
        {
          "output_type": "execute_result",
          "data": {
            "image/png": "[encoded data removed]",
            "text/latex": "$\\displaystyle \\frac{L i_{0}}{C L s^{2} + C R s + 1} + \\frac{y_{0} \\left(C L s + C R\\right)}{C L s^{2} + C R s + 1}$",
            "text/plain": [
              "       L⋅i₀           y₀⋅(C⋅L⋅s + C⋅R) \n",
              "────────────────── + ──────────────────\n",
              "     2                    2            \n",
              "C⋅L⋅s  + C⋅R⋅s + 1   C⋅L⋅s  + C⋅R⋅s + 1"
            ]
          },
          "metadata": {},
          "execution_count": 54
        }
      ]
    },
    {
      "cell_type": "code",
      "source": [
        "YR = Y_int.apart(s)\n",
        "YR"
      ],
      "metadata": {
        "colab": {
          "base_uri": "https://localhost:8080/",
          "height": 53
        },
        "id": "lb5Suqnv3YYE",
        "outputId": "06588791-857b-402c-dc0b-2196b2a8793e"
      },
      "execution_count": 55,
      "outputs": [
        {
          "output_type": "execute_result",
          "data": {
            "image/png": "[encoded data removed]",
            "text/latex": "$\\displaystyle \\frac{C L s y_{0} + C R y_{0} + L i_{0}}{C L s^{2} + C R s + 1}$",
            "text/plain": [
              "C⋅L⋅s⋅y₀ + C⋅R⋅y₀ + L⋅i₀\n",
              "────────────────────────\n",
              "        2               \n",
              "   C⋅L⋅s  + C⋅R⋅s + 1   "
            ]
          },
          "metadata": {},
          "execution_count": 55
        }
      ]
    },
    {
      "cell_type": "code",
      "source": [
        "#Modelo en el tiempo en función de RLC\n",
        "Ye = YR\n",
        "#Se recorre cada fracción parcial según factorización para simplificar cálculos\n",
        "for j in range(len(Ye.args)):\n",
        "    if j==0:#primer elemento de la solucion\n",
        "      yt_int = sym.inverse_laplace_transform(Ye.args[j], s, t)\n",
        "    else: #siguientes elementos concatenados\n",
        "      yt_int+= sym.inverse_laplace_transform(Ye.args[j], s, t) \n",
        "yt_int"
      ],
      "metadata": {
        "colab": {
          "base_uri": "https://localhost:8080/",
          "height": 175
        },
        "id": "9N2UXOUF3ZUc",
        "outputId": "88c6eb7c-7dbc-4bdd-994c-2a1ad5084906"
      },
      "execution_count": 56,
      "outputs": [
        {
          "output_type": "execute_result",
          "data": {
            "image/png": "[encoded data removed]",
            "text/latex": "$\\displaystyle C L y_{0} \\mathcal{L}^{-1}_{s}\\left[s\\right]\\left(t\\right) + \\frac{\\left(i e^{\\frac{t \\cos{\\left(\\frac{\\operatorname{atan_{2}}{\\left(0,C R^{2} - 4 L \\right)}}{2} \\right)} \\sqrt{\\left|{C R^{2} - 4 L}\\right|}}{\\sqrt{C} L}} \\sin{\\left(\\frac{t \\sin{\\left(\\frac{\\operatorname{atan_{2}}{\\left(0,C R^{2} - 4 L \\right)}}{2} \\right)} \\sqrt{\\left|{C R^{2} - 4 L}\\right|}}{2 \\sqrt{C} L} \\right)} + e^{\\frac{t \\cos{\\left(\\frac{\\operatorname{atan_{2}}{\\left(0,C R^{2} - 4 L \\right)}}{2} \\right)} \\sqrt{\\left|{C R^{2} - 4 L}\\right|}}{\\sqrt{C} L}} \\cos{\\left(\\frac{t \\sin{\\left(\\frac{\\operatorname{atan_{2}}{\\left(0,C R^{2} - 4 L \\right)}}{2} \\right)} \\sqrt{\\left|{C R^{2} - 4 L}\\right|}}{2 \\sqrt{C} L} \\right)} + i \\sin{\\left(\\frac{t \\sin{\\left(\\frac{\\operatorname{atan_{2}}{\\left(0,C R^{2} - 4 L \\right)}}{2} \\right)} \\sqrt{\\left|{C R^{2} - 4 L}\\right|}}{2 \\sqrt{C} L} \\right)} - \\cos{\\left(\\frac{t \\sin{\\left(\\frac{\\operatorname{atan_{2}}{\\left(0,C R^{2} - 4 L \\right)}}{2} \\right)} \\sqrt{\\left|{C R^{2} - 4 L}\\right|}}{2 \\sqrt{C} L} \\right)}\\right) e^{- \\frac{R t}{2 L} - \\frac{t \\cos{\\left(\\frac{\\operatorname{atan_{2}}{\\left(0,C R^{2} - 4 L \\right)}}{2} \\right)} \\sqrt{\\left|{C R^{2} - 4 L}\\right|}}{2 \\sqrt{C} L}}}{\\sqrt{C} \\sqrt{C R^{2} - 4 L}}$",
            "text/plain": [
              "                                                ⎛        ⎛     ⎛      2      ⎞\n",
              "                                                ⎜        ⎜atan2⎝0, C⋅R  - 4⋅L⎠\n",
              "                                                ⎜   t⋅cos⎜────────────────────\n",
              "                                                ⎜        ⎝         2          \n",
              "                                                ⎜   ──────────────────────────\n",
              "                                                ⎜                        √C⋅L \n",
              "                                                ⎜ⅈ⋅ℯ                          \n",
              "                                                ⎝                             \n",
              "C⋅L⋅y₀⋅InverseLaplaceTransform(s, s, t, None) + ──────────────────────────────\n",
              "                                                                              \n",
              "                                                                              \n",
              "                                                                              \n",
              "\n",
              "⎞    ______________                                                           \n",
              "⎟   ╱ │   2      │                                                            \n",
              "⎟⋅╲╱  │C⋅R  - 4⋅L│     ⎛     ⎛     ⎛      2      ⎞⎞    ______________⎞    t⋅co\n",
              "⎠                      ⎜     ⎜atan2⎝0, C⋅R  - 4⋅L⎠⎟   ╱ │   2      │ ⎟        \n",
              "───────────────────    ⎜t⋅sin⎜────────────────────⎟⋅╲╱  │C⋅R  - 4⋅L│ ⎟    ────\n",
              "                       ⎜     ⎝         2          ⎠                  ⎟        \n",
              "                   ⋅sin⎜─────────────────────────────────────────────⎟ + ℯ    \n",
              "                       ⎝                    2⋅√C⋅L                   ⎠        \n",
              "──────────────────────────────────────────────────────────────────────────────\n",
              "                                                                              \n",
              "                                                                              \n",
              "                                                                              \n",
              "\n",
              " ⎛     ⎛      2      ⎞⎞    ______________                                     \n",
              " ⎜atan2⎝0, C⋅R  - 4⋅L⎠⎟   ╱ │   2      │                                      \n",
              "s⎜────────────────────⎟⋅╲╱  │C⋅R  - 4⋅L│     ⎛     ⎛     ⎛      2      ⎞⎞    _\n",
              " ⎝         2          ⎠                      ⎜     ⎜atan2⎝0, C⋅R  - 4⋅L⎠⎟   ╱ \n",
              "─────────────────────────────────────────    ⎜t⋅sin⎜────────────────────⎟⋅╲╱  \n",
              "                 √C⋅L                        ⎜     ⎝         2          ⎠     \n",
              "                                         ⋅cos⎜────────────────────────────────\n",
              "                                             ⎝                    2⋅√C⋅L      \n",
              "──────────────────────────────────────────────────────────────────────────────\n",
              "                                                                       _______\n",
              "                                                                      ╱    2  \n",
              "                                                                 √C⋅╲╱  C⋅R  -\n",
              "\n",
              "                                                                              \n",
              "                                                                              \n",
              "_____________⎞        ⎛     ⎛     ⎛      2      ⎞⎞    ______________⎞      ⎛  \n",
              "│   2      │ ⎟        ⎜     ⎜atan2⎝0, C⋅R  - 4⋅L⎠⎟   ╱ │   2      │ ⎟      ⎜  \n",
              "│C⋅R  - 4⋅L│ ⎟        ⎜t⋅sin⎜────────────────────⎟⋅╲╱  │C⋅R  - 4⋅L│ ⎟      ⎜t⋅\n",
              "             ⎟        ⎜     ⎝         2          ⎠                  ⎟      ⎜  \n",
              "─────────────⎟ + ⅈ⋅sin⎜─────────────────────────────────────────────⎟ - cos⎜──\n",
              "             ⎠        ⎝                    2⋅√C⋅L                   ⎠      ⎝  \n",
              "──────────────────────────────────────────────────────────────────────────────\n",
              "_____                                                                         \n",
              "                                                                              \n",
              " 4⋅L                                                                          \n",
              "\n",
              "                                            ⎞               ⎛     ⎛      2    \n",
              "                                            ⎟               ⎜atan2⎝0, C⋅R  - 4\n",
              "   ⎛     ⎛      2      ⎞⎞    ______________⎞⎟          t⋅cos⎜─────────────────\n",
              "   ⎜atan2⎝0, C⋅R  - 4⋅L⎠⎟   ╱ │   2      │ ⎟⎟    R⋅t        ⎝         2       \n",
              "sin⎜────────────────────⎟⋅╲╱  │C⋅R  - 4⋅L│ ⎟⎟  - ─── - ───────────────────────\n",
              "   ⎝         2          ⎠                  ⎟⎟    2⋅L                       2⋅√\n",
              "───────────────────────────────────────────⎟⎟⋅ℯ                               \n",
              "                  2⋅√C⋅L                   ⎠⎠                                 \n",
              "──────────────────────────────────────────────────────────────────────────────\n",
              "                                                                              \n",
              "                                                                              \n",
              "                                                                              \n",
              "\n",
              "  ⎞⎞    ______________\n",
              "⋅L⎠⎟   ╱ │   2      │ \n",
              "───⎟⋅╲╱  │C⋅R  - 4⋅L│ \n",
              "   ⎠                  \n",
              "──────────────────────\n",
              "C⋅L                   \n",
              "                      \n",
              "                      \n",
              "──────────────────────\n",
              "                      \n",
              "                      \n",
              "                      "
            ]
          },
          "metadata": {},
          "execution_count": 56
        }
      ]
    },
    {
      "cell_type": "code",
      "source": [
        "y_t = yt+ yt_int\n",
        "y_t"
      ],
      "metadata": {
        "colab": {
          "base_uri": "https://localhost:8080/",
          "height": 292
        },
        "id": "WY0dvz3f3aGp",
        "outputId": "12392a31-21dd-4064-c359-2506ab2f3f6f"
      },
      "execution_count": 57,
      "outputs": [
        {
          "output_type": "execute_result",
          "data": {
            "image/png": "[encoded data removed]",
            "text/latex": "$\\displaystyle C L y_{0} \\mathcal{L}^{-1}_{s}\\left[s\\right]\\left(t\\right) + 1 + \\frac{\\left(- i \\sqrt{L} e^{\\frac{t \\cos{\\left(\\frac{\\operatorname{atan_{2}}{\\left(0,- 4 C R^{2} + L \\right)}}{2} \\right)} \\sqrt{\\left|{4 C R^{2} - L}\\right|}}{C \\sqrt{L} R}} \\sin{\\left(\\frac{t \\sin{\\left(\\frac{\\operatorname{atan_{2}}{\\left(0,- 4 C R^{2} + L \\right)}}{2} \\right)} \\sqrt{\\left|{4 C R^{2} - L}\\right|}}{2 C \\sqrt{L} R} \\right)} - \\sqrt{L} e^{\\frac{t \\cos{\\left(\\frac{\\operatorname{atan_{2}}{\\left(0,- 4 C R^{2} + L \\right)}}{2} \\right)} \\sqrt{\\left|{4 C R^{2} - L}\\right|}}{C \\sqrt{L} R}} \\cos{\\left(\\frac{t \\sin{\\left(\\frac{\\operatorname{atan_{2}}{\\left(0,- 4 C R^{2} + L \\right)}}{2} \\right)} \\sqrt{\\left|{4 C R^{2} - L}\\right|}}{2 C \\sqrt{L} R} \\right)} - i \\sqrt{L} \\sin{\\left(\\frac{t \\sin{\\left(\\frac{\\operatorname{atan_{2}}{\\left(0,- 4 C R^{2} + L \\right)}}{2} \\right)} \\sqrt{\\left|{4 C R^{2} - L}\\right|}}{2 C \\sqrt{L} R} \\right)} + \\sqrt{L} \\cos{\\left(\\frac{t \\sin{\\left(\\frac{\\operatorname{atan_{2}}{\\left(0,- 4 C R^{2} + L \\right)}}{2} \\right)} \\sqrt{\\left|{4 C R^{2} - L}\\right|}}{2 C \\sqrt{L} R} \\right)} - i \\sqrt{- 4 C R^{2} + L} e^{\\frac{t \\cos{\\left(\\frac{\\operatorname{atan_{2}}{\\left(0,- 4 C R^{2} + L \\right)}}{2} \\right)} \\sqrt{\\left|{4 C R^{2} - L}\\right|}}{C \\sqrt{L} R}} \\sin{\\left(\\frac{t \\sin{\\left(\\frac{\\operatorname{atan_{2}}{\\left(0,- 4 C R^{2} + L \\right)}}{2} \\right)} \\sqrt{\\left|{4 C R^{2} - L}\\right|}}{2 C \\sqrt{L} R} \\right)} - \\sqrt{- 4 C R^{2} + L} e^{\\frac{t \\cos{\\left(\\frac{\\operatorname{atan_{2}}{\\left(0,- 4 C R^{2} + L \\right)}}{2} \\right)} \\sqrt{\\left|{4 C R^{2} - L}\\right|}}{C \\sqrt{L} R}} \\cos{\\left(\\frac{t \\sin{\\left(\\frac{\\operatorname{atan_{2}}{\\left(0,- 4 C R^{2} + L \\right)}}{2} \\right)} \\sqrt{\\left|{4 C R^{2} - L}\\right|}}{2 C \\sqrt{L} R} \\right)} + i \\sqrt{- 4 C R^{2} + L} \\sin{\\left(\\frac{t \\sin{\\left(\\frac{\\operatorname{atan_{2}}{\\left(0,- 4 C R^{2} + L \\right)}}{2} \\right)} \\sqrt{\\left|{4 C R^{2} - L}\\right|}}{2 C \\sqrt{L} R} \\right)} - \\sqrt{- 4 C R^{2} + L} \\cos{\\left(\\frac{t \\sin{\\left(\\frac{\\operatorname{atan_{2}}{\\left(0,- 4 C R^{2} + L \\right)}}{2} \\right)} \\sqrt{\\left|{4 C R^{2} - L}\\right|}}{2 C \\sqrt{L} R} \\right)}\\right) e^{- \\frac{t}{2 C R} - \\frac{t \\cos{\\left(\\frac{\\operatorname{atan_{2}}{\\left(0,- 4 C R^{2} + L \\right)}}{2} \\right)} \\sqrt{\\left|{4 C R^{2} - L}\\right|}}{2 C \\sqrt{L} R}}}{2 \\sqrt{- 4 C R^{2} + L}} + \\frac{\\left(i e^{\\frac{t \\cos{\\left(\\frac{\\operatorname{atan_{2}}{\\left(0,C R^{2} - 4 L \\right)}}{2} \\right)} \\sqrt{\\left|{C R^{2} - 4 L}\\right|}}{\\sqrt{C} L}} \\sin{\\left(\\frac{t \\sin{\\left(\\frac{\\operatorname{atan_{2}}{\\left(0,C R^{2} - 4 L \\right)}}{2} \\right)} \\sqrt{\\left|{C R^{2} - 4 L}\\right|}}{2 \\sqrt{C} L} \\right)} + e^{\\frac{t \\cos{\\left(\\frac{\\operatorname{atan_{2}}{\\left(0,C R^{2} - 4 L \\right)}}{2} \\right)} \\sqrt{\\left|{C R^{2} - 4 L}\\right|}}{\\sqrt{C} L}} \\cos{\\left(\\frac{t \\sin{\\left(\\frac{\\operatorname{atan_{2}}{\\left(0,C R^{2} - 4 L \\right)}}{2} \\right)} \\sqrt{\\left|{C R^{2} - 4 L}\\right|}}{2 \\sqrt{C} L} \\right)} + i \\sin{\\left(\\frac{t \\sin{\\left(\\frac{\\operatorname{atan_{2}}{\\left(0,C R^{2} - 4 L \\right)}}{2} \\right)} \\sqrt{\\left|{C R^{2} - 4 L}\\right|}}{2 \\sqrt{C} L} \\right)} - \\cos{\\left(\\frac{t \\sin{\\left(\\frac{\\operatorname{atan_{2}}{\\left(0,C R^{2} - 4 L \\right)}}{2} \\right)} \\sqrt{\\left|{C R^{2} - 4 L}\\right|}}{2 \\sqrt{C} L} \\right)}\\right) e^{- \\frac{R t}{2 L} - \\frac{t \\cos{\\left(\\frac{\\operatorname{atan_{2}}{\\left(0,C R^{2} - 4 L \\right)}}{2} \\right)} \\sqrt{\\left|{C R^{2} - 4 L}\\right|}}{2 \\sqrt{C} L}}}{\\sqrt{C} \\sqrt{C R^{2} - 4 L}}$",
            "text/plain": [
              "                                                    ⎛             ⎛     ⎛     \n",
              "                                                    ⎜             ⎜atan2⎝0, - \n",
              "                                                    ⎜        t⋅cos⎜───────────\n",
              "                                                    ⎜             ⎝          2\n",
              "                                                    ⎜        ─────────────────\n",
              "                                                    ⎜                         \n",
              "                                                    ⎜- ⅈ⋅√L⋅ℯ                 \n",
              "                                                    ⎝                         \n",
              "C⋅L⋅y₀⋅InverseLaplaceTransform(s, s, t, None) + 1 + ──────────────────────────\n",
              "                                                                              \n",
              "                                                                              \n",
              "                                                                              \n",
              "\n",
              "     2    ⎞⎞    ______________                                                \n",
              "4⋅C⋅R  + L⎠⎟   ╱ │     2    │                                                 \n",
              "───────────⎟⋅╲╱  │4⋅C⋅R  - L│     ⎛     ⎛     ⎛          2    ⎞⎞    __________\n",
              "           ⎠                      ⎜     ⎜atan2⎝0, - 4⋅C⋅R  + L⎠⎟   ╱ │     2  \n",
              "──────────────────────────────    ⎜t⋅sin⎜──────────────────────⎟⋅╲╱  │4⋅C⋅R  -\n",
              "    C⋅√L⋅R                        ⎜     ⎝          2           ⎠              \n",
              "                              ⋅sin⎜───────────────────────────────────────────\n",
              "                                  ⎝                    2⋅C⋅√L⋅R               \n",
              "──────────────────────────────────────────────────────────────────────────────\n",
              "                                                                              \n",
              "                                                                              \n",
              "                                                                              \n",
              "\n",
              "                 ⎛     ⎛          2    ⎞⎞    ______________                   \n",
              "                 ⎜atan2⎝0, - 4⋅C⋅R  + L⎠⎟   ╱ │     2    │                    \n",
              "____⎞       t⋅cos⎜──────────────────────⎟⋅╲╱  │4⋅C⋅R  - L│     ⎛     ⎛     ⎛  \n",
              "  │ ⎟            ⎝          2           ⎠                      ⎜     ⎜atan2⎝0,\n",
              " L│ ⎟       ───────────────────────────────────────────────    ⎜t⋅sin⎜────────\n",
              "    ⎟                            C⋅√L⋅R                        ⎜     ⎝        \n",
              "────⎟ - √L⋅ℯ                                               ⋅cos⎜──────────────\n",
              "    ⎠                                                          ⎝              \n",
              "──────────────────────────────────────────────────────────────────────────────\n",
              "                                                                              \n",
              "                                                                              \n",
              "                                                                              \n",
              "\n",
              "                                                                              \n",
              "                                                                              \n",
              "        2    ⎞⎞    ______________⎞           ⎛     ⎛     ⎛          2    ⎞⎞   \n",
              " - 4⋅C⋅R  + L⎠⎟   ╱ │     2    │ ⎟           ⎜     ⎜atan2⎝0, - 4⋅C⋅R  + L⎠⎟   \n",
              "──────────────⎟⋅╲╱  │4⋅C⋅R  - L│ ⎟           ⎜t⋅sin⎜──────────────────────⎟⋅╲╱\n",
              "  2           ⎠                  ⎟           ⎜     ⎝          2           ⎠   \n",
              "─────────────────────────────────⎟ - ⅈ⋅√L⋅sin⎜────────────────────────────────\n",
              "      2⋅C⋅√L⋅R                   ⎠           ⎝                    2⋅C⋅√L⋅R    \n",
              "──────────────────────────────────────────────────────────────────────────────\n",
              "                                                                              \n",
              "                                                                              \n",
              "                                                                              \n",
              "\n",
              "                                                                              \n",
              "                                                                              \n",
              " ______________⎞         ⎛     ⎛     ⎛          2    ⎞⎞    ______________⎞    \n",
              "╱ │     2    │ ⎟         ⎜     ⎜atan2⎝0, - 4⋅C⋅R  + L⎠⎟   ╱ │     2    │ ⎟    \n",
              "  │4⋅C⋅R  - L│ ⎟         ⎜t⋅sin⎜──────────────────────⎟⋅╲╱  │4⋅C⋅R  - L│ ⎟    \n",
              "               ⎟         ⎜     ⎝          2           ⎠                  ⎟    \n",
              "───────────────⎟ + √L⋅cos⎜───────────────────────────────────────────────⎟ - ⅈ\n",
              "               ⎠         ⎝                    2⋅C⋅√L⋅R                   ⎠    \n",
              "──────────────────────────────────────────────────────────────────────────────\n",
              "                                                                              \n",
              "                                                                              \n",
              "                                                                              \n",
              "\n",
              "                         ⎛     ⎛          2    ⎞⎞    ______________           \n",
              "                         ⎜atan2⎝0, - 4⋅C⋅R  + L⎠⎟   ╱ │     2    │            \n",
              "                    t⋅cos⎜──────────────────────⎟⋅╲╱  │4⋅C⋅R  - L│     ⎛     ⎛\n",
              "                         ⎝          2           ⎠                      ⎜     ⎜\n",
              "    ______________  ───────────────────────────────────────────────    ⎜t⋅sin⎜\n",
              "   ╱        2                            C⋅√L⋅R                        ⎜     ⎝\n",
              "⋅╲╱  - 4⋅C⋅R  + L ⋅ℯ                                               ⋅sin⎜──────\n",
              "                                                                       ⎝      \n",
              "──────────────────────────────────────────────────────────────────────────────\n",
              "                                                   ______________             \n",
              "                                                  ╱        2                  \n",
              "                                              2⋅╲╱  - 4⋅C⋅R  + L              \n",
              "\n",
              "                                                                     ⎛     ⎛  \n",
              "                                                                     ⎜atan2⎝0,\n",
              "     ⎛          2    ⎞⎞    ______________⎞                      t⋅cos⎜────────\n",
              "atan2⎝0, - 4⋅C⋅R  + L⎠⎟   ╱ │     2    │ ⎟                           ⎝        \n",
              "──────────────────────⎟⋅╲╱  │4⋅C⋅R  - L│ ⎟      ______________  ──────────────\n",
              "          2           ⎠                  ⎟     ╱        2                     \n",
              "─────────────────────────────────────────⎟ - ╲╱  - 4⋅C⋅R  + L ⋅ℯ              \n",
              "              2⋅C⋅√L⋅R                   ⎠                                    \n",
              "──────────────────────────────────────────────────────────────────────────────\n",
              "                                                                              \n",
              "                                                                              \n",
              "                                                                              \n",
              "\n",
              "        2    ⎞⎞    ______________                                             \n",
              " - 4⋅C⋅R  + L⎠⎟   ╱ │     2    │                                              \n",
              "──────────────⎟⋅╲╱  │4⋅C⋅R  - L│     ⎛     ⎛     ⎛          2    ⎞⎞    _______\n",
              "  2           ⎠                      ⎜     ⎜atan2⎝0, - 4⋅C⋅R  + L⎠⎟   ╱ │     \n",
              "─────────────────────────────────    ⎜t⋅sin⎜──────────────────────⎟⋅╲╱  │4⋅C⋅R\n",
              "       C⋅√L⋅R                        ⎜     ⎝          2           ⎠           \n",
              "                                 ⋅cos⎜────────────────────────────────────────\n",
              "                                     ⎝                    2⋅C⋅√L⋅R            \n",
              "──────────────────────────────────────────────────────────────────────────────\n",
              "                                                                              \n",
              "                                                                              \n",
              "                                                                              \n",
              "\n",
              "                                                                              \n",
              "                                                                              \n",
              "_______⎞                          ⎛     ⎛     ⎛          2    ⎞⎞    __________\n",
              "2    │ ⎟                          ⎜     ⎜atan2⎝0, - 4⋅C⋅R  + L⎠⎟   ╱ │     2  \n",
              "  - L│ ⎟        ______________    ⎜t⋅sin⎜──────────────────────⎟⋅╲╱  │4⋅C⋅R  -\n",
              "       ⎟       ╱        2         ⎜     ⎝          2           ⎠              \n",
              "───────⎟ + ⅈ⋅╲╱  - 4⋅C⋅R  + L ⋅sin⎜───────────────────────────────────────────\n",
              "       ⎠                          ⎝                    2⋅C⋅√L⋅R               \n",
              "──────────────────────────────────────────────────────────────────────────────\n",
              "                                                                              \n",
              "                                                                              \n",
              "                                                                              \n",
              "\n",
              "                                                                              \n",
              "                                                                              \n",
              "____⎞                        ⎛     ⎛     ⎛          2    ⎞⎞    ______________⎞\n",
              "  │ ⎟                        ⎜     ⎜atan2⎝0, - 4⋅C⋅R  + L⎠⎟   ╱ │     2    │ ⎟\n",
              " L│ ⎟      ______________    ⎜t⋅sin⎜──────────────────────⎟⋅╲╱  │4⋅C⋅R  - L│ ⎟\n",
              "    ⎟     ╱        2         ⎜     ⎝          2           ⎠                  ⎟\n",
              "────⎟ - ╲╱  - 4⋅C⋅R  + L ⋅cos⎜───────────────────────────────────────────────⎟\n",
              "    ⎠                        ⎝                    2⋅C⋅√L⋅R                   ⎠\n",
              "──────────────────────────────────────────────────────────────────────────────\n",
              "                                                                              \n",
              "                                                                              \n",
              "                                                                              \n",
              "\n",
              "⎞                 ⎛     ⎛          2    ⎞⎞    ______________   ⎛        ⎛     \n",
              "⎟                 ⎜atan2⎝0, - 4⋅C⋅R  + L⎠⎟   ╱ │     2    │    ⎜        ⎜atan2\n",
              "⎟            t⋅cos⎜──────────────────────⎟⋅╲╱  │4⋅C⋅R  - L│    ⎜   t⋅cos⎜─────\n",
              "⎟      t          ⎝          2           ⎠                     ⎜        ⎝     \n",
              "⎟  - ───── - ───────────────────────────────────────────────   ⎜   ───────────\n",
              "⎟    2⋅C⋅R                       2⋅C⋅√L⋅R                      ⎜              \n",
              "⎟⋅ℯ                                                            ⎜ⅈ⋅ℯ           \n",
              "⎠                                                              ⎝              \n",
              "──────────────────────────────────────────────────────────── + ───────────────\n",
              "                                                                              \n",
              "                                                                              \n",
              "                                                                              \n",
              "\n",
              "⎛      2      ⎞⎞    ______________                                            \n",
              "⎝0, C⋅R  - 4⋅L⎠⎟   ╱ │   2      │                                             \n",
              "───────────────⎟⋅╲╱  │C⋅R  - 4⋅L│     ⎛     ⎛     ⎛      2      ⎞⎞    ________\n",
              "    2          ⎠                      ⎜     ⎜atan2⎝0, C⋅R  - 4⋅L⎠⎟   ╱ │   2  \n",
              "──────────────────────────────────    ⎜t⋅sin⎜────────────────────⎟⋅╲╱  │C⋅R  -\n",
              "          √C⋅L                        ⎜     ⎝         2          ⎠            \n",
              "                                  ⋅sin⎜───────────────────────────────────────\n",
              "                                      ⎝                    2⋅√C⋅L             \n",
              "──────────────────────────────────────────────────────────────────────────────\n",
              "                                                                              \n",
              "                                                                              \n",
              "                                                                              \n",
              "\n",
              "                ⎛     ⎛      2      ⎞⎞    ______________                      \n",
              "                ⎜atan2⎝0, C⋅R  - 4⋅L⎠⎟   ╱ │   2      │                       \n",
              "______⎞    t⋅cos⎜────────────────────⎟⋅╲╱  │C⋅R  - 4⋅L│     ⎛     ⎛     ⎛     \n",
              "    │ ⎟         ⎝         2          ⎠                      ⎜     ⎜atan2⎝0, C⋅\n",
              " 4⋅L│ ⎟    ─────────────────────────────────────────────    ⎜t⋅sin⎜───────────\n",
              "      ⎟                         √C⋅L                        ⎜     ⎝         2 \n",
              "──────⎟ + ℯ                                             ⋅cos⎜─────────────────\n",
              "      ⎠                                                     ⎝                 \n",
              "──────────────────────────────────────────────────────────────────────────────\n",
              "                                                                              \n",
              "                                                                              \n",
              "                                                                              \n",
              "\n",
              "                                                                              \n",
              "                                                                              \n",
              " 2      ⎞⎞    ______________⎞        ⎛     ⎛     ⎛      2      ⎞⎞    _________\n",
              "R  - 4⋅L⎠⎟   ╱ │   2      │ ⎟        ⎜     ⎜atan2⎝0, C⋅R  - 4⋅L⎠⎟   ╱ │   2   \n",
              "─────────⎟⋅╲╱  │C⋅R  - 4⋅L│ ⎟        ⎜t⋅sin⎜────────────────────⎟⋅╲╱  │C⋅R  - \n",
              "         ⎠                  ⎟        ⎜     ⎝         2          ⎠             \n",
              "────────────────────────────⎟ + ⅈ⋅sin⎜────────────────────────────────────────\n",
              "   2⋅√C⋅L                   ⎠        ⎝                    2⋅√C⋅L              \n",
              "──────────────────────────────────────────────────────────────────────────────\n",
              "        ____________                                                          \n",
              "       ╱    2                                                                 \n",
              "  √C⋅╲╱  C⋅R  - 4⋅L                                                           \n",
              "\n",
              "                                                           ⎞               ⎛  \n",
              "                                                           ⎟               ⎜at\n",
              "_____⎞      ⎛     ⎛     ⎛      2      ⎞⎞    ______________⎞⎟          t⋅cos⎜──\n",
              "   │ ⎟      ⎜     ⎜atan2⎝0, C⋅R  - 4⋅L⎠⎟   ╱ │   2      │ ⎟⎟    R⋅t        ⎝  \n",
              "4⋅L│ ⎟      ⎜t⋅sin⎜────────────────────⎟⋅╲╱  │C⋅R  - 4⋅L│ ⎟⎟  - ─── - ────────\n",
              "     ⎟      ⎜     ⎝         2          ⎠                  ⎟⎟    2⋅L           \n",
              "─────⎟ - cos⎜─────────────────────────────────────────────⎟⎟⋅ℯ                \n",
              "     ⎠      ⎝                    2⋅√C⋅L                   ⎠⎠                  \n",
              "──────────────────────────────────────────────────────────────────────────────\n",
              "                                                                              \n",
              "                                                                              \n",
              "                                                                              \n",
              "\n",
              "   ⎛      2      ⎞⎞    ______________\n",
              "an2⎝0, C⋅R  - 4⋅L⎠⎟   ╱ │   2      │ \n",
              "──────────────────⎟⋅╲╱  │C⋅R  - 4⋅L│ \n",
              "       2          ⎠                  \n",
              "─────────────────────────────────────\n",
              "            2⋅√C⋅L                   \n",
              "                                     \n",
              "                                     \n",
              "─────────────────────────────────────\n",
              "                                     \n",
              "                                     \n",
              "                                     "
            ]
          },
          "metadata": {},
          "execution_count": 57
        }
      ]
    },
    {
      "cell_type": "code",
      "source": [
        "#Modelo en el tiempo con RLC evaluados\n",
        "RLC = {R: 1, L: sym.Rational('.5'), C: sym.Rational('.4')}\n",
        "Ye = Yp.subs(RLC)\n",
        "for j in range(len(Ye.args)):\n",
        "    if j==0:\n",
        "      y_ext = sym.inverse_laplace_transform(Ye.args[j], s, t)\n",
        "    else:\n",
        "      y_ext+= sym.inverse_laplace_transform(Ye.args[j], s, t)\n",
        " \n",
        "y_ext"
      ],
      "metadata": {
        "colab": {
          "base_uri": "https://localhost:8080/",
          "height": 66
        },
        "id": "nZuOQaam3a0d",
        "outputId": "190d96c4-6b28-4526-eda9-0babe3fa0c0e"
      },
      "execution_count": 58,
      "outputs": [
        {
          "output_type": "execute_result",
          "data": {
            "image/png": "[encoded data removed]",
            "text/latex": "$\\displaystyle - \\frac{\\left(\\sqrt{55} \\sin{\\left(\\frac{\\sqrt{55} t}{4} \\right)} + 11 \\cos{\\left(\\frac{\\sqrt{55} t}{4} \\right)}\\right) e^{- \\frac{5 t}{4}}}{11} + 1$",
            "text/plain": [
              "                                    -5⋅t     \n",
              "                                    ─────    \n",
              "  ⎛       ⎛√55⋅t⎞         ⎛√55⋅t⎞⎞    4      \n",
              "  ⎜√55⋅sin⎜─────⎟ + 11⋅cos⎜─────⎟⎟⋅ℯ         \n",
              "  ⎝       ⎝  4  ⎠         ⎝  4  ⎠⎠           \n",
              "- ─────────────────────────────────────── + 1\n",
              "                     11                      "
            ]
          },
          "metadata": {},
          "execution_count": 58
        }
      ]
    },
    {
      "cell_type": "code",
      "source": [
        "#Función de salida Y(s) -- Laplace\n",
        "Ye"
      ],
      "metadata": {
        "colab": {
          "base_uri": "https://localhost:8080/",
          "height": 72
        },
        "id": "WnaGDlaM3bp0",
        "outputId": "8bc4af75-7647-4dd8-c980-0dc97edd85b9"
      },
      "execution_count": 59,
      "outputs": [
        {
          "output_type": "execute_result",
          "data": {
            "image/png": "[encoded data removed]",
            "text/latex": "$\\displaystyle - \\frac{\\frac{2 s}{5} + 1}{2 \\left(\\frac{s^{2}}{5} + \\frac{s}{2} + 1\\right)} + \\frac{1}{s}$",
            "text/plain": [
              "     2⋅s            \n",
              "     ─── + 1        \n",
              "      5            1\n",
              "- ────────────── + ─\n",
              "    ⎛ 2        ⎞   s\n",
              "    ⎜s    s    ⎟    \n",
              "  2⋅⎜── + ─ + 1⎟    \n",
              "    ⎝5    2    ⎠    "
            ]
          },
          "metadata": {},
          "execution_count": 59
        }
      ]
    },
    {
      "cell_type": "code",
      "source": [
        "i0, y0 = sym.symbols('i0 y0', real=True)\n",
        "\n",
        "Yint = (R*C + L*C*s) / (L*C*s**2 + R*C*s + 1) * y0 + L / (L*C*s**2 + R*C*s + 1) * i0\n",
        "Yint"
      ],
      "metadata": {
        "colab": {
          "base_uri": "https://localhost:8080/",
          "height": 54
        },
        "id": "8W3NAbDr3cga",
        "outputId": "838e26be-8d6a-4070-f235-f4ea70c65d92"
      },
      "execution_count": 60,
      "outputs": [
        {
          "output_type": "execute_result",
          "data": {
            "image/png": "[encoded data removed]",
            "text/latex": "$\\displaystyle \\frac{L i_{0}}{C L s^{2} + C R s + 1} + \\frac{y_{0} \\left(C L s + C R\\right)}{C L s^{2} + C R s + 1}$",
            "text/plain": [
              "       L⋅i₀           y₀⋅(C⋅L⋅s + C⋅R) \n",
              "────────────────── + ──────────────────\n",
              "     2                    2            \n",
              "C⋅L⋅s  + C⋅R⋅s + 1   C⋅L⋅s  + C⋅R⋅s + 1"
            ]
          },
          "metadata": {},
          "execution_count": 60
        }
      ]
    },
    {
      "cell_type": "code",
      "source": [
        "#se inicializa y_interna con valores iniciales \n",
        "yint = sym.inverse_laplace_transform(Yint.subs(RLC).subs(i0, 0).subs(y0, -1), s, t)\n",
        "yint"
      ],
      "metadata": {
        "colab": {
          "base_uri": "https://localhost:8080/",
          "height": 58
        },
        "id": "tHvFyt_l3dUY",
        "outputId": "c7071cf1-dff8-476d-96ff-ce2d2949c457"
      },
      "execution_count": 61,
      "outputs": [
        {
          "output_type": "execute_result",
          "data": {
            "image/png": "[encoded data removed]",
            "text/latex": "$\\displaystyle - \\left(\\frac{\\sin{\\left(2 t \\right)}}{2} + \\cos{\\left(2 t \\right)}\\right) e^{- t}$",
            "text/plain": [
              " ⎛sin(2⋅t)           ⎞  -t\n",
              "-⎜──────── + cos(2⋅t)⎟⋅ℯ  \n",
              " ⎝   2               ⎠    "
            ]
          },
          "metadata": {},
          "execution_count": 61
        }
      ]
    },
    {
      "cell_type": "code",
      "source": [
        "yt = y_ext + yint\n",
        "yt.simplify()"
      ],
      "metadata": {
        "colab": {
          "base_uri": "https://localhost:8080/",
          "height": 75
        },
        "id": "LvBBWMXY3eCk",
        "outputId": "2d8ef7b5-dfd0-46c5-8b14-7a665721d638"
      },
      "execution_count": 62,
      "outputs": [
        {
          "output_type": "execute_result",
          "data": {
            "image/png": "[encoded data removed]",
            "text/latex": "$\\displaystyle 1 - \\frac{e^{- t} \\sin{\\left(2 t \\right)}}{2} - e^{- t} \\cos{\\left(2 t \\right)} - \\frac{\\sqrt{55} e^{- \\frac{5 t}{4}} \\sin{\\left(\\frac{\\sqrt{55} t}{4} \\right)}}{11} - e^{- \\frac{5 t}{4}} \\cos{\\left(\\frac{\\sqrt{55} t}{4} \\right)}$",
            "text/plain": [
              "                                       -5⋅t                                \n",
              "                                       ─────                               \n",
              "                                         4      ⎛√55⋅t⎞    -5⋅t            \n",
              "     -t                           √55⋅ℯ     ⋅sin⎜─────⎟    ─────           \n",
              "    ℯ  ⋅sin(2⋅t)    -t                          ⎝  4  ⎠      4      ⎛√55⋅t⎞\n",
              "1 - ──────────── - ℯ  ⋅cos(2⋅t) - ───────────────────── - ℯ     ⋅cos⎜─────⎟\n",
              "         2                                  11                      ⎝  4  ⎠"
            ]
          },
          "metadata": {},
          "execution_count": 62
        }
      ]
    },
    {
      "cell_type": "markdown",
      "source": [
        "En la siguiente gráfica se presentan: \n",
        "* la parte interna $y_\\text{int}(t)$ (Línea verde), \n",
        "* la parte externa $y_\\text{ext}(t)$ (Línea azul), \n",
        "* la señal de salida $y(t)$ (Línea roja) "
      ],
      "metadata": {
        "id": "d2AekIPL3fOf"
      }
    },
    {
      "cell_type": "code",
      "source": [
        "p1 = sym.plot(y_ext, (t, 0, 5), line_color='b', xlabel='$t$', ylabel='$y(t)$', show=False)\n",
        "p2 = sym.plot(yint, (t, 0, 5), line_color='g', show=False)\n",
        "p3 = sym.plot(yt, (t, 0, 5), line_color='r', show=False)\n",
        "p1.extend(p2)\n",
        "p1.extend(p3)\n",
        "p1.show()"
      ],
      "metadata": {
        "colab": {
          "base_uri": "https://localhost:8080/",
          "height": 297
        },
        "id": "oTrUB6I_3fVg",
        "outputId": "6cc61b6a-a05c-4ede-a81c-ed2c5a055a77"
      },
      "execution_count": 63,
      "outputs": [
        {
          "output_type": "display_data",
          "data": {
            "image/png": "[encoded data removed]",
            "text/plain": [
              "<Figure size 432x288 with 1 Axes>"
            ]
          },
          "metadata": {
            "needs_background": "light"
          }
        }
      ]
    },
    {
      "cell_type": "markdown",
      "source": [
        "### RAMPA"
      ],
      "metadata": {
        "id": "6MejQR_C3shL"
      }
    },
    {
      "cell_type": "code",
      "source": [
        "%matplotlib inline\n",
        "import sympy as sym\n",
        "sym.init_printing()\n",
        "\n",
        "s = sym.symbols('s', complex=True)\n",
        "t, R, L, C = sym.symbols('t R L C', positive=True)\n",
        "#Entrada de interés en Laplace\n",
        "X = 1/s**2\n",
        "\n",
        "Y_ext = 1/(L*C*s**2 + (L/R)*s + 1) * X\n",
        "#Función de salida para y_externa\n",
        "Y_ext"
      ],
      "metadata": {
        "colab": {
          "base_uri": "https://localhost:8080/",
          "height": 58
        },
        "id": "ObAFQTN63ug2",
        "outputId": "7550fc8a-8ec6-42fb-8a75-68c80436fb2d"
      },
      "execution_count": 64,
      "outputs": [
        {
          "output_type": "execute_result",
          "data": {
            "image/png": "[encoded data removed]",
            "text/latex": "$\\displaystyle \\frac{1}{s^{2} \\left(C L s^{2} + \\frac{L s}{R} + 1\\right)}$",
            "text/plain": [
              "          1          \n",
              "─────────────────────\n",
              " 2 ⎛     2   L⋅s    ⎞\n",
              "s ⋅⎜C⋅L⋅s  + ─── + 1⎟\n",
              "   ⎝          R     ⎠"
            ]
          },
          "metadata": {},
          "execution_count": 64
        }
      ]
    },
    {
      "cell_type": "code",
      "source": [
        "Yp = Y_ext.apart(s)\n",
        "Yp"
      ],
      "metadata": {
        "colab": {
          "base_uri": "https://localhost:8080/",
          "height": 60
        },
        "id": "P3K5BOHA3vp5",
        "outputId": "188e8756-747d-4bb4-e382-2ccd0292ed18"
      },
      "execution_count": 65,
      "outputs": [
        {
          "output_type": "execute_result",
          "data": {
            "image/png": "[encoded data removed]",
            "text/latex": "$\\displaystyle \\frac{L \\left(C L R s - C R^{2} + L\\right)}{R \\left(C L R s^{2} + L s + R\\right)} - \\frac{L}{R s} + \\frac{1}{s^{2}}$",
            "text/plain": [
              "  ⎛             2    ⎞           \n",
              "L⋅⎝C⋅L⋅R⋅s - C⋅R  + L⎠    L    1 \n",
              "────────────────────── - ─── + ──\n",
              "  ⎛       2          ⎞   R⋅s    2\n",
              "R⋅⎝C⋅L⋅R⋅s  + L⋅s + R⎠         s "
            ]
          },
          "metadata": {},
          "execution_count": 65
        }
      ]
    },
    {
      "cell_type": "code",
      "source": [
        "#Modelo en el tiempo en función de RLC\n",
        "Ye = Yp\n",
        "#Se recorre cada fracción parcial según factorización para simplificar cálculos\n",
        "for j in range(len(Ye.args)):\n",
        "    if j==0:#primer elemento de la solucion\n",
        "      yt = sym.inverse_laplace_transform(Ye.args[j], s, t)\n",
        "    else: #siguientes elementos concatenados\n",
        "      yt+= sym.inverse_laplace_transform(Ye.args[j], s, t) \n",
        "yt"
      ],
      "metadata": {
        "colab": {
          "base_uri": "https://localhost:8080/",
          "height": 283
        },
        "id": "OrP991sK3wfc",
        "outputId": "73fb864d-3166-4118-cc04-0333a4fa4630"
      },
      "execution_count": 66,
      "outputs": [
        {
          "output_type": "execute_result",
          "data": {
            "image/png": "[encoded data removed]",
            "text/latex": "$\\displaystyle - \\frac{L \\left(\\frac{\\left(\\sqrt{L} \\left(2 C R^{2} - 2 L\\right) + L \\left(\\sqrt{L} - \\sqrt{- 4 C R^{2} + L}\\right)\\right) \\left(i e^{- \\frac{t \\left(\\sqrt{L} - \\cos{\\left(\\frac{\\operatorname{atan_{2}}{\\left(0,- 4 C R^{2} + L \\right)}}{2} \\right)} \\sqrt{\\left|{4 C R^{2} - L}\\right|}\\right)}{2 C \\sqrt{L} R}} \\sin{\\left(\\frac{t \\sin{\\left(\\frac{\\operatorname{atan_{2}}{\\left(0,- 4 C R^{2} + L \\right)}}{2} \\right)} \\sqrt{\\left|{4 C R^{2} - L}\\right|}}{2 C \\sqrt{L} R} \\right)} + e^{- \\frac{t \\left(\\sqrt{L} - \\cos{\\left(\\frac{\\operatorname{atan_{2}}{\\left(0,- 4 C R^{2} + L \\right)}}{2} \\right)} \\sqrt{\\left|{4 C R^{2} - L}\\right|}\\right)}{2 C \\sqrt{L} R}} \\cos{\\left(\\frac{t \\sin{\\left(\\frac{\\operatorname{atan_{2}}{\\left(0,- 4 C R^{2} + L \\right)}}{2} \\right)} \\sqrt{\\left|{4 C R^{2} - L}\\right|}}{2 C \\sqrt{L} R} \\right)}\\right) \\Gamma\\left(\\frac{\\sqrt{- 4 C R^{2} + L}}{C \\sqrt{L} R}\\right)}{2 C L^{\\frac{3}{2}} R \\Gamma\\left(1 + \\frac{\\sqrt{- 4 C R^{2} + L}}{C \\sqrt{L} R}\\right)} - \\frac{\\left(\\sqrt{L} \\left(2 C R^{2} - 2 L\\right) + L \\left(\\sqrt{L} + \\sqrt{- 4 C R^{2} + L}\\right)\\right) \\left(i e^{- \\frac{t \\left(\\sqrt{L} + \\cos{\\left(\\frac{\\operatorname{atan_{2}}{\\left(0,- 4 C R^{2} + L \\right)}}{2} \\right)} \\sqrt{\\left|{4 C R^{2} - L}\\right|}\\right)}{2 C \\sqrt{L} R}} \\sin{\\left(\\frac{t \\sin{\\left(\\frac{\\operatorname{atan_{2}}{\\left(0,- 4 C R^{2} + L \\right)}}{2} \\right)} \\sqrt{\\left|{4 C R^{2} - L}\\right|}}{2 C \\sqrt{L} R} \\right)} - e^{- \\frac{t \\left(\\sqrt{L} + \\cos{\\left(\\frac{\\operatorname{atan_{2}}{\\left(0,- 4 C R^{2} + L \\right)}}{2} \\right)} \\sqrt{\\left|{4 C R^{2} - L}\\right|}\\right)}{2 C \\sqrt{L} R}} \\cos{\\left(\\frac{t \\sin{\\left(\\frac{\\operatorname{atan_{2}}{\\left(0,- 4 C R^{2} + L \\right)}}{2} \\right)} \\sqrt{\\left|{4 C R^{2} - L}\\right|}}{2 C \\sqrt{L} R} \\right)}\\right) \\Gamma\\left(- \\frac{\\sqrt{- 4 C R^{2} + L}}{C \\sqrt{L} R}\\right)}{2 C L^{\\frac{3}{2}} R \\Gamma\\left(1 - \\frac{\\sqrt{- 4 C R^{2} + L}}{C \\sqrt{L} R}\\right)}\\right)}{R} - \\frac{L}{R} + t$",
            "text/plain": [
              "    ⎛                                                 ⎛      ⎛        ⎛     ⎛ \n",
              "    ⎜                                                 ⎜      ⎜        ⎜atan2⎝0\n",
              "    ⎜                                                 ⎜   -t⋅⎜√L - cos⎜───────\n",
              "    ⎜                                                 ⎜      ⎝        ⎝       \n",
              "    ⎜⎛                      ⎛        ______________⎞⎞ ⎜   ────────────────────\n",
              "    ⎜⎜   ⎛     2      ⎞     ⎜       ╱        2     ⎟⎟ ⎜                       \n",
              "    ⎜⎝√L⋅⎝2⋅C⋅R  - 2⋅L⎠ + L⋅⎝√L - ╲╱  - 4⋅C⋅R  + L ⎠⎠⋅⎜ⅈ⋅ℯ                    \n",
              "    ⎜                                                 ⎝                       \n",
              "  L⋅⎜─────────────────────────────────────────────────────────────────────────\n",
              "    ⎜                                                                         \n",
              "    ⎜                                                                         \n",
              "    ⎜                                                                         \n",
              "    ⎜                                                                         \n",
              "    ⎝                                                                         \n",
              "- ────────────────────────────────────────────────────────────────────────────\n",
              "                                                                              \n",
              "\n",
              "         2    ⎞⎞    ______________⎞                                           \n",
              ", - 4⋅C⋅R  + L⎠⎟   ╱ │     2    │ ⎟                                           \n",
              "───────────────⎟⋅╲╱  │4⋅C⋅R  - L│ ⎟     ⎛     ⎛     ⎛          2    ⎞⎞    ____\n",
              "   2           ⎠                  ⎠     ⎜     ⎜atan2⎝0, - 4⋅C⋅R  + L⎠⎟   ╱ │  \n",
              "────────────────────────────────────    ⎜t⋅sin⎜──────────────────────⎟⋅╲╱  │4⋅\n",
              "    2⋅C⋅√L⋅R                            ⎜     ⎝          2           ⎠        \n",
              "                                    ⋅sin⎜─────────────────────────────────────\n",
              "                                        ⎝                    2⋅C⋅√L⋅R         \n",
              "──────────────────────────────────────────────────────────────────────────────\n",
              "                                                                      ⎛       \n",
              "                                                                      ⎜      ╱\n",
              "                                                               3/2    ⎜    ╲╱ \n",
              "                                                          2⋅C⋅L   ⋅R⋅Γ⎜1 + ───\n",
              "                                                                      ⎝       \n",
              "──────────────────────────────────────────────────────────────────────────────\n",
              "                                                                              \n",
              "\n",
              "                  ⎛        ⎛     ⎛          2    ⎞⎞    ______________⎞        \n",
              "                  ⎜        ⎜atan2⎝0, - 4⋅C⋅R  + L⎠⎟   ╱ │     2    │ ⎟        \n",
              "__________⎞    -t⋅⎜√L - cos⎜──────────────────────⎟⋅╲╱  │4⋅C⋅R  - L│ ⎟     ⎛  \n",
              "   2    │ ⎟       ⎝        ⎝          2           ⎠                  ⎠     ⎜  \n",
              "C⋅R  - L│ ⎟    ────────────────────────────────────────────────────────    ⎜t⋅\n",
              "          ⎟                            2⋅C⋅√L⋅R                            ⎜  \n",
              "──────────⎟ + ℯ                                                        ⋅cos⎜──\n",
              "          ⎠                                                                ⎝  \n",
              "──────────────────────────────────────────────────────────────────────────────\n",
              "______________⎞                                                               \n",
              "        2     ⎟                                                               \n",
              " - 4⋅C⋅R  + L ⎟                                                               \n",
              "──────────────⎟                                                               \n",
              "   C⋅√L⋅R     ⎠                                                               \n",
              "──────────────────────────────────────────────────────────────────────────────\n",
              "                                                                              \n",
              "\n",
              "                                              ⎞                               \n",
              "                                              ⎟                               \n",
              "   ⎛     ⎛          2    ⎞⎞    ______________⎞⎟                               \n",
              "   ⎜atan2⎝0, - 4⋅C⋅R  + L⎠⎟   ╱ │     2    │ ⎟⎟  ⎛   ______________⎞          \n",
              "sin⎜──────────────────────⎟⋅╲╱  │4⋅C⋅R  - L│ ⎟⎟  ⎜  ╱        2     ⎟   ⎛      \n",
              "   ⎝          2           ⎠                  ⎟⎟  ⎜╲╱  - 4⋅C⋅R  + L ⎟   ⎜   ⎛  \n",
              "─────────────────────────────────────────────⎟⎟⋅Γ⎜─────────────────⎟   ⎝√L⋅⎝2⋅\n",
              "                  2⋅C⋅√L⋅R                   ⎠⎠  ⎝      C⋅√L⋅R     ⎠          \n",
              "──────────────────────────────────────────────────────────────────── - ───────\n",
              "                                                                              \n",
              "                                                                              \n",
              "                                                                              \n",
              "                                                                              \n",
              "                                                                              \n",
              "──────────────────────────────────────────────────────────────────────────────\n",
              "                                                                     R        \n",
              "\n",
              "                                          ⎛      ⎛        ⎛     ⎛          2  \n",
              "                                          ⎜      ⎜        ⎜atan2⎝0, - 4⋅C⋅R  +\n",
              "                                          ⎜   -t⋅⎜√L + cos⎜───────────────────\n",
              "                                          ⎜      ⎝        ⎝          2        \n",
              "                ⎛        ______________⎞⎞ ⎜   ────────────────────────────────\n",
              "   2      ⎞     ⎜       ╱        2     ⎟⎟ ⎜                           2⋅C⋅√L⋅R\n",
              "C⋅R  - 2⋅L⎠ + L⋅⎝√L + ╲╱  - 4⋅C⋅R  + L ⎠⎠⋅⎜ⅈ⋅ℯ                                \n",
              "                                          ⎝                                   \n",
              "──────────────────────────────────────────────────────────────────────────────\n",
              "                                                                              \n",
              "                                                                              \n",
              "                                                                              \n",
              "                                                                              \n",
              "                                                                              \n",
              "──────────────────────────────────────────────────────────────────────────────\n",
              "                                                                              \n",
              "\n",
              "  ⎞⎞    ______________⎞                                                       \n",
              " L⎠⎟   ╱ │     2    │ ⎟                                                       \n",
              "───⎟⋅╲╱  │4⋅C⋅R  - L│ ⎟     ⎛     ⎛     ⎛          2    ⎞⎞    ______________⎞ \n",
              "   ⎠                  ⎠     ⎜     ⎜atan2⎝0, - 4⋅C⋅R  + L⎠⎟   ╱ │     2    │ ⎟ \n",
              "────────────────────────    ⎜t⋅sin⎜──────────────────────⎟⋅╲╱  │4⋅C⋅R  - L│ ⎟ \n",
              "                            ⎜     ⎝          2           ⎠                  ⎟ \n",
              "                        ⋅sin⎜───────────────────────────────────────────────⎟ \n",
              "                            ⎝                    2⋅C⋅√L⋅R                   ⎠ \n",
              "──────────────────────────────────────────────────────────────────────────────\n",
              "                                                           ⎛       ___________\n",
              "                                                           ⎜      ╱        2  \n",
              "                                                    3/2    ⎜    ╲╱  - 4⋅C⋅R  +\n",
              "                                               2⋅C⋅L   ⋅R⋅Γ⎜1 - ──────────────\n",
              "                                                           ⎝          C⋅√L⋅R  \n",
              "──────────────────────────────────────────────────────────────────────────────\n",
              "                                                                              \n",
              "\n",
              "      ⎛        ⎛     ⎛          2    ⎞⎞    ______________⎞                    \n",
              "      ⎜        ⎜atan2⎝0, - 4⋅C⋅R  + L⎠⎟   ╱ │     2    │ ⎟                    \n",
              "   -t⋅⎜√L + cos⎜──────────────────────⎟⋅╲╱  │4⋅C⋅R  - L│ ⎟     ⎛     ⎛     ⎛  \n",
              "      ⎝        ⎝          2           ⎠                  ⎠     ⎜     ⎜atan2⎝0,\n",
              "   ────────────────────────────────────────────────────────    ⎜t⋅sin⎜────────\n",
              "                           2⋅C⋅√L⋅R                            ⎜     ⎝        \n",
              "- ℯ                                                        ⋅cos⎜──────────────\n",
              "                                                               ⎝              \n",
              "──────────────────────────────────────────────────────────────────────────────\n",
              "___⎞                                                                          \n",
              "   ⎟                                                                          \n",
              " L ⎟                                                                          \n",
              "───⎟                                                                          \n",
              "   ⎠                                                                          \n",
              "──────────────────────────────────────────────────────────────────────────────\n",
              "                                                                              \n",
              "\n",
              "                                  ⎞                       ⎞        \n",
              "                                  ⎟                       ⎟        \n",
              "        2    ⎞⎞    ______________⎞⎟                       ⎟        \n",
              " - 4⋅C⋅R  + L⎠⎟   ╱ │     2    │ ⎟⎟  ⎛    ______________ ⎞⎟        \n",
              "──────────────⎟⋅╲╱  │4⋅C⋅R  - L│ ⎟⎟  ⎜   ╱        2      ⎟⎟        \n",
              "  2           ⎠                  ⎟⎟  ⎜-╲╱  - 4⋅C⋅R  + L  ⎟⎟        \n",
              "─────────────────────────────────⎟⎟⋅Γ⎜───────────────────⎟⎟        \n",
              "      2⋅C⋅√L⋅R                   ⎠⎠  ⎝       C⋅√L⋅R      ⎠⎟        \n",
              "──────────────────────────────────────────────────────────⎟        \n",
              "                                                          ⎟        \n",
              "                                                          ⎟        \n",
              "                                                          ⎟        \n",
              "                                                          ⎟        \n",
              "                                                          ⎠   L    \n",
              "─────────────────────────────────────────────────────────── - ─ + t\n",
              "                                                              R    "
            ]
          },
          "metadata": {},
          "execution_count": 66
        }
      ]
    },
    {
      "cell_type": "code",
      "source": [
        "#se define y_int(s)\n",
        "i0, y0 = sym.symbols('i0 y0', real=True)\n",
        "\n",
        "Y_int = (R*C + L*C*s) / (L*C*s**2 + R*C*s + 1) * y0 + L / (L*C*s**2 + R*C*s + 1) * i0\n",
        "Y_int"
      ],
      "metadata": {
        "colab": {
          "base_uri": "https://localhost:8080/",
          "height": 54
        },
        "id": "wuq84DUO3xq5",
        "outputId": "90d25339-d7b3-4a7e-92ad-61acf8ba1d47"
      },
      "execution_count": 67,
      "outputs": [
        {
          "output_type": "execute_result",
          "data": {
            "image/png": "[encoded data removed]",
            "text/latex": "$\\displaystyle \\frac{L i_{0}}{C L s^{2} + C R s + 1} + \\frac{y_{0} \\left(C L s + C R\\right)}{C L s^{2} + C R s + 1}$",
            "text/plain": [
              "       L⋅i₀           y₀⋅(C⋅L⋅s + C⋅R) \n",
              "────────────────── + ──────────────────\n",
              "     2                    2            \n",
              "C⋅L⋅s  + C⋅R⋅s + 1   C⋅L⋅s  + C⋅R⋅s + 1"
            ]
          },
          "metadata": {},
          "execution_count": 67
        }
      ]
    },
    {
      "cell_type": "code",
      "source": [
        "y_t = yt+ yt_int\n",
        "y_t"
      ],
      "metadata": {
        "colab": {
          "base_uri": "https://localhost:8080/",
          "height": 421
        },
        "id": "Dr46KNwj3yj7",
        "outputId": "a9a8479f-4a3f-42e5-e22e-daae2d4bba93"
      },
      "execution_count": 68,
      "outputs": [
        {
          "output_type": "execute_result",
          "data": {
            "image/png": "[encoded data removed]",
            "text/latex": "$\\displaystyle C L y_{0} \\mathcal{L}^{-1}_{s}\\left[s\\right]\\left(t\\right) - \\frac{L \\left(\\frac{\\left(\\sqrt{L} \\left(2 C R^{2} - 2 L\\right) + L \\left(\\sqrt{L} - \\sqrt{- 4 C R^{2} + L}\\right)\\right) \\left(i e^{- \\frac{t \\left(\\sqrt{L} - \\cos{\\left(\\frac{\\operatorname{atan_{2}}{\\left(0,- 4 C R^{2} + L \\right)}}{2} \\right)} \\sqrt{\\left|{4 C R^{2} - L}\\right|}\\right)}{2 C \\sqrt{L} R}} \\sin{\\left(\\frac{t \\sin{\\left(\\frac{\\operatorname{atan_{2}}{\\left(0,- 4 C R^{2} + L \\right)}}{2} \\right)} \\sqrt{\\left|{4 C R^{2} - L}\\right|}}{2 C \\sqrt{L} R} \\right)} + e^{- \\frac{t \\left(\\sqrt{L} - \\cos{\\left(\\frac{\\operatorname{atan_{2}}{\\left(0,- 4 C R^{2} + L \\right)}}{2} \\right)} \\sqrt{\\left|{4 C R^{2} - L}\\right|}\\right)}{2 C \\sqrt{L} R}} \\cos{\\left(\\frac{t \\sin{\\left(\\frac{\\operatorname{atan_{2}}{\\left(0,- 4 C R^{2} + L \\right)}}{2} \\right)} \\sqrt{\\left|{4 C R^{2} - L}\\right|}}{2 C \\sqrt{L} R} \\right)}\\right) \\Gamma\\left(\\frac{\\sqrt{- 4 C R^{2} + L}}{C \\sqrt{L} R}\\right)}{2 C L^{\\frac{3}{2}} R \\Gamma\\left(1 + \\frac{\\sqrt{- 4 C R^{2} + L}}{C \\sqrt{L} R}\\right)} - \\frac{\\left(\\sqrt{L} \\left(2 C R^{2} - 2 L\\right) + L \\left(\\sqrt{L} + \\sqrt{- 4 C R^{2} + L}\\right)\\right) \\left(i e^{- \\frac{t \\left(\\sqrt{L} + \\cos{\\left(\\frac{\\operatorname{atan_{2}}{\\left(0,- 4 C R^{2} + L \\right)}}{2} \\right)} \\sqrt{\\left|{4 C R^{2} - L}\\right|}\\right)}{2 C \\sqrt{L} R}} \\sin{\\left(\\frac{t \\sin{\\left(\\frac{\\operatorname{atan_{2}}{\\left(0,- 4 C R^{2} + L \\right)}}{2} \\right)} \\sqrt{\\left|{4 C R^{2} - L}\\right|}}{2 C \\sqrt{L} R} \\right)} - e^{- \\frac{t \\left(\\sqrt{L} + \\cos{\\left(\\frac{\\operatorname{atan_{2}}{\\left(0,- 4 C R^{2} + L \\right)}}{2} \\right)} \\sqrt{\\left|{4 C R^{2} - L}\\right|}\\right)}{2 C \\sqrt{L} R}} \\cos{\\left(\\frac{t \\sin{\\left(\\frac{\\operatorname{atan_{2}}{\\left(0,- 4 C R^{2} + L \\right)}}{2} \\right)} \\sqrt{\\left|{4 C R^{2} - L}\\right|}}{2 C \\sqrt{L} R} \\right)}\\right) \\Gamma\\left(- \\frac{\\sqrt{- 4 C R^{2} + L}}{C \\sqrt{L} R}\\right)}{2 C L^{\\frac{3}{2}} R \\Gamma\\left(1 - \\frac{\\sqrt{- 4 C R^{2} + L}}{C \\sqrt{L} R}\\right)}\\right)}{R} - \\frac{L}{R} + t + \\frac{\\left(i e^{\\frac{t \\cos{\\left(\\frac{\\operatorname{atan_{2}}{\\left(0,C R^{2} - 4 L \\right)}}{2} \\right)} \\sqrt{\\left|{C R^{2} - 4 L}\\right|}}{\\sqrt{C} L}} \\sin{\\left(\\frac{t \\sin{\\left(\\frac{\\operatorname{atan_{2}}{\\left(0,C R^{2} - 4 L \\right)}}{2} \\right)} \\sqrt{\\left|{C R^{2} - 4 L}\\right|}}{2 \\sqrt{C} L} \\right)} + e^{\\frac{t \\cos{\\left(\\frac{\\operatorname{atan_{2}}{\\left(0,C R^{2} - 4 L \\right)}}{2} \\right)} \\sqrt{\\left|{C R^{2} - 4 L}\\right|}}{\\sqrt{C} L}} \\cos{\\left(\\frac{t \\sin{\\left(\\frac{\\operatorname{atan_{2}}{\\left(0,C R^{2} - 4 L \\right)}}{2} \\right)} \\sqrt{\\left|{C R^{2} - 4 L}\\right|}}{2 \\sqrt{C} L} \\right)} + i \\sin{\\left(\\frac{t \\sin{\\left(\\frac{\\operatorname{atan_{2}}{\\left(0,C R^{2} - 4 L \\right)}}{2} \\right)} \\sqrt{\\left|{C R^{2} - 4 L}\\right|}}{2 \\sqrt{C} L} \\right)} - \\cos{\\left(\\frac{t \\sin{\\left(\\frac{\\operatorname{atan_{2}}{\\left(0,C R^{2} - 4 L \\right)}}{2} \\right)} \\sqrt{\\left|{C R^{2} - 4 L}\\right|}}{2 \\sqrt{C} L} \\right)}\\right) e^{- \\frac{R t}{2 L} - \\frac{t \\cos{\\left(\\frac{\\operatorname{atan_{2}}{\\left(0,C R^{2} - 4 L \\right)}}{2} \\right)} \\sqrt{\\left|{C R^{2} - 4 L}\\right|}}{2 \\sqrt{C} L}}}{\\sqrt{C} \\sqrt{C R^{2} - 4 L}}$",
            "text/plain": [
              "                                                  ⎛                           \n",
              "                                                  ⎜                           \n",
              "                                                  ⎜                           \n",
              "                                                  ⎜                           \n",
              "                                                  ⎜⎛                      ⎛   \n",
              "                                                  ⎜⎜   ⎛     2      ⎞     ⎜   \n",
              "                                                  ⎜⎝√L⋅⎝2⋅C⋅R  - 2⋅L⎠ + L⋅⎝√L \n",
              "                                                  ⎜                           \n",
              "                                                L⋅⎜───────────────────────────\n",
              "                                                  ⎜                           \n",
              "                                                  ⎜                           \n",
              "                                                  ⎜                           \n",
              "                                                  ⎜                           \n",
              "                                                  ⎝                           \n",
              "C⋅L⋅y₀⋅InverseLaplaceTransform(s, s, t, None) - ──────────────────────────────\n",
              "                                                                              \n",
              "                                                                              \n",
              "                                                                              \n",
              "\n",
              "                      ⎛      ⎛        ⎛     ⎛          2    ⎞⎞    ____________\n",
              "                      ⎜      ⎜        ⎜atan2⎝0, - 4⋅C⋅R  + L⎠⎟   ╱ │     2    \n",
              "                      ⎜   -t⋅⎜√L - cos⎜──────────────────────⎟⋅╲╱  │4⋅C⋅R  - L\n",
              "                      ⎜      ⎝        ⎝          2           ⎠                \n",
              "     ______________⎞⎞ ⎜   ────────────────────────────────────────────────────\n",
              "    ╱        2     ⎟⎟ ⎜                           2⋅C⋅√L⋅R                    \n",
              "- ╲╱  - 4⋅C⋅R  + L ⎠⎠⋅⎜ⅈ⋅ℯ                                                    \n",
              "                      ⎝                                                       \n",
              "──────────────────────────────────────────────────────────────────────────────\n",
              "                                                                              \n",
              "                                                                              \n",
              "                                                                              \n",
              "                                                                              \n",
              "                                                                              \n",
              "──────────────────────────────────────────────────────────────────────────────\n",
              "                                                                              \n",
              "                                                                              \n",
              "                                                                              \n",
              "\n",
              "__⎞                                                             ⎛        ⎛    \n",
              "│ ⎟                                                             ⎜        ⎜atan\n",
              "│ ⎟     ⎛     ⎛     ⎛          2    ⎞⎞    ______________⎞    -t⋅⎜√L - cos⎜────\n",
              "  ⎠     ⎜     ⎜atan2⎝0, - 4⋅C⋅R  + L⎠⎟   ╱ │     2    │ ⎟       ⎝        ⎝    \n",
              "────    ⎜t⋅sin⎜──────────────────────⎟⋅╲╱  │4⋅C⋅R  - L│ ⎟    ─────────────────\n",
              "        ⎜     ⎝          2           ⎠                  ⎟                     \n",
              "    ⋅sin⎜───────────────────────────────────────────────⎟ + ℯ                 \n",
              "        ⎝                    2⋅C⋅√L⋅R                   ⎠                     \n",
              "──────────────────────────────────────────────────────────────────────────────\n",
              "                                      ⎛       ______________⎞                 \n",
              "                                      ⎜      ╱        2     ⎟                 \n",
              "                               3/2    ⎜    ╲╱  - 4⋅C⋅R  + L ⎟                 \n",
              "                          2⋅C⋅L   ⋅R⋅Γ⎜1 + ─────────────────⎟                 \n",
              "                                      ⎝          C⋅√L⋅R     ⎠                 \n",
              "──────────────────────────────────────────────────────────────────────────────\n",
              "                                                                              \n",
              "                                                                              \n",
              "                                                                              \n",
              "\n",
              " ⎛          2    ⎞⎞    ______________⎞                                        \n",
              "2⎝0, - 4⋅C⋅R  + L⎠⎟   ╱ │     2    │ ⎟                                        \n",
              "──────────────────⎟⋅╲╱  │4⋅C⋅R  - L│ ⎟     ⎛     ⎛     ⎛          2    ⎞⎞    _\n",
              "      2           ⎠                  ⎠     ⎜     ⎜atan2⎝0, - 4⋅C⋅R  + L⎠⎟   ╱ \n",
              "───────────────────────────────────────    ⎜t⋅sin⎜──────────────────────⎟⋅╲╱  \n",
              "       2⋅C⋅√L⋅R                            ⎜     ⎝          2           ⎠     \n",
              "                                       ⋅cos⎜──────────────────────────────────\n",
              "                                           ⎝                    2⋅C⋅√L⋅R      \n",
              "──────────────────────────────────────────────────────────────────────────────\n",
              "                                                                              \n",
              "                                                                              \n",
              "                                                                              \n",
              "                                                                              \n",
              "                                                                              \n",
              "──────────────────────────────────────────────────────────────────────────────\n",
              "                                                                              \n",
              "                                                                              \n",
              "                                                                              \n",
              "\n",
              "              ⎞                                                               \n",
              "              ⎟                                                               \n",
              "_____________⎞⎟                                                               \n",
              "│     2    │ ⎟⎟  ⎛   ______________⎞                                          \n",
              "│4⋅C⋅R  - L│ ⎟⎟  ⎜  ╱        2     ⎟   ⎛                      ⎛        _______\n",
              "             ⎟⎟  ⎜╲╱  - 4⋅C⋅R  + L ⎟   ⎜   ⎛     2      ⎞     ⎜       ╱       \n",
              "─────────────⎟⎟⋅Γ⎜─────────────────⎟   ⎝√L⋅⎝2⋅C⋅R  - 2⋅L⎠ + L⋅⎝√L + ╲╱  - 4⋅C⋅\n",
              "             ⎠⎠  ⎝      C⋅√L⋅R     ⎠                                          \n",
              "──────────────────────────────────── - ───────────────────────────────────────\n",
              "                                                                              \n",
              "                                                                              \n",
              "                                                                              \n",
              "                                                                              \n",
              "                                                                              \n",
              "──────────────────────────────────────────────────────────────────────────────\n",
              "                                     R                                        \n",
              "                                                                              \n",
              "                                                                              \n",
              "\n",
              "          ⎛      ⎛        ⎛     ⎛          2    ⎞⎞    ______________⎞         \n",
              "          ⎜      ⎜        ⎜atan2⎝0, - 4⋅C⋅R  + L⎠⎟   ╱ │     2    │ ⎟         \n",
              "          ⎜   -t⋅⎜√L + cos⎜──────────────────────⎟⋅╲╱  │4⋅C⋅R  - L│ ⎟     ⎛   \n",
              "          ⎜      ⎝        ⎝          2           ⎠                  ⎠     ⎜   \n",
              "_______⎞⎞ ⎜   ────────────────────────────────────────────────────────    ⎜t⋅s\n",
              " 2     ⎟⎟ ⎜                           2⋅C⋅√L⋅R                            ⎜   \n",
              "R  + L ⎠⎠⋅⎜ⅈ⋅ℯ                                                        ⋅sin⎜───\n",
              "          ⎝                                                               ⎝   \n",
              "──────────────────────────────────────────────────────────────────────────────\n",
              "                                                                              \n",
              "                                                                              \n",
              "                                                                              \n",
              "                                                                              \n",
              "                                                                              \n",
              "──────────────────────────────────────────────────────────────────────────────\n",
              "                                                                              \n",
              "                                                                              \n",
              "                                                                              \n",
              "\n",
              "                                                    ⎛        ⎛     ⎛          \n",
              "                                                    ⎜        ⎜atan2⎝0, - 4⋅C⋅R\n",
              "  ⎛     ⎛          2    ⎞⎞    ______________⎞    -t⋅⎜√L + cos⎜────────────────\n",
              "  ⎜atan2⎝0, - 4⋅C⋅R  + L⎠⎟   ╱ │     2    │ ⎟       ⎝        ⎝          2     \n",
              "in⎜──────────────────────⎟⋅╲╱  │4⋅C⋅R  - L│ ⎟    ─────────────────────────────\n",
              "  ⎝          2           ⎠                  ⎟                            2⋅C⋅√\n",
              "────────────────────────────────────────────⎟ - ℯ                             \n",
              "                 2⋅C⋅√L⋅R                   ⎠                                 \n",
              "──────────────────────────────────────────────────────────────────────────────\n",
              "                           ⎛       ______________⎞                            \n",
              "                           ⎜      ╱        2     ⎟                            \n",
              "                    3/2    ⎜    ╲╱  - 4⋅C⋅R  + L ⎟                            \n",
              "               2⋅C⋅L   ⋅R⋅Γ⎜1 - ─────────────────⎟                            \n",
              "                           ⎝          C⋅√L⋅R     ⎠                            \n",
              "──────────────────────────────────────────────────────────────────────────────\n",
              "                                                                              \n",
              "                                                                              \n",
              "                                                                              \n",
              "\n",
              "2    ⎞⎞    ______________⎞                                                    \n",
              "  + L⎠⎟   ╱ │     2    │ ⎟                                                    \n",
              "──────⎟⋅╲╱  │4⋅C⋅R  - L│ ⎟     ⎛     ⎛     ⎛          2    ⎞⎞    _____________\n",
              "      ⎠                  ⎠     ⎜     ⎜atan2⎝0, - 4⋅C⋅R  + L⎠⎟   ╱ │     2    │\n",
              "───────────────────────────    ⎜t⋅sin⎜──────────────────────⎟⋅╲╱  │4⋅C⋅R  - L│\n",
              "L⋅R                            ⎜     ⎝          2           ⎠                 \n",
              "                           ⋅cos⎜──────────────────────────────────────────────\n",
              "                               ⎝                    2⋅C⋅√L⋅R                  \n",
              "──────────────────────────────────────────────────────────────────────────────\n",
              "                                                                              \n",
              "                                                                              \n",
              "                                                                              \n",
              "                                                                              \n",
              "                                                                              \n",
              "──────────────────────────────────────────────────────────────────────────────\n",
              "                                                                              \n",
              "                                                                              \n",
              "                                                                              \n",
              "\n",
              "  ⎞                       ⎞                                                   \n",
              "  ⎟                       ⎟                                                   \n",
              "_⎞⎟                       ⎟                                                   \n",
              " ⎟⎟  ⎛    ______________ ⎞⎟                                                   \n",
              " ⎟⎟  ⎜   ╱        2      ⎟⎟                                                   \n",
              " ⎟⎟  ⎜-╲╱  - 4⋅C⋅R  + L  ⎟⎟                                                   \n",
              "─⎟⎟⋅Γ⎜───────────────────⎟⎟           ⎛        ⎛     ⎛      2      ⎞⎞    _____\n",
              " ⎠⎠  ⎝       C⋅√L⋅R      ⎠⎟           ⎜        ⎜atan2⎝0, C⋅R  - 4⋅L⎠⎟   ╱ │   \n",
              "──────────────────────────⎟           ⎜   t⋅cos⎜────────────────────⎟⋅╲╱  │C⋅R\n",
              "                          ⎟           ⎜        ⎝         2          ⎠         \n",
              "                          ⎟           ⎜   ────────────────────────────────────\n",
              "                          ⎟           ⎜                        √C⋅L           \n",
              "                          ⎟           ⎜ⅈ⋅ℯ                                    \n",
              "                          ⎠   L       ⎝                                       \n",
              "─────────────────────────── - ─ + t + ────────────────────────────────────────\n",
              "                              R                                               \n",
              "                                                                              \n",
              "                                                                              \n",
              "\n",
              "                                                                              \n",
              "                                                                              \n",
              "                                                                              \n",
              "                                                                              \n",
              "                                                                              \n",
              "                                                                              \n",
              "_________                                                            ⎛     ⎛  \n",
              "2      │                                                             ⎜atan2⎝0,\n",
              "  - 4⋅L│     ⎛     ⎛     ⎛      2      ⎞⎞    ______________⎞    t⋅cos⎜────────\n",
              "             ⎜     ⎜atan2⎝0, C⋅R  - 4⋅L⎠⎟   ╱ │   2      │ ⎟         ⎝        \n",
              "─────────    ⎜t⋅sin⎜────────────────────⎟⋅╲╱  │C⋅R  - 4⋅L│ ⎟    ──────────────\n",
              "             ⎜     ⎝         2          ⎠                  ⎟                  \n",
              "         ⋅sin⎜─────────────────────────────────────────────⎟ + ℯ              \n",
              "             ⎝                    2⋅√C⋅L                   ⎠                  \n",
              "──────────────────────────────────────────────────────────────────────────────\n",
              "                                                                              \n",
              "                                                                              \n",
              "                                                                              \n",
              "\n",
              "                                                                              \n",
              "                                                                              \n",
              "                                                                              \n",
              "                                                                              \n",
              "                                                                              \n",
              "                                                                              \n",
              "    2      ⎞⎞    ______________                                               \n",
              " C⋅R  - 4⋅L⎠⎟   ╱ │   2      │                                                \n",
              "────────────⎟⋅╲╱  │C⋅R  - 4⋅L│     ⎛     ⎛     ⎛      2      ⎞⎞    ___________\n",
              " 2          ⎠                      ⎜     ⎜atan2⎝0, C⋅R  - 4⋅L⎠⎟   ╱ │   2     \n",
              "───────────────────────────────    ⎜t⋅sin⎜────────────────────⎟⋅╲╱  │C⋅R  - 4⋅\n",
              "       √C⋅L                        ⎜     ⎝         2          ⎠               \n",
              "                               ⋅cos⎜──────────────────────────────────────────\n",
              "                                   ⎝                    2⋅√C⋅L                \n",
              "──────────────────────────────────────────────────────────────────────────────\n",
              "                                                             ____________     \n",
              "                                                            ╱    2            \n",
              "                                                       √C⋅╲╱  C⋅R  - 4⋅L      \n",
              "\n",
              "                                                                              \n",
              "                                                                              \n",
              "                                                                              \n",
              "                                                                              \n",
              "                                                                              \n",
              "                                                                              \n",
              "                                                                              \n",
              "                                                                              \n",
              "___⎞        ⎛     ⎛     ⎛      2      ⎞⎞    ______________⎞      ⎛     ⎛     ⎛\n",
              " │ ⎟        ⎜     ⎜atan2⎝0, C⋅R  - 4⋅L⎠⎟   ╱ │   2      │ ⎟      ⎜     ⎜atan2⎝\n",
              "L│ ⎟        ⎜t⋅sin⎜────────────────────⎟⋅╲╱  │C⋅R  - 4⋅L│ ⎟      ⎜t⋅sin⎜──────\n",
              "   ⎟        ⎜     ⎝         2          ⎠                  ⎟      ⎜     ⎝      \n",
              "───⎟ + ⅈ⋅sin⎜─────────────────────────────────────────────⎟ - cos⎜────────────\n",
              "   ⎠        ⎝                    2⋅√C⋅L                   ⎠      ⎝            \n",
              "──────────────────────────────────────────────────────────────────────────────\n",
              "                                                                              \n",
              "                                                                              \n",
              "                                                                              \n",
              "\n",
              "                                                                              \n",
              "                                                                              \n",
              "                                                                              \n",
              "                                                                              \n",
              "                                                                              \n",
              "                                                                              \n",
              "                                  ⎞               ⎛     ⎛      2      ⎞⎞    __\n",
              "                                  ⎟               ⎜atan2⎝0, C⋅R  - 4⋅L⎠⎟   ╱ │\n",
              "      2      ⎞⎞    ______________⎞⎟          t⋅cos⎜────────────────────⎟⋅╲╱  │\n",
              "0, C⋅R  - 4⋅L⎠⎟   ╱ │   2      │ ⎟⎟    R⋅t        ⎝         2          ⎠      \n",
              "──────────────⎟⋅╲╱  │C⋅R  - 4⋅L│ ⎟⎟  - ─── - ─────────────────────────────────\n",
              "   2          ⎠                  ⎟⎟    2⋅L                       2⋅√C⋅L       \n",
              "─────────────────────────────────⎟⎟⋅ℯ                                         \n",
              "        2⋅√C⋅L                   ⎠⎠                                           \n",
              "──────────────────────────────────────────────────────────────────────────────\n",
              "                                                                              \n",
              "                                                                              \n",
              "                                                                              \n",
              "\n",
              "            \n",
              "            \n",
              "            \n",
              "            \n",
              "            \n",
              "            \n",
              "____________\n",
              "   2      │ \n",
              "C⋅R  - 4⋅L│ \n",
              "            \n",
              "────────────\n",
              "            \n",
              "            \n",
              "            \n",
              "────────────\n",
              "            \n",
              "            \n",
              "            "
            ]
          },
          "metadata": {},
          "execution_count": 68
        }
      ]
    },
    {
      "cell_type": "code",
      "source": [
        "#Modelo en el tiempo con RLC evaluados\n",
        "RLC = {R: 1, L: sym.Rational('.5'), C: sym.Rational('.4')}\n",
        "Ye = Yp.subs(RLC)\n",
        "for j in range(len(Ye.args)):\n",
        "    if j==0:\n",
        "      y_ext = sym.inverse_laplace_transform(Ye.args[j], s, t)\n",
        "    else:\n",
        "      y_ext+= sym.inverse_laplace_transform(Ye.args[j], s, t)\n",
        " \n",
        "y_ext"
      ],
      "metadata": {
        "colab": {
          "base_uri": "https://localhost:8080/",
          "height": 66
        },
        "id": "5lVIGRpj3z5x",
        "outputId": "cea54e0a-a9b8-48b6-ed42-ff42541944e4"
      },
      "execution_count": 69,
      "outputs": [
        {
          "output_type": "execute_result",
          "data": {
            "image/png": "[encoded data removed]",
            "text/latex": "$\\displaystyle t + \\frac{\\left(- 3 \\sqrt{55} \\sin{\\left(\\frac{\\sqrt{55} t}{4} \\right)} + 55 \\cos{\\left(\\frac{\\sqrt{55} t}{4} \\right)}\\right) e^{- \\frac{5 t}{4}}}{110} - \\frac{1}{2}$",
            "text/plain": [
              "                                          -5⋅t     \n",
              "                                          ─────    \n",
              "    ⎛           ⎛√55⋅t⎞         ⎛√55⋅t⎞⎞    4      \n",
              "    ⎜- 3⋅√55⋅sin⎜─────⎟ + 55⋅cos⎜─────⎟⎟⋅ℯ         \n",
              "    ⎝           ⎝  4  ⎠         ⎝  4  ⎠⎠          1\n",
              "t + ─────────────────────────────────────────── - ─\n",
              "                        110                       2"
            ]
          },
          "metadata": {},
          "execution_count": 69
        }
      ]
    },
    {
      "cell_type": "code",
      "source": [
        "i0, y0 = sym.symbols('i0 y0', real=True)\n",
        "\n",
        "Yint = (R*C + L*C*s) / (L*C*s**2 + R*C*s + 1) * y0 + L / (L*C*s**2 + R*C*s + 1) * i0\n",
        "Yint"
      ],
      "metadata": {
        "colab": {
          "base_uri": "https://localhost:8080/",
          "height": 54
        },
        "id": "9itBUWWB32pt",
        "outputId": "f139cb6f-2d0c-4d13-de88-ce64dc2e0ff5"
      },
      "execution_count": 70,
      "outputs": [
        {
          "output_type": "execute_result",
          "data": {
            "image/png": "[encoded data removed]",
            "text/latex": "$\\displaystyle \\frac{L i_{0}}{C L s^{2} + C R s + 1} + \\frac{y_{0} \\left(C L s + C R\\right)}{C L s^{2} + C R s + 1}$",
            "text/plain": [
              "       L⋅i₀           y₀⋅(C⋅L⋅s + C⋅R) \n",
              "────────────────── + ──────────────────\n",
              "     2                    2            \n",
              "C⋅L⋅s  + C⋅R⋅s + 1   C⋅L⋅s  + C⋅R⋅s + 1"
            ]
          },
          "metadata": {},
          "execution_count": 70
        }
      ]
    },
    {
      "cell_type": "code",
      "source": [
        "#se inicializa y_interna con valores iniciales \n",
        "yint = sym.inverse_laplace_transform(Yint.subs(RLC).subs(i0, 0).subs(y0, -1), s, t)\n",
        "yint"
      ],
      "metadata": {
        "colab": {
          "base_uri": "https://localhost:8080/",
          "height": 58
        },
        "id": "s18UC8i_33d_",
        "outputId": "7f980b1b-91b8-40e5-ffeb-3cfb058f22b0"
      },
      "execution_count": 71,
      "outputs": [
        {
          "output_type": "execute_result",
          "data": {
            "image/png": "[encoded data removed]",
            "text/latex": "$\\displaystyle - \\left(\\frac{\\sin{\\left(2 t \\right)}}{2} + \\cos{\\left(2 t \\right)}\\right) e^{- t}$",
            "text/plain": [
              " ⎛sin(2⋅t)           ⎞  -t\n",
              "-⎜──────── + cos(2⋅t)⎟⋅ℯ  \n",
              " ⎝   2               ⎠    "
            ]
          },
          "metadata": {},
          "execution_count": 71
        }
      ]
    },
    {
      "cell_type": "code",
      "source": [
        "yt = y_ext + yint\n",
        "yt.simplify()"
      ],
      "metadata": {
        "colab": {
          "base_uri": "https://localhost:8080/",
          "height": 66
        },
        "id": "uBs-ZFrm34Rl",
        "outputId": "3c7121bb-f13a-4065-97d1-db7e3cd272dd"
      },
      "execution_count": 72,
      "outputs": [
        {
          "output_type": "execute_result",
          "data": {
            "image/png": "[encoded data removed]",
            "text/latex": "$\\displaystyle t - \\frac{1}{2} - \\frac{e^{- t} \\sin{\\left(2 t \\right)}}{2} - e^{- t} \\cos{\\left(2 t \\right)} - \\frac{3 \\sqrt{55} e^{- \\frac{5 t}{4}} \\sin{\\left(\\frac{\\sqrt{55} t}{4} \\right)}}{110} + \\frac{e^{- \\frac{5 t}{4}} \\cos{\\left(\\frac{\\sqrt{55} t}{4} \\right)}}{2}$",
            "text/plain": [
              "                                             -5⋅t                -5⋅t         \n",
              "                                             ─────               ─────        \n",
              "                                               4      ⎛√55⋅t⎞      4      ⎛√55\n",
              "         -t                           3⋅√55⋅ℯ     ⋅sin⎜─────⎟   ℯ     ⋅cos⎜───\n",
              "    1   ℯ  ⋅sin(2⋅t)    -t                            ⎝  4  ⎠             ⎝  4\n",
              "t - ─ - ──────────── - ℯ  ⋅cos(2⋅t) - ─────────────────────── + ──────────────\n",
              "    2        2                                  110                     2     \n",
              "\n",
              "   \n",
              "   \n",
              "⋅t⎞\n",
              "──⎟\n",
              "  ⎠\n",
              "───\n",
              "   "
            ]
          },
          "metadata": {},
          "execution_count": 72
        }
      ]
    },
    {
      "cell_type": "markdown",
      "source": [
        "En la siguiente gráfica se presentan: \n",
        "* la parte interna $y_\\text{int}(t)$ (Línea verde), \n",
        "* la parte externa $y_\\text{ext}(t)$ (Línea azul), \n",
        "* la señal de salida $y(t)$ (Línea roja) "
      ],
      "metadata": {
        "id": "_dCYa96V34wF"
      }
    },
    {
      "cell_type": "code",
      "source": [
        "p1 = sym.plot(y_ext, (t, 0, 5), line_color='b', xlabel='$t$', ylabel='$y(t)$', show=False)\n",
        "p2 = sym.plot(yint, (t, 0, 5), line_color='g', show=False)\n",
        "p3 = sym.plot(yt, (t, 0, 5), line_color='r', show=False)\n",
        "p1.extend(p2)\n",
        "p1.extend(p3)\n",
        "p1.show()"
      ],
      "metadata": {
        "colab": {
          "base_uri": "https://localhost:8080/",
          "height": 297
        },
        "id": "Ba0LJlJJ3404",
        "outputId": "aeac10c4-da0a-40cf-cef6-f142adb0cb9c"
      },
      "execution_count": 73,
      "outputs": [
        {
          "output_type": "display_data",
          "data": {
            "image/png": "[encoded data removed]",
            "text/plain": [
              "<Figure size 432x288 with 1 Axes>"
            ]
          },
          "metadata": {
            "needs_background": "light"
          }
        }
      ]
    }
  ]
}