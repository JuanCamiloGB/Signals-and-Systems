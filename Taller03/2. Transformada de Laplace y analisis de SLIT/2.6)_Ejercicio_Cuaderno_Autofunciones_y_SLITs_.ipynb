{
  "nbformat": 4,
  "nbformat_minor": 0,
  "metadata": {
    "colab": {
      "name": "2.6) Ejercicio Cuaderno Autofunciones y SLITs..ipynb",
      "provenance": [],
      "authorship_tag": "ABX9TyPXwrJmcL6qQqhMkb+xvzvr",
      "include_colab_link": true
    },
    "kernelspec": {
      "name": "python3",
      "display_name": "Python 3"
    },
    "language_info": {
      "name": "python"
    }
  },
  "cells": [
    {
      "cell_type": "markdown",
      "metadata": {
        "id": "view-in-github",
        "colab_type": "text"
      },
      "source": [
        "<a href=\"https://colab.research.google.com/github/JuanCamiloGB/Signals-and-Systems/blob/master/Taller03/2.%20Transformada%20de%20Laplace%20y%20analisis%20de%20SLIT/2.6)_Ejercicio_Cuaderno_Autofunciones_y_SLITs_.ipynb\" target=\"_parent\"><img src=\"https://colab.research.google.com/assets/colab-badge.svg\" alt=\"Open In Colab\"/></a>"
      ]
    },
    {
      "cell_type": "markdown",
      "source": [
        "##2.6 **Ejercicio**\n",
        "\n",
        "* Qué relación tiene $\\lambda$ con  la salida obtenida al resolver la EDO?\n",
        "\\begin{equation}\n",
        "a_0 y(t) + a_1 \\frac{d y(t)}{dt} + a_2 \\frac{d^2 y(t)}{dt^2} = x(t)\n",
        "\\end{equation}"
      ],
      "metadata": {
        "id": "1liikgiiMT-u"
      }
    },
    {
      "cell_type": "code",
      "source": [
        "%matplotlib inline\n",
        "import sympy as sym\n",
        "sym.init_printing()\n",
        "#definir variables\n",
        "t, s, a0, a1, a2 = sym.symbols('t s a:3')\n",
        "x = sym.exp(s * t)#entrada del sistema tipo euler compleja\n",
        "y = sym.Function('y')(t)\n",
        "#plantear EDO\n",
        "ode = sym.Eq(a0*y + a1*y.diff(t) + a2*y.diff(t,2), x)\n",
        "solution = sym.dsolve(ode)#resolver para condiciones iniciales 0\n",
        "solution.subs({'C1': 0, 'C2' : 0})"
      ],
      "metadata": {
        "colab": {
          "base_uri": "https://localhost:8080/",
          "height": 56
        },
        "id": "xWlZ3x6NMBB-",
        "outputId": "519164ed-32f0-4171-c513-dca54dd68129"
      },
      "execution_count": 1,
      "outputs": [
        {
          "output_type": "execute_result",
          "data": {
            "image/png": "[encoded data removed]",
            "text/latex": "$\\displaystyle y{\\left(t \\right)} = \\frac{e^{s t}}{a_{0} + a_{1} s + a_{2} s^{2}}$",
            "text/plain": [
              "               s⋅t      \n",
              "              ℯ         \n",
              "y(t) = ─────────────────\n",
              "                       2\n",
              "       a₀ + a₁⋅s + a₂⋅s "
            ]
          },
          "metadata": {},
          "execution_count": 1
        }
      ]
    },
    {
      "cell_type": "markdown",
      "source": [
        "\n",
        "R// El peso $λ$ se asocia como el factor de ponderación o una función propia que no se modifica al pasar por el sistema, al resolver la EDO:\n",
        "\n",
        "\\begin{equation}\n",
        "a_0 y(t) + a_1 \\frac{d y(t)}{dt} + a_2 \\frac{d^2 y(t)}{dt^2} = x(t)\n",
        "\\end{equation}\n",
        "\n",
        "La salida obtenida \n",
        "\\begin{equation}\n",
        "y(t) = \\frac{e^{st}}{a_0+a_1S+a_2S^2}\n",
        "\\end{equation}\n",
        "\n",
        "Se puede relacionar como la misma entrada $x(t)=e^{st}$ y un factor de ponderación $λ$ que se parece a la transformada de Laplace.\\\n",
        "Por ende $y(t) = λe^{st}$, con $λ=\\frac{1}{a_0+a_1S+a_2S^2}$\n",
        "\n"
      ],
      "metadata": {
        "id": "rSMER9E4MDf8"
      }
    },
    {
      "cell_type": "markdown",
      "source": [
        "* Puede generalizar sus resultados a una EDO de orden arbitrario?\n",
        "\n",
        "Sí se puede generalizar a una EDO de orden n, acompañada por el coeficiente que en el tiempo depende del orden de la derivada. \n",
        "\n",
        "\\begin{equation}\n",
        "a_0 y(t) + a_1 \\frac{d y(t)}{dt} + a_2 \\frac{d^2 y(t)}{dt^2} + ... + a_n \\frac{d^n y(t)}{dt^n}= x(t)\n",
        "\\end{equation}\n",
        "\n",
        "Entre más alto sea el orden de la derivada, más alto será el orden del polinomio."
      ],
      "metadata": {
        "id": "yn8MhlCdMK7X"
      }
    }
  ]
}